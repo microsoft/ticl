{
 "cells": [
  {
   "cell_type": "code",
   "execution_count": 1,
   "metadata": {},
   "outputs": [],
   "source": [
    "import torch, os\n",
    "import numpy as np\n",
    "from torch.nn import TransformerEncoder, TransformerEncoderLayer\n",
    "\n",
    "os.environ['CUDA_VISIBLE_DEVICES'] = '3'"
   ]
  },
  {
   "cell_type": "code",
   "execution_count": 2,
   "metadata": {},
   "outputs": [],
   "source": [
    "n_layers = 2\n",
    "n_heads = 3\n",
    "d_model = 9\n",
    "n_hid = 49\n",
    "\n",
    "# compute number of parameters\n",
    "def get_num_params(model):\n",
    "    return sum(p.numel() for p in model.parameters())\n"
   ]
  },
  {
   "cell_type": "code",
   "execution_count": 4,
   "metadata": {},
   "outputs": [
    {
     "name": "stdout",
     "output_type": "stream",
     "text": [
      "Model Size\n",
      "| Standard Attention | Pytorch 2.3.0 |:  2672\n",
      "Inference Time\n",
      "| Standard Attention | Pytorch 2.3.0 |:  59.62 (0.09) ms\n"
     ]
    }
   ],
   "source": [
    "model = TransformerEncoder(\n",
    "    TransformerEncoderLayer(\n",
    "        d_model = d_model,\n",
    "        nhead = n_heads,\n",
    "        dim_feedforward = n_hid,\n",
    "    ),\n",
    "    num_layers = n_layers,\n",
    ")\n",
    "\n",
    "\n",
    "print('Model Size')\n",
    "print(f\"| Standard Attention | Pytorch {torch.__version__} |: \", get_num_params(model))\n",
    "\n",
    "print('Inference Time')\n",
    "batch_size = 10\n",
    "seq_len = int(1e5)\n",
    "num_simulations = 10\n",
    "\n",
    "time_elaspsed = {'pytorch':[]}\n",
    "for i in range(num_simulations):\n",
    "    \n",
    "    torch.manual_seed(i)\n",
    "    # Construct the dummy input\n",
    "    X = torch.rand(batch_size, seq_len, d_model)\n",
    "\n",
    "    # Prepare everythin for CUDA\n",
    "    X = X.cuda()\n",
    "\n",
    "    model.cuda()\n",
    "    model.eval()\n",
    "\n",
    "    if i == 0: model(X) # warm up\n",
    "\n",
    "    start = torch.cuda.Event(enable_timing=True)\n",
    "    end = torch.cuda.Event(enable_timing=True)\n",
    "\n",
    "    with torch.no_grad():\n",
    "        start.record()\n",
    "        y = model(X)\n",
    "        end.record()\n",
    "        torch.cuda.synchronize()\n",
    "        time_elaspsed['pytorch'].append(start.elapsed_time(end))\n",
    "\n",
    "print(f\"| Standard Attention | Pytorch {torch.__version__} |: \", f\"{np.mean(time_elaspsed['pytorch']):.2f}\", f\"({np.std(time_elaspsed['pytorch']):.2f})\", \"ms\")"
   ]
  },
  {
   "cell_type": "code",
   "execution_count": null,
   "metadata": {},
   "outputs": [],
   "source": []
  }
 ],
 "metadata": {
  "kernelspec": {
   "display_name": "torch23",
   "language": "python",
   "name": "python3"
  },
  "language_info": {
   "codemirror_mode": {
    "name": "ipython",
    "version": 3
   },
   "file_extension": ".py",
   "mimetype": "text/x-python",
   "name": "python",
   "nbconvert_exporter": "python",
   "pygments_lexer": "ipython3",
   "version": "3.10.14"
  }
 },
 "nbformat": 4,
 "nbformat_minor": 2
}
