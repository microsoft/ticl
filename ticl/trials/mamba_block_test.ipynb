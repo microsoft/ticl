{
 "cells": [
  {
   "cell_type": "code",
   "execution_count": 1,
   "metadata": {},
   "outputs": [
    {
     "name": "stderr",
     "output_type": "stream",
     "text": [
      "/anaconda/envs/mamba_custom/lib/python3.10/site-packages/tqdm/auto.py:21: TqdmWarning: IProgress not found. Please update jupyter and ipywidgets. See https://ipywidgets.readthedocs.io/en/stable/user_install.html\n",
      "  from .autonotebook import tqdm as notebook_tqdm\n"
     ]
    }
   ],
   "source": [
    "import torch, os\n",
    "from mamba_ssm import Mamba, Mamba2\n",
    "from time import time\n",
    "from functools import wraps\n",
    "import numpy as np\n",
    "\n",
    "os.environ[\"CUDA_VISIBLE_DEVICES\"]=\"3\""
   ]
  },
  {
   "cell_type": "code",
   "execution_count": 2,
   "metadata": {},
   "outputs": [
    {
     "name": "stdout",
     "output_type": "stream",
     "text": [
      "2.1.2\n"
     ]
    }
   ],
   "source": [
    "print(torch.__version__)"
   ]
  },
  {
   "cell_type": "code",
   "execution_count": 3,
   "metadata": {},
   "outputs": [],
   "source": [
    "# utils\n",
    "\n",
    "def average_time(model, runs=10):\n",
    "    def decorator(func):\n",
    "        @wraps(func)\n",
    "        def wrapper(*args, **kwargs):\n",
    "            time_runs = []\n",
    "            for _ in range(runs):\n",
    "                start = torch.cuda.Event(enable_timing=True)\n",
    "                end = torch.cuda.Event(enable_timing=True)\n",
    "                start.record()\n",
    "                result = func(*args, **kwargs)\n",
    "                end.record()\n",
    "                torch.cuda.synchronize()\n",
    "                time_runs.append(start.elapsed_time(end))\n",
    "            print(f\"| {model} |: {np.mean(time_runs):.4f}({np.std(time_runs):.4f})\")\n",
    "            return result\n",
    "        return wrapper\n",
    "    return decorator\n",
    "\n",
    "batch, length, dim = 20, 5, 16\n",
    "x = torch.randn(batch, length, dim).to(\"cuda\")"
   ]
  },
  {
   "cell_type": "code",
   "execution_count": 4,
   "metadata": {},
   "outputs": [],
   "source": [
    "# Mamba1 Block\n",
    "\n",
    "mamba = Mamba(\n",
    "    d_model=dim, # Model dimension d_model\n",
    "    d_state=16,  # SSM state expansion factor\n",
    "    d_conv=4,    # Local convolution width\n",
    "    expand=8,    # Block expansion factor\n",
    ").to(\"cuda\")\n",
    "\n",
    "@average_time(model='Mamba-I')\n",
    "def mamba_test(x):\n",
    "    return mamba(x)\n",
    "\n",
    "mamba(x) # warmup cuda\n",
    "None"
   ]
  },
  {
   "cell_type": "code",
   "execution_count": 5,
   "metadata": {},
   "outputs": [],
   "source": [
    "# Mamba2 Blocfrom mamba_ssm import Mamba2\n",
    "mamba2 = Mamba2(\n",
    "    d_model=dim, # Model dimension d_model\n",
    "    d_state=128,  # SSM state expansion factor, typically 64 or 128\n",
    "    d_conv=4,    # Local convolution width\n",
    "    expand=8,    # Block expansion factor\n",
    "    headdim=16, # Head dimension\n",
    ").to(\"cuda\")\n",
    "\n",
    "@average_time(model='Mamba-II')\n",
    "def mamba2_test(x):\n",
    "    return mamba2(x)\n",
    "\n",
    "mamba2(x) # warmup cuda\n",
    "None"
   ]
  },
  {
   "cell_type": "code",
   "execution_count": 6,
   "metadata": {},
   "outputs": [],
   "source": [
    "# Transformer\n",
    "\n",
    "transformer = torch.nn.TransformerEncoderLayer(\n",
    "    d_model = dim,\n",
    "    nhead = 16, \n",
    "    dim_feedforward=300,\n",
    ").to(\"cuda\")\n",
    "\n",
    "@average_time(model='Transformer')\n",
    "def transformer_test(x):\n",
    "    return transformer(x)\n",
    "\n",
    "transformer(x) # warmup cuda\n",
    "None"
   ]
  },
  {
   "cell_type": "code",
   "execution_count": 7,
   "metadata": {},
   "outputs": [
    {
     "name": "stdout",
     "output_type": "stream",
     "text": [
      "Model Size\n",
      "|   Mamba-I   |:  13440\n",
      "|  Mamba-II   |:  12440\n",
      "| Transformer |:  11068\n",
      "Inference Time\n",
      "| Mamba-I |: 0.6506(1.1563)\n",
      "| Mamba-II |: 40.8071(119.8397)\n",
      "| Transformer |: 0.6711(0.0018)\n"
     ]
    }
   ],
   "source": [
    "\n",
    "# compute number of parameters\n",
    "def get_num_params(model):\n",
    "    return sum(p.numel() for p in model.parameters())\n",
    "\n",
    "print('Model Size')\n",
    "print(\"|   Mamba-I   |: \", get_num_params(mamba))\n",
    "print(\"|  Mamba-II   |: \", get_num_params(mamba2))\n",
    "print(\"| Transformer |: \", get_num_params(transformer))\n",
    "\n",
    "# data \n",
    "\n",
    "batch, length, dim = 20, 10**3, 16\n",
    "x = torch.randn(batch, length, dim).to(\"cuda\")\n",
    "\n",
    "print('Inference Time')\n",
    "# run tests\n",
    "mamba_test(x)\n",
    "mamba2_test(x)\n",
    "transformer_test(x)\n",
    "None"
   ]
  },
  {
   "cell_type": "code",
   "execution_count": 8,
   "metadata": {},
   "outputs": [
    {
     "name": "stdout",
     "output_type": "stream",
     "text": [
      "| Mamba-I |: 0.5230(0.1820)\n",
      "| Mamba-II |: 1.1991(0.0884)\n",
      "| Transformer |: 0.6985(0.0922)\n"
     ]
    }
   ],
   "source": [
    "a = x.clone()\n",
    "a[:,-1,:] = torch.randn_like(x[:,-1,:])\n",
    "\n",
    "mamba_test(a)\n",
    "mamba2_test(a)\n",
    "transformer_test(a)\n",
    "\n",
    "None\n"
   ]
  },
  {
   "cell_type": "code",
   "execution_count": null,
   "metadata": {},
   "outputs": [],
   "source": []
  }
 ],
 "metadata": {
  "kernelspec": {
   "display_name": "ssm",
   "language": "python",
   "name": "python3"
  },
  "language_info": {
   "codemirror_mode": {
    "name": "ipython",
    "version": 3
   },
   "file_extension": ".py",
   "mimetype": "text/x-python",
   "name": "python",
   "nbconvert_exporter": "python",
   "pygments_lexer": "ipython3",
   "version": "3.10.14"
  }
 },
 "nbformat": 4,
 "nbformat_minor": 2
}
