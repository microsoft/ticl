{
 "cells": [
  {
   "cell_type": "code",
   "execution_count": 1,
   "metadata": {},
   "outputs": [],
   "source": [
    "import torch, os\n",
    "import numpy as np\n",
    "from torch.nn import TransformerEncoder, TransformerEncoderLayer\n",
    "\n",
    "os.environ['CUDA_VISIBLE_DEVICES'] = '2'\n",
    "\n",
    "torch.backends.cuda.enable_mem_efficient_sdp(False)\n",
    "torch.backends.cuda.enable_flash_sdp(False)\n",
    "torch.backends.cuda.enable_math_sdp(True)"
   ]
  },
  {
   "cell_type": "code",
   "execution_count": 2,
   "metadata": {},
   "outputs": [],
   "source": [
    "n_layers = 2\n",
    "n_heads = 4\n",
    "d_model = 64\n",
    "n_hid = 49"
   ]
  },
  {
   "cell_type": "code",
   "execution_count": 3,
   "metadata": {},
   "outputs": [],
   "source": [
    "model = TransformerEncoder(\n",
    "    TransformerEncoderLayer(\n",
    "        d_model = d_model,\n",
    "        nhead = n_heads,\n",
    "        dim_feedforward = n_hid,\n",
    "    ),\n",
    "    num_layers = n_layers,\n",
    ")"
   ]
  },
  {
   "cell_type": "code",
   "execution_count": 4,
   "metadata": {},
   "outputs": [
    {
     "name": "stdout",
     "output_type": "stream",
     "text": [
      "Model Size\n",
      "| Standard Attention | Pytorch Implementation |:  46562\n"
     ]
    }
   ],
   "source": [
    "# compute number of parameters\n",
    "def get_num_params(model):\n",
    "    return sum(p.numel() for p in model.parameters())\n",
    "\n",
    "print('Model Size')\n",
    "print(\"| Standard Attention | Pytorch Implementation |: \", get_num_params(model))"
   ]
  },
  {
   "cell_type": "code",
   "execution_count": 5,
   "metadata": {},
   "outputs": [
    {
     "name": "stdout",
     "output_type": "stream",
     "text": [
      "Inference Time\n",
      "| Standard Attention | Pytorch Implementation |:  663.86 (0.00) ms\n"
     ]
    }
   ],
   "source": [
    "print('Inference Time')\n",
    "\n",
    "batch_size = 10\n",
    "seq_len = int(3e5)\n",
    "num_simulations = 1\n",
    "time_elaspsed = {'attention':[]}\n",
    "\n",
    "for _ in range(num_simulations):\n",
    "    \n",
    "    # Construct the dummy input\n",
    "    X = torch.rand(batch_size, seq_len, d_model)\n",
    "\n",
    "    # Prepare everythin for CUDA\n",
    "    X = X.to(device='cuda',dtype=torch.bfloat16)\n",
    "\n",
    "    model.to(device='cuda',dtype=torch.bfloat16)\n",
    "    model.eval()\n",
    "\n",
    "    start = torch.cuda.Event(enable_timing=True)\n",
    "    end = torch.cuda.Event(enable_timing=True)\n",
    "\n",
    "    with torch.no_grad():\n",
    "        start.record()\n",
    "        y = model(X)\n",
    "        end.record()\n",
    "        torch.cuda.synchronize()\n",
    "        time_elaspsed['attention'].append(start.elapsed_time(end))\n",
    "\n",
    "print(\"| Standard Attention | Pytorch Implementation |: \", f\"{np.mean(time_elaspsed['attention']):.2f}\", f\"({np.std(time_elaspsed['attention']):.2f})\", \"ms\")\n"
   ]
  }
 ],
 "metadata": {
  "kernelspec": {
   "display_name": "ssm",
   "language": "python",
   "name": "python3"
  },
  "language_info": {
   "codemirror_mode": {
    "name": "ipython",
    "version": 3
   },
   "file_extension": ".py",
   "mimetype": "text/x-python",
   "name": "python",
   "nbconvert_exporter": "python",
   "pygments_lexer": "ipython3",
   "version": "3.10.14"
  }
 },
 "nbformat": 4,
 "nbformat_minor": 2
}
