{
 "cells": [
  {
   "cell_type": "code",
   "execution_count": 1,
   "metadata": {},
   "outputs": [],
   "source": [
    "import torch"
   ]
  },
  {
   "cell_type": "code",
   "execution_count": 2,
   "metadata": {},
   "outputs": [],
   "source": [
    "batch_size, num_head, sl, head_dim = 10, 5, 20, 64"
   ]
  },
  {
   "cell_type": "code",
   "execution_count": 3,
   "metadata": {},
   "outputs": [
    {
     "name": "stdout",
     "output_type": "stream",
     "text": [
      "256000\n",
      "estimated memory: 256000\n"
     ]
    }
   ],
   "source": [
    "\n",
    "torch.cuda.reset_peak_memory_stats(device = 'cuda')\n",
    "memory_before = torch.cuda.memory_allocated(device = 'cuda')\n",
    "q = torch.randn(batch_size, num_head, sl, head_dim, device = \"cuda\")\n",
    "memory_after = torch.cuda.max_memory_allocated(device = 'cuda')\n",
    "\n",
    "print(memory_after - memory_before)\n",
    "print('estimated memory:', batch_size * num_head * sl * head_dim * 4)"
   ]
  },
  {
   "cell_type": "code",
   "execution_count": null,
   "metadata": {},
   "outputs": [],
   "source": []
  }
 ],
 "metadata": {
  "kernelspec": {
   "display_name": "torch23",
   "language": "python",
   "name": "python3"
  },
  "language_info": {
   "codemirror_mode": {
    "name": "ipython",
    "version": 3
   },
   "file_extension": ".py",
   "mimetype": "text/x-python",
   "name": "python",
   "nbconvert_exporter": "python",
   "pygments_lexer": "ipython3",
   "version": "3.10.14"
  }
 },
 "nbformat": 4,
 "nbformat_minor": 2
}
