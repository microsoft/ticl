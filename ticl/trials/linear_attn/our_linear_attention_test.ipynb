{
 "cells": [
  {
   "cell_type": "code",
   "execution_count": 1,
   "metadata": {},
   "outputs": [],
   "source": [
    "from ticl.models.flash_transformer import MultiheadAttention"
   ]
  },
  {
   "cell_type": "code",
   "execution_count": 2,
   "metadata": {},
   "outputs": [],
   "source": [
    "num_heads = 3\n",
    "d_model = 9"
   ]
  },
  {
   "cell_type": "code",
   "execution_count": 3,
   "metadata": {},
   "outputs": [
    {
     "name": "stderr",
     "output_type": "stream",
     "text": [
      "/datadrive/fla2/lib/python3.10/site-packages/tqdm/auto.py:21: TqdmWarning: IProgress not found. Please update jupyter and ipywidgets. See https://ipywidgets.readthedocs.io/en/stable/user_install.html\n",
      "  from .autonotebook import tqdm as notebook_tqdm\n",
      "/home/azureuser/flash-linear-attention/fla/layers/attn.py:23: UserWarning: Flash Attention is not installed. Please install it via `pip install flash-attn --no-build-isolation`\n",
      "  warnings.warn(\"Flash Attention is not installed. Please install it via `pip install flash-attn --no-build-isolation`\")\n"
     ]
    }
   ],
   "source": [
    "fla = MultiheadAttention(\n",
    "    d_model,\n",
    "    num_heads,\n",
    "    dropout=0,\n",
    "    attn_name = 'flash_linear_attention',\n",
    ")"
   ]
  },
  {
   "cell_type": "code",
   "execution_count": 5,
   "metadata": {},
   "outputs": [
    {
     "name": "stdout",
     "output_type": "stream",
     "text": [
      "| in_proj_weight | shape torch.Size([27, 9]) | number of params 243 |\n",
      "| in_proj_bias | shape torch.Size([27]) | number of params 27 |\n",
      "| out_proj.weight | shape torch.Size([9, 9]) | number of params 81 |\n",
      "| out_proj.bias | shape torch.Size([9]) | number of params 9 |\n"
     ]
    }
   ],
   "source": [
    "for name, param in fla.named_parameters():\n",
    "    print(f\"| {name} | shape {param.shape} | number of params {param.numel()} |\")"
   ]
  },
  {
   "cell_type": "code",
   "execution_count": null,
   "metadata": {},
   "outputs": [],
   "source": []
  }
 ],
 "metadata": {
  "kernelspec": {
   "display_name": "fla2",
   "language": "python",
   "name": "python3"
  },
  "language_info": {
   "codemirror_mode": {
    "name": "ipython",
    "version": 3
   },
   "file_extension": ".py",
   "mimetype": "text/x-python",
   "name": "python",
   "nbconvert_exporter": "python",
   "pygments_lexer": "ipython3",
   "version": "3.10.14"
  }
 },
 "nbformat": 4,
 "nbformat_minor": 2
}
