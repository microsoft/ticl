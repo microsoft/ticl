{
 "cells": [
  {
   "cell_type": "markdown",
   "metadata": {},
   "source": [
    "This file is for evaluating the performance of methods on large tabular datasets."
   ]
  },
  {
   "cell_type": "code",
   "execution_count": 1,
   "metadata": {},
   "outputs": [
    {
     "name": "stdout",
     "output_type": "stream",
     "text": [
      "amueller-4gpu-eastus2-3\n"
     ]
    }
   ],
   "source": [
    "!echo $HOSTNAME"
   ]
  },
  {
   "cell_type": "code",
   "execution_count": 2,
   "metadata": {},
   "outputs": [],
   "source": [
    "import matplotlib.pyplot as plt\n",
    "\n",
    "from mothernet.evaluation.baselines import tabular_baselines\n",
    "\n",
    "import seaborn as sns\n",
    "import numpy as np\n",
    "import warnings\n",
    "warnings.simplefilter(\"ignore\", FutureWarning)  # openml deprecation of array return type\n",
    "from mothernet.datasets import load_openml_list, open_cc_valid_dids, open_cc_dids, open_cc_large_dids\n",
    "from mothernet.evaluation.baselines.tabular_baselines import knn_metric, catboost_metric, logistic_metric, xgb_metric, random_forest_metric, mlp_metric, hyperfast_metric, hyperfast_metric_tuning, resnet_metric, mothernet_init_metric\n",
    "from mothernet.evaluation.tabular_evaluation import evaluate, eval_on_datasets, transformer_metric\n",
    "from mothernet.evaluation import tabular_metrics\n",
    "from mothernet.prediction.tabpfn import TabPFNClassifier\n",
    "import os\n",
    "from mothernet.evaluation.baselines.distill_mlp import DistilledTabPFNMLP\n",
    "from mothernet.prediction.mothernet import MotherNetClassifier\n",
    "from functools import partial\n",
    "from mothernet.evaluation.tabular_evaluation import eval_on_datasets\n",
    "from sklearn.pipeline import make_pipeline\n",
    "from sklearn.preprocessing import StandardScaler\n",
    "from sklearn.ensemble import BaggingClassifier\n",
    "from mothernet.prediction.mothernet import ShiftClassifier, EnsembleMeta, MotherNetClassifier\n",
    "from sklearn.impute import SimpleImputer\n",
    "from mothernet.prediction.mothernet_additive import MotherNetAdditiveClassifier\n",
    "\n",
    "from interpret.glassbox import ExplainableBoostingClassifier\n",
    "\n",
    "\n",
    "from hyperfast import HyperFastClassifier\n",
    "\n",
    "# transformers don't have max times\n",
    "import warnings\n",
    "import pandas as pd\n",
    "\n",
    "import datetime\n",
    "\n",
    "import pickle\n",
    "\n",
    "os.environ['CUDA_VISIBLE_DEVICES'] = '2'"
   ]
  },
  {
   "cell_type": "markdown",
   "metadata": {
    "tags": []
   },
   "source": [
    "# Datasets"
   ]
  },
  {
   "cell_type": "code",
   "execution_count": 12,
   "metadata": {
    "tags": []
   },
   "outputs": [
    {
     "name": "stdout",
     "output_type": "stream",
     "text": [
      "Number of datasets: 15\n",
      "Too many classes\n",
      "Too many features\n",
      "Too many features\n",
      "Too many features\n",
      "Too many features\n",
      "Too many features\n"
     ]
    }
   ],
   "source": [
    "cc_test_datasets_multiclass, cc_test_datasets_multiclass_df = load_openml_list(\n",
    "    [\n",
    "        146818,\n",
    "        9910,\n",
    "        14969,\n",
    "        168335,\n",
    "        146607,\n",
    "        3896,\n",
    "        189354,\n",
    "        189356,\n",
    "        14964,\n",
    "        7,\n",
    "        11,\n",
    "        9981,\n",
    "        25,\n",
    "        29,\n",
    "        31,\n",
    "        219,\n",
    "        3711,\n",
    "        168337,\n",
    "        50,\n",
    "        146606,\n",
    "        168911,\n",
    "        167119,\n",
    "        3917,\n",
    "        10,\n",
    "        14,\n",
    "        22,\n",
    "        146065,\n",
    "        9977,\n",
    "        9956,\n",
    "        9952,\n",
    "        9890,\n",
    "        3561,\n",
    "        9957,\n",
    "        3797,\n",
    "        45,\n",
    "        53\n",
    "    ], \n",
    "    multiclass=True,\n",
    "    shuffled=True, \n",
    "    filter_for_nan=False, \n",
    "    max_samples = 1000000000, \n",
    "    num_feats=1000000, \n",
    "    return_capped=True\n",
    ")"
   ]
  },
  {
   "cell_type": "code",
   "execution_count": 5,
   "metadata": {
    "tags": []
   },
   "outputs": [],
   "source": [
    "eval_positions = [50000]\n",
    "max_features = 100\n",
    "n_samples = 100000\n",
    "base_path = os.path.join('../')\n",
    "overwrite = False\n",
    "# max_times only affect non-nn models, nn models are not affected by max_times\n",
    "# for non-nn models, when the runtime is longer than the max_time, it should stop\n",
    "max_times = [1, 15, 30, 60, 60 * 5, 60 * 15, 60*60] \n",
    "metric_used = tabular_metrics.auc_metric\n",
    "task_type = 'multiclass'"
   ]
  },
  {
   "cell_type": "code",
   "execution_count": 6,
   "metadata": {
    "tags": []
   },
   "outputs": [],
   "source": [
    "!mkdir -p {base_path}/results\n",
    "!mkdir -p {base_path}/results/tabular/\n",
    "!mkdir -p {base_path}/results/tabular/multiclass/"
   ]
  },
  {
   "cell_type": "code",
   "execution_count": 7,
   "metadata": {
    "tags": []
   },
   "outputs": [],
   "source": [
    "cc_test_datasets_multiclass_df['isNumeric'] = (\n",
    "    cc_test_datasets_multiclass_df.NumberOfSymbolicFeatures == 1\n",
    "    ) & (cc_test_datasets_multiclass_df.NumberOfInstancesWithMissingValues == 0)"
   ]
  },
  {
   "cell_type": "code",
   "execution_count": 8,
   "metadata": {
    "tags": []
   },
   "outputs": [
    {
     "name": "stdout",
     "output_type": "stream",
     "text": [
      "\\begin{tabular}{rlrrr}\n",
      "\\toprule\n",
      "did & name & d & n & k \\\\\n",
      "\\midrule\n",
      "7 & audiology & 70 & 226 & 24 \\\\\n",
      "10 & lymph & 19 & 148 & 4 \\\\\n",
      "11 & balance-scale & 5 & 625 & 3 \\\\\n",
      "14 & mfeat-fourier & 77 & 2000 & 10 \\\\\n",
      "22 & mfeat-zernike & 48 & 2000 & 10 \\\\\n",
      "25 & colic & 27 & 368 & 2 \\\\\n",
      "29 & credit-approval & 16 & 690 & 2 \\\\\n",
      "31 & credit-g & 21 & 1000 & 2 \\\\\n",
      "50 & tic-tac-toe & 10 & 958 & 2 \\\\\n",
      "53 & heart-statlog & 14 & 270 & 2 \\\\\n",
      "3561 & QSAR-TID-17034 & 1026 & 116 & 0 \\\\\n",
      "3711 & QSAR-TID-10331 & 1026 & 303 & 0 \\\\\n",
      "3797 & QSAR-TID-11589 & 1026 & 82 & 0 \\\\\n",
      "3896 & QSAR-TID-100824 & 1026 & 79 & 0 \\\\\n",
      "3917 & QSAR-TID-30037 & 1026 & 711 & 0 \\\\\n",
      "\\bottomrule\n",
      "\\end{tabular}\n",
      "\n"
     ]
    }
   ],
   "source": [
    "cc_test_datasets_multiclass_df['NumberOfInstances'] =  cc_test_datasets_multiclass_df['NumberOfInstances'].astype(int)\n",
    "cc_test_datasets_multiclass_df['NumberOfFeatures'] =  cc_test_datasets_multiclass_df['NumberOfFeatures'].astype(int)\n",
    "cc_test_datasets_multiclass_df['NumberOfClasses'] =  cc_test_datasets_multiclass_df['NumberOfClasses'].astype(int)\n",
    "\n",
    "print(cc_test_datasets_multiclass_df[['did', 'name', 'NumberOfFeatures', 'NumberOfInstances', 'NumberOfClasses']].rename(columns={'NumberOfFeatures': \"d\", \"NumberOfInstances\":\"n\", \"NumberOfClasses\": \"k\"}).to_latex(index=False))"
   ]
  },
  {
   "cell_type": "code",
   "execution_count": 9,
   "metadata": {},
   "outputs": [
    {
     "data": {
      "text/html": [
       "<div>\n",
       "<style scoped>\n",
       "    .dataframe tbody tr th:only-of-type {\n",
       "        vertical-align: middle;\n",
       "    }\n",
       "\n",
       "    .dataframe tbody tr th {\n",
       "        vertical-align: top;\n",
       "    }\n",
       "\n",
       "    .dataframe thead th {\n",
       "        text-align: right;\n",
       "    }\n",
       "</style>\n",
       "<table border=\"1\" class=\"dataframe\">\n",
       "  <thead>\n",
       "    <tr style=\"text-align: right;\">\n",
       "      <th></th>\n",
       "      <th>did</th>\n",
       "      <th>name</th>\n",
       "      <th>NumberOfFeatures</th>\n",
       "      <th>NumberOfInstances</th>\n",
       "      <th>NumberOfClasses</th>\n",
       "    </tr>\n",
       "  </thead>\n",
       "  <tbody>\n",
       "    <tr>\n",
       "      <th>0</th>\n",
       "      <td>7</td>\n",
       "      <td>audiology</td>\n",
       "      <td>70</td>\n",
       "      <td>226</td>\n",
       "      <td>24</td>\n",
       "    </tr>\n",
       "    <tr>\n",
       "      <th>1</th>\n",
       "      <td>10</td>\n",
       "      <td>lymph</td>\n",
       "      <td>19</td>\n",
       "      <td>148</td>\n",
       "      <td>4</td>\n",
       "    </tr>\n",
       "    <tr>\n",
       "      <th>2</th>\n",
       "      <td>11</td>\n",
       "      <td>balance-scale</td>\n",
       "      <td>5</td>\n",
       "      <td>625</td>\n",
       "      <td>3</td>\n",
       "    </tr>\n",
       "    <tr>\n",
       "      <th>3</th>\n",
       "      <td>14</td>\n",
       "      <td>mfeat-fourier</td>\n",
       "      <td>77</td>\n",
       "      <td>2000</td>\n",
       "      <td>10</td>\n",
       "    </tr>\n",
       "    <tr>\n",
       "      <th>4</th>\n",
       "      <td>22</td>\n",
       "      <td>mfeat-zernike</td>\n",
       "      <td>48</td>\n",
       "      <td>2000</td>\n",
       "      <td>10</td>\n",
       "    </tr>\n",
       "    <tr>\n",
       "      <th>5</th>\n",
       "      <td>25</td>\n",
       "      <td>colic</td>\n",
       "      <td>27</td>\n",
       "      <td>368</td>\n",
       "      <td>2</td>\n",
       "    </tr>\n",
       "    <tr>\n",
       "      <th>6</th>\n",
       "      <td>29</td>\n",
       "      <td>credit-approval</td>\n",
       "      <td>16</td>\n",
       "      <td>690</td>\n",
       "      <td>2</td>\n",
       "    </tr>\n",
       "    <tr>\n",
       "      <th>7</th>\n",
       "      <td>31</td>\n",
       "      <td>credit-g</td>\n",
       "      <td>21</td>\n",
       "      <td>1000</td>\n",
       "      <td>2</td>\n",
       "    </tr>\n",
       "    <tr>\n",
       "      <th>8</th>\n",
       "      <td>50</td>\n",
       "      <td>tic-tac-toe</td>\n",
       "      <td>10</td>\n",
       "      <td>958</td>\n",
       "      <td>2</td>\n",
       "    </tr>\n",
       "    <tr>\n",
       "      <th>9</th>\n",
       "      <td>53</td>\n",
       "      <td>heart-statlog</td>\n",
       "      <td>14</td>\n",
       "      <td>270</td>\n",
       "      <td>2</td>\n",
       "    </tr>\n",
       "    <tr>\n",
       "      <th>10</th>\n",
       "      <td>3561</td>\n",
       "      <td>QSAR-TID-17034</td>\n",
       "      <td>1026</td>\n",
       "      <td>116</td>\n",
       "      <td>0</td>\n",
       "    </tr>\n",
       "    <tr>\n",
       "      <th>11</th>\n",
       "      <td>3711</td>\n",
       "      <td>QSAR-TID-10331</td>\n",
       "      <td>1026</td>\n",
       "      <td>303</td>\n",
       "      <td>0</td>\n",
       "    </tr>\n",
       "    <tr>\n",
       "      <th>12</th>\n",
       "      <td>3797</td>\n",
       "      <td>QSAR-TID-11589</td>\n",
       "      <td>1026</td>\n",
       "      <td>82</td>\n",
       "      <td>0</td>\n",
       "    </tr>\n",
       "    <tr>\n",
       "      <th>13</th>\n",
       "      <td>3896</td>\n",
       "      <td>QSAR-TID-100824</td>\n",
       "      <td>1026</td>\n",
       "      <td>79</td>\n",
       "      <td>0</td>\n",
       "    </tr>\n",
       "    <tr>\n",
       "      <th>14</th>\n",
       "      <td>3917</td>\n",
       "      <td>QSAR-TID-30037</td>\n",
       "      <td>1026</td>\n",
       "      <td>711</td>\n",
       "      <td>0</td>\n",
       "    </tr>\n",
       "  </tbody>\n",
       "</table>\n",
       "</div>"
      ],
      "text/plain": [
       "     did             name  NumberOfFeatures  NumberOfInstances  \\\n",
       "0      7        audiology                70                226   \n",
       "1     10            lymph                19                148   \n",
       "2     11    balance-scale                 5                625   \n",
       "3     14    mfeat-fourier                77               2000   \n",
       "4     22    mfeat-zernike                48               2000   \n",
       "5     25            colic                27                368   \n",
       "6     29  credit-approval                16                690   \n",
       "7     31         credit-g                21               1000   \n",
       "8     50      tic-tac-toe                10                958   \n",
       "9     53    heart-statlog                14                270   \n",
       "10  3561   QSAR-TID-17034              1026                116   \n",
       "11  3711   QSAR-TID-10331              1026                303   \n",
       "12  3797   QSAR-TID-11589              1026                 82   \n",
       "13  3896  QSAR-TID-100824              1026                 79   \n",
       "14  3917   QSAR-TID-30037              1026                711   \n",
       "\n",
       "    NumberOfClasses  \n",
       "0                24  \n",
       "1                 4  \n",
       "2                 3  \n",
       "3                10  \n",
       "4                10  \n",
       "5                 2  \n",
       "6                 2  \n",
       "7                 2  \n",
       "8                 2  \n",
       "9                 2  \n",
       "10                0  \n",
       "11                0  \n",
       "12                0  \n",
       "13                0  \n",
       "14                0  "
      ]
     },
     "execution_count": 9,
     "metadata": {},
     "output_type": "execute_result"
    }
   ],
   "source": [
    "preview = cc_test_datasets_multiclass_df[['did', 'name', 'NumberOfFeatures', 'NumberOfInstances', 'NumberOfClasses']].reset_index(drop=True)\n",
    "preview"
   ]
  },
  {
   "cell_type": "code",
   "execution_count": 21,
   "metadata": {},
   "outputs": [
    {
     "name": "stdout",
     "output_type": "stream",
     "text": [
      "openml__california__361089              | Processing...\n"
     ]
    },
    {
     "name": "stderr",
     "output_type": "stream",
     "text": [
      "WARNING:root:Received uncompressed content from OpenML for https://api.openml.org/data/v1/download/22103113/california.arff.\n"
     ]
    }
   ],
   "source": []
  },
  {
   "cell_type": "code",
   "execution_count": 24,
   "metadata": {},
   "outputs": [
    {
     "data": {
      "text/plain": [
       "{'name': 'openml__california__361089',\n",
       " 'cat_idx': [],\n",
       " 'cat_dims': [],\n",
       " 'target_type': 'regression',\n",
       " 'num_classes': 1,\n",
       " 'num_features': 8,\n",
       " 'num_instances': 20640,\n",
       " 'split_source': 'openml'}"
      ]
     },
     "execution_count": 24,
     "metadata": {},
     "output_type": "execute_result"
    }
   ],
   "source": [
    "dataset.get_metadata()"
   ]
  },
  {
   "cell_type": "code",
   "execution_count": null,
   "metadata": {},
   "outputs": [],
   "source": []
  }
 ],
 "metadata": {
  "kernelspec": {
   "display_name": "mothernet",
   "language": "python",
   "name": "python3"
  },
  "language_info": {
   "codemirror_mode": {
    "name": "ipython",
    "version": 3
   },
   "file_extension": ".py",
   "mimetype": "text/x-python",
   "name": "python",
   "nbconvert_exporter": "python",
   "pygments_lexer": "ipython3",
   "version": "3.11.9"
  }
 },
 "nbformat": 4,
 "nbformat_minor": 4
}
