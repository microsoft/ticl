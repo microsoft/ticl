{
 "cells": [
  {
   "cell_type": "markdown",
   "id": "1da2bfba-df4e-421c-91a9-f8c883116663",
   "metadata": {},
   "source": [
    "# MotherNet and TabPFN failure cases on 1d classification with step function"
   ]
  },
  {
   "cell_type": "code",
   "execution_count": null,
   "id": "58d6810e-f79b-47b8-8172-e673c663a953",
   "metadata": {},
   "outputs": [],
   "source": [
    "import numpy as np\n",
    "import matplotlib.pyplot as plt\n",
    "import matplotlib"
   ]
  },
  {
   "cell_type": "code",
   "execution_count": null,
   "id": "48d5b49f-726d-42df-ad88-1fd0473f2327",
   "metadata": {},
   "outputs": [],
   "source": [
    "device = \"cpu\""
   ]
  },
  {
   "cell_type": "code",
   "execution_count": null,
   "id": "7df05534-3e00-45ca-8a22-6521421117f5",
   "metadata": {},
   "outputs": [],
   "source": [
    "def make_data(n_classes, n_samples, n_steps):\n",
    "    classes = (np.random.randint(0, n_classes) + np.cumsum(1 - 2 * np.random.randint(0, 2, size=n_steps))) % n_classes\n",
    "    steps = np.sort(np.random.uniform(size=n_steps - 1))\n",
    "    samples = np.random.uniform(size=n_samples)\n",
    "    return samples.reshape(-1, 1), classes[np.searchsorted(steps, samples)]"
   ]
  },
  {
   "cell_type": "code",
   "execution_count": null,
   "id": "bddf3d65-40ee-4b94-b434-f4c0b4749f68",
   "metadata": {},
   "outputs": [],
   "source": [
    "X, y = make_data(2, 100, 5)\n",
    "plt.figure(figsize=(4, 1), dpi=300)\n",
    "plt.scatter(X, y, marker=\"o\", edgecolor=\"k\", c=y, s=20, cmap=plt.cm.tab10, norm=matplotlib.colors.Normalize(vmin=0, vmax=10, clip=False))\n",
    "plt.yticks([0, 1])\n",
    "plt.ylabel(\"class\")\n",
    "plt.xlabel(\"feature\")\n",
    "plt.ylim(-0.1, 1.1)\n",
    "# plt.savefig(\"../figures/1d_classification_example.pdf\", bbox_inches=\"tight\")"
   ]
  },
  {
   "cell_type": "code",
   "execution_count": null,
   "id": "f220e923-d6d5-49be-8b00-bb04615fbdd4",
   "metadata": {},
   "outputs": [],
   "source": [
    "def get_scores_steps(steps, models):\n",
    "    X, y = make_data(2, 2000, steps)\n",
    "    result = {'steps': steps}\n",
    "    for model_name, model in models.items():\n",
    "        result[model_name] = np.mean(cross_validate(model, X, y, cv=ShuffleSplit(train_size=.5), scoring=\"roc_auc\")['test_score'])\n",
    "    return result"
   ]
  },
  {
   "cell_type": "code",
   "execution_count": null,
   "id": "80517618-a638-4e7d-b7fc-fec958617602",
   "metadata": {
    "tags": []
   },
   "outputs": [],
   "source": [
    "from mothernet.prediction import EnsembleMeta, MotherNetClassifier, TabPFNClassifier\n",
    "from sklearn.model_selection import cross_validate, StratifiedKFold, ShuffleSplit\n",
    "from sklearn.ensemble import RandomForestClassifier\n",
    "from sklearn.neural_network import MLPClassifier\n",
    "import torch\n",
    "import numpy as np\n",
    "from joblib import Parallel, delayed\n",
    "import pandas as pd\n",
    "\n",
    "torch.set_num_threads(1)\n",
    "device = \"cpu\"\n",
    "tabpfn = TabPFNClassifier(device=\"cpu\", model_string=\"tabpfn__emsize_512_nlayers_12_steps_2048_bs_32ada_lr_0.0001_1_gpu_07_24_2023_01_43_33_nooptimizer\", epoch=\"1650\", N_ensemble_configurations=3)\n",
    "mothernet = EnsembleMeta(MotherNetClassifier(path=\"mn_d2048_H4096_L2_W32_P512_1_gpu_warm_08_25_2023_21_46_25_epoch_3940_no_optimizer.pickle\", device=device), n_estimators=3)\n",
    "\n",
    "\n",
    "models = {\n",
    "    'MLP': MLPClassifier(max_iter=4000),\n",
    "    'TabPFN': tabpfn,\n",
    "    'RandomForest': RandomForestClassifier(),\n",
    "    'MotherNet': mothernet\n",
    "\n",
    "}\n",
    "res = Parallel(n_jobs=-1)(delayed(get_scores_steps)(steps=steps, models=models) for i in range(20) for steps in [2, 10, 20, 30, 40, 50, 60, 70, 80, 90, 100])\n",
    "rank2 = pd.DataFrame.from_dict(res)"
   ]
  },
  {
   "cell_type": "code",
   "execution_count": null,
   "id": "ccce9836-6a84-4ae8-9d0d-50cfb6567b9c",
   "metadata": {},
   "outputs": [],
   "source": [
    "import seaborn as sns\n",
    "import matplotlib.pyplot as plt\n",
    "plt.figure(figsize=(4, 3))\n",
    "sns.lineplot(data=rank2.melt(id_vars=\"steps\", var_name=\"model\", value_name=\"score\"), x=\"steps\", y=\"score\", hue=\"model\", ax=plt.gca())\n",
    "#plt.savefig(\"figures/one_d_classification.pdf\", dpi=300, bbox_inches=\"tight\")\n",
    "plt.ylabel(\"ROC AUC\")"
   ]
  },
  {
   "cell_type": "code",
   "execution_count": null,
   "id": "1325c36a-bfaa-4a8c-8a74-bea5f1200b71",
   "metadata": {},
   "outputs": [],
   "source": []
  }
 ],
 "metadata": {
  "kernelspec": {
   "display_name": "Python [conda env:tabpfn_testing_environment]",
   "language": "python",
   "name": "conda-env-tabpfn_testing_environment-py"
  },
  "language_info": {
   "codemirror_mode": {
    "name": "ipython",
    "version": 3
   },
   "file_extension": ".py",
   "mimetype": "text/x-python",
   "name": "python",
   "nbconvert_exporter": "python",
   "pygments_lexer": "ipython3",
   "version": "3.11.6"
  }
 },
 "nbformat": 4,
 "nbformat_minor": 5
}
