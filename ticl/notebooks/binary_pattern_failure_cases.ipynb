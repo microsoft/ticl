{
 "cells": [
  {
   "cell_type": "code",
   "execution_count": null,
   "id": "b8b8efda-bd58-4f67-a7ef-3df231effded",
   "metadata": {},
   "outputs": [],
   "source": [
    "import numpy as np\n",
    "from sklearn.metrics import pairwise_distances\n",
    "from sklearn.model_selection import cross_validate, StratifiedKFold\n",
    "from sklearn.ensemble import RandomForestClassifier\n",
    "from sklearn.neural_network import MLPClassifier\n",
    "import seaborn as sns\n",
    "from joblib import Parallel, delayed\n",
    "import torch\n",
    "import pandas as pd\n",
    "\n",
    "from mothernet.priors.boolean_conjunctions import BooleanConjunctionPrior"
   ]
  },
  {
   "cell_type": "code",
   "execution_count": null,
   "id": "da8e0473-2ca9-4e1c-a8a9-5bf57f3c740c",
   "metadata": {},
   "outputs": [],
   "source": [
    "def function_of_rank(rank=2, length=4):\n",
    "    inputs = np.array(np.meshgrid(*[[-1, 1]]*length)).T.reshape(-1, length)\n",
    "    outputs = np.zeros(2**length, dtype=bool)\n",
    "    while 3 * outputs.sum() < len(inputs):\n",
    "        selected_bits = np.random.choice(length, size=rank, replace=False)\n",
    "        signs = np.random.choice([-1, 1], size=rank)\n",
    "        outputs = outputs + ((signs * inputs[:, selected_bits]) == 1).all(axis=1)\n",
    "    return (inputs + 1) / 2, outputs"
   ]
  },
  {
   "cell_type": "code",
   "execution_count": null,
   "id": "c5be98bb-5b7d-4e99-b399-cbff9963b989",
   "metadata": {
    "tags": []
   },
   "outputs": [],
   "source": [
    "def function_of_rank_random_data(rank=2, max_length=20, max_samples=1000):\n",
    "    length = np.random.randint(rank, max(max_length, rank + 1))\n",
    "    n_samples = np.random.randint(2, max_samples)\n",
    "    inputs = 2 * np.random.randint(0, 2, (n_samples, length)) - 1\n",
    "    outputs = np.zeros(n_samples, dtype=bool)\n",
    "\n",
    "\n",
    "    while 3 * outputs.sum() < len(inputs):\n",
    "        selected_bits = np.random.choice(length, size=rank, replace=False)\n",
    "        signs = np.random.choice([-1, 1], size=rank)\n",
    "        outputs = outputs + ((signs * inputs[:, selected_bits]) == 1).all(axis=1)\n",
    "    return (inputs + 1) / 2, outputs"
   ]
  },
  {
   "cell_type": "code",
   "execution_count": null,
   "id": "b66556c2-178f-42bf-a1ff-ec9cd313e79f",
   "metadata": {
    "tags": []
   },
   "outputs": [],
   "source": [
    "def sample_boolean_data(hyperparameters, n_samples, num_features, device):\n",
    "    max_rank = hyperparameters.get(\"max_rank\", 10)\n",
    "    rank = np.random.randint(1, min(max_rank, num_features))\n",
    "    n_samples = n_samples\n",
    "    inputs = 2 * torch.randint(0, 2, (n_samples, num_features), device=device) - 1\n",
    "    outputs = torch.zeros(n_samples, dtype=bool, device=device)\n",
    "\n",
    "    while 3 * torch.sum(outputs) < len(inputs):\n",
    "        selected_bits = torch.multinomial(torch.ones(num_features), rank, replacement=False)\n",
    "        signs = torch.randint(2, (rank,))*2-1\n",
    "        outputs = outputs + ((signs * inputs[:, selected_bits]) == 1).all(dim=1)\n",
    "    return (inputs + 1) / 2, outputs"
   ]
  },
  {
   "cell_type": "code",
   "execution_count": null,
   "id": "523d8016-0b1b-4b89-8d40-8b41d816b5e7",
   "metadata": {},
   "outputs": [],
   "source": [
    "def get_scores_rank(rank, models, mode='unused_features'):\n",
    "    if mode == \"random\":\n",
    "        X, y = function_of_rank_random_data(rank=rank)\n",
    "    elif mode == \"unused_features\":\n",
    "        X, y, _ = BooleanConjunctionPrior(hyperparameters={'max_rank': rank}).sample(n_samples=1000, num_features=20, device=\"cpu\")\n",
    "    elif mode == \"enumerate\":\n",
    "        X, y = function_of_rank(rank=rank, length=10)\n",
    "    result = {'rank': rank}\n",
    "    for model_name, model in models.items():\n",
    "        result[model_name] = np.mean(cross_validate(model, X, y, cv=StratifiedKFold(shuffle=True), scoring=\"roc_auc\", error_score='raise')['test_score'])\n",
    "    return result"
   ]
  },
  {
   "cell_type": "code",
   "execution_count": null,
   "id": "dbc6983e-17ec-4d32-9d17-7dfb79ea9e7e",
   "metadata": {
    "tags": []
   },
   "outputs": [],
   "source": [
    "from mothernet.prediction import EnsembleMeta, MotherNetClassifier, TabPFNClassifier\n",
    "from sklearn.model_selection import cross_validate, StratifiedKFold\n",
    "from sklearn.ensemble import RandomForestClassifier\n",
    "from sklearn.neural_network import MLPClassifier\n",
    "import torch\n",
    "import numpy as np\n",
    "from joblib import Parallel, delayed\n",
    "import pandas as pd\n",
    "\n",
    "torch.set_num_threads(1)\n",
    "device = \"cpu\"\n",
    "tabpfn = TabPFNClassifier(device=\"cpu\", model_string=\"tabpfn__emsize_512_nlayers_12_steps_2048_bs_32ada_lr_0.0001_1_gpu_07_24_2023_01_43_33_nooptimizer\", epoch=\"1650\", N_ensemble_configurations=3)\n",
    "mothernet = EnsembleMeta(MotherNetClassifier(path=\"mn_d2048_H4096_L2_W32_P512_1_gpu_warm_08_25_2023_21_46_25_epoch_3940_no_optimizer.pickle\", device=device), n_estimators=3)\n",
    "\n",
    "\n",
    "prototypes = np.arange(1, 100, 5)\n",
    "models = {\n",
    "    'MLP': MLPClassifier(max_iter=4000),\n",
    "    'TabPFN': tabpfn,\n",
    "    'RandomForest': RandomForestClassifier(),\n",
    "    'MotherNet': mothernet\n",
    "\n",
    "}\n",
    "res = Parallel(n_jobs=1)(delayed(get_scores_rank)(rank=rank, models=models) for i in range(20) for rank in range(1, 11))\n",
    "rank = pd.DataFrame.from_dict(res)\n"
   ]
  },
  {
   "cell_type": "code",
   "execution_count": null,
   "id": "71c57915-e013-4743-9a3a-d78e27560844",
   "metadata": {
    "tags": []
   },
   "outputs": [],
   "source": [
    "import seaborn as sns\n",
    "import matplotlib.pyplot as plt\n",
    "plt.figure(figsize=(4, 3))\n",
    "sns.lineplot(data=rank2.melt(id_vars=\"rank\", var_name=\"model\", value_name=\"score\"), x=\"rank\", y=\"score\", hue=\"model\", ax=plt.gca())\n",
    "plt.savefig(\"figures/boolean_conjunction_random_data.pdf\", dpi=300, bbox_inches=\"tight\")\n",
    "plt.ylabel(\"ROC AUC\")"
   ]
  }
 ],
 "metadata": {
  "kernelspec": {
   "display_name": "Python [conda env:tabpfn_testing_environment]",
   "language": "python",
   "name": "conda-env-tabpfn_testing_environment-py"
  },
  "language_info": {
   "codemirror_mode": {
    "name": "ipython",
    "version": 3
   },
   "file_extension": ".py",
   "mimetype": "text/x-python",
   "name": "python",
   "nbconvert_exporter": "python",
   "pygments_lexer": "ipython3",
   "version": "3.11.6"
  }
 },
 "nbformat": 4,
 "nbformat_minor": 5
}
