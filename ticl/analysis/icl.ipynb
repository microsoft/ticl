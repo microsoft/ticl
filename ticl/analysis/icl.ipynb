{
 "cells": [
  {
   "cell_type": "code",
   "execution_count": 1,
   "metadata": {},
   "outputs": [
    {
     "name": "stderr",
     "output_type": "stream",
     "text": [
      "/datadrive/anaconda3/envs/torch23/lib/python3.10/site-packages/tqdm/auto.py:21: TqdmWarning: IProgress not found. Please update jupyter and ipywidgets. See https://ipywidgets.readthedocs.io/en/stable/user_install.html\n",
      "  from .autonotebook import tqdm as notebook_tqdm\n"
     ]
    }
   ],
   "source": [
    "from ticl.prediction.tabpfn import TabPFNClassifier\n",
    "from ticl.dataloader import get_dataloader\n",
    "from ticl.model_builder import get_model, get_y_encoder, get_criterion\n",
    "from ticl.train import eval_criterion\n",
    "import torch\n",
    "import numpy as np\n",
    "import os \n",
    "import pandas as pd\n",
    "from tqdm import tqdm\n",
    "import lightning as L\n",
    "import matplotlib.pyplot as plt\n",
    "import seaborn as sns\n",
    "import matplotlib as mpl\n",
    "\n",
    "root_dir = os.path.dirname(os.getcwd())"
   ]
  },
  {
   "cell_type": "markdown",
   "metadata": {},
   "source": [
    "# Datasets"
   ]
  },
  {
   "cell_type": "code",
   "execution_count": 2,
   "metadata": {},
   "outputs": [],
   "source": [
    "n_test_samples = 1000\n",
    "n_rep = 20\n",
    "num_features = 100\n",
    "\n",
    "prior_default_config = {\n",
    "    'num_features': num_features, \n",
    "    'n_samples': 1152, \n",
    "    'eval_positions': [1094.3999999999999], \n",
    "    'heterogeneous_batches': False, \n",
    "    'multiclass_loss_type': 'nono', \n",
    "    'prior_type': 'prior_bag', \n",
    "    'prior_bag': {\n",
    "        'prior_bag_exp_weights_1': {\n",
    "            'distribution': 'uniform', \n",
    "            'min': 2.0, \n",
    "            'max': 10.0\n",
    "        }\n",
    "    }, \n",
    "    'mlp': {\n",
    "        'pre_sample_causes': True, \n",
    "        'sampling': 'normal', \n",
    "        'prior_mlp_scale_weights_sqrt': True, \n",
    "        'random_feature_rotation': True, \n",
    "        'num_layers': {\n",
    "            'distribution': 'meta_gamma', \n",
    "            'max_alpha': 2, \n",
    "            'max_scale': 3, \n",
    "            'round': True, \n",
    "            'lower_bound': 2\n",
    "        }, \n",
    "        'prior_mlp_hidden_dim': {\n",
    "            'distribution': 'meta_gamma', \n",
    "            'max_alpha': 3,\n",
    "            'max_scale': 100, \n",
    "            'round': True, \n",
    "            'lower_bound': 4\n",
    "        }, \n",
    "        'prior_mlp_dropout_prob': {\n",
    "            'distribution': 'meta_beta', \n",
    "            'scale': 0.6, \n",
    "            'min': 0.1, \n",
    "            'max': 5.0\n",
    "        }, \n",
    "        'init_std': {\n",
    "            'distribution': 'log_uniform', \n",
    "            'min': 0.01, \n",
    "            'max': 12\n",
    "        }, \n",
    "        'noise_std': {\n",
    "            'distribution': 'log_uniform', \n",
    "            'min': 0.0001, \n",
    "            'max': 0.5\n",
    "        }, \n",
    "        'num_causes': {\n",
    "            'distribution': 'meta_gamma', \n",
    "            'max_alpha': 3, \n",
    "            'max_scale': 7, \n",
    "            'round': True, \n",
    "            'lower_bound': 2\n",
    "        }, \n",
    "        'is_causal': {\n",
    "            'distribution': 'meta_choice', \n",
    "            'choice_values': [True, False]\n",
    "        }, \n",
    "        'pre_sample_weights': {\n",
    "            'distribution': 'meta_choice', \n",
    "            'choice_values': [True, False]\n",
    "            }, \n",
    "        'y_is_effect': {\n",
    "            'distribution': 'meta_choice', \n",
    "            'choice_values': [True, False]\n",
    "        }, \n",
    "        'prior_mlp_activations': {\n",
    "            'distribution': 'meta_choice', \n",
    "            'choice_values': [torch.nn.Tanh, torch.nn.Identity, torch.nn.ReLU]\n",
    "        }, \n",
    "        'block_wise_dropout': {\n",
    "            'distribution': 'meta_choice', \n",
    "            'choice_values': [True, False]\n",
    "        }, \n",
    "        'sort_features': {\n",
    "            'distribution': 'meta_choice', \n",
    "            'choice_values': [True, False]\n",
    "        }, \n",
    "        'in_clique': {\n",
    "            'distribution': 'meta_choice', \n",
    "            'choice_values': [True, False]\n",
    "        }, \n",
    "        'add_uninformative_features': False\n",
    "    }, \n",
    "    'gp': {\n",
    "        'outputscale': {\n",
    "            'distribution': 'log_uniform', \n",
    "            'min': 1e-05, \n",
    "            'max': 8\n",
    "        }, \n",
    "        'lengthscale': {\n",
    "            'distribution': 'log_uniform', \n",
    "            'min': 1e-05, \n",
    "            'max': 8\n",
    "        }, \n",
    "        'noise': {\n",
    "            'distribution': 'meta_choice', \n",
    "            'choice_values': [1e-05, 0.0001, 0.01]\n",
    "        }, \n",
    "        'sampling': 'normal'\n",
    "    }, \n",
    "    'step_function': {\n",
    "        'max_steps': 1, \n",
    "        'sampling': 'uniform'\n",
    "    }, \n",
    "    'classification': {\n",
    "        'max_num_classes': 10, \n",
    "        'num_classes': {\n",
    "            'distribution': 'uniform_int', \n",
    "            'min': 2, \n",
    "            'max': 10\n",
    "        }, \n",
    "        'balanced': False, \n",
    "        'output_multiclass_ordered_p': 0.0, \n",
    "        'multiclass_max_steps': 10, \n",
    "        'multiclass_type': 'rank', \n",
    "        'categorical_feature_p': 0.2, \n",
    "        'nan_prob_no_reason': 0.0, \n",
    "        'nan_prob_a_reason': 0.0, \n",
    "        'set_value_to_nan': 0.9, \n",
    "        'num_features_sampler': 'uniform', \n",
    "        'pad_zeros': True, \n",
    "        'feature_curriculum': False\n",
    "    }, \n",
    "    'boolean': {\n",
    "        'max_fraction_uninformative': 0.5, \n",
    "        'p_uninformative': 0.5\n",
    "    }\n",
    "}\n",
    "\n",
    "data_default_config = {\n",
    "    'batch_size': 1, \n",
    "    'num_steps': 1, \n",
    "    'min_eval_pos': 2, \n",
    "    'random_n_samples': 0, \n",
    "    'n_test_samples': 0\n",
    "}\n",
    "\n",
    "device = 'cuda'"
   ]
  },
  {
   "cell_type": "markdown",
   "metadata": {},
   "source": [
    "# Models"
   ]
  },
  {
   "cell_type": "code",
   "execution_count": 3,
   "metadata": {},
   "outputs": [],
   "source": [
    "ssm_default_config = {\n",
    "    'emsize': 512, \n",
    "    'nlayers': 1, \n",
    "    'dropout': 0.0, \n",
    "    'nhid_factor': 2, \n",
    "    'nhead': 4, \n",
    "    'ssm_cfg': {\n",
    "        'd_state': 16, \n",
    "        'expand': 1\n",
    "    }, \n",
    "    'local_nhead': 4, \n",
    "    'init_method': None, \n",
    "    'recompute_attn': True, \n",
    "    'pre_norm': False, \n",
    "    'y_encoder': 'one_hot', \n",
    "    'classification_task': True, \n",
    "    'efficient_eval_masking': True, \n",
    "    'input_normalization': False, \n",
    "    'tabpfn_zero_weights': True, \n",
    "    'all_layers_same_init': True, \n",
    "    'model': 'linear_attention', \n",
    "    'causal_mask': False, \n",
    "    'feature_map': 'identity', \n",
    "    'norm_output': False\n",
    "}\n",
    "\n",
    "transformer_default_config = {\n",
    "    'emsize': 512, \n",
    "    'nlayers': 1, \n",
    "    'dropout': 0.0, \n",
    "    'nhid_factor': 2, \n",
    "    'nhead': 4, \n",
    "    'init_method': None, \n",
    "    'recompute_attn': True, \n",
    "    'pre_norm': False, \n",
    "    'y_encoder': 'one_hot', \n",
    "    'classification_task': True, \n",
    "    'efficient_eval_masking': True, \n",
    "    'input_normalization': False, \n",
    "    'tabpfn_zero_weights': True, \n",
    "    'model': 'standard_attention', \n",
    "    'causal_mask': False\n",
    "}"
   ]
  },
  {
   "cell_type": "markdown",
   "metadata": {},
   "source": [
    "# Run Experiments"
   ]
  },
  {
   "cell_type": "code",
   "execution_count": 4,
   "metadata": {},
   "outputs": [],
   "source": [
    "# seqlen_list = [100, 500, 1000, 1500, 2000, 4000, 8000, 16000, 32000, 50000]\n",
    "seqlen_list = [100, 200, 400, 800, 900, 1000, 1300, 1600, 2000, 2500, 3000]"
   ]
  },
  {
   "cell_type": "code",
   "execution_count": 5,
   "metadata": {},
   "outputs": [
    {
     "name": "stderr",
     "output_type": "stream",
     "text": [
      "Seed set to 123\n"
     ]
    },
    {
     "name": "stdout",
     "output_type": "stream",
     "text": [
      "Number of parameters in backbone:  25233408\n"
     ]
    },
    {
     "name": "stderr",
     "output_type": "stream",
     "text": [
      "100%|██████████| 11/11 [00:00<00:00, 43.18it/s]\n"
     ]
    },
    {
     "name": "stdout",
     "output_type": "stream",
     "text": [
      "Number of parameters in backbone:  25233408\n"
     ]
    },
    {
     "name": "stderr",
     "output_type": "stream",
     "text": [
      "100%|██████████| 11/11 [00:00<00:00, 55.74it/s]\n"
     ]
    },
    {
     "name": "stdout",
     "output_type": "stream",
     "text": [
      "Number of parameters in backbone:  25233408\n"
     ]
    },
    {
     "name": "stderr",
     "output_type": "stream",
     "text": [
      "100%|██████████| 11/11 [00:00<00:00, 55.78it/s]\n"
     ]
    },
    {
     "name": "stdout",
     "output_type": "stream",
     "text": [
      "Number of parameters in backbone:  25233408\n"
     ]
    },
    {
     "name": "stderr",
     "output_type": "stream",
     "text": [
      "100%|██████████| 11/11 [00:00<00:00, 55.99it/s]\n"
     ]
    },
    {
     "name": "stdout",
     "output_type": "stream",
     "text": [
      "Number of parameters in backbone:  25233408\n"
     ]
    },
    {
     "name": "stderr",
     "output_type": "stream",
     "text": [
      "100%|██████████| 11/11 [00:00<00:00, 55.56it/s]\n"
     ]
    },
    {
     "name": "stdout",
     "output_type": "stream",
     "text": [
      "Number of parameters in backbone:  25233408\n"
     ]
    },
    {
     "name": "stderr",
     "output_type": "stream",
     "text": [
      "100%|██████████| 11/11 [00:00<00:00, 54.82it/s]\n"
     ]
    },
    {
     "name": "stdout",
     "output_type": "stream",
     "text": [
      "Number of parameters in backbone:  25233408\n"
     ]
    },
    {
     "name": "stderr",
     "output_type": "stream",
     "text": [
      "100%|██████████| 11/11 [00:00<00:00, 55.18it/s]\n"
     ]
    },
    {
     "name": "stdout",
     "output_type": "stream",
     "text": [
      "Number of parameters in backbone:  25233408\n"
     ]
    },
    {
     "name": "stderr",
     "output_type": "stream",
     "text": [
      "100%|██████████| 11/11 [00:00<00:00, 55.50it/s]\n"
     ]
    },
    {
     "name": "stdout",
     "output_type": "stream",
     "text": [
      "Number of parameters in backbone:  25233408\n"
     ]
    },
    {
     "name": "stderr",
     "output_type": "stream",
     "text": [
      "100%|██████████| 11/11 [00:00<00:00, 55.60it/s]\n"
     ]
    },
    {
     "name": "stdout",
     "output_type": "stream",
     "text": [
      "Number of parameters in backbone:  25233408\n"
     ]
    },
    {
     "name": "stderr",
     "output_type": "stream",
     "text": [
      "100%|██████████| 11/11 [00:00<00:00, 55.75it/s]\n"
     ]
    },
    {
     "name": "stdout",
     "output_type": "stream",
     "text": [
      "Number of parameters in backbone:  25233408\n"
     ]
    },
    {
     "name": "stderr",
     "output_type": "stream",
     "text": [
      "100%|██████████| 11/11 [00:00<00:00, 55.29it/s]\n"
     ]
    },
    {
     "name": "stdout",
     "output_type": "stream",
     "text": [
      "Number of parameters in backbone:  25233408\n"
     ]
    },
    {
     "name": "stderr",
     "output_type": "stream",
     "text": [
      "100%|██████████| 11/11 [00:00<00:00, 54.60it/s]\n"
     ]
    },
    {
     "name": "stdout",
     "output_type": "stream",
     "text": [
      "Number of parameters in backbone:  25233408\n"
     ]
    },
    {
     "name": "stderr",
     "output_type": "stream",
     "text": [
      "100%|██████████| 11/11 [00:00<00:00, 54.49it/s]\n"
     ]
    },
    {
     "name": "stdout",
     "output_type": "stream",
     "text": [
      "Number of parameters in backbone:  25233408\n"
     ]
    },
    {
     "name": "stderr",
     "output_type": "stream",
     "text": [
      "100%|██████████| 11/11 [00:00<00:00, 53.77it/s]\n"
     ]
    },
    {
     "name": "stdout",
     "output_type": "stream",
     "text": [
      "Number of parameters in backbone:  25233408\n"
     ]
    },
    {
     "name": "stderr",
     "output_type": "stream",
     "text": [
      "100%|██████████| 11/11 [00:00<00:00, 41.63it/s]\n"
     ]
    },
    {
     "name": "stdout",
     "output_type": "stream",
     "text": [
      "Number of parameters in backbone:  25233408\n"
     ]
    },
    {
     "name": "stderr",
     "output_type": "stream",
     "text": [
      "100%|██████████| 11/11 [00:00<00:00, 56.04it/s]\n"
     ]
    },
    {
     "name": "stdout",
     "output_type": "stream",
     "text": [
      "Number of parameters in backbone:  25233408\n"
     ]
    },
    {
     "name": "stderr",
     "output_type": "stream",
     "text": [
      "100%|██████████| 11/11 [00:00<00:00, 55.95it/s]\n"
     ]
    },
    {
     "name": "stdout",
     "output_type": "stream",
     "text": [
      "Number of parameters in backbone:  25233408\n"
     ]
    },
    {
     "name": "stderr",
     "output_type": "stream",
     "text": [
      "100%|██████████| 11/11 [00:00<00:00, 55.92it/s]\n"
     ]
    },
    {
     "name": "stdout",
     "output_type": "stream",
     "text": [
      "Number of parameters in backbone:  25233408\n"
     ]
    },
    {
     "name": "stderr",
     "output_type": "stream",
     "text": [
      "100%|██████████| 11/11 [00:00<00:00, 54.73it/s]\n"
     ]
    },
    {
     "name": "stdout",
     "output_type": "stream",
     "text": [
      "Number of parameters in backbone:  25233408\n"
     ]
    },
    {
     "name": "stderr",
     "output_type": "stream",
     "text": [
      "100%|██████████| 11/11 [00:00<00:00, 55.79it/s]\n"
     ]
    },
    {
     "name": "stdout",
     "output_type": "stream",
     "text": [
      "Number of parameters in backbone:  25233408\n"
     ]
    },
    {
     "name": "stderr",
     "output_type": "stream",
     "text": [
      "100%|██████████| 11/11 [00:00<00:00, 55.92it/s]\n"
     ]
    },
    {
     "name": "stdout",
     "output_type": "stream",
     "text": [
      "Number of parameters in backbone:  25233408\n"
     ]
    },
    {
     "name": "stderr",
     "output_type": "stream",
     "text": [
      "100%|██████████| 11/11 [00:00<00:00, 54.87it/s]\n"
     ]
    },
    {
     "name": "stdout",
     "output_type": "stream",
     "text": [
      "Number of parameters in backbone:  25233408\n"
     ]
    },
    {
     "name": "stderr",
     "output_type": "stream",
     "text": [
      "100%|██████████| 11/11 [00:00<00:00, 54.57it/s]\n"
     ]
    },
    {
     "name": "stdout",
     "output_type": "stream",
     "text": [
      "Number of parameters in backbone:  25233408\n"
     ]
    },
    {
     "name": "stderr",
     "output_type": "stream",
     "text": [
      "100%|██████████| 11/11 [00:00<00:00, 55.99it/s]\n"
     ]
    },
    {
     "name": "stdout",
     "output_type": "stream",
     "text": [
      "Number of parameters in backbone:  25233408\n"
     ]
    },
    {
     "name": "stderr",
     "output_type": "stream",
     "text": [
      "100%|██████████| 11/11 [00:00<00:00, 55.83it/s]\n"
     ]
    },
    {
     "name": "stdout",
     "output_type": "stream",
     "text": [
      "Number of parameters in backbone:  25233408\n"
     ]
    },
    {
     "name": "stderr",
     "output_type": "stream",
     "text": [
      "100%|██████████| 11/11 [00:00<00:00, 55.99it/s]\n"
     ]
    },
    {
     "name": "stdout",
     "output_type": "stream",
     "text": [
      "Number of parameters in backbone:  25233408\n"
     ]
    },
    {
     "name": "stderr",
     "output_type": "stream",
     "text": [
      "100%|██████████| 11/11 [00:00<00:00, 55.85it/s]\n"
     ]
    },
    {
     "name": "stdout",
     "output_type": "stream",
     "text": [
      "Number of parameters in backbone:  25233408\n"
     ]
    },
    {
     "name": "stderr",
     "output_type": "stream",
     "text": [
      "100%|██████████| 11/11 [00:00<00:00, 54.58it/s]\n"
     ]
    },
    {
     "name": "stdout",
     "output_type": "stream",
     "text": [
      "Number of parameters in backbone:  25233408\n"
     ]
    },
    {
     "name": "stderr",
     "output_type": "stream",
     "text": [
      "100%|██████████| 11/11 [00:00<00:00, 55.80it/s]\n"
     ]
    },
    {
     "name": "stdout",
     "output_type": "stream",
     "text": [
      "Number of parameters in backbone:  25233408\n"
     ]
    },
    {
     "name": "stderr",
     "output_type": "stream",
     "text": [
      "100%|██████████| 11/11 [00:00<00:00, 41.15it/s]\n"
     ]
    },
    {
     "name": "stdout",
     "output_type": "stream",
     "text": [
      "Number of parameters in backbone:  25233408\n"
     ]
    },
    {
     "name": "stderr",
     "output_type": "stream",
     "text": [
      "100%|██████████| 11/11 [00:00<00:00, 55.97it/s]\n"
     ]
    },
    {
     "name": "stdout",
     "output_type": "stream",
     "text": [
      "Number of parameters in backbone:  25233408\n"
     ]
    },
    {
     "name": "stderr",
     "output_type": "stream",
     "text": [
      "100%|██████████| 11/11 [00:00<00:00, 56.00it/s]\n"
     ]
    },
    {
     "name": "stdout",
     "output_type": "stream",
     "text": [
      "Number of parameters in backbone:  25233408\n"
     ]
    },
    {
     "name": "stderr",
     "output_type": "stream",
     "text": [
      "100%|██████████| 11/11 [00:00<00:00, 55.97it/s]\n"
     ]
    },
    {
     "name": "stdout",
     "output_type": "stream",
     "text": [
      "Number of parameters in backbone:  25233408\n"
     ]
    },
    {
     "name": "stderr",
     "output_type": "stream",
     "text": [
      "100%|██████████| 11/11 [00:00<00:00, 56.07it/s]\n"
     ]
    },
    {
     "name": "stdout",
     "output_type": "stream",
     "text": [
      "Number of parameters in backbone:  25233408\n"
     ]
    },
    {
     "name": "stderr",
     "output_type": "stream",
     "text": [
      "100%|██████████| 11/11 [00:00<00:00, 56.09it/s]\n"
     ]
    },
    {
     "name": "stdout",
     "output_type": "stream",
     "text": [
      "Number of parameters in backbone:  25233408\n"
     ]
    },
    {
     "name": "stderr",
     "output_type": "stream",
     "text": [
      "100%|██████████| 11/11 [00:00<00:00, 55.99it/s]\n"
     ]
    },
    {
     "name": "stdout",
     "output_type": "stream",
     "text": [
      "Number of parameters in backbone:  25233408\n"
     ]
    },
    {
     "name": "stderr",
     "output_type": "stream",
     "text": [
      "100%|██████████| 11/11 [00:00<00:00, 56.09it/s]\n"
     ]
    },
    {
     "name": "stdout",
     "output_type": "stream",
     "text": [
      "Number of parameters in backbone:  25233408\n"
     ]
    },
    {
     "name": "stderr",
     "output_type": "stream",
     "text": [
      "100%|██████████| 11/11 [00:00<00:00, 56.12it/s]\n"
     ]
    },
    {
     "name": "stdout",
     "output_type": "stream",
     "text": [
      "Number of parameters in backbone:  25233408\n"
     ]
    },
    {
     "name": "stderr",
     "output_type": "stream",
     "text": [
      "100%|██████████| 11/11 [00:00<00:00, 56.00it/s]\n"
     ]
    },
    {
     "name": "stdout",
     "output_type": "stream",
     "text": [
      "Number of parameters in backbone:  25233408\n"
     ]
    },
    {
     "name": "stderr",
     "output_type": "stream",
     "text": [
      "100%|██████████| 11/11 [00:00<00:00, 56.05it/s]\n"
     ]
    }
   ],
   "source": [
    "tabpfn_models = {\n",
    "    # 'ssm_tabpfn_b4_largedatasetTrue_modellinear_attention_nsamples10000_08_01_2024_20_58_55': ('SSMTabPFN+10000', 'on_exit'),\n",
    "    'tabpfn_largedatasetTrue_n2048_08_04_2024_23_40_10': ('Non-causal Masked', 1000, 12, 100),\n",
    "    # 'ssm_tabpfn_b4_largedatasetTrue_modellinear_attention_nsamples50000_08_01_2024_22_05_50': ('SSMTabPFN+50000', 110, 12),\n",
    "    # 'ssm_tabpfn_b4_largedatasetTrue_modellinear_attention_nsamples1000_08_02_2024_17_14_16': ('SSMTabPFN+1000', 'on_exit'),\n",
    "    # 'ssm_tabpfn_b4_maxnumclasses100_modellinear_attention_numfeatures1000_n1024_validdatanew_08_16_2024_18_14_40': ('TabFlex+50000', 340, 12, 1000),\n",
    "    'tabpfn_causalmaskTrue_08_28_2024_18_57_29': ('Causal Masked', 120, 12, 100),\n",
    "    # 'prior_diff_real_checkpoint_n_0': ('TabPFN', 100, 12, 100),\n",
    "}\n",
    "\n",
    "L.seed_everything(123)\n",
    "\n",
    "loss_results = {}\n",
    "for i in range(n_rep):\n",
    "    loss_results[i] = {}\n",
    "    dl = get_dataloader(\n",
    "        prior_config={**prior_default_config, 'n_samples': max(seqlen_list) + n_test_samples},\n",
    "        dataloader_config = {**data_default_config},\n",
    "        device = device,\n",
    "        model = None,\n",
    "    )\n",
    "    (info, x, y), target_y_default, _ = dl.gbm()\n",
    "    data_default = (info, x, y)\n",
    "\n",
    "    for model_string in tabpfn_models:\n",
    "        model_name, epoch, nlayers, max_features = tabpfn_models[model_string]\n",
    "        loss_results[i][model_name] = {'acc': {}, 'loss': {}}\n",
    "        \n",
    "        acc_csv = f'{root_dir}/results/{model_string}_{epoch}_{n_rep}_{n_test_samples}_acc.csv'\n",
    "        loss_csv = f'{root_dir}/results/{model_string}_{epoch}_{n_rep}_{n_test_samples}_loss.csv'\n",
    "        \n",
    "        # if os.path.exists(acc_csv) and os.path.exists(loss_csv): \n",
    "        #     loss_results[model_name]['acc'] = pd.read_csv(acc_csv, index_col=0).to_dict()\n",
    "        #     loss_results[model_name]['loss'] = pd.read_csv(loss_csv, index_col=0).to_dict()\n",
    "        #     continue\n",
    "        \n",
    "        if 'ssm_tabpfn' in model_string:\n",
    "            from ticl.models.ssm_tabpfn import SSMTabPFN\n",
    "            ssm_config = {**ssm_default_config, 'nlayers': nlayers}\n",
    "            model = SSMTabPFN(\n",
    "                n_out=prior_default_config['classification']['max_num_classes'], \n",
    "                n_features=max_features, \n",
    "                y_encoder_layer=get_y_encoder({'ssm': ssm_config, 'prior': prior_default_config}, 'ssm'), \n",
    "                **ssm_config\n",
    "            )\n",
    "        else:\n",
    "            from ticl.models.tabpfn import TabPFN\n",
    "            transformer_config = {**transformer_default_config, 'nlayers': nlayers}\n",
    "            model = TabPFN(\n",
    "                n_out=prior_default_config['classification']['max_num_classes'], \n",
    "                n_features=max_features, \n",
    "                y_encoder_layer=get_y_encoder({'transformer': transformer_config, 'prior': prior_default_config}, 'transformer'), \n",
    "                **transformer_config\n",
    "            )\n",
    "            \n",
    "        model_state = torch.load(f'{root_dir}/models_diff/{model_string}_epoch_{epoch}.cpkt', map_location='cpu')[0]\n",
    "\n",
    "        for k, v in model.state_dict().items():\n",
    "            if k in model_state and model_state[k].shape != v.shape:\n",
    "                model_state.pop(k)\n",
    "        model.load_state_dict(model_state, strict = False)\n",
    "        model.to(device)\n",
    "        model.eval()\n",
    "        \n",
    "        for seqlen in tqdm(seqlen_list):\n",
    "            single_eval_pos = seqlen\n",
    "\n",
    "            \n",
    "            data = (info, x[:(seqlen+n_test_samples),:,:max_features], y[:(seqlen+n_test_samples),:])\n",
    "            target_y = target_y_default[:(seqlen+n_test_samples),:]\n",
    "            \n",
    "            output = model(\n",
    "                tuple(e.to(device) if torch.is_tensor(e) else e for e in data) \n",
    "                if isinstance(data, tuple) else data.to(device), \n",
    "                single_eval_pos=single_eval_pos,\n",
    "            )\n",
    "            \n",
    "            pred_y = output.argmax(dim=2)\n",
    "            acc = (pred_y == target_y[single_eval_pos:]).reshape(-1).float().mean().item()\n",
    "            \n",
    "            criterion = get_criterion(prior_default_config['classification']['max_num_classes'])\n",
    "            loss, nan_share = eval_criterion(\n",
    "                criterion,\n",
    "                target_y[single_eval_pos:].to(device),\n",
    "                output,\n",
    "                device = device,\n",
    "                n_out = model.n_out\n",
    "            )\n",
    "            \n",
    "            loss = loss.item()\n",
    "        \n",
    "        \n",
    "            loss_results[i][model_name]['acc'][seqlen] = acc\n",
    "            loss_results[i][model_name]['loss'][seqlen] = loss\n",
    "    \n",
    "metric_table = {}\n",
    "for model_string in tabpfn_models:\n",
    "    model_name, epoch, nlayers, max_features = tabpfn_models[model_string]\n",
    "    metric_table[model_name] = {}\n",
    "    for metric in ['acc', 'loss']:\n",
    "        metric_table[model_name][metric] = {}\n",
    "        for seqlen in seqlen_list:\n",
    "            metric_table[model_name][metric][seqlen] = []\n",
    "            for i in range(n_rep):\n",
    "                metric_table[model_name][metric][seqlen].append(loss_results[i][model_name][metric][seqlen])\n",
    "\n",
    "for model_string in tabpfn_models:\n",
    "    model_name, epoch, nlayers, max_features = tabpfn_models[model_string]\n",
    "    # save loss results to csv\n",
    "    df = pd.DataFrame(metric_table[model_name]['acc'])\n",
    "    df.to_csv(f'{root_dir}/results/{model_string}_{epoch}_{n_rep}_{n_test_samples}_acc.csv')\n",
    "\n",
    "    df = pd.DataFrame(metric_table[model_name]['loss'])\n",
    "    df.to_csv(f'{root_dir}/results/{model_string}_{epoch}_{n_rep}_{n_test_samples}_loss.csv')\n",
    "\n",
    "    \n",
    "    \n",
    "    "
   ]
  },
  {
   "cell_type": "code",
   "execution_count": 19,
   "metadata": {},
   "outputs": [],
   "source": [
    "legend_converter = {\n",
    "    'Non-causal Masked': ('>', '-', '#073B4C'),\n",
    "    'Causal Masked': ('s', '--', '#DD3497'),\n",
    "}\n",
    "\n",
    "# legend_converter = {\n",
    "#     'Non-causal Masked': ('>', '-', \"#82CA9D\"),\n",
    "#     'Causal Masked': ('o', '--', \"#8884D8\"),\n",
    "# }"
   ]
  },
  {
   "cell_type": "code",
   "execution_count": 20,
   "metadata": {},
   "outputs": [
    {
     "data": {
      "image/png": "[encoded data removed]",
      "text/plain": [
       "<Figure size 600x400 with 1 Axes>"
      ]
     },
     "metadata": {},
     "output_type": "display_data"
    }
   ],
   "source": [
    "metric = 'acc'\n",
    "\n",
    "plt.rc('xtick', labelsize=22)\n",
    "plt.rc('ytick', labelsize=22)\n",
    "mpl.rcParams['patch.linewidth']=0.5 #width of the boundary of legend\n",
    "\n",
    "lw = 3\n",
    "markersize = 10\n",
    "\n",
    "fig, ax = plt.subplots(nrows=1, ncols=1)\n",
    "fig.subplots_adjust(left=0.2, bottom=.2, right=0.97, top=0.97, wspace=0.15, hspace = 0.3) #margin of the figure\n",
    "fig.set_size_inches(6, 4) #exact size of the figure\n",
    "for i, model_name in enumerate(metric_table):\n",
    "\n",
    "    df = pd.DataFrame(metric_table[model_name][metric])\n",
    "    # Assuming your data is in a DataFrame called 'df'\n",
    "    # If it's not, you'll need to load it first\n",
    "\n",
    "    # Transpose the DataFrame so each column becomes a data point\n",
    "    df_transposed = df.transpose()\n",
    "\n",
    "    # Calculate mean and standard deviation\n",
    "    mean = df_transposed.mean(axis=1)\n",
    "    std = df_transposed.std(axis=1)\n",
    "\n",
    "    # Create x-values (assuming column names are the x-values)\n",
    "    x = df.columns.astype(int)\n",
    "\n",
    "    sns.lineplot(\n",
    "        x=x, y=mean, ax = ax, label = model_name, \n",
    "        linestyle = legend_converter[model_name][1], \n",
    "        color = legend_converter[model_name][2], \n",
    "        linewidth = lw,\n",
    "        marker = legend_converter[model_name][0],\n",
    "        markersize = markersize,\n",
    "    )\n",
    "\n",
    "    # ax.fill_between(x, mean-std, mean+std, alpha=0.3)\n",
    "\n",
    "    # Customize the plot\n",
    "    # plt.xscale('log')  # Use log scale for x-axis due to wide range of values\n",
    "plt.xlabel('Number of Training Samples', fontsize = 22)\n",
    "plt.ylabel('Accuracy', fontsize = 22)\n",
    "# plt.title('Mean Value with Confidence Interval')\n",
    "\n",
    "# Add grid for better readability\n",
    "plt.grid(True, which=\"both\", ls=\"-\", alpha=0.2)\n",
    "ax.legend(\n",
    "    fontsize=18, \n",
    "    bbox_to_anchor=(.20,0.77), \n",
    "    # title = 'S6-Linear', \n",
    ")\n",
    "plt.savefig(f'{root_dir}/figures/causal_non_causal_icl.pdf')"
   ]
  },
  {
   "cell_type": "code",
   "execution_count": null,
   "metadata": {},
   "outputs": [],
   "source": []
  }
 ],
 "metadata": {
  "kernelspec": {
   "display_name": "linear_attention",
   "language": "python",
   "name": "python3"
  },
  "language_info": {
   "codemirror_mode": {
    "name": "ipython",
    "version": 3
   },
   "file_extension": ".py",
   "mimetype": "text/x-python",
   "name": "python",
   "nbconvert_exporter": "python",
   "pygments_lexer": "ipython3",
   "version": "3.10.14"
  }
 },
 "nbformat": 4,
 "nbformat_minor": 2
}
