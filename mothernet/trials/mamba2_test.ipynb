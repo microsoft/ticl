{
 "cells": [
  {
   "cell_type": "code",
   "execution_count": 1,
   "metadata": {},
   "outputs": [
    {
     "name": "stderr",
     "output_type": "stream",
     "text": [
      "/anaconda/envs/mamba_custom/lib/python3.10/site-packages/tqdm/auto.py:21: TqdmWarning: IProgress not found. Please update jupyter and ipywidgets. See https://ipywidgets.readthedocs.io/en/stable/user_install.html\n",
      "  from .autonotebook import tqdm as notebook_tqdm\n"
     ]
    }
   ],
   "source": [
    "from mamba_ssm import Mamba2\n",
    "import torch\n",
    "from mamba_ssm.utils.generation import InferenceParams \n",
    "import pandas as pd"
   ]
  },
  {
   "cell_type": "code",
   "execution_count": 2,
   "metadata": {},
   "outputs": [
    {
     "name": "stdout",
     "output_type": "stream",
     "text": [
      "y1 1.8380800485610962\n",
      "y2 5.676032066345215\n",
      "y3 445.2894592285156\n",
      "True\n",
      "False\n",
      "False\n"
     ]
    }
   ],
   "source": [
    "\n",
    "batch, length, dim = 20, 5, 16\n",
    "x = torch.randn(batch, length, dim).to(\"cuda\")\n",
    "model = Mamba2(\n",
    "    # This module uses roughly 3 * expand * d_model^2 parameters\n",
    "    d_model=dim,  # Model dimension d_model\n",
    "    d_state=128,  # SSM state expansion factor\n",
    "    d_conv=4,  # Local convolution width\n",
    "    expand=8,  # Block expansion factor\n",
    "    headdim=16,\n",
    "    layer_idx=0,\n",
    ").to(\"cuda\")\n",
    "\n",
    "model.eval()\n",
    "\n",
    "# warmup the model\n",
    "model(x)\n",
    "\n",
    "# Training-style forward pass (full sequence in parallel)\n",
    "start = torch.cuda.Event(enable_timing=True)\n",
    "end = torch.cuda.Event(enable_timing=True)\n",
    "start.record()\n",
    "y1 = model(x)\n",
    "end.record()\n",
    "torch.cuda.synchronize()\n",
    "print('y1', start.elapsed_time(end))  # prints time in milliseconds\n",
    "assert y1.shape == x.shape\n",
    "\n",
    "# Inference-style forward pass (full sequence in parallel)\n",
    "start = torch.cuda.Event(enable_timing=True)\n",
    "end = torch.cuda.Event(enable_timing=True)\n",
    "start.record()\n",
    "infer_params = InferenceParams(max_batch_size=batch, max_seqlen=length)\n",
    "y2 = model(x, inference_params=infer_params)\n",
    "end.record()\n",
    "torch.cuda.synchronize()\n",
    "print('y2', start.elapsed_time(end))  # prints time in milliseconds\n",
    "\n",
    "# Inference-style forward pass (step by step using for loop)\n",
    "start = torch.cuda.Event(enable_timing=True)\n",
    "end = torch.cuda.Event(enable_timing=True)\n",
    "start.record()\n",
    "infer_params = InferenceParams(max_batch_size=batch, max_seqlen=length)\n",
    "outs = []\n",
    "for i in range(length):\n",
    "    out = model(x[:, i : i + 1, :], inference_params=infer_params)\n",
    "    infer_params.seqlen_offset += 1\n",
    "    outs.append(out)\n",
    "y3 = torch.cat(outs, 1)\n",
    "end.record()\n",
    "torch.cuda.synchronize()\n",
    "print('y3', start.elapsed_time(end))  # prints time in milliseconds\n",
    "\n",
    "print(torch.allclose(y1, y2))  # prints True\n",
    "print(torch.allclose(y2, y3))  # prints False\n",
    "print(torch.allclose(y1, y3))  # prints False"
   ]
  },
  {
   "cell_type": "code",
   "execution_count": 3,
   "metadata": {},
   "outputs": [
    {
     "name": "stdout",
     "output_type": "stream",
     "text": [
      "y1 1.2216320037841797\n",
      "y2 1.7541120052337646\n",
      "y3 4.249599933624268\n",
      "True\n",
      "False\n",
      "False\n"
     ]
    }
   ],
   "source": [
    "model.train()\n",
    "\n",
    "# warmup the model\n",
    "model(x)\n",
    "\n",
    "# Training-style forward pass (full sequence in parallel)\n",
    "start = torch.cuda.Event(enable_timing=True)\n",
    "end = torch.cuda.Event(enable_timing=True)\n",
    "start.record()\n",
    "y1 = model(x)\n",
    "end.record()\n",
    "torch.cuda.synchronize()\n",
    "print('y1', start.elapsed_time(end))  # prints time in milliseconds\n",
    "assert y1.shape == x.shape\n",
    "\n",
    "# Inference-style forward pass (full sequence in parallel)\n",
    "start = torch.cuda.Event(enable_timing=True)\n",
    "end = torch.cuda.Event(enable_timing=True)\n",
    "start.record()\n",
    "infer_params = InferenceParams(max_batch_size=batch, max_seqlen=length)\n",
    "y2 = model(x, inference_params=infer_params)\n",
    "end.record()\n",
    "torch.cuda.synchronize()\n",
    "print('y2', start.elapsed_time(end))  # prints time in milliseconds\n",
    "\n",
    "# Inference-style forward pass (step by step using for loop)\n",
    "start = torch.cuda.Event(enable_timing=True)\n",
    "end = torch.cuda.Event(enable_timing=True)\n",
    "start.record()\n",
    "infer_params = InferenceParams(max_batch_size=batch, max_seqlen=length)\n",
    "outs = []\n",
    "for i in range(length):\n",
    "    out = model(x[:, i : i + 1, :], inference_params=infer_params)\n",
    "    infer_params.seqlen_offset += 1\n",
    "    outs.append(out)\n",
    "y3 = torch.cat(outs, 1)\n",
    "end.record()\n",
    "torch.cuda.synchronize()\n",
    "print('y3', start.elapsed_time(end))  # prints time in milliseconds\n",
    "\n",
    "print(torch.allclose(y1, y2))  # prints True\n",
    "print(torch.allclose(y2, y3))  # prints False\n",
    "print(torch.allclose(y1, y3))  # prints False"
   ]
  },
  {
   "cell_type": "code",
   "execution_count": 5,
   "metadata": {},
   "outputs": [
    {
     "data": {
      "text/plain": [
       "tensor(0.0008, device='cuda:0', grad_fn=<LinalgVectorNormBackward0>)"
      ]
     },
     "execution_count": 5,
     "metadata": {},
     "output_type": "execute_result"
    }
   ],
   "source": [
    "torch.norm(y2 - y3)"
   ]
  },
  {
   "cell_type": "code",
   "execution_count": 7,
   "metadata": {},
   "outputs": [],
   "source": [
    "conv_state, ssm_state = model._get_states_from_cache(infer_params, batch, False)\n",
    "print(conv_state.shape, ssm_state.shape)"
   ]
  },
  {
   "cell_type": "markdown",
   "metadata": {},
   "source": [
    "# Speed Benchmarkm"
   ]
  },
  {
   "cell_type": "code",
   "execution_count": 14,
   "metadata": {},
   "outputs": [],
   "source": [
    "def fwd1(x):\n",
    "    start = torch.cuda.Event(enable_timing=True)\n",
    "    end = torch.cuda.Event(enable_timing=True)\n",
    "    torch.cuda.reset_peak_memory_stats(device='cuda')\n",
    "    start.record()\n",
    "    model(x)\n",
    "    end.record()\n",
    "    torch.cuda.synchronize()\n",
    "    return start.elapsed_time(end), torch.cuda.max_memory_allocated(device=\"cuda\")\n",
    "\n",
    "def fwd2(x):\n",
    "    start = torch.cuda.Event(enable_timing=True)\n",
    "    end = torch.cuda.Event(enable_timing=True)\n",
    "    torch.cuda.reset_peak_memory_stats(device='cuda')\n",
    "    start.record()\n",
    "    infer_params = InferenceParams(max_batch_size=batch, max_seqlen=length)\n",
    "    model(x, inference_params=infer_params)\n",
    "    end.record()\n",
    "    torch.cuda.synchronize()\n",
    "    return start.elapsed_time(end), torch.cuda.max_memory_allocated(device=\"cuda\")"
   ]
  },
  {
   "cell_type": "code",
   "execution_count": 16,
   "metadata": {},
   "outputs": [],
   "source": [
    "def benchmark(\n",
    "    fwd_func, \n",
    "    n_repeat = 5,\n",
    "    batch_size = 10, \n",
    "    dim = 16,\n",
    "    seed = 0,\n",
    "):\n",
    "    torch.manual_seed(seed)\n",
    "    if fwd_func == 'fwd1':\n",
    "        fwd = fwd1\n",
    "    elif fwd_func == 'fwd2':\n",
    "        fwd = fwd2\n",
    "    else:\n",
    "        raise ValueError(f\"Invalid fwd_func: {fwd_func}\")\n",
    "    \n",
    "    seq_len = [2**i for i in range(4, 16)]\n",
    "    time_usage, memory_usage = {}, {}\n",
    "    for sl in seq_len:\n",
    "        time_usage[sl], memory_usage[sl] = [], []\n",
    "        for i in range(n_repeat):\n",
    "            x = torch.randn(batch, sl, dim).to(\"cuda\")\n",
    "            if i == 0:\n",
    "                # warmup\n",
    "                fwd(x)\n",
    "            else:\n",
    "                time, memory = fwd(x)\n",
    "                time_usage[sl].append(time)\n",
    "                memory_usage[sl].append(memory)\n",
    "    time_usage_df, memory_usage_df = pd.DataFrame(time_usage), pd.DataFrame(memory_usage)\n",
    "    return time_usage_df, memory_usage_df\n",
    "    "
   ]
  },
  {
   "cell_type": "code",
   "execution_count": 17,
   "metadata": {},
   "outputs": [],
   "source": [
    "results = {'memory': {}, 'time': {}}\n",
    "for fwd_func in ['fwd1', 'fwd2']:\n",
    "    results['time'][fwd_func], results['memory'][fwd_func] = benchmark(fwd_func)"
   ]
  },
  {
   "cell_type": "code",
   "execution_count": 18,
   "metadata": {},
   "outputs": [
    {
     "data": {
      "image/png": "[encoded data removed]",
      "text/plain": [
       "<Figure size 1200x600 with 2 Axes>"
      ]
     },
     "metadata": {},
     "output_type": "display_data"
    }
   ],
   "source": [
    "# plot, for each column compute mean and std error\n",
    "import matplotlib.pyplot as plt\n",
    "\n",
    "# create a figure with two subplots\n",
    "fig, axs = plt.subplots(1, 2, figsize=(12, 6))\n",
    "for i, mode in enumerate(['memory', 'time']):\n",
    "    for func_name in results[mode]:\n",
    "        df = results[mode][func_name]\n",
    "        mean = df.mean()\n",
    "        std = df.std()\n",
    "        axs[i].errorbar(mean.index, mean, yerr = std, label = func_name)\n",
    "        axs[i].legend()\n",
    "        axs[i].set_ylabel(mode)\n",
    "\n"
   ]
  },
  {
   "cell_type": "markdown",
   "metadata": {},
   "source": [
    "# Test on CopyGrad"
   ]
  },
  {
   "cell_type": "code",
   "execution_count": 22,
   "metadata": {},
   "outputs": [
    {
     "data": {
      "text/plain": [
       "tensor([ 14.6374,  -0.1011, -41.3719])"
      ]
     },
     "execution_count": 22,
     "metadata": {},
     "output_type": "execute_result"
    }
   ],
   "source": [
    "import torch\n",
    "\n",
    "# set seed\n",
    "torch.manual_seed(0)\n",
    "z = torch.randn(3, requires_grad=True)\n",
    "x = z ** 2\n",
    "y = x.clone()\n",
    "l = (y**2).sum()\n",
    "l.backward()\n",
    "\n",
    "\n",
    "z.grad"
   ]
  },
  {
   "cell_type": "code",
   "execution_count": 23,
   "metadata": {},
   "outputs": [
    {
     "data": {
      "text/plain": [
       "tensor([ 14.6374,  -0.1011, -41.3719])"
      ]
     },
     "execution_count": 23,
     "metadata": {},
     "output_type": "execute_result"
    }
   ],
   "source": [
    "import torch\n",
    "\n",
    "# set seed\n",
    "torch.manual_seed(0)\n",
    "z = torch.randn(3, requires_grad=True)\n",
    "x = z ** 2\n",
    "l = (x**2).sum()\n",
    "l.backward()\n",
    "\n",
    "z.grad"
   ]
  },
  {
   "cell_type": "code",
   "execution_count": 12,
   "metadata": {},
   "outputs": [
    {
     "name": "stdout",
     "output_type": "stream",
     "text": [
      "tensor([[1., 1., 1., 1., 1.],\n",
      "        [1., 1., 1., 1., 1.],\n",
      "        [1., 1., 1., 1., 1.],\n",
      "        [1., 1., 1., 1., 1.],\n",
      "        [1., 1., 1., 1., 1.]])\n",
      "<ViewBackward0 object at 0x7fed902c5660>\n"
     ]
    }
   ],
   "source": [
    "import torch\n",
    "\n",
    "x = torch.randn(5, 5, requires_grad=True)\n",
    "y = x.view(25)  # reshaping x to a different shape\n",
    "z = y.sum()\n",
    "z.backward()\n",
    "\n",
    "print(x.grad)  # This will show gradients properly propagated back through y to x.\n",
    "print(y.grad_fn)  # This will display <UnsafeViewBackward>\n"
   ]
  }
 ],
 "metadata": {
  "kernelspec": {
   "display_name": "mamba_custom",
   "language": "python",
   "name": "python3"
  },
  "language_info": {
   "codemirror_mode": {
    "name": "ipython",
    "version": 3
   },
   "file_extension": ".py",
   "mimetype": "text/x-python",
   "name": "python",
   "nbconvert_exporter": "python",
   "pygments_lexer": "ipython3",
   "version": "3.10.14"
  }
 },
 "nbformat": 4,
 "nbformat_minor": 2
}
