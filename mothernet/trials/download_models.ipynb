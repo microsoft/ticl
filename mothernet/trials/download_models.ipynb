{
 "cells": [
  {
   "cell_type": "code",
   "execution_count": 1,
   "metadata": {},
   "outputs": [],
   "source": [
    "from mothernet.utils import get_mn_model"
   ]
  },
  {
   "cell_type": "code",
   "execution_count": 3,
   "metadata": {},
   "outputs": [
    {
     "name": "stdout",
     "output_type": "stream",
     "text": [
      "Downloading model from https://amuellermothernet.blob.core.windows.net/models/ssm_tabpfn_b4_maxnumclasses100_modellinear_attention_N10_numfeatures4500_n1024_validdatanew_08_16_2024_23_33_24_epoch_900.cpkt to /data/yzeng58/tabflex/train_tabflex/mothernet/models_diff/ssm_tabpfn_b4_maxnumclasses100_modellinear_attention_N10_numfeatures4500_n1024_validdatanew_08_16_2024_23_33_24_epoch_900.cpkt. This can take a bit.\n"
     ]
    },
    {
     "name": "stderr",
     "output_type": "stream",
     "text": [
      "ssm_tabpfn_b4_maxnumclasses100_modellinear_attention_N10_numfeatures4500_n1024_validdatanew_08_16_2024_23_33_24_epoch_900.cpkt: 289MB [00:07, 37.8MB/s]                              \n"
     ]
    },
    {
     "data": {
      "text/plain": [
       "PosixPath('/data/yzeng58/tabflex/train_tabflex/mothernet/models_diff/ssm_tabpfn_b4_maxnumclasses100_modellinear_attention_N10_numfeatures4500_n1024_validdatanew_08_16_2024_23_33_24_epoch_900.cpkt')"
      ]
     },
     "execution_count": 3,
     "metadata": {},
     "output_type": "execute_result"
    }
   ],
   "source": [
    "get_mn_model('ssm_tabpfn_b4_maxnumclasses100_modellinear_attention_N10_numfeatures4500_n1024_validdatanew_08_16_2024_23_33_24_epoch_900.cpkt')"
   ]
  },
  {
   "cell_type": "code",
   "execution_count": null,
   "metadata": {},
   "outputs": [],
   "source": []
  }
 ],
 "metadata": {
  "kernelspec": {
   "display_name": "ssm",
   "language": "python",
   "name": "python3"
  },
  "language_info": {
   "codemirror_mode": {
    "name": "ipython",
    "version": 3
   },
   "file_extension": ".py",
   "mimetype": "text/x-python",
   "name": "python",
   "nbconvert_exporter": "python",
   "pygments_lexer": "ipython3",
   "version": "3.11.9"
  }
 },
 "nbformat": 4,
 "nbformat_minor": 2
}
