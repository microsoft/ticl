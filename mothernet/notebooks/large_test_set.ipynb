{
 "cells": [
  {
   "cell_type": "markdown",
   "metadata": {},
   "source": [
    "This file is for evaluating the performance of methods on large tabular datasets."
   ]
  },
  {
   "cell_type": "code",
   "execution_count": 1,
   "metadata": {},
   "outputs": [],
   "source": [
    "import openml, os \n",
    "\n",
    "root_dir = os.getcwd()\n",
    "openml.config.set_root_cache_directory(root_dir)"
   ]
  },
  {
   "cell_type": "code",
   "execution_count": 2,
   "metadata": {},
   "outputs": [
    {
     "name": "stdout",
     "output_type": "stream",
     "text": [
      "CUDA is available.\n",
      "Current CUDA device: 0\n",
      "Number of CUDA devices: 1\n",
      "CUDA device name: NVIDIA A100-SXM4-80GB\n"
     ]
    }
   ],
   "source": [
    "import torch\n",
    "\n",
    "# Check CUDA availability\n",
    "if torch.cuda.is_available():\n",
    "    print(\"CUDA is available.\")\n",
    "    print(f\"Current CUDA device: {torch.cuda.current_device()}\")\n",
    "    print(f\"Number of CUDA devices: {torch.cuda.device_count()}\")\n",
    "    print(f\"CUDA device name: {torch.cuda.get_device_name(0)}\")\n",
    "else:\n",
    "    print(\"CUDA is not available. Using CPU.\")\n"
   ]
  },
  {
   "cell_type": "code",
   "execution_count": 3,
   "metadata": {},
   "outputs": [],
   "source": [
    "import matplotlib.pyplot as plt\n",
    "\n",
    "from mothernet.evaluation.baselines import tabular_baselines\n",
    "\n",
    "import seaborn as sns\n",
    "import numpy as np\n",
    "import warnings\n",
    "warnings.simplefilter(\"ignore\", FutureWarning)  # openml deprecation of array return type\n",
    "from mothernet.datasets import load_openml_list, open_cc_valid_dids, open_cc_dids, open_cc_large_dids, new_valid_dids\n",
    "from mothernet.evaluation import tabular_metrics\n",
    "from mothernet.prediction.tabpfn import TabPFNClassifier\n",
    "import os\n",
    "from mothernet.evaluation.baselines.distill_mlp import DistilledTabPFNMLP\n",
    "from mothernet.prediction.mothernet import MotherNetClassifier\n",
    "from functools import partial\n",
    "from mothernet.evaluation.tabular_evaluation import eval_on_datasets\n",
    "from sklearn.pipeline import make_pipeline\n",
    "from sklearn.preprocessing import StandardScaler\n",
    "from sklearn.ensemble import BaggingClassifier\n",
    "from mothernet.prediction.mothernet import ShiftClassifier, EnsembleMeta, MotherNetClassifier\n",
    "from sklearn.impute import SimpleImputer\n",
    "from mothernet.prediction.mothernet_additive import MotherNetAdditiveClassifier\n",
    "\n",
    "from interpret.glassbox import ExplainableBoostingClassifier\n",
    "\n",
    "\n",
    "from hyperfast import HyperFastClassifier\n",
    "\n",
    "# transformers don't have max times\n",
    "import warnings\n",
    "import pandas as pd\n",
    "\n",
    "import datetime\n",
    "\n",
    "import pickle"
   ]
  },
  {
   "cell_type": "markdown",
   "metadata": {
    "tags": []
   },
   "source": [
    "# Datasets"
   ]
  },
  {
   "cell_type": "code",
   "execution_count": 4,
   "metadata": {
    "tags": []
   },
   "outputs": [
    {
     "name": "stdout",
     "output_type": "stream",
     "text": [
      "Number of datasets: 34\n"
     ]
    }
   ],
   "source": [
    "cc_test_datasets_multiclass, cc_test_datasets_multiclass_df = load_openml_list(\n",
    "    new_valid_dids,\n",
    "    # [1491, 41986, 42343],\n",
    "    multiclass=True,\n",
    "    shuffled=True, \n",
    "    filter_for_nan=False, \n",
    "    max_samples = 1000000, \n",
    "    num_feats=5000, \n",
    "    return_capped=True,\n",
    "    max_num_classes=100,\n",
    ")"
   ]
  },
  {
   "cell_type": "code",
   "execution_count": 5,
   "metadata": {
    "tags": []
   },
   "outputs": [],
   "source": [
    "eval_positions = [5000000]\n",
    "max_features = 5000\n",
    "n_samples = 1000000\n",
    "base_path = f'{root_dir}/tabflex/train_tabflex/mothernet'\n",
    "overwrite = False\n",
    "# max_times only affect non-nn models, nn models are not affected by max_times\n",
    "# for non-nn models, when the runtime is longer than the max_time, it should stop\n",
    "max_times = [1, 15, 30, 60, 60 * 5, 60 * 15, 60*60] \n",
    "metric_used = tabular_metrics.auc_metric\n",
    "task_type = 'multiclass'"
   ]
  },
  {
   "cell_type": "code",
   "execution_count": 6,
   "metadata": {
    "tags": []
   },
   "outputs": [],
   "source": [
    "!mkdir -p {base_path}/results\n",
    "!mkdir -p {base_path}/results/tabular/\n",
    "!mkdir -p {base_path}/results/tabular/multiclass/"
   ]
  },
  {
   "cell_type": "code",
   "execution_count": 7,
   "metadata": {
    "tags": []
   },
   "outputs": [],
   "source": [
    "cc_test_datasets_multiclass_df['isNumeric'] = (\n",
    "    cc_test_datasets_multiclass_df.NumberOfSymbolicFeatures == 1\n",
    "    ) & (cc_test_datasets_multiclass_df.NumberOfInstancesWithMissingValues == 0)"
   ]
  },
  {
   "cell_type": "code",
   "execution_count": 8,
   "metadata": {
    "tags": []
   },
   "outputs": [
    {
     "name": "stdout",
     "output_type": "stream",
     "text": [
      "\\begin{tabular}{rlrrr}\n",
      "\\toprule\n",
      "did & name & d & n & k \\\\\n",
      "\\midrule\n",
      "279 & meta_stream_intervals.arff & 75 & 45164 & 11 \\\\\n",
      "311 & oil_spill & 50 & 937 & 2 \\\\\n",
      "742 & fri_c4_500_100 & 101 & 500 & 2 \\\\\n",
      "825 & boston_corrected & 21 & 506 & 2 \\\\\n",
      "833 & bank32nh & 33 & 8192 & 2 \\\\\n",
      "841 & stock & 10 & 950 & 2 \\\\\n",
      "920 & fri_c2_500_50 & 51 & 500 & 2 \\\\\n",
      "940 & water-treatment & 37 & 527 & 2 \\\\\n",
      "981 & kdd_internet_usage & 69 & 10108 & 2 \\\\\n",
      "1039 & hiva_agnostic & 1618 & 4229 & 2 \\\\\n",
      "1491 & one-hundred-plants-margin & 65 & 1600 & 100 \\\\\n",
      "1492 & one-hundred-plants-shape & 65 & 1600 & 100 \\\\\n",
      "1503 & spoken-arabic-digit & 15 & 263256 & 10 \\\\\n",
      "1515 & micro-mass & 1301 & 571 & 20 \\\\\n",
      "1536 & volcanoes-b6 & 4 & 10130 & 5 \\\\\n",
      "1541 & volcanoes-d4 & 4 & 8654 & 5 \\\\\n",
      "1549 & autoUniv-au6-750 & 41 & 750 & 8 \\\\\n",
      "40645 & GAMETES_Epistasis_2-Way_1000atts_0.4H_EDM-1_EDM-1_1 & 1001 & 1600 & 2 \\\\\n",
      "40672 & fars & 30 & 100968 & 8 \\\\\n",
      "40677 & led24 & 25 & 3200 & 10 \\\\\n",
      "40693 & xd6 & 10 & 973 & 2 \\\\\n",
      "40705 & tokyo1 & 45 & 959 & 2 \\\\\n",
      "40922 & Run_or_walk_information & 7 & 88588 & 2 \\\\\n",
      "40985 & tamilnadu-electricity & 4 & 45781 & 20 \\\\\n",
      "41082 & USPS & 257 & 9298 & 10 \\\\\n",
      "41144 & madeline & 260 & 3140 & 2 \\\\\n",
      "41986 & GTSRB-HOG01 & 1569 & 51839 & 43 \\\\\n",
      "41988 & GTSRB-HOG02 & 1569 & 51839 & 43 \\\\\n",
      "41989 & GTSRB-HOG03 & 2917 & 51839 & 43 \\\\\n",
      "41990 & GTSRB-HueHist & 257 & 51839 & 43 \\\\\n",
      "41991 & Kuzushiji-49 & 785 & 270912 & 49 \\\\\n",
      "42193 & compas-two-years & 14 & 5278 & 2 \\\\\n",
      "42206 & porto-seguro & 38 & 595212 & 2 \\\\\n",
      "42343 & KDD98 & 478 & 82318 & 2 \\\\\n",
      "\\bottomrule\n",
      "\\end{tabular}\n",
      "\n"
     ]
    }
   ],
   "source": [
    "cc_test_datasets_multiclass_df['NumberOfInstances'] =  cc_test_datasets_multiclass_df['NumberOfInstances'].astype(int)\n",
    "cc_test_datasets_multiclass_df['NumberOfFeatures'] =  cc_test_datasets_multiclass_df['NumberOfFeatures'].astype(int)\n",
    "cc_test_datasets_multiclass_df['NumberOfClasses'] =  cc_test_datasets_multiclass_df['NumberOfClasses'].astype(int)\n",
    "\n",
    "print(cc_test_datasets_multiclass_df[['did', 'name', 'NumberOfFeatures', 'NumberOfInstances', 'NumberOfClasses']].rename(columns={'NumberOfFeatures': \"d\", \"NumberOfInstances\":\"n\", \"NumberOfClasses\": \"k\"}).to_latex(index=False))"
   ]
  },
  {
   "cell_type": "code",
   "execution_count": 16,
   "metadata": {},
   "outputs": [
    {
     "data": {
      "text/html": [
       "<div>\n",
       "<style scoped>\n",
       "    .dataframe tbody tr th:only-of-type {\n",
       "        vertical-align: middle;\n",
       "    }\n",
       "\n",
       "    .dataframe tbody tr th {\n",
       "        vertical-align: top;\n",
       "    }\n",
       "\n",
       "    .dataframe thead th {\n",
       "        text-align: right;\n",
       "    }\n",
       "</style>\n",
       "<table border=\"1\" class=\"dataframe\">\n",
       "  <thead>\n",
       "    <tr style=\"text-align: right;\">\n",
       "      <th></th>\n",
       "      <th>did</th>\n",
       "      <th>name</th>\n",
       "      <th>NumberOfFeatures</th>\n",
       "      <th>NumberOfInstances</th>\n",
       "      <th>NumberOfClasses</th>\n",
       "    </tr>\n",
       "  </thead>\n",
       "  <tbody>\n",
       "    <tr>\n",
       "      <th>0</th>\n",
       "      <td>279</td>\n",
       "      <td>meta_stream_intervals.arff</td>\n",
       "      <td>75</td>\n",
       "      <td>45164</td>\n",
       "      <td>11</td>\n",
       "    </tr>\n",
       "    <tr>\n",
       "      <th>1</th>\n",
       "      <td>311</td>\n",
       "      <td>oil_spill</td>\n",
       "      <td>50</td>\n",
       "      <td>937</td>\n",
       "      <td>2</td>\n",
       "    </tr>\n",
       "    <tr>\n",
       "      <th>2</th>\n",
       "      <td>742</td>\n",
       "      <td>fri_c4_500_100</td>\n",
       "      <td>101</td>\n",
       "      <td>500</td>\n",
       "      <td>2</td>\n",
       "    </tr>\n",
       "    <tr>\n",
       "      <th>3</th>\n",
       "      <td>825</td>\n",
       "      <td>boston_corrected</td>\n",
       "      <td>21</td>\n",
       "      <td>506</td>\n",
       "      <td>2</td>\n",
       "    </tr>\n",
       "    <tr>\n",
       "      <th>4</th>\n",
       "      <td>833</td>\n",
       "      <td>bank32nh</td>\n",
       "      <td>33</td>\n",
       "      <td>8192</td>\n",
       "      <td>2</td>\n",
       "    </tr>\n",
       "    <tr>\n",
       "      <th>5</th>\n",
       "      <td>841</td>\n",
       "      <td>stock</td>\n",
       "      <td>10</td>\n",
       "      <td>950</td>\n",
       "      <td>2</td>\n",
       "    </tr>\n",
       "    <tr>\n",
       "      <th>6</th>\n",
       "      <td>920</td>\n",
       "      <td>fri_c2_500_50</td>\n",
       "      <td>51</td>\n",
       "      <td>500</td>\n",
       "      <td>2</td>\n",
       "    </tr>\n",
       "    <tr>\n",
       "      <th>7</th>\n",
       "      <td>940</td>\n",
       "      <td>water-treatment</td>\n",
       "      <td>37</td>\n",
       "      <td>527</td>\n",
       "      <td>2</td>\n",
       "    </tr>\n",
       "    <tr>\n",
       "      <th>8</th>\n",
       "      <td>981</td>\n",
       "      <td>kdd_internet_usage</td>\n",
       "      <td>69</td>\n",
       "      <td>10108</td>\n",
       "      <td>2</td>\n",
       "    </tr>\n",
       "    <tr>\n",
       "      <th>9</th>\n",
       "      <td>1039</td>\n",
       "      <td>hiva_agnostic</td>\n",
       "      <td>1618</td>\n",
       "      <td>4229</td>\n",
       "      <td>2</td>\n",
       "    </tr>\n",
       "    <tr>\n",
       "      <th>10</th>\n",
       "      <td>1491</td>\n",
       "      <td>one-hundred-plants-margin</td>\n",
       "      <td>65</td>\n",
       "      <td>1600</td>\n",
       "      <td>100</td>\n",
       "    </tr>\n",
       "    <tr>\n",
       "      <th>11</th>\n",
       "      <td>1492</td>\n",
       "      <td>one-hundred-plants-shape</td>\n",
       "      <td>65</td>\n",
       "      <td>1600</td>\n",
       "      <td>100</td>\n",
       "    </tr>\n",
       "    <tr>\n",
       "      <th>12</th>\n",
       "      <td>1503</td>\n",
       "      <td>spoken-arabic-digit</td>\n",
       "      <td>15</td>\n",
       "      <td>263256</td>\n",
       "      <td>10</td>\n",
       "    </tr>\n",
       "    <tr>\n",
       "      <th>13</th>\n",
       "      <td>1515</td>\n",
       "      <td>micro-mass</td>\n",
       "      <td>1301</td>\n",
       "      <td>571</td>\n",
       "      <td>20</td>\n",
       "    </tr>\n",
       "    <tr>\n",
       "      <th>14</th>\n",
       "      <td>1536</td>\n",
       "      <td>volcanoes-b6</td>\n",
       "      <td>4</td>\n",
       "      <td>10130</td>\n",
       "      <td>5</td>\n",
       "    </tr>\n",
       "    <tr>\n",
       "      <th>15</th>\n",
       "      <td>1541</td>\n",
       "      <td>volcanoes-d4</td>\n",
       "      <td>4</td>\n",
       "      <td>8654</td>\n",
       "      <td>5</td>\n",
       "    </tr>\n",
       "    <tr>\n",
       "      <th>16</th>\n",
       "      <td>1549</td>\n",
       "      <td>autoUniv-au6-750</td>\n",
       "      <td>41</td>\n",
       "      <td>750</td>\n",
       "      <td>8</td>\n",
       "    </tr>\n",
       "    <tr>\n",
       "      <th>17</th>\n",
       "      <td>40645</td>\n",
       "      <td>GAMETES_Epistasis_2-Way_1000atts_0.4H_EDM-1_ED...</td>\n",
       "      <td>1001</td>\n",
       "      <td>1600</td>\n",
       "      <td>2</td>\n",
       "    </tr>\n",
       "    <tr>\n",
       "      <th>18</th>\n",
       "      <td>40672</td>\n",
       "      <td>fars</td>\n",
       "      <td>30</td>\n",
       "      <td>100968</td>\n",
       "      <td>8</td>\n",
       "    </tr>\n",
       "    <tr>\n",
       "      <th>19</th>\n",
       "      <td>40677</td>\n",
       "      <td>led24</td>\n",
       "      <td>25</td>\n",
       "      <td>3200</td>\n",
       "      <td>10</td>\n",
       "    </tr>\n",
       "    <tr>\n",
       "      <th>20</th>\n",
       "      <td>40693</td>\n",
       "      <td>xd6</td>\n",
       "      <td>10</td>\n",
       "      <td>973</td>\n",
       "      <td>2</td>\n",
       "    </tr>\n",
       "    <tr>\n",
       "      <th>21</th>\n",
       "      <td>40705</td>\n",
       "      <td>tokyo1</td>\n",
       "      <td>45</td>\n",
       "      <td>959</td>\n",
       "      <td>2</td>\n",
       "    </tr>\n",
       "    <tr>\n",
       "      <th>22</th>\n",
       "      <td>40922</td>\n",
       "      <td>Run_or_walk_information</td>\n",
       "      <td>7</td>\n",
       "      <td>88588</td>\n",
       "      <td>2</td>\n",
       "    </tr>\n",
       "    <tr>\n",
       "      <th>23</th>\n",
       "      <td>40985</td>\n",
       "      <td>tamilnadu-electricity</td>\n",
       "      <td>4</td>\n",
       "      <td>45781</td>\n",
       "      <td>20</td>\n",
       "    </tr>\n",
       "    <tr>\n",
       "      <th>24</th>\n",
       "      <td>41082</td>\n",
       "      <td>USPS</td>\n",
       "      <td>257</td>\n",
       "      <td>9298</td>\n",
       "      <td>10</td>\n",
       "    </tr>\n",
       "    <tr>\n",
       "      <th>25</th>\n",
       "      <td>41144</td>\n",
       "      <td>madeline</td>\n",
       "      <td>260</td>\n",
       "      <td>3140</td>\n",
       "      <td>2</td>\n",
       "    </tr>\n",
       "    <tr>\n",
       "      <th>26</th>\n",
       "      <td>41986</td>\n",
       "      <td>GTSRB-HOG01</td>\n",
       "      <td>1569</td>\n",
       "      <td>51839</td>\n",
       "      <td>43</td>\n",
       "    </tr>\n",
       "    <tr>\n",
       "      <th>27</th>\n",
       "      <td>41988</td>\n",
       "      <td>GTSRB-HOG02</td>\n",
       "      <td>1569</td>\n",
       "      <td>51839</td>\n",
       "      <td>43</td>\n",
       "    </tr>\n",
       "    <tr>\n",
       "      <th>28</th>\n",
       "      <td>41989</td>\n",
       "      <td>GTSRB-HOG03</td>\n",
       "      <td>2917</td>\n",
       "      <td>51839</td>\n",
       "      <td>43</td>\n",
       "    </tr>\n",
       "    <tr>\n",
       "      <th>29</th>\n",
       "      <td>41990</td>\n",
       "      <td>GTSRB-HueHist</td>\n",
       "      <td>257</td>\n",
       "      <td>51839</td>\n",
       "      <td>43</td>\n",
       "    </tr>\n",
       "    <tr>\n",
       "      <th>30</th>\n",
       "      <td>41991</td>\n",
       "      <td>Kuzushiji-49</td>\n",
       "      <td>785</td>\n",
       "      <td>270912</td>\n",
       "      <td>49</td>\n",
       "    </tr>\n",
       "    <tr>\n",
       "      <th>31</th>\n",
       "      <td>42193</td>\n",
       "      <td>compas-two-years</td>\n",
       "      <td>14</td>\n",
       "      <td>5278</td>\n",
       "      <td>2</td>\n",
       "    </tr>\n",
       "    <tr>\n",
       "      <th>32</th>\n",
       "      <td>42206</td>\n",
       "      <td>porto-seguro</td>\n",
       "      <td>38</td>\n",
       "      <td>595212</td>\n",
       "      <td>2</td>\n",
       "    </tr>\n",
       "    <tr>\n",
       "      <th>33</th>\n",
       "      <td>42343</td>\n",
       "      <td>KDD98</td>\n",
       "      <td>478</td>\n",
       "      <td>82318</td>\n",
       "      <td>2</td>\n",
       "    </tr>\n",
       "  </tbody>\n",
       "</table>\n",
       "</div>"
      ],
      "text/plain": [
       "      did                                               name  \\\n",
       "0     279                         meta_stream_intervals.arff   \n",
       "1     311                                          oil_spill   \n",
       "2     742                                     fri_c4_500_100   \n",
       "3     825                                   boston_corrected   \n",
       "4     833                                           bank32nh   \n",
       "5     841                                              stock   \n",
       "6     920                                      fri_c2_500_50   \n",
       "7     940                                    water-treatment   \n",
       "8     981                                 kdd_internet_usage   \n",
       "9    1039                                      hiva_agnostic   \n",
       "10   1491                          one-hundred-plants-margin   \n",
       "11   1492                           one-hundred-plants-shape   \n",
       "12   1503                                spoken-arabic-digit   \n",
       "13   1515                                         micro-mass   \n",
       "14   1536                                       volcanoes-b6   \n",
       "15   1541                                       volcanoes-d4   \n",
       "16   1549                                   autoUniv-au6-750   \n",
       "17  40645  GAMETES_Epistasis_2-Way_1000atts_0.4H_EDM-1_ED...   \n",
       "18  40672                                               fars   \n",
       "19  40677                                              led24   \n",
       "20  40693                                                xd6   \n",
       "21  40705                                             tokyo1   \n",
       "22  40922                            Run_or_walk_information   \n",
       "23  40985                              tamilnadu-electricity   \n",
       "24  41082                                               USPS   \n",
       "25  41144                                           madeline   \n",
       "26  41986                                        GTSRB-HOG01   \n",
       "27  41988                                        GTSRB-HOG02   \n",
       "28  41989                                        GTSRB-HOG03   \n",
       "29  41990                                      GTSRB-HueHist   \n",
       "30  41991                                       Kuzushiji-49   \n",
       "31  42193                                   compas-two-years   \n",
       "32  42206                                       porto-seguro   \n",
       "33  42343                                              KDD98   \n",
       "\n",
       "    NumberOfFeatures  NumberOfInstances  NumberOfClasses  \n",
       "0                 75              45164               11  \n",
       "1                 50                937                2  \n",
       "2                101                500                2  \n",
       "3                 21                506                2  \n",
       "4                 33               8192                2  \n",
       "5                 10                950                2  \n",
       "6                 51                500                2  \n",
       "7                 37                527                2  \n",
       "8                 69              10108                2  \n",
       "9               1618               4229                2  \n",
       "10                65               1600              100  \n",
       "11                65               1600              100  \n",
       "12                15             263256               10  \n",
       "13              1301                571               20  \n",
       "14                 4              10130                5  \n",
       "15                 4               8654                5  \n",
       "16                41                750                8  \n",
       "17              1001               1600                2  \n",
       "18                30             100968                8  \n",
       "19                25               3200               10  \n",
       "20                10                973                2  \n",
       "21                45                959                2  \n",
       "22                 7              88588                2  \n",
       "23                 4              45781               20  \n",
       "24               257               9298               10  \n",
       "25               260               3140                2  \n",
       "26              1569              51839               43  \n",
       "27              1569              51839               43  \n",
       "28              2917              51839               43  \n",
       "29               257              51839               43  \n",
       "30               785             270912               49  \n",
       "31                14               5278                2  \n",
       "32                38             595212                2  \n",
       "33               478              82318                2  "
      ]
     },
     "execution_count": 16,
     "metadata": {},
     "output_type": "execute_result"
    }
   ],
   "source": [
    "preview = cc_test_datasets_multiclass_df[['did', 'name', 'NumberOfFeatures', 'NumberOfInstances', 'NumberOfClasses']].reset_index(drop=True)\n",
    "preview"
   ]
  },
  {
   "cell_type": "markdown",
   "metadata": {},
   "source": [
    "# Method Evaluation\n",
    "This section runs baselines and saves results locally."
   ]
  },
  {
   "cell_type": "markdown",
   "metadata": {},
   "source": [
    "# TabPFN"
   ]
  },
  {
   "cell_type": "code",
   "execution_count": 11,
   "metadata": {
    "tags": []
   },
   "outputs": [
    {
     "name": "stdout",
     "output_type": "stream",
     "text": [
      "evaluating tabfast on cuda\n"
     ]
    },
    {
     "name": "stderr",
     "output_type": "stream",
     "text": [
      "evaluating tabfast on cuda meta_stream_intervals.arff:   0%|          | 0/170 [00:00<?, ?it/s]"
     ]
    },
    {
     "name": "stdout",
     "output_type": "stream",
     "text": [
      "Loaded saved result for /opt/hpcaas/.mounts/fs-0663e2d3c38211883/home/yuchenzeng/tabflex/train_tabflex/mothernet/results/tabular/multiclass/results_tabfast_time_10000000_roc_auc_meta_stream_intervals.arff_22582_45164_1_cuda.npy\n"
     ]
    },
    {
     "name": "stderr",
     "output_type": "stream",
     "text": [
      "evaluating tabfast on cuda meta_stream_intervals.arff:   1%|          | 2/170 [00:00<00:48,  3.43it/s]"
     ]
    },
    {
     "name": "stdout",
     "output_type": "stream",
     "text": [
      "Loaded saved result for /opt/hpcaas/.mounts/fs-0663e2d3c38211883/home/yuchenzeng/tabflex/train_tabflex/mothernet/results/tabular/multiclass/results_tabfast_time_10000000_roc_auc_meta_stream_intervals.arff_22582_45164_2_cuda.npy\n",
      "Loaded saved result for /opt/hpcaas/.mounts/fs-0663e2d3c38211883/home/yuchenzeng/tabflex/train_tabflex/mothernet/results/tabular/multiclass/results_tabfast_time_10000000_roc_auc_meta_stream_intervals.arff_22582_45164_3_cuda.npy\n"
     ]
    },
    {
     "name": "stderr",
     "output_type": "stream",
     "text": [
      "evaluating tabfast on cuda meta_stream_intervals.arff:   2%|▏         | 4/170 [00:01<00:39,  4.25it/s]"
     ]
    },
    {
     "name": "stdout",
     "output_type": "stream",
     "text": [
      "Loaded saved result for /opt/hpcaas/.mounts/fs-0663e2d3c38211883/home/yuchenzeng/tabflex/train_tabflex/mothernet/results/tabular/multiclass/results_tabfast_time_10000000_roc_auc_meta_stream_intervals.arff_22582_45164_4_cuda.npy\n"
     ]
    },
    {
     "name": "stderr",
     "output_type": "stream",
     "text": [
      "evaluating tabfast on cuda oil_spill:   3%|▎         | 5/170 [00:01<00:36,  4.49it/s]                 "
     ]
    },
    {
     "name": "stdout",
     "output_type": "stream",
     "text": [
      "Loaded saved result for /opt/hpcaas/.mounts/fs-0663e2d3c38211883/home/yuchenzeng/tabflex/train_tabflex/mothernet/results/tabular/multiclass/results_tabfast_time_10000000_roc_auc_meta_stream_intervals.arff_22582_45164_5_cuda.npy\n",
      "Loaded saved result for /opt/hpcaas/.mounts/fs-0663e2d3c38211883/home/yuchenzeng/tabflex/train_tabflex/mothernet/results/tabular/multiclass/results_tabfast_time_10000000_roc_auc_oil_spill_468_936_1_cuda.npy\n"
     ]
    },
    {
     "name": "stderr",
     "output_type": "stream",
     "text": [
      "evaluating tabfast on cuda fri_c2_500_50:  19%|█▉        | 32/170 [00:01<00:02, 50.56it/s]   "
     ]
    },
    {
     "name": "stdout",
     "output_type": "stream",
     "text": [
      "Loaded saved result for /opt/hpcaas/.mounts/fs-0663e2d3c38211883/home/yuchenzeng/tabflex/train_tabflex/mothernet/results/tabular/multiclass/results_tabfast_time_10000000_roc_auc_oil_spill_468_936_2_cuda.npy\n",
      "Loaded saved result for /opt/hpcaas/.mounts/fs-0663e2d3c38211883/home/yuchenzeng/tabflex/train_tabflex/mothernet/results/tabular/multiclass/results_tabfast_time_10000000_roc_auc_oil_spill_468_936_3_cuda.npy\n",
      "Loaded saved result for /opt/hpcaas/.mounts/fs-0663e2d3c38211883/home/yuchenzeng/tabflex/train_tabflex/mothernet/results/tabular/multiclass/results_tabfast_time_10000000_roc_auc_oil_spill_468_936_4_cuda.npy\n",
      "Loaded saved result for /opt/hpcaas/.mounts/fs-0663e2d3c38211883/home/yuchenzeng/tabflex/train_tabflex/mothernet/results/tabular/multiclass/results_tabfast_time_10000000_roc_auc_oil_spill_468_936_5_cuda.npy\n",
      "Loaded saved result for /opt/hpcaas/.mounts/fs-0663e2d3c38211883/home/yuchenzeng/tabflex/train_tabflex/mothernet/results/tabular/multiclass/results_tabfast_time_10000000_roc_auc_fri_c4_500_100_250_500_1_cuda.npy\n",
      "Loaded saved result for /opt/hpcaas/.mounts/fs-0663e2d3c38211883/home/yuchenzeng/tabflex/train_tabflex/mothernet/results/tabular/multiclass/results_tabfast_time_10000000_roc_auc_fri_c4_500_100_250_500_2_cuda.npy\n",
      "Loaded saved result for /opt/hpcaas/.mounts/fs-0663e2d3c38211883/home/yuchenzeng/tabflex/train_tabflex/mothernet/results/tabular/multiclass/results_tabfast_time_10000000_roc_auc_fri_c4_500_100_250_500_3_cuda.npy\n",
      "Loaded saved result for /opt/hpcaas/.mounts/fs-0663e2d3c38211883/home/yuchenzeng/tabflex/train_tabflex/mothernet/results/tabular/multiclass/results_tabfast_time_10000000_roc_auc_fri_c4_500_100_250_500_4_cuda.npy\n",
      "Loaded saved result for /opt/hpcaas/.mounts/fs-0663e2d3c38211883/home/yuchenzeng/tabflex/train_tabflex/mothernet/results/tabular/multiclass/results_tabfast_time_10000000_roc_auc_fri_c4_500_100_250_500_5_cuda.npy\n",
      "Loaded saved result for /opt/hpcaas/.mounts/fs-0663e2d3c38211883/home/yuchenzeng/tabflex/train_tabflex/mothernet/results/tabular/multiclass/results_tabfast_time_10000000_roc_auc_boston_corrected_253_506_1_cuda.npy\n",
      "Loaded saved result for /opt/hpcaas/.mounts/fs-0663e2d3c38211883/home/yuchenzeng/tabflex/train_tabflex/mothernet/results/tabular/multiclass/results_tabfast_time_10000000_roc_auc_boston_corrected_253_506_2_cuda.npy\n",
      "Loaded saved result for /opt/hpcaas/.mounts/fs-0663e2d3c38211883/home/yuchenzeng/tabflex/train_tabflex/mothernet/results/tabular/multiclass/results_tabfast_time_10000000_roc_auc_boston_corrected_253_506_3_cuda.npy\n",
      "Loaded saved result for /opt/hpcaas/.mounts/fs-0663e2d3c38211883/home/yuchenzeng/tabflex/train_tabflex/mothernet/results/tabular/multiclass/results_tabfast_time_10000000_roc_auc_boston_corrected_253_506_4_cuda.npy\n",
      "Loaded saved result for /opt/hpcaas/.mounts/fs-0663e2d3c38211883/home/yuchenzeng/tabflex/train_tabflex/mothernet/results/tabular/multiclass/results_tabfast_time_10000000_roc_auc_boston_corrected_253_506_5_cuda.npy\n",
      "Loaded saved result for /opt/hpcaas/.mounts/fs-0663e2d3c38211883/home/yuchenzeng/tabflex/train_tabflex/mothernet/results/tabular/multiclass/results_tabfast_time_10000000_roc_auc_bank32nh_4096_8192_1_cuda.npy\n",
      "Loaded saved result for /opt/hpcaas/.mounts/fs-0663e2d3c38211883/home/yuchenzeng/tabflex/train_tabflex/mothernet/results/tabular/multiclass/results_tabfast_time_10000000_roc_auc_bank32nh_4096_8192_2_cuda.npy\n",
      "Loaded saved result for /opt/hpcaas/.mounts/fs-0663e2d3c38211883/home/yuchenzeng/tabflex/train_tabflex/mothernet/results/tabular/multiclass/results_tabfast_time_10000000_roc_auc_bank32nh_4096_8192_3_cuda.npy\n",
      "Loaded saved result for /opt/hpcaas/.mounts/fs-0663e2d3c38211883/home/yuchenzeng/tabflex/train_tabflex/mothernet/results/tabular/multiclass/results_tabfast_time_10000000_roc_auc_bank32nh_4096_8192_4_cuda.npy\n",
      "Loaded saved result for /opt/hpcaas/.mounts/fs-0663e2d3c38211883/home/yuchenzeng/tabflex/train_tabflex/mothernet/results/tabular/multiclass/results_tabfast_time_10000000_roc_auc_bank32nh_4096_8192_5_cuda.npy\n",
      "Loaded saved result for /opt/hpcaas/.mounts/fs-0663e2d3c38211883/home/yuchenzeng/tabflex/train_tabflex/mothernet/results/tabular/multiclass/results_tabfast_time_10000000_roc_auc_stock_475_950_1_cuda.npy\n",
      "Loaded saved result for /opt/hpcaas/.mounts/fs-0663e2d3c38211883/home/yuchenzeng/tabflex/train_tabflex/mothernet/results/tabular/multiclass/results_tabfast_time_10000000_roc_auc_stock_475_950_2_cuda.npy\n",
      "Loaded saved result for /opt/hpcaas/.mounts/fs-0663e2d3c38211883/home/yuchenzeng/tabflex/train_tabflex/mothernet/results/tabular/multiclass/results_tabfast_time_10000000_roc_auc_stock_475_950_3_cuda.npy\n",
      "Loaded saved result for /opt/hpcaas/.mounts/fs-0663e2d3c38211883/home/yuchenzeng/tabflex/train_tabflex/mothernet/results/tabular/multiclass/results_tabfast_time_10000000_roc_auc_stock_475_950_4_cuda.npy\n",
      "Loaded saved result for /opt/hpcaas/.mounts/fs-0663e2d3c38211883/home/yuchenzeng/tabflex/train_tabflex/mothernet/results/tabular/multiclass/results_tabfast_time_10000000_roc_auc_stock_475_950_5_cuda.npy\n",
      "Loaded saved result for /opt/hpcaas/.mounts/fs-0663e2d3c38211883/home/yuchenzeng/tabflex/train_tabflex/mothernet/results/tabular/multiclass/results_tabfast_time_10000000_roc_auc_fri_c2_500_50_250_500_1_cuda.npy\n",
      "Loaded saved result for /opt/hpcaas/.mounts/fs-0663e2d3c38211883/home/yuchenzeng/tabflex/train_tabflex/mothernet/results/tabular/multiclass/results_tabfast_time_10000000_roc_auc_fri_c2_500_50_250_500_2_cuda.npy\n",
      "Loaded saved result for /opt/hpcaas/.mounts/fs-0663e2d3c38211883/home/yuchenzeng/tabflex/train_tabflex/mothernet/results/tabular/multiclass/results_tabfast_time_10000000_roc_auc_fri_c2_500_50_250_500_3_cuda.npy\n"
     ]
    },
    {
     "name": "stderr",
     "output_type": "stream",
     "text": [
      "evaluating tabfast on cuda one-hundred-plants-margin:  26%|██▋       | 45/170 [00:01<00:01, 67.76it/s]"
     ]
    },
    {
     "name": "stdout",
     "output_type": "stream",
     "text": [
      "Loaded saved result for /opt/hpcaas/.mounts/fs-0663e2d3c38211883/home/yuchenzeng/tabflex/train_tabflex/mothernet/results/tabular/multiclass/results_tabfast_time_10000000_roc_auc_fri_c2_500_50_250_500_4_cuda.npy\n",
      "Loaded saved result for /opt/hpcaas/.mounts/fs-0663e2d3c38211883/home/yuchenzeng/tabflex/train_tabflex/mothernet/results/tabular/multiclass/results_tabfast_time_10000000_roc_auc_fri_c2_500_50_250_500_5_cuda.npy\n",
      "Loaded saved result for /opt/hpcaas/.mounts/fs-0663e2d3c38211883/home/yuchenzeng/tabflex/train_tabflex/mothernet/results/tabular/multiclass/results_tabfast_time_10000000_roc_auc_water-treatment_263_526_1_cuda.npy\n",
      "Loaded saved result for /opt/hpcaas/.mounts/fs-0663e2d3c38211883/home/yuchenzeng/tabflex/train_tabflex/mothernet/results/tabular/multiclass/results_tabfast_time_10000000_roc_auc_water-treatment_263_526_2_cuda.npy\n",
      "Loaded saved result for /opt/hpcaas/.mounts/fs-0663e2d3c38211883/home/yuchenzeng/tabflex/train_tabflex/mothernet/results/tabular/multiclass/results_tabfast_time_10000000_roc_auc_water-treatment_263_526_3_cuda.npy\n",
      "Loaded saved result for /opt/hpcaas/.mounts/fs-0663e2d3c38211883/home/yuchenzeng/tabflex/train_tabflex/mothernet/results/tabular/multiclass/results_tabfast_time_10000000_roc_auc_water-treatment_263_526_4_cuda.npy\n",
      "Loaded saved result for /opt/hpcaas/.mounts/fs-0663e2d3c38211883/home/yuchenzeng/tabflex/train_tabflex/mothernet/results/tabular/multiclass/results_tabfast_time_10000000_roc_auc_water-treatment_263_526_5_cuda.npy\n",
      "Loaded saved result for /opt/hpcaas/.mounts/fs-0663e2d3c38211883/home/yuchenzeng/tabflex/train_tabflex/mothernet/results/tabular/multiclass/results_tabfast_time_10000000_roc_auc_kdd_internet_usage_5054_10108_1_cuda.npy\n",
      "Loaded saved result for /opt/hpcaas/.mounts/fs-0663e2d3c38211883/home/yuchenzeng/tabflex/train_tabflex/mothernet/results/tabular/multiclass/results_tabfast_time_10000000_roc_auc_kdd_internet_usage_5054_10108_2_cuda.npy\n",
      "Loaded saved result for /opt/hpcaas/.mounts/fs-0663e2d3c38211883/home/yuchenzeng/tabflex/train_tabflex/mothernet/results/tabular/multiclass/results_tabfast_time_10000000_roc_auc_kdd_internet_usage_5054_10108_3_cuda.npy\n",
      "Loaded saved result for /opt/hpcaas/.mounts/fs-0663e2d3c38211883/home/yuchenzeng/tabflex/train_tabflex/mothernet/results/tabular/multiclass/results_tabfast_time_10000000_roc_auc_kdd_internet_usage_5054_10108_4_cuda.npy\n",
      "Loaded saved result for /opt/hpcaas/.mounts/fs-0663e2d3c38211883/home/yuchenzeng/tabflex/train_tabflex/mothernet/results/tabular/multiclass/results_tabfast_time_10000000_roc_auc_kdd_internet_usage_5054_10108_5_cuda.npy\n",
      "Loaded saved result for /opt/hpcaas/.mounts/fs-0663e2d3c38211883/home/yuchenzeng/tabflex/train_tabflex/mothernet/results/tabular/multiclass/results_tabfast_time_10000000_roc_auc_hiva_agnostic_2114_4228_1_cuda.npy\n",
      "Loaded saved result for /opt/hpcaas/.mounts/fs-0663e2d3c38211883/home/yuchenzeng/tabflex/train_tabflex/mothernet/results/tabular/multiclass/results_tabfast_time_10000000_roc_auc_hiva_agnostic_2114_4228_2_cuda.npy\n",
      "Loaded saved result for /opt/hpcaas/.mounts/fs-0663e2d3c38211883/home/yuchenzeng/tabflex/train_tabflex/mothernet/results/tabular/multiclass/results_tabfast_time_10000000_roc_auc_hiva_agnostic_2114_4228_3_cuda.npy\n",
      "Loaded saved result for /opt/hpcaas/.mounts/fs-0663e2d3c38211883/home/yuchenzeng/tabflex/train_tabflex/mothernet/results/tabular/multiclass/results_tabfast_time_10000000_roc_auc_hiva_agnostic_2114_4228_4_cuda.npy\n",
      "Loaded saved result for /opt/hpcaas/.mounts/fs-0663e2d3c38211883/home/yuchenzeng/tabflex/train_tabflex/mothernet/results/tabular/multiclass/results_tabfast_time_10000000_roc_auc_hiva_agnostic_2114_4228_5_cuda.npy\n",
      "Loaded saved result for /opt/hpcaas/.mounts/fs-0663e2d3c38211883/home/yuchenzeng/tabflex/train_tabflex/mothernet/results/tabular/multiclass/results_tabfast_time_10000000_roc_auc_one-hundred-plants-margin_800_1600_1_cuda.npy\n"
     ]
    },
    {
     "name": "stderr",
     "output_type": "stream",
     "text": [
      "evaluating tabfast on cuda one-hundred-plants-margin:  26%|██▋       | 45/170 [00:06<00:01, 67.76it/s]"
     ]
    },
    {
     "name": "stdout",
     "output_type": "stream",
     "text": [
      "Loaded saved result for /opt/hpcaas/.mounts/fs-0663e2d3c38211883/home/yuchenzeng/tabflex/train_tabflex/mothernet/results/tabular/multiclass/results_tabfast_time_10000000_roc_auc_one-hundred-plants-margin_800_1600_2_cuda.npy\n"
     ]
    },
    {
     "name": "stderr",
     "output_type": "stream",
     "text": [
      "evaluating tabfast on cuda one-hundred-plants-margin:  26%|██▋       | 45/170 [00:10<00:01, 67.76it/s]"
     ]
    },
    {
     "name": "stdout",
     "output_type": "stream",
     "text": [
      "Loaded saved result for /opt/hpcaas/.mounts/fs-0663e2d3c38211883/home/yuchenzeng/tabflex/train_tabflex/mothernet/results/tabular/multiclass/results_tabfast_time_10000000_roc_auc_one-hundred-plants-margin_800_1600_3_cuda.npy\n"
     ]
    },
    {
     "name": "stderr",
     "output_type": "stream",
     "text": [
      "evaluating tabfast on cuda one-hundred-plants-margin:  26%|██▋       | 45/170 [00:14<00:01, 67.76it/s]"
     ]
    },
    {
     "name": "stdout",
     "output_type": "stream",
     "text": [
      "Loaded saved result for /opt/hpcaas/.mounts/fs-0663e2d3c38211883/home/yuchenzeng/tabflex/train_tabflex/mothernet/results/tabular/multiclass/results_tabfast_time_10000000_roc_auc_one-hundred-plants-margin_800_1600_4_cuda.npy\n"
     ]
    },
    {
     "name": "stderr",
     "output_type": "stream",
     "text": [
      "evaluating tabfast on cuda one-hundred-plants-margin:  32%|███▏      | 54/170 [00:19<01:08,  1.68it/s]"
     ]
    },
    {
     "name": "stdout",
     "output_type": "stream",
     "text": [
      "Loaded saved result for /opt/hpcaas/.mounts/fs-0663e2d3c38211883/home/yuchenzeng/tabflex/train_tabflex/mothernet/results/tabular/multiclass/results_tabfast_time_10000000_roc_auc_one-hundred-plants-margin_800_1600_5_cuda.npy\n"
     ]
    },
    {
     "name": "stderr",
     "output_type": "stream",
     "text": [
      "evaluating tabfast on cuda one-hundred-plants-shape:  32%|███▏      | 55/170 [00:23<01:28,  1.31it/s] "
     ]
    },
    {
     "name": "stdout",
     "output_type": "stream",
     "text": [
      "Loaded saved result for /opt/hpcaas/.mounts/fs-0663e2d3c38211883/home/yuchenzeng/tabflex/train_tabflex/mothernet/results/tabular/multiclass/results_tabfast_time_10000000_roc_auc_one-hundred-plants-shape_800_1600_1_cuda.npy\n"
     ]
    },
    {
     "name": "stderr",
     "output_type": "stream",
     "text": [
      "evaluating tabfast on cuda one-hundred-plants-shape:  32%|███▏      | 55/170 [00:27<01:28,  1.31it/s]"
     ]
    },
    {
     "name": "stdout",
     "output_type": "stream",
     "text": [
      "Loaded saved result for /opt/hpcaas/.mounts/fs-0663e2d3c38211883/home/yuchenzeng/tabflex/train_tabflex/mothernet/results/tabular/multiclass/results_tabfast_time_10000000_roc_auc_one-hundred-plants-shape_800_1600_2_cuda.npy\n"
     ]
    },
    {
     "name": "stderr",
     "output_type": "stream",
     "text": [
      "evaluating tabfast on cuda one-hundred-plants-shape:  32%|███▏      | 55/170 [00:32<01:28,  1.31it/s]"
     ]
    },
    {
     "name": "stdout",
     "output_type": "stream",
     "text": [
      "Loaded saved result for /opt/hpcaas/.mounts/fs-0663e2d3c38211883/home/yuchenzeng/tabflex/train_tabflex/mothernet/results/tabular/multiclass/results_tabfast_time_10000000_roc_auc_one-hundred-plants-shape_800_1600_3_cuda.npy\n"
     ]
    },
    {
     "name": "stderr",
     "output_type": "stream",
     "text": [
      "evaluating tabfast on cuda one-hundred-plants-shape:  32%|███▏      | 55/170 [00:36<01:28,  1.31it/s]"
     ]
    },
    {
     "name": "stdout",
     "output_type": "stream",
     "text": [
      "Loaded saved result for /opt/hpcaas/.mounts/fs-0663e2d3c38211883/home/yuchenzeng/tabflex/train_tabflex/mothernet/results/tabular/multiclass/results_tabfast_time_10000000_roc_auc_one-hundred-plants-shape_800_1600_4_cuda.npy\n"
     ]
    },
    {
     "name": "stderr",
     "output_type": "stream",
     "text": [
      "evaluating tabfast on cuda one-hundred-plants-shape:  35%|███▍      | 59/170 [00:40<02:46,  1.50s/it]"
     ]
    },
    {
     "name": "stdout",
     "output_type": "stream",
     "text": [
      "Loaded saved result for /opt/hpcaas/.mounts/fs-0663e2d3c38211883/home/yuchenzeng/tabflex/train_tabflex/mothernet/results/tabular/multiclass/results_tabfast_time_10000000_roc_auc_one-hundred-plants-shape_800_1600_5_cuda.npy\n"
     ]
    },
    {
     "name": "stderr",
     "output_type": "stream",
     "text": [
      "evaluating tabfast on cuda spoken-arabic-digit:  35%|███▌      | 60/170 [00:45<03:06,  1.70s/it]     "
     ]
    },
    {
     "name": "stdout",
     "output_type": "stream",
     "text": [
      "Loaded saved result for /opt/hpcaas/.mounts/fs-0663e2d3c38211883/home/yuchenzeng/tabflex/train_tabflex/mothernet/results/tabular/multiclass/results_tabfast_time_10000000_roc_auc_spoken-arabic-digit_131628_263256_1_cuda.npy\n"
     ]
    },
    {
     "name": "stderr",
     "output_type": "stream",
     "text": [
      "evaluating tabfast on cuda spoken-arabic-digit:  35%|███▌      | 60/170 [00:45<03:06,  1.70s/it]"
     ]
    },
    {
     "name": "stdout",
     "output_type": "stream",
     "text": [
      "Loaded saved result for /opt/hpcaas/.mounts/fs-0663e2d3c38211883/home/yuchenzeng/tabflex/train_tabflex/mothernet/results/tabular/multiclass/results_tabfast_time_10000000_roc_auc_spoken-arabic-digit_131628_263256_2_cuda.npy\n"
     ]
    },
    {
     "name": "stderr",
     "output_type": "stream",
     "text": [
      "evaluating tabfast on cuda spoken-arabic-digit:  35%|███▌      | 60/170 [00:46<03:06,  1.70s/it]"
     ]
    },
    {
     "name": "stdout",
     "output_type": "stream",
     "text": [
      "Loaded saved result for /opt/hpcaas/.mounts/fs-0663e2d3c38211883/home/yuchenzeng/tabflex/train_tabflex/mothernet/results/tabular/multiclass/results_tabfast_time_10000000_roc_auc_spoken-arabic-digit_131628_263256_3_cuda.npy\n"
     ]
    },
    {
     "name": "stderr",
     "output_type": "stream",
     "text": [
      "evaluating tabfast on cuda spoken-arabic-digit:  35%|███▌      | 60/170 [00:47<03:06,  1.70s/it]"
     ]
    },
    {
     "name": "stdout",
     "output_type": "stream",
     "text": [
      "Loaded saved result for /opt/hpcaas/.mounts/fs-0663e2d3c38211883/home/yuchenzeng/tabflex/train_tabflex/mothernet/results/tabular/multiclass/results_tabfast_time_10000000_roc_auc_spoken-arabic-digit_131628_263256_4_cuda.npy\n"
     ]
    },
    {
     "name": "stderr",
     "output_type": "stream",
     "text": [
      "evaluating tabfast on cuda spoken-arabic-digit:  35%|███▌      | 60/170 [00:47<03:06,  1.70s/it]"
     ]
    },
    {
     "name": "stdout",
     "output_type": "stream",
     "text": [
      "Loaded saved result for /opt/hpcaas/.mounts/fs-0663e2d3c38211883/home/yuchenzeng/tabflex/train_tabflex/mothernet/results/tabular/multiclass/results_tabfast_time_10000000_roc_auc_spoken-arabic-digit_131628_263256_5_cuda.npy\n"
     ]
    },
    {
     "name": "stderr",
     "output_type": "stream",
     "text": [
      "evaluating tabfast on cuda micro-mass:  38%|███▊      | 65/170 [00:48<02:20,  1.34s/it]         "
     ]
    },
    {
     "name": "stdout",
     "output_type": "stream",
     "text": [
      "Loaded saved result for /opt/hpcaas/.mounts/fs-0663e2d3c38211883/home/yuchenzeng/tabflex/train_tabflex/mothernet/results/tabular/multiclass/results_tabfast_time_10000000_roc_auc_micro-mass_285_570_1_cuda.npy\n",
      "Loaded saved result for /opt/hpcaas/.mounts/fs-0663e2d3c38211883/home/yuchenzeng/tabflex/train_tabflex/mothernet/results/tabular/multiclass/results_tabfast_time_10000000_roc_auc_micro-mass_285_570_2_cuda.npy\n"
     ]
    },
    {
     "name": "stderr",
     "output_type": "stream",
     "text": [
      "evaluating tabfast on cuda micro-mass:  40%|████      | 68/170 [00:48<01:50,  1.09s/it]"
     ]
    },
    {
     "name": "stdout",
     "output_type": "stream",
     "text": [
      "Loaded saved result for /opt/hpcaas/.mounts/fs-0663e2d3c38211883/home/yuchenzeng/tabflex/train_tabflex/mothernet/results/tabular/multiclass/results_tabfast_time_10000000_roc_auc_micro-mass_285_570_3_cuda.npy\n",
      "Loaded saved result for /opt/hpcaas/.mounts/fs-0663e2d3c38211883/home/yuchenzeng/tabflex/train_tabflex/mothernet/results/tabular/multiclass/results_tabfast_time_10000000_roc_auc_micro-mass_285_570_4_cuda.npy\n"
     ]
    },
    {
     "name": "stderr",
     "output_type": "stream",
     "text": [
      "evaluating tabfast on cuda volcanoes-b6:  42%|████▏     | 71/170 [00:49<01:24,  1.17it/s]"
     ]
    },
    {
     "name": "stdout",
     "output_type": "stream",
     "text": [
      "Loaded saved result for /opt/hpcaas/.mounts/fs-0663e2d3c38211883/home/yuchenzeng/tabflex/train_tabflex/mothernet/results/tabular/multiclass/results_tabfast_time_10000000_roc_auc_micro-mass_285_570_5_cuda.npy\n",
      "Loaded saved result for /opt/hpcaas/.mounts/fs-0663e2d3c38211883/home/yuchenzeng/tabflex/train_tabflex/mothernet/results/tabular/multiclass/results_tabfast_time_10000000_roc_auc_volcanoes-b6_5065_10130_1_cuda.npy\n",
      "Loaded saved result for /opt/hpcaas/.mounts/fs-0663e2d3c38211883/home/yuchenzeng/tabflex/train_tabflex/mothernet/results/tabular/multiclass/results_tabfast_time_10000000_roc_auc_volcanoes-b6_5065_10130_2_cuda.npy\n"
     ]
    },
    {
     "name": "stderr",
     "output_type": "stream",
     "text": [
      "evaluating tabfast on cuda autoUniv-au6-750:  45%|████▍     | 76/170 [00:49<00:52,  1.80it/s]"
     ]
    },
    {
     "name": "stdout",
     "output_type": "stream",
     "text": [
      "Loaded saved result for /opt/hpcaas/.mounts/fs-0663e2d3c38211883/home/yuchenzeng/tabflex/train_tabflex/mothernet/results/tabular/multiclass/results_tabfast_time_10000000_roc_auc_volcanoes-b6_5065_10130_3_cuda.npy\n",
      "Loaded saved result for /opt/hpcaas/.mounts/fs-0663e2d3c38211883/home/yuchenzeng/tabflex/train_tabflex/mothernet/results/tabular/multiclass/results_tabfast_time_10000000_roc_auc_volcanoes-b6_5065_10130_4_cuda.npy\n",
      "Loaded saved result for /opt/hpcaas/.mounts/fs-0663e2d3c38211883/home/yuchenzeng/tabflex/train_tabflex/mothernet/results/tabular/multiclass/results_tabfast_time_10000000_roc_auc_volcanoes-b6_5065_10130_5_cuda.npy\n",
      "Loaded saved result for /opt/hpcaas/.mounts/fs-0663e2d3c38211883/home/yuchenzeng/tabflex/train_tabflex/mothernet/results/tabular/multiclass/results_tabfast_time_10000000_roc_auc_volcanoes-d4_4327_8654_1_cuda.npy\n",
      "Loaded saved result for /opt/hpcaas/.mounts/fs-0663e2d3c38211883/home/yuchenzeng/tabflex/train_tabflex/mothernet/results/tabular/multiclass/results_tabfast_time_10000000_roc_auc_volcanoes-d4_4327_8654_2_cuda.npy\n",
      "Loaded saved result for /opt/hpcaas/.mounts/fs-0663e2d3c38211883/home/yuchenzeng/tabflex/train_tabflex/mothernet/results/tabular/multiclass/results_tabfast_time_10000000_roc_auc_volcanoes-d4_4327_8654_3_cuda.npy\n",
      "Loaded saved result for /opt/hpcaas/.mounts/fs-0663e2d3c38211883/home/yuchenzeng/tabflex/train_tabflex/mothernet/results/tabular/multiclass/results_tabfast_time_10000000_roc_auc_volcanoes-d4_4327_8654_4_cuda.npy\n",
      "Loaded saved result for /opt/hpcaas/.mounts/fs-0663e2d3c38211883/home/yuchenzeng/tabflex/train_tabflex/mothernet/results/tabular/multiclass/results_tabfast_time_10000000_roc_auc_volcanoes-d4_4327_8654_5_cuda.npy\n",
      "Loaded saved result for /opt/hpcaas/.mounts/fs-0663e2d3c38211883/home/yuchenzeng/tabflex/train_tabflex/mothernet/results/tabular/multiclass/results_tabfast_time_10000000_roc_auc_autoUniv-au6-750_375_750_1_cuda.npy\n"
     ]
    },
    {
     "name": "stderr",
     "output_type": "stream",
     "text": [
      "evaluating tabfast on cuda fars:  50%|█████     | 85/170 [00:49<00:23,  3.60it/s]                                               "
     ]
    },
    {
     "name": "stdout",
     "output_type": "stream",
     "text": [
      "Loaded saved result for /opt/hpcaas/.mounts/fs-0663e2d3c38211883/home/yuchenzeng/tabflex/train_tabflex/mothernet/results/tabular/multiclass/results_tabfast_time_10000000_roc_auc_autoUniv-au6-750_375_750_2_cuda.npy\n",
      "Loaded saved result for /opt/hpcaas/.mounts/fs-0663e2d3c38211883/home/yuchenzeng/tabflex/train_tabflex/mothernet/results/tabular/multiclass/results_tabfast_time_10000000_roc_auc_autoUniv-au6-750_375_750_3_cuda.npy\n",
      "Loaded saved result for /opt/hpcaas/.mounts/fs-0663e2d3c38211883/home/yuchenzeng/tabflex/train_tabflex/mothernet/results/tabular/multiclass/results_tabfast_time_10000000_roc_auc_autoUniv-au6-750_375_750_4_cuda.npy\n",
      "Loaded saved result for /opt/hpcaas/.mounts/fs-0663e2d3c38211883/home/yuchenzeng/tabflex/train_tabflex/mothernet/results/tabular/multiclass/results_tabfast_time_10000000_roc_auc_autoUniv-au6-750_375_750_5_cuda.npy\n",
      "Loaded saved result for /opt/hpcaas/.mounts/fs-0663e2d3c38211883/home/yuchenzeng/tabflex/train_tabflex/mothernet/results/tabular/multiclass/results_tabfast_time_10000000_roc_auc_GAMETES_Epistasis_2-Way_1000atts_0.4H_EDM-1_EDM-1_1_800_1600_1_cuda.npy\n",
      "Loaded saved result for /opt/hpcaas/.mounts/fs-0663e2d3c38211883/home/yuchenzeng/tabflex/train_tabflex/mothernet/results/tabular/multiclass/results_tabfast_time_10000000_roc_auc_GAMETES_Epistasis_2-Way_1000atts_0.4H_EDM-1_EDM-1_1_800_1600_2_cuda.npy\n",
      "Loaded saved result for /opt/hpcaas/.mounts/fs-0663e2d3c38211883/home/yuchenzeng/tabflex/train_tabflex/mothernet/results/tabular/multiclass/results_tabfast_time_10000000_roc_auc_GAMETES_Epistasis_2-Way_1000atts_0.4H_EDM-1_EDM-1_1_800_1600_3_cuda.npy\n",
      "Loaded saved result for /opt/hpcaas/.mounts/fs-0663e2d3c38211883/home/yuchenzeng/tabflex/train_tabflex/mothernet/results/tabular/multiclass/results_tabfast_time_10000000_roc_auc_GAMETES_Epistasis_2-Way_1000atts_0.4H_EDM-1_EDM-1_1_800_1600_4_cuda.npy\n",
      "Loaded saved result for /opt/hpcaas/.mounts/fs-0663e2d3c38211883/home/yuchenzeng/tabflex/train_tabflex/mothernet/results/tabular/multiclass/results_tabfast_time_10000000_roc_auc_GAMETES_Epistasis_2-Way_1000atts_0.4H_EDM-1_EDM-1_1_800_1600_5_cuda.npy\n",
      "Loaded saved result for /opt/hpcaas/.mounts/fs-0663e2d3c38211883/home/yuchenzeng/tabflex/train_tabflex/mothernet/results/tabular/multiclass/results_tabfast_time_10000000_roc_auc_fars_50484_100968_1_cuda.npy\n"
     ]
    },
    {
     "name": "stderr",
     "output_type": "stream",
     "text": [
      "evaluating tabfast on cuda fars:  54%|█████▎    | 91/170 [00:49<00:15,  5.26it/s]"
     ]
    },
    {
     "name": "stdout",
     "output_type": "stream",
     "text": [
      "Loaded saved result for /opt/hpcaas/.mounts/fs-0663e2d3c38211883/home/yuchenzeng/tabflex/train_tabflex/mothernet/results/tabular/multiclass/results_tabfast_time_10000000_roc_auc_fars_50484_100968_2_cuda.npy\n"
     ]
    },
    {
     "name": "stderr",
     "output_type": "stream",
     "text": [
      "evaluating tabfast on cuda fars:  54%|█████▎    | 91/170 [00:50<00:15,  5.26it/s]"
     ]
    },
    {
     "name": "stdout",
     "output_type": "stream",
     "text": [
      "Loaded saved result for /opt/hpcaas/.mounts/fs-0663e2d3c38211883/home/yuchenzeng/tabflex/train_tabflex/mothernet/results/tabular/multiclass/results_tabfast_time_10000000_roc_auc_fars_50484_100968_3_cuda.npy\n"
     ]
    },
    {
     "name": "stderr",
     "output_type": "stream",
     "text": [
      "evaluating tabfast on cuda fars:  54%|█████▎    | 91/170 [00:50<00:15,  5.26it/s]"
     ]
    },
    {
     "name": "stdout",
     "output_type": "stream",
     "text": [
      "Loaded saved result for /opt/hpcaas/.mounts/fs-0663e2d3c38211883/home/yuchenzeng/tabflex/train_tabflex/mothernet/results/tabular/multiclass/results_tabfast_time_10000000_roc_auc_fars_50484_100968_4_cuda.npy\n"
     ]
    },
    {
     "name": "stderr",
     "output_type": "stream",
     "text": [
      "evaluating tabfast on cuda fars:  55%|█████▌    | 94/170 [00:50<00:14,  5.09it/s]"
     ]
    },
    {
     "name": "stdout",
     "output_type": "stream",
     "text": [
      "Loaded saved result for /opt/hpcaas/.mounts/fs-0663e2d3c38211883/home/yuchenzeng/tabflex/train_tabflex/mothernet/results/tabular/multiclass/results_tabfast_time_10000000_roc_auc_fars_50484_100968_5_cuda.npy\n"
     ]
    },
    {
     "name": "stderr",
     "output_type": "stream",
     "text": [
      "evaluating tabfast on cuda led24:  57%|█████▋    | 97/170 [00:50<00:12,  5.67it/s]"
     ]
    },
    {
     "name": "stdout",
     "output_type": "stream",
     "text": [
      "Loaded saved result for /opt/hpcaas/.mounts/fs-0663e2d3c38211883/home/yuchenzeng/tabflex/train_tabflex/mothernet/results/tabular/multiclass/results_tabfast_time_10000000_roc_auc_led24_1600_3200_1_cuda.npy\n",
      "Loaded saved result for /opt/hpcaas/.mounts/fs-0663e2d3c38211883/home/yuchenzeng/tabflex/train_tabflex/mothernet/results/tabular/multiclass/results_tabfast_time_10000000_roc_auc_led24_1600_3200_2_cuda.npy\n",
      "Loaded saved result for /opt/hpcaas/.mounts/fs-0663e2d3c38211883/home/yuchenzeng/tabflex/train_tabflex/mothernet/results/tabular/multiclass/results_tabfast_time_10000000_roc_auc_led24_1600_3200_3_cuda.npy\n",
      "Loaded saved result for /opt/hpcaas/.mounts/fs-0663e2d3c38211883/home/yuchenzeng/tabflex/train_tabflex/mothernet/results/tabular/multiclass/results_tabfast_time_10000000_roc_auc_led24_1600_3200_4_cuda.npy\n"
     ]
    },
    {
     "name": "stderr",
     "output_type": "stream",
     "text": [
      "evaluating tabfast on cuda Run_or_walk_information:  63%|██████▎   | 107/170 [00:51<00:05, 12.12it/s]"
     ]
    },
    {
     "name": "stdout",
     "output_type": "stream",
     "text": [
      "Loaded saved result for /opt/hpcaas/.mounts/fs-0663e2d3c38211883/home/yuchenzeng/tabflex/train_tabflex/mothernet/results/tabular/multiclass/results_tabfast_time_10000000_roc_auc_led24_1600_3200_5_cuda.npy\n",
      "Loaded saved result for /opt/hpcaas/.mounts/fs-0663e2d3c38211883/home/yuchenzeng/tabflex/train_tabflex/mothernet/results/tabular/multiclass/results_tabfast_time_10000000_roc_auc_xd6_486_972_1_cuda.npy\n",
      "Loaded saved result for /opt/hpcaas/.mounts/fs-0663e2d3c38211883/home/yuchenzeng/tabflex/train_tabflex/mothernet/results/tabular/multiclass/results_tabfast_time_10000000_roc_auc_xd6_486_972_2_cuda.npy\n",
      "Loaded saved result for /opt/hpcaas/.mounts/fs-0663e2d3c38211883/home/yuchenzeng/tabflex/train_tabflex/mothernet/results/tabular/multiclass/results_tabfast_time_10000000_roc_auc_xd6_486_972_3_cuda.npy\n",
      "Loaded saved result for /opt/hpcaas/.mounts/fs-0663e2d3c38211883/home/yuchenzeng/tabflex/train_tabflex/mothernet/results/tabular/multiclass/results_tabfast_time_10000000_roc_auc_xd6_486_972_4_cuda.npy\n",
      "Loaded saved result for /opt/hpcaas/.mounts/fs-0663e2d3c38211883/home/yuchenzeng/tabflex/train_tabflex/mothernet/results/tabular/multiclass/results_tabfast_time_10000000_roc_auc_xd6_486_972_5_cuda.npy\n",
      "Loaded saved result for /opt/hpcaas/.mounts/fs-0663e2d3c38211883/home/yuchenzeng/tabflex/train_tabflex/mothernet/results/tabular/multiclass/results_tabfast_time_10000000_roc_auc_tokyo1_479_958_1_cuda.npy\n",
      "Loaded saved result for /opt/hpcaas/.mounts/fs-0663e2d3c38211883/home/yuchenzeng/tabflex/train_tabflex/mothernet/results/tabular/multiclass/results_tabfast_time_10000000_roc_auc_tokyo1_479_958_2_cuda.npy\n",
      "Loaded saved result for /opt/hpcaas/.mounts/fs-0663e2d3c38211883/home/yuchenzeng/tabflex/train_tabflex/mothernet/results/tabular/multiclass/results_tabfast_time_10000000_roc_auc_tokyo1_479_958_3_cuda.npy\n",
      "Loaded saved result for /opt/hpcaas/.mounts/fs-0663e2d3c38211883/home/yuchenzeng/tabflex/train_tabflex/mothernet/results/tabular/multiclass/results_tabfast_time_10000000_roc_auc_tokyo1_479_958_4_cuda.npy\n",
      "Loaded saved result for /opt/hpcaas/.mounts/fs-0663e2d3c38211883/home/yuchenzeng/tabflex/train_tabflex/mothernet/results/tabular/multiclass/results_tabfast_time_10000000_roc_auc_tokyo1_479_958_5_cuda.npy\n",
      "Loaded saved result for /opt/hpcaas/.mounts/fs-0663e2d3c38211883/home/yuchenzeng/tabflex/train_tabflex/mothernet/results/tabular/multiclass/results_tabfast_time_10000000_roc_auc_Run_or_walk_information_44294_88588_1_cuda.npy\n",
      "Loaded saved result for /opt/hpcaas/.mounts/fs-0663e2d3c38211883/home/yuchenzeng/tabflex/train_tabflex/mothernet/results/tabular/multiclass/results_tabfast_time_10000000_roc_auc_Run_or_walk_information_44294_88588_2_cuda.npy\n",
      "Loaded saved result for /opt/hpcaas/.mounts/fs-0663e2d3c38211883/home/yuchenzeng/tabflex/train_tabflex/mothernet/results/tabular/multiclass/results_tabfast_time_10000000_roc_auc_Run_or_walk_information_44294_88588_3_cuda.npy\n",
      "Loaded saved result for /opt/hpcaas/.mounts/fs-0663e2d3c38211883/home/yuchenzeng/tabflex/train_tabflex/mothernet/results/tabular/multiclass/results_tabfast_time_10000000_roc_auc_Run_or_walk_information_44294_88588_4_cuda.npy\n"
     ]
    },
    {
     "name": "stderr",
     "output_type": "stream",
     "text": [
      "evaluating tabfast on cuda tamilnadu-electricity:  67%|██████▋   | 114/170 [00:51<00:03, 17.81it/s]  "
     ]
    },
    {
     "name": "stdout",
     "output_type": "stream",
     "text": [
      "Loaded saved result for /opt/hpcaas/.mounts/fs-0663e2d3c38211883/home/yuchenzeng/tabflex/train_tabflex/mothernet/results/tabular/multiclass/results_tabfast_time_10000000_roc_auc_Run_or_walk_information_44294_88588_5_cuda.npy\n",
      "Loaded saved result for /opt/hpcaas/.mounts/fs-0663e2d3c38211883/home/yuchenzeng/tabflex/train_tabflex/mothernet/results/tabular/multiclass/results_tabfast_time_10000000_roc_auc_tamilnadu-electricity_22890_45780_1_cuda.npy\n"
     ]
    },
    {
     "name": "stderr",
     "output_type": "stream",
     "text": [
      "evaluating tabfast on cuda tamilnadu-electricity:  67%|██████▋   | 114/170 [00:51<00:03, 17.81it/s]"
     ]
    },
    {
     "name": "stdout",
     "output_type": "stream",
     "text": [
      "Loaded saved result for /opt/hpcaas/.mounts/fs-0663e2d3c38211883/home/yuchenzeng/tabflex/train_tabflex/mothernet/results/tabular/multiclass/results_tabfast_time_10000000_roc_auc_tamilnadu-electricity_22890_45780_2_cuda.npy\n"
     ]
    },
    {
     "name": "stderr",
     "output_type": "stream",
     "text": [
      "evaluating tabfast on cuda tamilnadu-electricity:  67%|██████▋   | 114/170 [00:51<00:03, 17.81it/s]"
     ]
    },
    {
     "name": "stdout",
     "output_type": "stream",
     "text": [
      "Loaded saved result for /opt/hpcaas/.mounts/fs-0663e2d3c38211883/home/yuchenzeng/tabflex/train_tabflex/mothernet/results/tabular/multiclass/results_tabfast_time_10000000_roc_auc_tamilnadu-electricity_22890_45780_3_cuda.npy\n"
     ]
    },
    {
     "name": "stderr",
     "output_type": "stream",
     "text": [
      "evaluating tabfast on cuda tamilnadu-electricity:  67%|██████▋   | 114/170 [00:52<00:03, 17.81it/s]"
     ]
    },
    {
     "name": "stdout",
     "output_type": "stream",
     "text": [
      "Loaded saved result for /opt/hpcaas/.mounts/fs-0663e2d3c38211883/home/yuchenzeng/tabflex/train_tabflex/mothernet/results/tabular/multiclass/results_tabfast_time_10000000_roc_auc_tamilnadu-electricity_22890_45780_4_cuda.npy\n"
     ]
    },
    {
     "name": "stderr",
     "output_type": "stream",
     "text": [
      "evaluating tabfast on cuda tamilnadu-electricity:  70%|███████   | 119/170 [00:52<00:06,  7.51it/s]"
     ]
    },
    {
     "name": "stdout",
     "output_type": "stream",
     "text": [
      "Loaded saved result for /opt/hpcaas/.mounts/fs-0663e2d3c38211883/home/yuchenzeng/tabflex/train_tabflex/mothernet/results/tabular/multiclass/results_tabfast_time_10000000_roc_auc_tamilnadu-electricity_22890_45780_5_cuda.npy\n"
     ]
    },
    {
     "name": "stderr",
     "output_type": "stream",
     "text": [
      "evaluating tabfast on cuda USPS:  70%|███████   | 119/170 [00:53<00:06,  7.51it/s]                 "
     ]
    },
    {
     "name": "stdout",
     "output_type": "stream",
     "text": [
      "Loaded saved result for /opt/hpcaas/.mounts/fs-0663e2d3c38211883/home/yuchenzeng/tabflex/train_tabflex/mothernet/results/tabular/multiclass/results_tabfast_time_10000000_roc_auc_USPS_4649_9298_1_cuda.npy\n",
      "Loaded saved result for /opt/hpcaas/.mounts/fs-0663e2d3c38211883/home/yuchenzeng/tabflex/train_tabflex/mothernet/results/tabular/multiclass/results_tabfast_time_10000000_roc_auc_USPS_4649_9298_2_cuda.npy\n",
      "Loaded saved result for /opt/hpcaas/.mounts/fs-0663e2d3c38211883/home/yuchenzeng/tabflex/train_tabflex/mothernet/results/tabular/multiclass/results_tabfast_time_10000000_roc_auc_USPS_4649_9298_3_cuda.npy\n"
     ]
    },
    {
     "name": "stderr",
     "output_type": "stream",
     "text": [
      "evaluating tabfast on cuda USPS:  72%|███████▏  | 123/170 [00:53<00:06,  7.01it/s]"
     ]
    },
    {
     "name": "stdout",
     "output_type": "stream",
     "text": [
      "Loaded saved result for /opt/hpcaas/.mounts/fs-0663e2d3c38211883/home/yuchenzeng/tabflex/train_tabflex/mothernet/results/tabular/multiclass/results_tabfast_time_10000000_roc_auc_USPS_4649_9298_4_cuda.npy\n",
      "Loaded saved result for /opt/hpcaas/.mounts/fs-0663e2d3c38211883/home/yuchenzeng/tabflex/train_tabflex/mothernet/results/tabular/multiclass/results_tabfast_time_10000000_roc_auc_USPS_4649_9298_5_cuda.npy\n"
     ]
    },
    {
     "name": "stderr",
     "output_type": "stream",
     "text": [
      "evaluating tabfast on cuda GTSRB-HOG01:  74%|███████▍  | 126/170 [00:53<00:05,  7.72it/s]"
     ]
    },
    {
     "name": "stdout",
     "output_type": "stream",
     "text": [
      "Loaded saved result for /opt/hpcaas/.mounts/fs-0663e2d3c38211883/home/yuchenzeng/tabflex/train_tabflex/mothernet/results/tabular/multiclass/results_tabfast_time_10000000_roc_auc_madeline_1570_3140_1_cuda.npy\n",
      "Loaded saved result for /opt/hpcaas/.mounts/fs-0663e2d3c38211883/home/yuchenzeng/tabflex/train_tabflex/mothernet/results/tabular/multiclass/results_tabfast_time_10000000_roc_auc_madeline_1570_3140_2_cuda.npy\n",
      "Loaded saved result for /opt/hpcaas/.mounts/fs-0663e2d3c38211883/home/yuchenzeng/tabflex/train_tabflex/mothernet/results/tabular/multiclass/results_tabfast_time_10000000_roc_auc_madeline_1570_3140_3_cuda.npy\n",
      "Loaded saved result for /opt/hpcaas/.mounts/fs-0663e2d3c38211883/home/yuchenzeng/tabflex/train_tabflex/mothernet/results/tabular/multiclass/results_tabfast_time_10000000_roc_auc_madeline_1570_3140_4_cuda.npy\n",
      "Loaded saved result for /opt/hpcaas/.mounts/fs-0663e2d3c38211883/home/yuchenzeng/tabflex/train_tabflex/mothernet/results/tabular/multiclass/results_tabfast_time_10000000_roc_auc_madeline_1570_3140_5_cuda.npy\n",
      "Loaded saved result for /opt/hpcaas/.mounts/fs-0663e2d3c38211883/home/yuchenzeng/tabflex/train_tabflex/mothernet/results/tabular/multiclass/results_tabfast_time_10000000_roc_auc_GTSRB-HOG01_25919_51838_1_cuda.npy\n"
     ]
    },
    {
     "name": "stderr",
     "output_type": "stream",
     "text": [
      "evaluating tabfast on cuda GTSRB-HOG01:  77%|███████▋  | 131/170 [00:55<00:06,  5.61it/s]"
     ]
    },
    {
     "name": "stdout",
     "output_type": "stream",
     "text": [
      "Loaded saved result for /opt/hpcaas/.mounts/fs-0663e2d3c38211883/home/yuchenzeng/tabflex/train_tabflex/mothernet/results/tabular/multiclass/results_tabfast_time_10000000_roc_auc_GTSRB-HOG01_25919_51838_2_cuda.npy\n"
     ]
    },
    {
     "name": "stderr",
     "output_type": "stream",
     "text": [
      "evaluating tabfast on cuda GTSRB-HOG01:  77%|███████▋  | 131/170 [00:56<00:06,  5.61it/s]"
     ]
    },
    {
     "name": "stdout",
     "output_type": "stream",
     "text": [
      "Loaded saved result for /opt/hpcaas/.mounts/fs-0663e2d3c38211883/home/yuchenzeng/tabflex/train_tabflex/mothernet/results/tabular/multiclass/results_tabfast_time_10000000_roc_auc_GTSRB-HOG01_25919_51838_3_cuda.npy\n"
     ]
    },
    {
     "name": "stderr",
     "output_type": "stream",
     "text": [
      "evaluating tabfast on cuda GTSRB-HOG01:  78%|███████▊  | 133/170 [00:57<00:13,  2.76it/s]"
     ]
    },
    {
     "name": "stdout",
     "output_type": "stream",
     "text": [
      "Loaded saved result for /opt/hpcaas/.mounts/fs-0663e2d3c38211883/home/yuchenzeng/tabflex/train_tabflex/mothernet/results/tabular/multiclass/results_tabfast_time_10000000_roc_auc_GTSRB-HOG01_25919_51838_4_cuda.npy\n"
     ]
    },
    {
     "name": "stderr",
     "output_type": "stream",
     "text": [
      "evaluating tabfast on cuda GTSRB-HOG01:  78%|███████▊  | 133/170 [00:59<00:13,  2.76it/s]"
     ]
    },
    {
     "name": "stdout",
     "output_type": "stream",
     "text": [
      "Loaded saved result for /opt/hpcaas/.mounts/fs-0663e2d3c38211883/home/yuchenzeng/tabflex/train_tabflex/mothernet/results/tabular/multiclass/results_tabfast_time_10000000_roc_auc_GTSRB-HOG01_25919_51838_5_cuda.npy\n"
     ]
    },
    {
     "name": "stderr",
     "output_type": "stream",
     "text": [
      "evaluating tabfast on cuda GTSRB-HOG02:  79%|███████▉  | 135/170 [01:00<00:19,  1.84it/s]"
     ]
    },
    {
     "name": "stdout",
     "output_type": "stream",
     "text": [
      "Loaded saved result for /opt/hpcaas/.mounts/fs-0663e2d3c38211883/home/yuchenzeng/tabflex/train_tabflex/mothernet/results/tabular/multiclass/results_tabfast_time_10000000_roc_auc_GTSRB-HOG02_25919_51838_1_cuda.npy\n"
     ]
    },
    {
     "name": "stderr",
     "output_type": "stream",
     "text": [
      "evaluating tabfast on cuda GTSRB-HOG02:  80%|████████  | 136/170 [01:01<00:21,  1.56it/s]"
     ]
    },
    {
     "name": "stdout",
     "output_type": "stream",
     "text": [
      "Loaded saved result for /opt/hpcaas/.mounts/fs-0663e2d3c38211883/home/yuchenzeng/tabflex/train_tabflex/mothernet/results/tabular/multiclass/results_tabfast_time_10000000_roc_auc_GTSRB-HOG02_25919_51838_2_cuda.npy\n"
     ]
    },
    {
     "name": "stderr",
     "output_type": "stream",
     "text": [
      "evaluating tabfast on cuda GTSRB-HOG02:  81%|████████  | 137/170 [01:03<00:25,  1.32it/s]"
     ]
    },
    {
     "name": "stdout",
     "output_type": "stream",
     "text": [
      "Loaded saved result for /opt/hpcaas/.mounts/fs-0663e2d3c38211883/home/yuchenzeng/tabflex/train_tabflex/mothernet/results/tabular/multiclass/results_tabfast_time_10000000_roc_auc_GTSRB-HOG02_25919_51838_3_cuda.npy\n"
     ]
    },
    {
     "name": "stderr",
     "output_type": "stream",
     "text": [
      "evaluating tabfast on cuda GTSRB-HOG02:  81%|████████  | 138/170 [01:04<00:27,  1.16it/s]"
     ]
    },
    {
     "name": "stdout",
     "output_type": "stream",
     "text": [
      "Loaded saved result for /opt/hpcaas/.mounts/fs-0663e2d3c38211883/home/yuchenzeng/tabflex/train_tabflex/mothernet/results/tabular/multiclass/results_tabfast_time_10000000_roc_auc_GTSRB-HOG02_25919_51838_4_cuda.npy\n"
     ]
    },
    {
     "name": "stderr",
     "output_type": "stream",
     "text": [
      "evaluating tabfast on cuda GTSRB-HOG02:  82%|████████▏ | 139/170 [01:06<00:29,  1.05it/s]"
     ]
    },
    {
     "name": "stdout",
     "output_type": "stream",
     "text": [
      "Loaded saved result for /opt/hpcaas/.mounts/fs-0663e2d3c38211883/home/yuchenzeng/tabflex/train_tabflex/mothernet/results/tabular/multiclass/results_tabfast_time_10000000_roc_auc_GTSRB-HOG02_25919_51838_5_cuda.npy\n"
     ]
    },
    {
     "name": "stderr",
     "output_type": "stream",
     "text": [
      "evaluating tabfast on cuda GTSRB-HOG03:  82%|████████▏ | 140/170 [01:07<00:31,  1.04s/it]"
     ]
    },
    {
     "name": "stdout",
     "output_type": "stream",
     "text": [
      "Loaded saved result for /opt/hpcaas/.mounts/fs-0663e2d3c38211883/home/yuchenzeng/tabflex/train_tabflex/mothernet/results/tabular/multiclass/results_tabfast_time_10000000_roc_auc_GTSRB-HOG03_25919_51838_1_cuda.npy\n"
     ]
    },
    {
     "name": "stderr",
     "output_type": "stream",
     "text": [
      "evaluating tabfast on cuda GTSRB-HOG03:  83%|████████▎ | 141/170 [01:08<00:32,  1.10s/it]"
     ]
    },
    {
     "name": "stdout",
     "output_type": "stream",
     "text": [
      "Loaded saved result for /opt/hpcaas/.mounts/fs-0663e2d3c38211883/home/yuchenzeng/tabflex/train_tabflex/mothernet/results/tabular/multiclass/results_tabfast_time_10000000_roc_auc_GTSRB-HOG03_25919_51838_2_cuda.npy\n"
     ]
    },
    {
     "name": "stderr",
     "output_type": "stream",
     "text": [
      "evaluating tabfast on cuda GTSRB-HOG03:  84%|████████▎ | 142/170 [01:09<00:32,  1.16s/it]"
     ]
    },
    {
     "name": "stdout",
     "output_type": "stream",
     "text": [
      "Loaded saved result for /opt/hpcaas/.mounts/fs-0663e2d3c38211883/home/yuchenzeng/tabflex/train_tabflex/mothernet/results/tabular/multiclass/results_tabfast_time_10000000_roc_auc_GTSRB-HOG03_25919_51838_3_cuda.npy\n"
     ]
    },
    {
     "name": "stderr",
     "output_type": "stream",
     "text": [
      "evaluating tabfast on cuda GTSRB-HOG03:  84%|████████▍ | 143/170 [01:11<00:32,  1.21s/it]"
     ]
    },
    {
     "name": "stdout",
     "output_type": "stream",
     "text": [
      "Loaded saved result for /opt/hpcaas/.mounts/fs-0663e2d3c38211883/home/yuchenzeng/tabflex/train_tabflex/mothernet/results/tabular/multiclass/results_tabfast_time_10000000_roc_auc_GTSRB-HOG03_25919_51838_4_cuda.npy\n"
     ]
    },
    {
     "name": "stderr",
     "output_type": "stream",
     "text": [
      "evaluating tabfast on cuda GTSRB-HOG03:  85%|████████▍ | 144/170 [01:12<00:32,  1.25s/it]"
     ]
    },
    {
     "name": "stdout",
     "output_type": "stream",
     "text": [
      "Loaded saved result for /opt/hpcaas/.mounts/fs-0663e2d3c38211883/home/yuchenzeng/tabflex/train_tabflex/mothernet/results/tabular/multiclass/results_tabfast_time_10000000_roc_auc_GTSRB-HOG03_25919_51838_5_cuda.npy\n"
     ]
    },
    {
     "name": "stderr",
     "output_type": "stream",
     "text": [
      "evaluating tabfast on cuda GTSRB-HueHist:  85%|████████▌ | 145/170 [01:13<00:31,  1.27s/it]"
     ]
    },
    {
     "name": "stdout",
     "output_type": "stream",
     "text": [
      "Loaded saved result for /opt/hpcaas/.mounts/fs-0663e2d3c38211883/home/yuchenzeng/tabflex/train_tabflex/mothernet/results/tabular/multiclass/results_tabfast_time_10000000_roc_auc_GTSRB-HueHist_25919_51838_1_cuda.npy\n"
     ]
    },
    {
     "name": "stderr",
     "output_type": "stream",
     "text": [
      "evaluating tabfast on cuda GTSRB-HueHist:  86%|████████▌ | 146/170 [01:15<00:30,  1.29s/it]"
     ]
    },
    {
     "name": "stdout",
     "output_type": "stream",
     "text": [
      "Loaded saved result for /opt/hpcaas/.mounts/fs-0663e2d3c38211883/home/yuchenzeng/tabflex/train_tabflex/mothernet/results/tabular/multiclass/results_tabfast_time_10000000_roc_auc_GTSRB-HueHist_25919_51838_2_cuda.npy\n"
     ]
    },
    {
     "name": "stderr",
     "output_type": "stream",
     "text": [
      "evaluating tabfast on cuda GTSRB-HueHist:  86%|████████▋ | 147/170 [01:16<00:29,  1.30s/it]"
     ]
    },
    {
     "name": "stdout",
     "output_type": "stream",
     "text": [
      "Loaded saved result for /opt/hpcaas/.mounts/fs-0663e2d3c38211883/home/yuchenzeng/tabflex/train_tabflex/mothernet/results/tabular/multiclass/results_tabfast_time_10000000_roc_auc_GTSRB-HueHist_25919_51838_3_cuda.npy\n"
     ]
    },
    {
     "name": "stderr",
     "output_type": "stream",
     "text": [
      "evaluating tabfast on cuda GTSRB-HueHist:  87%|████████▋ | 148/170 [01:17<00:28,  1.31s/it]"
     ]
    },
    {
     "name": "stdout",
     "output_type": "stream",
     "text": [
      "Loaded saved result for /opt/hpcaas/.mounts/fs-0663e2d3c38211883/home/yuchenzeng/tabflex/train_tabflex/mothernet/results/tabular/multiclass/results_tabfast_time_10000000_roc_auc_GTSRB-HueHist_25919_51838_4_cuda.npy\n"
     ]
    },
    {
     "name": "stderr",
     "output_type": "stream",
     "text": [
      "evaluating tabfast on cuda GTSRB-HueHist:  88%|████████▊ | 149/170 [01:19<00:27,  1.31s/it]"
     ]
    },
    {
     "name": "stdout",
     "output_type": "stream",
     "text": [
      "Loaded saved result for /opt/hpcaas/.mounts/fs-0663e2d3c38211883/home/yuchenzeng/tabflex/train_tabflex/mothernet/results/tabular/multiclass/results_tabfast_time_10000000_roc_auc_GTSRB-HueHist_25919_51838_5_cuda.npy\n"
     ]
    },
    {
     "name": "stderr",
     "output_type": "stream",
     "text": [
      "evaluating tabfast on cuda Kuzushiji-49:  88%|████████▊ | 150/170 [01:20<00:26,  1.32s/it] "
     ]
    },
    {
     "name": "stdout",
     "output_type": "stream",
     "text": [
      "Loaded saved result for /opt/hpcaas/.mounts/fs-0663e2d3c38211883/home/yuchenzeng/tabflex/train_tabflex/mothernet/results/tabular/multiclass/results_tabfast_time_10000000_roc_auc_Kuzushiji-49_135456_270912_1_cuda.npy\n"
     ]
    },
    {
     "name": "stderr",
     "output_type": "stream",
     "text": [
      "evaluating tabfast on cuda Kuzushiji-49:  89%|████████▉ | 151/170 [01:24<00:38,  2.03s/it]"
     ]
    },
    {
     "name": "stdout",
     "output_type": "stream",
     "text": [
      "Loaded saved result for /opt/hpcaas/.mounts/fs-0663e2d3c38211883/home/yuchenzeng/tabflex/train_tabflex/mothernet/results/tabular/multiclass/results_tabfast_time_10000000_roc_auc_Kuzushiji-49_135456_270912_2_cuda.npy\n"
     ]
    },
    {
     "name": "stderr",
     "output_type": "stream",
     "text": [
      "evaluating tabfast on cuda Kuzushiji-49:  89%|████████▉ | 152/170 [01:28<00:45,  2.53s/it]"
     ]
    },
    {
     "name": "stdout",
     "output_type": "stream",
     "text": [
      "Loaded saved result for /opt/hpcaas/.mounts/fs-0663e2d3c38211883/home/yuchenzeng/tabflex/train_tabflex/mothernet/results/tabular/multiclass/results_tabfast_time_10000000_roc_auc_Kuzushiji-49_135456_270912_3_cuda.npy\n"
     ]
    },
    {
     "name": "stderr",
     "output_type": "stream",
     "text": [
      "evaluating tabfast on cuda Kuzushiji-49:  90%|█████████ | 153/170 [01:31<00:48,  2.87s/it]"
     ]
    },
    {
     "name": "stdout",
     "output_type": "stream",
     "text": [
      "Loaded saved result for /opt/hpcaas/.mounts/fs-0663e2d3c38211883/home/yuchenzeng/tabflex/train_tabflex/mothernet/results/tabular/multiclass/results_tabfast_time_10000000_roc_auc_Kuzushiji-49_135456_270912_4_cuda.npy\n"
     ]
    },
    {
     "name": "stderr",
     "output_type": "stream",
     "text": [
      "evaluating tabfast on cuda Kuzushiji-49:  91%|█████████ | 154/170 [01:35<00:49,  3.12s/it]"
     ]
    },
    {
     "name": "stdout",
     "output_type": "stream",
     "text": [
      "Loaded saved result for /opt/hpcaas/.mounts/fs-0663e2d3c38211883/home/yuchenzeng/tabflex/train_tabflex/mothernet/results/tabular/multiclass/results_tabfast_time_10000000_roc_auc_Kuzushiji-49_135456_270912_5_cuda.npy\n"
     ]
    },
    {
     "name": "stderr",
     "output_type": "stream",
     "text": [
      "evaluating tabfast on cuda porto-seguro:  91%|█████████ | 155/170 [01:39<00:49,  3.28s/it]    "
     ]
    },
    {
     "name": "stdout",
     "output_type": "stream",
     "text": [
      "Loaded saved result for /opt/hpcaas/.mounts/fs-0663e2d3c38211883/home/yuchenzeng/tabflex/train_tabflex/mothernet/results/tabular/multiclass/results_tabfast_time_10000000_roc_auc_compas-two-years_2639_5278_1_cuda.npy\n",
      "Loaded saved result for /opt/hpcaas/.mounts/fs-0663e2d3c38211883/home/yuchenzeng/tabflex/train_tabflex/mothernet/results/tabular/multiclass/results_tabfast_time_10000000_roc_auc_compas-two-years_2639_5278_2_cuda.npy\n",
      "Loaded saved result for /opt/hpcaas/.mounts/fs-0663e2d3c38211883/home/yuchenzeng/tabflex/train_tabflex/mothernet/results/tabular/multiclass/results_tabfast_time_10000000_roc_auc_compas-two-years_2639_5278_3_cuda.npy\n",
      "Loaded saved result for /opt/hpcaas/.mounts/fs-0663e2d3c38211883/home/yuchenzeng/tabflex/train_tabflex/mothernet/results/tabular/multiclass/results_tabfast_time_10000000_roc_auc_compas-two-years_2639_5278_4_cuda.npy\n",
      "Loaded saved result for /opt/hpcaas/.mounts/fs-0663e2d3c38211883/home/yuchenzeng/tabflex/train_tabflex/mothernet/results/tabular/multiclass/results_tabfast_time_10000000_roc_auc_compas-two-years_2639_5278_5_cuda.npy\n",
      "Loaded saved result for /opt/hpcaas/.mounts/fs-0663e2d3c38211883/home/yuchenzeng/tabflex/train_tabflex/mothernet/results/tabular/multiclass/results_tabfast_time_10000000_roc_auc_porto-seguro_297606_595212_1_cuda.npy\n"
     ]
    },
    {
     "name": "stderr",
     "output_type": "stream",
     "text": [
      "evaluating tabfast on cuda porto-seguro:  95%|█████████▌| 162/170 [01:39<00:06,  1.19it/s]"
     ]
    },
    {
     "name": "stdout",
     "output_type": "stream",
     "text": [
      "Loaded saved result for /opt/hpcaas/.mounts/fs-0663e2d3c38211883/home/yuchenzeng/tabflex/train_tabflex/mothernet/results/tabular/multiclass/results_tabfast_time_10000000_roc_auc_porto-seguro_297606_595212_2_cuda.npy\n",
      "Loaded saved result for /opt/hpcaas/.mounts/fs-0663e2d3c38211883/home/yuchenzeng/tabflex/train_tabflex/mothernet/results/tabular/multiclass/results_tabfast_time_10000000_roc_auc_porto-seguro_297606_595212_3_cuda.npy\n"
     ]
    },
    {
     "name": "stderr",
     "output_type": "stream",
     "text": [
      "evaluating tabfast on cuda porto-seguro:  96%|█████████▋| 164/170 [01:39<00:03,  1.61it/s]"
     ]
    },
    {
     "name": "stdout",
     "output_type": "stream",
     "text": [
      "Loaded saved result for /opt/hpcaas/.mounts/fs-0663e2d3c38211883/home/yuchenzeng/tabflex/train_tabflex/mothernet/results/tabular/multiclass/results_tabfast_time_10000000_roc_auc_porto-seguro_297606_595212_4_cuda.npy\n",
      "Loaded saved result for /opt/hpcaas/.mounts/fs-0663e2d3c38211883/home/yuchenzeng/tabflex/train_tabflex/mothernet/results/tabular/multiclass/results_tabfast_time_10000000_roc_auc_porto-seguro_297606_595212_5_cuda.npy\n"
     ]
    },
    {
     "name": "stderr",
     "output_type": "stream",
     "text": [
      "evaluating tabfast on cuda KDD98: 100%|██████████| 170/170 [01:40<00:00,  1.70it/s]       \n"
     ]
    },
    {
     "name": "stdout",
     "output_type": "stream",
     "text": [
      "Loaded saved result for /opt/hpcaas/.mounts/fs-0663e2d3c38211883/home/yuchenzeng/tabflex/train_tabflex/mothernet/results/tabular/multiclass/results_tabfast_time_10000000_roc_auc_KDD98_41159_82318_1_cuda.npy\n",
      "Loaded saved result for /opt/hpcaas/.mounts/fs-0663e2d3c38211883/home/yuchenzeng/tabflex/train_tabflex/mothernet/results/tabular/multiclass/results_tabfast_time_10000000_roc_auc_KDD98_41159_82318_2_cuda.npy\n",
      "Loaded saved result for /opt/hpcaas/.mounts/fs-0663e2d3c38211883/home/yuchenzeng/tabflex/train_tabflex/mothernet/results/tabular/multiclass/results_tabfast_time_10000000_roc_auc_KDD98_41159_82318_3_cuda.npy\n",
      "Loaded saved result for /opt/hpcaas/.mounts/fs-0663e2d3c38211883/home/yuchenzeng/tabflex/train_tabflex/mothernet/results/tabular/multiclass/results_tabfast_time_10000000_roc_auc_KDD98_41159_82318_4_cuda.npy\n",
      "Loaded saved result for /opt/hpcaas/.mounts/fs-0663e2d3c38211883/home/yuchenzeng/tabflex/train_tabflex/mothernet/results/tabular/multiclass/results_tabfast_time_10000000_roc_auc_KDD98_41159_82318_5_cuda.npy\n",
      "evaluating tabpfn on cuda\n"
     ]
    },
    {
     "name": "stderr",
     "output_type": "stream",
     "text": [
      "evaluating tabpfn on cuda meta_stream_intervals.arff:   0%|          | 0/170 [00:00<?, ?it/s]"
     ]
    },
    {
     "name": "stdout",
     "output_type": "stream",
     "text": [
      "Loaded saved result for /opt/hpcaas/.mounts/fs-0663e2d3c38211883/home/yuchenzeng/tabflex/train_tabflex/mothernet/results/tabular/multiclass/results_tabpfn_time_10000000_roc_auc_meta_stream_intervals.arff_22582_45164_1_cuda.npy\n"
     ]
    },
    {
     "name": "stderr",
     "output_type": "stream",
     "text": [
      "evaluating tabpfn on cuda meta_stream_intervals.arff:   1%|          | 2/170 [00:00<00:34,  4.90it/s]"
     ]
    },
    {
     "name": "stdout",
     "output_type": "stream",
     "text": [
      "Loaded saved result for /opt/hpcaas/.mounts/fs-0663e2d3c38211883/home/yuchenzeng/tabflex/train_tabflex/mothernet/results/tabular/multiclass/results_tabpfn_time_10000000_roc_auc_meta_stream_intervals.arff_22582_45164_2_cuda.npy\n"
     ]
    },
    {
     "name": "stderr",
     "output_type": "stream",
     "text": [
      "evaluating tabpfn on cuda meta_stream_intervals.arff:   2%|▏         | 3/170 [00:00<00:33,  4.92it/s]"
     ]
    },
    {
     "name": "stdout",
     "output_type": "stream",
     "text": [
      "Loaded saved result for /opt/hpcaas/.mounts/fs-0663e2d3c38211883/home/yuchenzeng/tabflex/train_tabflex/mothernet/results/tabular/multiclass/results_tabpfn_time_10000000_roc_auc_meta_stream_intervals.arff_22582_45164_3_cuda.npy\n"
     ]
    },
    {
     "name": "stderr",
     "output_type": "stream",
     "text": [
      "evaluating tabpfn on cuda meta_stream_intervals.arff:   2%|▏         | 4/170 [00:00<00:33,  4.93it/s]"
     ]
    },
    {
     "name": "stdout",
     "output_type": "stream",
     "text": [
      "Loaded saved result for /opt/hpcaas/.mounts/fs-0663e2d3c38211883/home/yuchenzeng/tabflex/train_tabflex/mothernet/results/tabular/multiclass/results_tabpfn_time_10000000_roc_auc_meta_stream_intervals.arff_22582_45164_4_cuda.npy\n"
     ]
    },
    {
     "name": "stderr",
     "output_type": "stream",
     "text": [
      "evaluating tabpfn on cuda oil_spill:   3%|▎         | 5/170 [00:01<00:33,  4.93it/s]                 "
     ]
    },
    {
     "name": "stdout",
     "output_type": "stream",
     "text": [
      "Loaded saved result for /opt/hpcaas/.mounts/fs-0663e2d3c38211883/home/yuchenzeng/tabflex/train_tabflex/mothernet/results/tabular/multiclass/results_tabpfn_time_10000000_roc_auc_meta_stream_intervals.arff_22582_45164_5_cuda.npy\n",
      "Loaded saved result for /opt/hpcaas/.mounts/fs-0663e2d3c38211883/home/yuchenzeng/tabflex/train_tabflex/mothernet/results/tabular/multiclass/results_tabpfn_time_10000000_roc_auc_oil_spill_468_936_1_cuda.npy\n"
     ]
    },
    {
     "name": "stderr",
     "output_type": "stream",
     "text": [
      "evaluating tabpfn on cuda fri_c2_500_50:  18%|█▊        | 31/170 [00:01<00:02, 51.71it/s]   "
     ]
    },
    {
     "name": "stdout",
     "output_type": "stream",
     "text": [
      "Loaded saved result for /opt/hpcaas/.mounts/fs-0663e2d3c38211883/home/yuchenzeng/tabflex/train_tabflex/mothernet/results/tabular/multiclass/results_tabpfn_time_10000000_roc_auc_oil_spill_468_936_2_cuda.npy\n",
      "Loaded saved result for /opt/hpcaas/.mounts/fs-0663e2d3c38211883/home/yuchenzeng/tabflex/train_tabflex/mothernet/results/tabular/multiclass/results_tabpfn_time_10000000_roc_auc_oil_spill_468_936_3_cuda.npy\n",
      "Loaded saved result for /opt/hpcaas/.mounts/fs-0663e2d3c38211883/home/yuchenzeng/tabflex/train_tabflex/mothernet/results/tabular/multiclass/results_tabpfn_time_10000000_roc_auc_oil_spill_468_936_4_cuda.npy\n",
      "Loaded saved result for /opt/hpcaas/.mounts/fs-0663e2d3c38211883/home/yuchenzeng/tabflex/train_tabflex/mothernet/results/tabular/multiclass/results_tabpfn_time_10000000_roc_auc_oil_spill_468_936_5_cuda.npy\n",
      "Loaded saved result for /opt/hpcaas/.mounts/fs-0663e2d3c38211883/home/yuchenzeng/tabflex/train_tabflex/mothernet/results/tabular/multiclass/results_tabpfn_time_10000000_roc_auc_fri_c4_500_100_250_500_1_cuda.npy\n",
      "Loaded saved result for /opt/hpcaas/.mounts/fs-0663e2d3c38211883/home/yuchenzeng/tabflex/train_tabflex/mothernet/results/tabular/multiclass/results_tabpfn_time_10000000_roc_auc_fri_c4_500_100_250_500_2_cuda.npy\n",
      "Loaded saved result for /opt/hpcaas/.mounts/fs-0663e2d3c38211883/home/yuchenzeng/tabflex/train_tabflex/mothernet/results/tabular/multiclass/results_tabpfn_time_10000000_roc_auc_fri_c4_500_100_250_500_3_cuda.npy\n",
      "Loaded saved result for /opt/hpcaas/.mounts/fs-0663e2d3c38211883/home/yuchenzeng/tabflex/train_tabflex/mothernet/results/tabular/multiclass/results_tabpfn_time_10000000_roc_auc_fri_c4_500_100_250_500_4_cuda.npy\n",
      "Loaded saved result for /opt/hpcaas/.mounts/fs-0663e2d3c38211883/home/yuchenzeng/tabflex/train_tabflex/mothernet/results/tabular/multiclass/results_tabpfn_time_10000000_roc_auc_fri_c4_500_100_250_500_5_cuda.npy\n",
      "Loaded saved result for /opt/hpcaas/.mounts/fs-0663e2d3c38211883/home/yuchenzeng/tabflex/train_tabflex/mothernet/results/tabular/multiclass/results_tabpfn_time_10000000_roc_auc_boston_corrected_253_506_1_cuda.npy\n",
      "Loaded saved result for /opt/hpcaas/.mounts/fs-0663e2d3c38211883/home/yuchenzeng/tabflex/train_tabflex/mothernet/results/tabular/multiclass/results_tabpfn_time_10000000_roc_auc_boston_corrected_253_506_2_cuda.npy\n",
      "Loaded saved result for /opt/hpcaas/.mounts/fs-0663e2d3c38211883/home/yuchenzeng/tabflex/train_tabflex/mothernet/results/tabular/multiclass/results_tabpfn_time_10000000_roc_auc_boston_corrected_253_506_3_cuda.npy\n",
      "Loaded saved result for /opt/hpcaas/.mounts/fs-0663e2d3c38211883/home/yuchenzeng/tabflex/train_tabflex/mothernet/results/tabular/multiclass/results_tabpfn_time_10000000_roc_auc_boston_corrected_253_506_4_cuda.npy\n",
      "Loaded saved result for /opt/hpcaas/.mounts/fs-0663e2d3c38211883/home/yuchenzeng/tabflex/train_tabflex/mothernet/results/tabular/multiclass/results_tabpfn_time_10000000_roc_auc_boston_corrected_253_506_5_cuda.npy\n",
      "Loaded saved result for /opt/hpcaas/.mounts/fs-0663e2d3c38211883/home/yuchenzeng/tabflex/train_tabflex/mothernet/results/tabular/multiclass/results_tabpfn_time_10000000_roc_auc_bank32nh_4096_8192_1_cuda.npy\n",
      "Loaded saved result for /opt/hpcaas/.mounts/fs-0663e2d3c38211883/home/yuchenzeng/tabflex/train_tabflex/mothernet/results/tabular/multiclass/results_tabpfn_time_10000000_roc_auc_bank32nh_4096_8192_2_cuda.npy\n",
      "Loaded saved result for /opt/hpcaas/.mounts/fs-0663e2d3c38211883/home/yuchenzeng/tabflex/train_tabflex/mothernet/results/tabular/multiclass/results_tabpfn_time_10000000_roc_auc_bank32nh_4096_8192_3_cuda.npy\n",
      "Loaded saved result for /opt/hpcaas/.mounts/fs-0663e2d3c38211883/home/yuchenzeng/tabflex/train_tabflex/mothernet/results/tabular/multiclass/results_tabpfn_time_10000000_roc_auc_bank32nh_4096_8192_4_cuda.npy\n",
      "Loaded saved result for /opt/hpcaas/.mounts/fs-0663e2d3c38211883/home/yuchenzeng/tabflex/train_tabflex/mothernet/results/tabular/multiclass/results_tabpfn_time_10000000_roc_auc_bank32nh_4096_8192_5_cuda.npy\n",
      "Loaded saved result for /opt/hpcaas/.mounts/fs-0663e2d3c38211883/home/yuchenzeng/tabflex/train_tabflex/mothernet/results/tabular/multiclass/results_tabpfn_time_10000000_roc_auc_stock_475_950_1_cuda.npy\n",
      "Loaded saved result for /opt/hpcaas/.mounts/fs-0663e2d3c38211883/home/yuchenzeng/tabflex/train_tabflex/mothernet/results/tabular/multiclass/results_tabpfn_time_10000000_roc_auc_stock_475_950_2_cuda.npy\n",
      "Loaded saved result for /opt/hpcaas/.mounts/fs-0663e2d3c38211883/home/yuchenzeng/tabflex/train_tabflex/mothernet/results/tabular/multiclass/results_tabpfn_time_10000000_roc_auc_stock_475_950_3_cuda.npy\n",
      "Loaded saved result for /opt/hpcaas/.mounts/fs-0663e2d3c38211883/home/yuchenzeng/tabflex/train_tabflex/mothernet/results/tabular/multiclass/results_tabpfn_time_10000000_roc_auc_stock_475_950_4_cuda.npy\n",
      "Loaded saved result for /opt/hpcaas/.mounts/fs-0663e2d3c38211883/home/yuchenzeng/tabflex/train_tabflex/mothernet/results/tabular/multiclass/results_tabpfn_time_10000000_roc_auc_stock_475_950_5_cuda.npy\n",
      "Loaded saved result for /opt/hpcaas/.mounts/fs-0663e2d3c38211883/home/yuchenzeng/tabflex/train_tabflex/mothernet/results/tabular/multiclass/results_tabpfn_time_10000000_roc_auc_fri_c2_500_50_250_500_1_cuda.npy\n",
      "Loaded saved result for /opt/hpcaas/.mounts/fs-0663e2d3c38211883/home/yuchenzeng/tabflex/train_tabflex/mothernet/results/tabular/multiclass/results_tabpfn_time_10000000_roc_auc_fri_c2_500_50_250_500_2_cuda.npy\n"
     ]
    },
    {
     "name": "stderr",
     "output_type": "stream",
     "text": [
      "evaluating tabpfn on cuda one-hundred-plants-margin:  26%|██▌       | 44/170 [00:01<00:01, 69.72it/s]"
     ]
    },
    {
     "name": "stdout",
     "output_type": "stream",
     "text": [
      "Loaded saved result for /opt/hpcaas/.mounts/fs-0663e2d3c38211883/home/yuchenzeng/tabflex/train_tabflex/mothernet/results/tabular/multiclass/results_tabpfn_time_10000000_roc_auc_fri_c2_500_50_250_500_3_cuda.npy\n",
      "Loaded saved result for /opt/hpcaas/.mounts/fs-0663e2d3c38211883/home/yuchenzeng/tabflex/train_tabflex/mothernet/results/tabular/multiclass/results_tabpfn_time_10000000_roc_auc_fri_c2_500_50_250_500_4_cuda.npy\n",
      "Loaded saved result for /opt/hpcaas/.mounts/fs-0663e2d3c38211883/home/yuchenzeng/tabflex/train_tabflex/mothernet/results/tabular/multiclass/results_tabpfn_time_10000000_roc_auc_fri_c2_500_50_250_500_5_cuda.npy\n",
      "Loaded saved result for /opt/hpcaas/.mounts/fs-0663e2d3c38211883/home/yuchenzeng/tabflex/train_tabflex/mothernet/results/tabular/multiclass/results_tabpfn_time_10000000_roc_auc_water-treatment_263_526_1_cuda.npy\n",
      "Loaded saved result for /opt/hpcaas/.mounts/fs-0663e2d3c38211883/home/yuchenzeng/tabflex/train_tabflex/mothernet/results/tabular/multiclass/results_tabpfn_time_10000000_roc_auc_water-treatment_263_526_2_cuda.npy\n",
      "Loaded saved result for /opt/hpcaas/.mounts/fs-0663e2d3c38211883/home/yuchenzeng/tabflex/train_tabflex/mothernet/results/tabular/multiclass/results_tabpfn_time_10000000_roc_auc_water-treatment_263_526_3_cuda.npy\n",
      "Loaded saved result for /opt/hpcaas/.mounts/fs-0663e2d3c38211883/home/yuchenzeng/tabflex/train_tabflex/mothernet/results/tabular/multiclass/results_tabpfn_time_10000000_roc_auc_water-treatment_263_526_4_cuda.npy\n",
      "Loaded saved result for /opt/hpcaas/.mounts/fs-0663e2d3c38211883/home/yuchenzeng/tabflex/train_tabflex/mothernet/results/tabular/multiclass/results_tabpfn_time_10000000_roc_auc_water-treatment_263_526_5_cuda.npy\n",
      "Loaded saved result for /opt/hpcaas/.mounts/fs-0663e2d3c38211883/home/yuchenzeng/tabflex/train_tabflex/mothernet/results/tabular/multiclass/results_tabpfn_time_10000000_roc_auc_kdd_internet_usage_5054_10108_1_cuda.npy\n",
      "Loaded saved result for /opt/hpcaas/.mounts/fs-0663e2d3c38211883/home/yuchenzeng/tabflex/train_tabflex/mothernet/results/tabular/multiclass/results_tabpfn_time_10000000_roc_auc_kdd_internet_usage_5054_10108_2_cuda.npy\n",
      "Loaded saved result for /opt/hpcaas/.mounts/fs-0663e2d3c38211883/home/yuchenzeng/tabflex/train_tabflex/mothernet/results/tabular/multiclass/results_tabpfn_time_10000000_roc_auc_kdd_internet_usage_5054_10108_3_cuda.npy\n",
      "Loaded saved result for /opt/hpcaas/.mounts/fs-0663e2d3c38211883/home/yuchenzeng/tabflex/train_tabflex/mothernet/results/tabular/multiclass/results_tabpfn_time_10000000_roc_auc_kdd_internet_usage_5054_10108_4_cuda.npy\n",
      "Loaded saved result for /opt/hpcaas/.mounts/fs-0663e2d3c38211883/home/yuchenzeng/tabflex/train_tabflex/mothernet/results/tabular/multiclass/results_tabpfn_time_10000000_roc_auc_kdd_internet_usage_5054_10108_5_cuda.npy\n",
      "Loaded saved result for /opt/hpcaas/.mounts/fs-0663e2d3c38211883/home/yuchenzeng/tabflex/train_tabflex/mothernet/results/tabular/multiclass/results_tabpfn_time_10000000_roc_auc_hiva_agnostic_2114_4228_1_cuda.npy\n",
      "Loaded saved result for /opt/hpcaas/.mounts/fs-0663e2d3c38211883/home/yuchenzeng/tabflex/train_tabflex/mothernet/results/tabular/multiclass/results_tabpfn_time_10000000_roc_auc_hiva_agnostic_2114_4228_2_cuda.npy\n",
      "Loaded saved result for /opt/hpcaas/.mounts/fs-0663e2d3c38211883/home/yuchenzeng/tabflex/train_tabflex/mothernet/results/tabular/multiclass/results_tabpfn_time_10000000_roc_auc_hiva_agnostic_2114_4228_3_cuda.npy\n",
      "Loaded saved result for /opt/hpcaas/.mounts/fs-0663e2d3c38211883/home/yuchenzeng/tabflex/train_tabflex/mothernet/results/tabular/multiclass/results_tabpfn_time_10000000_roc_auc_hiva_agnostic_2114_4228_4_cuda.npy\n",
      "Loaded saved result for /opt/hpcaas/.mounts/fs-0663e2d3c38211883/home/yuchenzeng/tabflex/train_tabflex/mothernet/results/tabular/multiclass/results_tabpfn_time_10000000_roc_auc_hiva_agnostic_2114_4228_5_cuda.npy\n",
      "Loaded saved result for /opt/hpcaas/.mounts/fs-0663e2d3c38211883/home/yuchenzeng/tabflex/train_tabflex/mothernet/results/tabular/multiclass/results_tabpfn_time_10000000_roc_auc_one-hundred-plants-margin_800_1600_1_cuda.npy\n"
     ]
    },
    {
     "name": "stderr",
     "output_type": "stream",
     "text": [
      "evaluating tabpfn on cuda one-hundred-plants-margin:  26%|██▌       | 44/170 [00:05<00:01, 69.72it/s]"
     ]
    },
    {
     "name": "stdout",
     "output_type": "stream",
     "text": [
      "Loaded saved result for /opt/hpcaas/.mounts/fs-0663e2d3c38211883/home/yuchenzeng/tabflex/train_tabflex/mothernet/results/tabular/multiclass/results_tabpfn_time_10000000_roc_auc_one-hundred-plants-margin_800_1600_2_cuda.npy\n"
     ]
    },
    {
     "name": "stderr",
     "output_type": "stream",
     "text": [
      "evaluating tabpfn on cuda one-hundred-plants-margin:  26%|██▌       | 44/170 [00:10<00:01, 69.72it/s]"
     ]
    },
    {
     "name": "stdout",
     "output_type": "stream",
     "text": [
      "Loaded saved result for /opt/hpcaas/.mounts/fs-0663e2d3c38211883/home/yuchenzeng/tabflex/train_tabflex/mothernet/results/tabular/multiclass/results_tabpfn_time_10000000_roc_auc_one-hundred-plants-margin_800_1600_3_cuda.npy\n"
     ]
    },
    {
     "name": "stderr",
     "output_type": "stream",
     "text": [
      "evaluating tabpfn on cuda one-hundred-plants-margin:  31%|███       | 53/170 [00:14<00:52,  2.21it/s]"
     ]
    },
    {
     "name": "stdout",
     "output_type": "stream",
     "text": [
      "Loaded saved result for /opt/hpcaas/.mounts/fs-0663e2d3c38211883/home/yuchenzeng/tabflex/train_tabflex/mothernet/results/tabular/multiclass/results_tabpfn_time_10000000_roc_auc_one-hundred-plants-margin_800_1600_4_cuda.npy\n"
     ]
    },
    {
     "name": "stderr",
     "output_type": "stream",
     "text": [
      "evaluating tabpfn on cuda one-hundred-plants-margin:  32%|███▏      | 54/170 [00:18<01:13,  1.58it/s]"
     ]
    },
    {
     "name": "stdout",
     "output_type": "stream",
     "text": [
      "Loaded saved result for /opt/hpcaas/.mounts/fs-0663e2d3c38211883/home/yuchenzeng/tabflex/train_tabflex/mothernet/results/tabular/multiclass/results_tabpfn_time_10000000_roc_auc_one-hundred-plants-margin_800_1600_5_cuda.npy\n"
     ]
    },
    {
     "name": "stderr",
     "output_type": "stream",
     "text": [
      "evaluating tabpfn on cuda one-hundred-plants-shape:  32%|███▏      | 54/170 [00:23<01:13,  1.58it/s] "
     ]
    },
    {
     "name": "stdout",
     "output_type": "stream",
     "text": [
      "Loaded saved result for /opt/hpcaas/.mounts/fs-0663e2d3c38211883/home/yuchenzeng/tabflex/train_tabflex/mothernet/results/tabular/multiclass/results_tabpfn_time_10000000_roc_auc_one-hundred-plants-shape_800_1600_1_cuda.npy\n"
     ]
    },
    {
     "name": "stderr",
     "output_type": "stream",
     "text": [
      "evaluating tabpfn on cuda one-hundred-plants-shape:  32%|███▏      | 54/170 [00:27<01:13,  1.58it/s]"
     ]
    },
    {
     "name": "stdout",
     "output_type": "stream",
     "text": [
      "Loaded saved result for /opt/hpcaas/.mounts/fs-0663e2d3c38211883/home/yuchenzeng/tabflex/train_tabflex/mothernet/results/tabular/multiclass/results_tabpfn_time_10000000_roc_auc_one-hundred-plants-shape_800_1600_2_cuda.npy\n"
     ]
    },
    {
     "name": "stderr",
     "output_type": "stream",
     "text": [
      "evaluating tabpfn on cuda one-hundred-plants-shape:  34%|███▎      | 57/170 [00:31<02:21,  1.25s/it]"
     ]
    },
    {
     "name": "stdout",
     "output_type": "stream",
     "text": [
      "Loaded saved result for /opt/hpcaas/.mounts/fs-0663e2d3c38211883/home/yuchenzeng/tabflex/train_tabflex/mothernet/results/tabular/multiclass/results_tabpfn_time_10000000_roc_auc_one-hundred-plants-shape_800_1600_3_cuda.npy\n"
     ]
    },
    {
     "name": "stderr",
     "output_type": "stream",
     "text": [
      "evaluating tabpfn on cuda one-hundred-plants-shape:  34%|███▍      | 58/170 [00:36<02:44,  1.47s/it]"
     ]
    },
    {
     "name": "stdout",
     "output_type": "stream",
     "text": [
      "Loaded saved result for /opt/hpcaas/.mounts/fs-0663e2d3c38211883/home/yuchenzeng/tabflex/train_tabflex/mothernet/results/tabular/multiclass/results_tabpfn_time_10000000_roc_auc_one-hundred-plants-shape_800_1600_4_cuda.npy\n"
     ]
    },
    {
     "name": "stderr",
     "output_type": "stream",
     "text": [
      "evaluating tabpfn on cuda one-hundred-plants-shape:  34%|███▍      | 58/170 [00:40<02:44,  1.47s/it]"
     ]
    },
    {
     "name": "stdout",
     "output_type": "stream",
     "text": [
      "Loaded saved result for /opt/hpcaas/.mounts/fs-0663e2d3c38211883/home/yuchenzeng/tabflex/train_tabflex/mothernet/results/tabular/multiclass/results_tabpfn_time_10000000_roc_auc_one-hundred-plants-shape_800_1600_5_cuda.npy\n"
     ]
    },
    {
     "name": "stderr",
     "output_type": "stream",
     "text": [
      "evaluating tabpfn on cuda spoken-arabic-digit:  34%|███▍      | 58/170 [00:44<02:44,  1.47s/it]     "
     ]
    },
    {
     "name": "stdout",
     "output_type": "stream",
     "text": [
      "Loaded saved result for /opt/hpcaas/.mounts/fs-0663e2d3c38211883/home/yuchenzeng/tabflex/train_tabflex/mothernet/results/tabular/multiclass/results_tabpfn_time_10000000_roc_auc_spoken-arabic-digit_131628_263256_1_cuda.npy\n"
     ]
    },
    {
     "name": "stderr",
     "output_type": "stream",
     "text": [
      "evaluating tabpfn on cuda spoken-arabic-digit:  34%|███▍      | 58/170 [00:45<02:44,  1.47s/it]"
     ]
    },
    {
     "name": "stdout",
     "output_type": "stream",
     "text": [
      "Loaded saved result for /opt/hpcaas/.mounts/fs-0663e2d3c38211883/home/yuchenzeng/tabflex/train_tabflex/mothernet/results/tabular/multiclass/results_tabpfn_time_10000000_roc_auc_spoken-arabic-digit_131628_263256_2_cuda.npy\n"
     ]
    },
    {
     "name": "stderr",
     "output_type": "stream",
     "text": [
      "evaluating tabpfn on cuda spoken-arabic-digit:  34%|███▍      | 58/170 [00:46<02:44,  1.47s/it]"
     ]
    },
    {
     "name": "stdout",
     "output_type": "stream",
     "text": [
      "Loaded saved result for /opt/hpcaas/.mounts/fs-0663e2d3c38211883/home/yuchenzeng/tabflex/train_tabflex/mothernet/results/tabular/multiclass/results_tabpfn_time_10000000_roc_auc_spoken-arabic-digit_131628_263256_3_cuda.npy\n"
     ]
    },
    {
     "name": "stderr",
     "output_type": "stream",
     "text": [
      "evaluating tabpfn on cuda spoken-arabic-digit:  37%|███▋      | 63/170 [00:46<03:00,  1.69s/it]"
     ]
    },
    {
     "name": "stdout",
     "output_type": "stream",
     "text": [
      "Loaded saved result for /opt/hpcaas/.mounts/fs-0663e2d3c38211883/home/yuchenzeng/tabflex/train_tabflex/mothernet/results/tabular/multiclass/results_tabpfn_time_10000000_roc_auc_spoken-arabic-digit_131628_263256_4_cuda.npy\n"
     ]
    },
    {
     "name": "stderr",
     "output_type": "stream",
     "text": [
      "evaluating tabpfn on cuda spoken-arabic-digit:  38%|███▊      | 64/170 [00:47<02:48,  1.59s/it]"
     ]
    },
    {
     "name": "stdout",
     "output_type": "stream",
     "text": [
      "Loaded saved result for /opt/hpcaas/.mounts/fs-0663e2d3c38211883/home/yuchenzeng/tabflex/train_tabflex/mothernet/results/tabular/multiclass/results_tabpfn_time_10000000_roc_auc_spoken-arabic-digit_131628_263256_5_cuda.npy\n"
     ]
    },
    {
     "name": "stderr",
     "output_type": "stream",
     "text": [
      "evaluating tabpfn on cuda micro-mass:  38%|███▊      | 64/170 [00:48<02:48,  1.59s/it]         "
     ]
    },
    {
     "name": "stdout",
     "output_type": "stream",
     "text": [
      "Loaded saved result for /opt/hpcaas/.mounts/fs-0663e2d3c38211883/home/yuchenzeng/tabflex/train_tabflex/mothernet/results/tabular/multiclass/results_tabpfn_time_10000000_roc_auc_micro-mass_285_570_1_cuda.npy\n",
      "Loaded saved result for /opt/hpcaas/.mounts/fs-0663e2d3c38211883/home/yuchenzeng/tabflex/train_tabflex/mothernet/results/tabular/multiclass/results_tabpfn_time_10000000_roc_auc_micro-mass_285_570_2_cuda.npy\n"
     ]
    },
    {
     "name": "stderr",
     "output_type": "stream",
     "text": [
      "evaluating tabpfn on cuda micro-mass:  39%|███▉      | 67/170 [00:48<02:07,  1.24s/it]"
     ]
    },
    {
     "name": "stdout",
     "output_type": "stream",
     "text": [
      "Loaded saved result for /opt/hpcaas/.mounts/fs-0663e2d3c38211883/home/yuchenzeng/tabflex/train_tabflex/mothernet/results/tabular/multiclass/results_tabpfn_time_10000000_roc_auc_micro-mass_285_570_3_cuda.npy\n",
      "Loaded saved result for /opt/hpcaas/.mounts/fs-0663e2d3c38211883/home/yuchenzeng/tabflex/train_tabflex/mothernet/results/tabular/multiclass/results_tabpfn_time_10000000_roc_auc_micro-mass_285_570_4_cuda.npy\n"
     ]
    },
    {
     "name": "stderr",
     "output_type": "stream",
     "text": [
      "evaluating tabpfn on cuda volcanoes-b6:  41%|████      | 70/170 [00:48<01:33,  1.07it/s]"
     ]
    },
    {
     "name": "stdout",
     "output_type": "stream",
     "text": [
      "Loaded saved result for /opt/hpcaas/.mounts/fs-0663e2d3c38211883/home/yuchenzeng/tabflex/train_tabflex/mothernet/results/tabular/multiclass/results_tabpfn_time_10000000_roc_auc_micro-mass_285_570_5_cuda.npy\n",
      "Loaded saved result for /opt/hpcaas/.mounts/fs-0663e2d3c38211883/home/yuchenzeng/tabflex/train_tabflex/mothernet/results/tabular/multiclass/results_tabpfn_time_10000000_roc_auc_volcanoes-b6_5065_10130_1_cuda.npy\n",
      "Loaded saved result for /opt/hpcaas/.mounts/fs-0663e2d3c38211883/home/yuchenzeng/tabflex/train_tabflex/mothernet/results/tabular/multiclass/results_tabpfn_time_10000000_roc_auc_volcanoes-b6_5065_10130_2_cuda.npy\n"
     ]
    },
    {
     "name": "stderr",
     "output_type": "stream",
     "text": [
      "evaluating tabpfn on cuda autoUniv-au6-750:  47%|████▋     | 80/170 [00:49<00:33,  2.70it/s]"
     ]
    },
    {
     "name": "stdout",
     "output_type": "stream",
     "text": [
      "Loaded saved result for /opt/hpcaas/.mounts/fs-0663e2d3c38211883/home/yuchenzeng/tabflex/train_tabflex/mothernet/results/tabular/multiclass/results_tabpfn_time_10000000_roc_auc_volcanoes-b6_5065_10130_3_cuda.npy\n",
      "Loaded saved result for /opt/hpcaas/.mounts/fs-0663e2d3c38211883/home/yuchenzeng/tabflex/train_tabflex/mothernet/results/tabular/multiclass/results_tabpfn_time_10000000_roc_auc_volcanoes-b6_5065_10130_4_cuda.npy\n",
      "Loaded saved result for /opt/hpcaas/.mounts/fs-0663e2d3c38211883/home/yuchenzeng/tabflex/train_tabflex/mothernet/results/tabular/multiclass/results_tabpfn_time_10000000_roc_auc_volcanoes-b6_5065_10130_5_cuda.npy\n",
      "Loaded saved result for /opt/hpcaas/.mounts/fs-0663e2d3c38211883/home/yuchenzeng/tabflex/train_tabflex/mothernet/results/tabular/multiclass/results_tabpfn_time_10000000_roc_auc_volcanoes-d4_4327_8654_1_cuda.npy\n",
      "Loaded saved result for /opt/hpcaas/.mounts/fs-0663e2d3c38211883/home/yuchenzeng/tabflex/train_tabflex/mothernet/results/tabular/multiclass/results_tabpfn_time_10000000_roc_auc_volcanoes-d4_4327_8654_2_cuda.npy\n",
      "Loaded saved result for /opt/hpcaas/.mounts/fs-0663e2d3c38211883/home/yuchenzeng/tabflex/train_tabflex/mothernet/results/tabular/multiclass/results_tabpfn_time_10000000_roc_auc_volcanoes-d4_4327_8654_3_cuda.npy\n",
      "Loaded saved result for /opt/hpcaas/.mounts/fs-0663e2d3c38211883/home/yuchenzeng/tabflex/train_tabflex/mothernet/results/tabular/multiclass/results_tabpfn_time_10000000_roc_auc_volcanoes-d4_4327_8654_4_cuda.npy\n",
      "Loaded saved result for /opt/hpcaas/.mounts/fs-0663e2d3c38211883/home/yuchenzeng/tabflex/train_tabflex/mothernet/results/tabular/multiclass/results_tabpfn_time_10000000_roc_auc_volcanoes-d4_4327_8654_5_cuda.npy\n",
      "Loaded saved result for /opt/hpcaas/.mounts/fs-0663e2d3c38211883/home/yuchenzeng/tabflex/train_tabflex/mothernet/results/tabular/multiclass/results_tabpfn_time_10000000_roc_auc_autoUniv-au6-750_375_750_1_cuda.npy\n"
     ]
    },
    {
     "name": "stderr",
     "output_type": "stream",
     "text": [
      "evaluating tabpfn on cuda fars:  49%|████▉     | 84/170 [00:49<00:23,  3.69it/s]                                               "
     ]
    },
    {
     "name": "stdout",
     "output_type": "stream",
     "text": [
      "Loaded saved result for /opt/hpcaas/.mounts/fs-0663e2d3c38211883/home/yuchenzeng/tabflex/train_tabflex/mothernet/results/tabular/multiclass/results_tabpfn_time_10000000_roc_auc_autoUniv-au6-750_375_750_2_cuda.npy\n",
      "Loaded saved result for /opt/hpcaas/.mounts/fs-0663e2d3c38211883/home/yuchenzeng/tabflex/train_tabflex/mothernet/results/tabular/multiclass/results_tabpfn_time_10000000_roc_auc_autoUniv-au6-750_375_750_3_cuda.npy\n",
      "Loaded saved result for /opt/hpcaas/.mounts/fs-0663e2d3c38211883/home/yuchenzeng/tabflex/train_tabflex/mothernet/results/tabular/multiclass/results_tabpfn_time_10000000_roc_auc_autoUniv-au6-750_375_750_4_cuda.npy\n",
      "Loaded saved result for /opt/hpcaas/.mounts/fs-0663e2d3c38211883/home/yuchenzeng/tabflex/train_tabflex/mothernet/results/tabular/multiclass/results_tabpfn_time_10000000_roc_auc_autoUniv-au6-750_375_750_5_cuda.npy\n",
      "Loaded saved result for /opt/hpcaas/.mounts/fs-0663e2d3c38211883/home/yuchenzeng/tabflex/train_tabflex/mothernet/results/tabular/multiclass/results_tabpfn_time_10000000_roc_auc_GAMETES_Epistasis_2-Way_1000atts_0.4H_EDM-1_EDM-1_1_800_1600_1_cuda.npy\n",
      "Loaded saved result for /opt/hpcaas/.mounts/fs-0663e2d3c38211883/home/yuchenzeng/tabflex/train_tabflex/mothernet/results/tabular/multiclass/results_tabpfn_time_10000000_roc_auc_GAMETES_Epistasis_2-Way_1000atts_0.4H_EDM-1_EDM-1_1_800_1600_2_cuda.npy\n",
      "Loaded saved result for /opt/hpcaas/.mounts/fs-0663e2d3c38211883/home/yuchenzeng/tabflex/train_tabflex/mothernet/results/tabular/multiclass/results_tabpfn_time_10000000_roc_auc_GAMETES_Epistasis_2-Way_1000atts_0.4H_EDM-1_EDM-1_1_800_1600_3_cuda.npy\n",
      "Loaded saved result for /opt/hpcaas/.mounts/fs-0663e2d3c38211883/home/yuchenzeng/tabflex/train_tabflex/mothernet/results/tabular/multiclass/results_tabpfn_time_10000000_roc_auc_GAMETES_Epistasis_2-Way_1000atts_0.4H_EDM-1_EDM-1_1_800_1600_4_cuda.npy\n",
      "Loaded saved result for /opt/hpcaas/.mounts/fs-0663e2d3c38211883/home/yuchenzeng/tabflex/train_tabflex/mothernet/results/tabular/multiclass/results_tabpfn_time_10000000_roc_auc_GAMETES_Epistasis_2-Way_1000atts_0.4H_EDM-1_EDM-1_1_800_1600_5_cuda.npy\n",
      "Loaded saved result for /opt/hpcaas/.mounts/fs-0663e2d3c38211883/home/yuchenzeng/tabflex/train_tabflex/mothernet/results/tabular/multiclass/results_tabpfn_time_10000000_roc_auc_fars_50484_100968_1_cuda.npy\n"
     ]
    },
    {
     "name": "stderr",
     "output_type": "stream",
     "text": [
      "evaluating tabpfn on cuda fars:  54%|█████▎    | 91/170 [00:49<00:13,  5.72it/s]"
     ]
    },
    {
     "name": "stdout",
     "output_type": "stream",
     "text": [
      "Loaded saved result for /opt/hpcaas/.mounts/fs-0663e2d3c38211883/home/yuchenzeng/tabflex/train_tabflex/mothernet/results/tabular/multiclass/results_tabpfn_time_10000000_roc_auc_fars_50484_100968_2_cuda.npy\n"
     ]
    },
    {
     "name": "stderr",
     "output_type": "stream",
     "text": [
      "evaluating tabpfn on cuda fars:  54%|█████▎    | 91/170 [00:49<00:13,  5.72it/s]"
     ]
    },
    {
     "name": "stdout",
     "output_type": "stream",
     "text": [
      "Loaded saved result for /opt/hpcaas/.mounts/fs-0663e2d3c38211883/home/yuchenzeng/tabflex/train_tabflex/mothernet/results/tabular/multiclass/results_tabpfn_time_10000000_roc_auc_fars_50484_100968_3_cuda.npy\n"
     ]
    },
    {
     "name": "stderr",
     "output_type": "stream",
     "text": [
      "evaluating tabpfn on cuda fars:  54%|█████▎    | 91/170 [00:49<00:13,  5.72it/s]"
     ]
    },
    {
     "name": "stdout",
     "output_type": "stream",
     "text": [
      "Loaded saved result for /opt/hpcaas/.mounts/fs-0663e2d3c38211883/home/yuchenzeng/tabflex/train_tabflex/mothernet/results/tabular/multiclass/results_tabpfn_time_10000000_roc_auc_fars_50484_100968_4_cuda.npy\n"
     ]
    },
    {
     "name": "stderr",
     "output_type": "stream",
     "text": [
      "evaluating tabpfn on cuda fars:  55%|█████▌    | 94/170 [00:50<00:14,  5.38it/s]"
     ]
    },
    {
     "name": "stdout",
     "output_type": "stream",
     "text": [
      "Loaded saved result for /opt/hpcaas/.mounts/fs-0663e2d3c38211883/home/yuchenzeng/tabflex/train_tabflex/mothernet/results/tabular/multiclass/results_tabpfn_time_10000000_roc_auc_fars_50484_100968_5_cuda.npy\n"
     ]
    },
    {
     "name": "stderr",
     "output_type": "stream",
     "text": [
      "evaluating tabpfn on cuda led24:  57%|█████▋    | 97/170 [00:50<00:12,  5.92it/s]"
     ]
    },
    {
     "name": "stdout",
     "output_type": "stream",
     "text": [
      "Loaded saved result for /opt/hpcaas/.mounts/fs-0663e2d3c38211883/home/yuchenzeng/tabflex/train_tabflex/mothernet/results/tabular/multiclass/results_tabpfn_time_10000000_roc_auc_led24_1600_3200_1_cuda.npy\n",
      "Loaded saved result for /opt/hpcaas/.mounts/fs-0663e2d3c38211883/home/yuchenzeng/tabflex/train_tabflex/mothernet/results/tabular/multiclass/results_tabpfn_time_10000000_roc_auc_led24_1600_3200_2_cuda.npy\n",
      "Loaded saved result for /opt/hpcaas/.mounts/fs-0663e2d3c38211883/home/yuchenzeng/tabflex/train_tabflex/mothernet/results/tabular/multiclass/results_tabpfn_time_10000000_roc_auc_led24_1600_3200_3_cuda.npy\n",
      "Loaded saved result for /opt/hpcaas/.mounts/fs-0663e2d3c38211883/home/yuchenzeng/tabflex/train_tabflex/mothernet/results/tabular/multiclass/results_tabpfn_time_10000000_roc_auc_led24_1600_3200_4_cuda.npy\n"
     ]
    },
    {
     "name": "stderr",
     "output_type": "stream",
     "text": [
      "evaluating tabpfn on cuda Run_or_walk_information:  63%|██████▎   | 107/170 [00:50<00:05, 12.48it/s]"
     ]
    },
    {
     "name": "stdout",
     "output_type": "stream",
     "text": [
      "Loaded saved result for /opt/hpcaas/.mounts/fs-0663e2d3c38211883/home/yuchenzeng/tabflex/train_tabflex/mothernet/results/tabular/multiclass/results_tabpfn_time_10000000_roc_auc_led24_1600_3200_5_cuda.npy\n",
      "Loaded saved result for /opt/hpcaas/.mounts/fs-0663e2d3c38211883/home/yuchenzeng/tabflex/train_tabflex/mothernet/results/tabular/multiclass/results_tabpfn_time_10000000_roc_auc_xd6_486_972_1_cuda.npy\n",
      "Loaded saved result for /opt/hpcaas/.mounts/fs-0663e2d3c38211883/home/yuchenzeng/tabflex/train_tabflex/mothernet/results/tabular/multiclass/results_tabpfn_time_10000000_roc_auc_xd6_486_972_2_cuda.npy\n",
      "Loaded saved result for /opt/hpcaas/.mounts/fs-0663e2d3c38211883/home/yuchenzeng/tabflex/train_tabflex/mothernet/results/tabular/multiclass/results_tabpfn_time_10000000_roc_auc_xd6_486_972_3_cuda.npy\n",
      "Loaded saved result for /opt/hpcaas/.mounts/fs-0663e2d3c38211883/home/yuchenzeng/tabflex/train_tabflex/mothernet/results/tabular/multiclass/results_tabpfn_time_10000000_roc_auc_xd6_486_972_4_cuda.npy\n",
      "Loaded saved result for /opt/hpcaas/.mounts/fs-0663e2d3c38211883/home/yuchenzeng/tabflex/train_tabflex/mothernet/results/tabular/multiclass/results_tabpfn_time_10000000_roc_auc_xd6_486_972_5_cuda.npy\n",
      "Loaded saved result for /opt/hpcaas/.mounts/fs-0663e2d3c38211883/home/yuchenzeng/tabflex/train_tabflex/mothernet/results/tabular/multiclass/results_tabpfn_time_10000000_roc_auc_tokyo1_479_958_1_cuda.npy\n",
      "Loaded saved result for /opt/hpcaas/.mounts/fs-0663e2d3c38211883/home/yuchenzeng/tabflex/train_tabflex/mothernet/results/tabular/multiclass/results_tabpfn_time_10000000_roc_auc_tokyo1_479_958_2_cuda.npy\n",
      "Loaded saved result for /opt/hpcaas/.mounts/fs-0663e2d3c38211883/home/yuchenzeng/tabflex/train_tabflex/mothernet/results/tabular/multiclass/results_tabpfn_time_10000000_roc_auc_tokyo1_479_958_3_cuda.npy\n",
      "Loaded saved result for /opt/hpcaas/.mounts/fs-0663e2d3c38211883/home/yuchenzeng/tabflex/train_tabflex/mothernet/results/tabular/multiclass/results_tabpfn_time_10000000_roc_auc_tokyo1_479_958_4_cuda.npy\n",
      "Loaded saved result for /opt/hpcaas/.mounts/fs-0663e2d3c38211883/home/yuchenzeng/tabflex/train_tabflex/mothernet/results/tabular/multiclass/results_tabpfn_time_10000000_roc_auc_tokyo1_479_958_5_cuda.npy\n",
      "Loaded saved result for /opt/hpcaas/.mounts/fs-0663e2d3c38211883/home/yuchenzeng/tabflex/train_tabflex/mothernet/results/tabular/multiclass/results_tabpfn_time_10000000_roc_auc_Run_or_walk_information_44294_88588_1_cuda.npy\n",
      "Loaded saved result for /opt/hpcaas/.mounts/fs-0663e2d3c38211883/home/yuchenzeng/tabflex/train_tabflex/mothernet/results/tabular/multiclass/results_tabpfn_time_10000000_roc_auc_Run_or_walk_information_44294_88588_2_cuda.npy\n",
      "Loaded saved result for /opt/hpcaas/.mounts/fs-0663e2d3c38211883/home/yuchenzeng/tabflex/train_tabflex/mothernet/results/tabular/multiclass/results_tabpfn_time_10000000_roc_auc_Run_or_walk_information_44294_88588_3_cuda.npy\n",
      "Loaded saved result for /opt/hpcaas/.mounts/fs-0663e2d3c38211883/home/yuchenzeng/tabflex/train_tabflex/mothernet/results/tabular/multiclass/results_tabpfn_time_10000000_roc_auc_Run_or_walk_information_44294_88588_4_cuda.npy\n"
     ]
    },
    {
     "name": "stderr",
     "output_type": "stream",
     "text": [
      "evaluating tabpfn on cuda tamilnadu-electricity:  67%|██████▋   | 114/170 [00:50<00:03, 18.24it/s]  "
     ]
    },
    {
     "name": "stdout",
     "output_type": "stream",
     "text": [
      "Loaded saved result for /opt/hpcaas/.mounts/fs-0663e2d3c38211883/home/yuchenzeng/tabflex/train_tabflex/mothernet/results/tabular/multiclass/results_tabpfn_time_10000000_roc_auc_Run_or_walk_information_44294_88588_5_cuda.npy\n",
      "Loaded saved result for /opt/hpcaas/.mounts/fs-0663e2d3c38211883/home/yuchenzeng/tabflex/train_tabflex/mothernet/results/tabular/multiclass/results_tabpfn_time_10000000_roc_auc_tamilnadu-electricity_22890_45780_1_cuda.npy\n"
     ]
    },
    {
     "name": "stderr",
     "output_type": "stream",
     "text": [
      "evaluating tabpfn on cuda tamilnadu-electricity:  67%|██████▋   | 114/170 [00:51<00:03, 18.24it/s]"
     ]
    },
    {
     "name": "stdout",
     "output_type": "stream",
     "text": [
      "Loaded saved result for /opt/hpcaas/.mounts/fs-0663e2d3c38211883/home/yuchenzeng/tabflex/train_tabflex/mothernet/results/tabular/multiclass/results_tabpfn_time_10000000_roc_auc_tamilnadu-electricity_22890_45780_2_cuda.npy\n"
     ]
    },
    {
     "name": "stderr",
     "output_type": "stream",
     "text": [
      "evaluating tabpfn on cuda tamilnadu-electricity:  67%|██████▋   | 114/170 [00:51<00:03, 18.24it/s]"
     ]
    },
    {
     "name": "stdout",
     "output_type": "stream",
     "text": [
      "Loaded saved result for /opt/hpcaas/.mounts/fs-0663e2d3c38211883/home/yuchenzeng/tabflex/train_tabflex/mothernet/results/tabular/multiclass/results_tabpfn_time_10000000_roc_auc_tamilnadu-electricity_22890_45780_3_cuda.npy\n"
     ]
    },
    {
     "name": "stderr",
     "output_type": "stream",
     "text": [
      "evaluating tabpfn on cuda tamilnadu-electricity:  67%|██████▋   | 114/170 [00:52<00:03, 18.24it/s]"
     ]
    },
    {
     "name": "stdout",
     "output_type": "stream",
     "text": [
      "Loaded saved result for /opt/hpcaas/.mounts/fs-0663e2d3c38211883/home/yuchenzeng/tabflex/train_tabflex/mothernet/results/tabular/multiclass/results_tabpfn_time_10000000_roc_auc_tamilnadu-electricity_22890_45780_4_cuda.npy\n"
     ]
    },
    {
     "name": "stderr",
     "output_type": "stream",
     "text": [
      "evaluating tabpfn on cuda tamilnadu-electricity:  70%|███████   | 119/170 [00:52<00:06,  7.57it/s]"
     ]
    },
    {
     "name": "stdout",
     "output_type": "stream",
     "text": [
      "Loaded saved result for /opt/hpcaas/.mounts/fs-0663e2d3c38211883/home/yuchenzeng/tabflex/train_tabflex/mothernet/results/tabular/multiclass/results_tabpfn_time_10000000_roc_auc_tamilnadu-electricity_22890_45780_5_cuda.npy\n"
     ]
    },
    {
     "name": "stderr",
     "output_type": "stream",
     "text": [
      "evaluating tabpfn on cuda USPS:  70%|███████   | 119/170 [00:53<00:06,  7.57it/s]                 "
     ]
    },
    {
     "name": "stdout",
     "output_type": "stream",
     "text": [
      "Loaded saved result for /opt/hpcaas/.mounts/fs-0663e2d3c38211883/home/yuchenzeng/tabflex/train_tabflex/mothernet/results/tabular/multiclass/results_tabpfn_time_10000000_roc_auc_USPS_4649_9298_1_cuda.npy\n",
      "Loaded saved result for /opt/hpcaas/.mounts/fs-0663e2d3c38211883/home/yuchenzeng/tabflex/train_tabflex/mothernet/results/tabular/multiclass/results_tabpfn_time_10000000_roc_auc_USPS_4649_9298_2_cuda.npy\n",
      "Loaded saved result for /opt/hpcaas/.mounts/fs-0663e2d3c38211883/home/yuchenzeng/tabflex/train_tabflex/mothernet/results/tabular/multiclass/results_tabpfn_time_10000000_roc_auc_USPS_4649_9298_3_cuda.npy\n"
     ]
    },
    {
     "name": "stderr",
     "output_type": "stream",
     "text": [
      "evaluating tabpfn on cuda madeline:  74%|███████▍  | 126/170 [00:53<00:05,  7.96it/s]"
     ]
    },
    {
     "name": "stdout",
     "output_type": "stream",
     "text": [
      "Loaded saved result for /opt/hpcaas/.mounts/fs-0663e2d3c38211883/home/yuchenzeng/tabflex/train_tabflex/mothernet/results/tabular/multiclass/results_tabpfn_time_10000000_roc_auc_USPS_4649_9298_4_cuda.npy\n",
      "Loaded saved result for /opt/hpcaas/.mounts/fs-0663e2d3c38211883/home/yuchenzeng/tabflex/train_tabflex/mothernet/results/tabular/multiclass/results_tabpfn_time_10000000_roc_auc_USPS_4649_9298_5_cuda.npy\n",
      "Loaded saved result for /opt/hpcaas/.mounts/fs-0663e2d3c38211883/home/yuchenzeng/tabflex/train_tabflex/mothernet/results/tabular/multiclass/results_tabpfn_time_10000000_roc_auc_madeline_1570_3140_1_cuda.npy\n",
      "Loaded saved result for /opt/hpcaas/.mounts/fs-0663e2d3c38211883/home/yuchenzeng/tabflex/train_tabflex/mothernet/results/tabular/multiclass/results_tabpfn_time_10000000_roc_auc_madeline_1570_3140_2_cuda.npy\n"
     ]
    },
    {
     "name": "stderr",
     "output_type": "stream",
     "text": [
      "evaluating tabpfn on cuda GTSRB-HOG01:  74%|███████▍  | 126/170 [00:53<00:05,  7.96it/s]"
     ]
    },
    {
     "name": "stdout",
     "output_type": "stream",
     "text": [
      "Loaded saved result for /opt/hpcaas/.mounts/fs-0663e2d3c38211883/home/yuchenzeng/tabflex/train_tabflex/mothernet/results/tabular/multiclass/results_tabpfn_time_10000000_roc_auc_madeline_1570_3140_3_cuda.npy\n",
      "Loaded saved result for /opt/hpcaas/.mounts/fs-0663e2d3c38211883/home/yuchenzeng/tabflex/train_tabflex/mothernet/results/tabular/multiclass/results_tabpfn_time_10000000_roc_auc_madeline_1570_3140_4_cuda.npy\n",
      "Loaded saved result for /opt/hpcaas/.mounts/fs-0663e2d3c38211883/home/yuchenzeng/tabflex/train_tabflex/mothernet/results/tabular/multiclass/results_tabpfn_time_10000000_roc_auc_madeline_1570_3140_5_cuda.npy\n",
      "Loaded saved result for /opt/hpcaas/.mounts/fs-0663e2d3c38211883/home/yuchenzeng/tabflex/train_tabflex/mothernet/results/tabular/multiclass/results_tabpfn_time_10000000_roc_auc_GTSRB-HOG01_25919_51838_1_cuda.npy\n"
     ]
    },
    {
     "name": "stderr",
     "output_type": "stream",
     "text": [
      "evaluating tabpfn on cuda GTSRB-HOG01:  77%|███████▋  | 131/170 [00:54<00:06,  5.73it/s]"
     ]
    },
    {
     "name": "stdout",
     "output_type": "stream",
     "text": [
      "Loaded saved result for /opt/hpcaas/.mounts/fs-0663e2d3c38211883/home/yuchenzeng/tabflex/train_tabflex/mothernet/results/tabular/multiclass/results_tabpfn_time_10000000_roc_auc_GTSRB-HOG01_25919_51838_2_cuda.npy\n"
     ]
    },
    {
     "name": "stderr",
     "output_type": "stream",
     "text": [
      "evaluating tabpfn on cuda GTSRB-HOG01:  77%|███████▋  | 131/170 [00:56<00:06,  5.73it/s]"
     ]
    },
    {
     "name": "stdout",
     "output_type": "stream",
     "text": [
      "Loaded saved result for /opt/hpcaas/.mounts/fs-0663e2d3c38211883/home/yuchenzeng/tabflex/train_tabflex/mothernet/results/tabular/multiclass/results_tabpfn_time_10000000_roc_auc_GTSRB-HOG01_25919_51838_3_cuda.npy\n"
     ]
    },
    {
     "name": "stderr",
     "output_type": "stream",
     "text": [
      "evaluating tabpfn on cuda GTSRB-HOG01:  78%|███████▊  | 133/170 [00:57<00:13,  2.80it/s]"
     ]
    },
    {
     "name": "stdout",
     "output_type": "stream",
     "text": [
      "Loaded saved result for /opt/hpcaas/.mounts/fs-0663e2d3c38211883/home/yuchenzeng/tabflex/train_tabflex/mothernet/results/tabular/multiclass/results_tabpfn_time_10000000_roc_auc_GTSRB-HOG01_25919_51838_4_cuda.npy\n"
     ]
    },
    {
     "name": "stderr",
     "output_type": "stream",
     "text": [
      "evaluating tabpfn on cuda GTSRB-HOG01:  78%|███████▊  | 133/170 [00:58<00:13,  2.80it/s]"
     ]
    },
    {
     "name": "stdout",
     "output_type": "stream",
     "text": [
      "Loaded saved result for /opt/hpcaas/.mounts/fs-0663e2d3c38211883/home/yuchenzeng/tabflex/train_tabflex/mothernet/results/tabular/multiclass/results_tabpfn_time_10000000_roc_auc_GTSRB-HOG01_25919_51838_5_cuda.npy\n"
     ]
    },
    {
     "name": "stderr",
     "output_type": "stream",
     "text": [
      "evaluating tabpfn on cuda GTSRB-HOG02:  79%|███████▉  | 135/170 [00:59<00:18,  1.87it/s]"
     ]
    },
    {
     "name": "stdout",
     "output_type": "stream",
     "text": [
      "Loaded saved result for /opt/hpcaas/.mounts/fs-0663e2d3c38211883/home/yuchenzeng/tabflex/train_tabflex/mothernet/results/tabular/multiclass/results_tabpfn_time_10000000_roc_auc_GTSRB-HOG02_25919_51838_1_cuda.npy\n"
     ]
    },
    {
     "name": "stderr",
     "output_type": "stream",
     "text": [
      "evaluating tabpfn on cuda GTSRB-HOG02:  80%|████████  | 136/170 [01:01<00:21,  1.56it/s]"
     ]
    },
    {
     "name": "stdout",
     "output_type": "stream",
     "text": [
      "Loaded saved result for /opt/hpcaas/.mounts/fs-0663e2d3c38211883/home/yuchenzeng/tabflex/train_tabflex/mothernet/results/tabular/multiclass/results_tabpfn_time_10000000_roc_auc_GTSRB-HOG02_25919_51838_2_cuda.npy\n"
     ]
    },
    {
     "name": "stderr",
     "output_type": "stream",
     "text": [
      "evaluating tabpfn on cuda GTSRB-HOG02:  81%|████████  | 137/170 [01:02<00:24,  1.36it/s]"
     ]
    },
    {
     "name": "stdout",
     "output_type": "stream",
     "text": [
      "Loaded saved result for /opt/hpcaas/.mounts/fs-0663e2d3c38211883/home/yuchenzeng/tabflex/train_tabflex/mothernet/results/tabular/multiclass/results_tabpfn_time_10000000_roc_auc_GTSRB-HOG02_25919_51838_3_cuda.npy\n"
     ]
    },
    {
     "name": "stderr",
     "output_type": "stream",
     "text": [
      "evaluating tabpfn on cuda GTSRB-HOG02:  81%|████████  | 138/170 [01:04<00:26,  1.20it/s]"
     ]
    },
    {
     "name": "stdout",
     "output_type": "stream",
     "text": [
      "Loaded saved result for /opt/hpcaas/.mounts/fs-0663e2d3c38211883/home/yuchenzeng/tabflex/train_tabflex/mothernet/results/tabular/multiclass/results_tabpfn_time_10000000_roc_auc_GTSRB-HOG02_25919_51838_4_cuda.npy\n"
     ]
    },
    {
     "name": "stderr",
     "output_type": "stream",
     "text": [
      "evaluating tabpfn on cuda GTSRB-HOG02:  82%|████████▏ | 139/170 [01:05<00:29,  1.05it/s]"
     ]
    },
    {
     "name": "stdout",
     "output_type": "stream",
     "text": [
      "Loaded saved result for /opt/hpcaas/.mounts/fs-0663e2d3c38211883/home/yuchenzeng/tabflex/train_tabflex/mothernet/results/tabular/multiclass/results_tabpfn_time_10000000_roc_auc_GTSRB-HOG02_25919_51838_5_cuda.npy\n"
     ]
    },
    {
     "name": "stderr",
     "output_type": "stream",
     "text": [
      "evaluating tabpfn on cuda GTSRB-HOG03:  82%|████████▏ | 140/170 [01:06<00:31,  1.04s/it]"
     ]
    },
    {
     "name": "stdout",
     "output_type": "stream",
     "text": [
      "Loaded saved result for /opt/hpcaas/.mounts/fs-0663e2d3c38211883/home/yuchenzeng/tabflex/train_tabflex/mothernet/results/tabular/multiclass/results_tabpfn_time_10000000_roc_auc_GTSRB-HOG03_25919_51838_1_cuda.npy\n"
     ]
    },
    {
     "name": "stderr",
     "output_type": "stream",
     "text": [
      "evaluating tabpfn on cuda GTSRB-HOG03:  83%|████████▎ | 141/170 [01:08<00:32,  1.11s/it]"
     ]
    },
    {
     "name": "stdout",
     "output_type": "stream",
     "text": [
      "Loaded saved result for /opt/hpcaas/.mounts/fs-0663e2d3c38211883/home/yuchenzeng/tabflex/train_tabflex/mothernet/results/tabular/multiclass/results_tabpfn_time_10000000_roc_auc_GTSRB-HOG03_25919_51838_2_cuda.npy\n"
     ]
    },
    {
     "name": "stderr",
     "output_type": "stream",
     "text": [
      "evaluating tabpfn on cuda GTSRB-HOG03:  84%|████████▎ | 142/170 [01:09<00:32,  1.17s/it]"
     ]
    },
    {
     "name": "stdout",
     "output_type": "stream",
     "text": [
      "Loaded saved result for /opt/hpcaas/.mounts/fs-0663e2d3c38211883/home/yuchenzeng/tabflex/train_tabflex/mothernet/results/tabular/multiclass/results_tabpfn_time_10000000_roc_auc_GTSRB-HOG03_25919_51838_3_cuda.npy\n"
     ]
    },
    {
     "name": "stderr",
     "output_type": "stream",
     "text": [
      "evaluating tabpfn on cuda GTSRB-HOG03:  84%|████████▍ | 143/170 [01:10<00:32,  1.21s/it]"
     ]
    },
    {
     "name": "stdout",
     "output_type": "stream",
     "text": [
      "Loaded saved result for /opt/hpcaas/.mounts/fs-0663e2d3c38211883/home/yuchenzeng/tabflex/train_tabflex/mothernet/results/tabular/multiclass/results_tabpfn_time_10000000_roc_auc_GTSRB-HOG03_25919_51838_4_cuda.npy\n"
     ]
    },
    {
     "name": "stderr",
     "output_type": "stream",
     "text": [
      "evaluating tabpfn on cuda GTSRB-HOG03:  85%|████████▍ | 144/170 [01:12<00:32,  1.24s/it]"
     ]
    },
    {
     "name": "stdout",
     "output_type": "stream",
     "text": [
      "Loaded saved result for /opt/hpcaas/.mounts/fs-0663e2d3c38211883/home/yuchenzeng/tabflex/train_tabflex/mothernet/results/tabular/multiclass/results_tabpfn_time_10000000_roc_auc_GTSRB-HOG03_25919_51838_5_cuda.npy\n"
     ]
    },
    {
     "name": "stderr",
     "output_type": "stream",
     "text": [
      "evaluating tabpfn on cuda GTSRB-HueHist:  85%|████████▌ | 145/170 [01:13<00:31,  1.26s/it]"
     ]
    },
    {
     "name": "stdout",
     "output_type": "stream",
     "text": [
      "Loaded saved result for /opt/hpcaas/.mounts/fs-0663e2d3c38211883/home/yuchenzeng/tabflex/train_tabflex/mothernet/results/tabular/multiclass/results_tabpfn_time_10000000_roc_auc_GTSRB-HueHist_25919_51838_1_cuda.npy\n"
     ]
    },
    {
     "name": "stderr",
     "output_type": "stream",
     "text": [
      "evaluating tabpfn on cuda GTSRB-HueHist:  86%|████████▌ | 146/170 [01:14<00:30,  1.28s/it]"
     ]
    },
    {
     "name": "stdout",
     "output_type": "stream",
     "text": [
      "Loaded saved result for /opt/hpcaas/.mounts/fs-0663e2d3c38211883/home/yuchenzeng/tabflex/train_tabflex/mothernet/results/tabular/multiclass/results_tabpfn_time_10000000_roc_auc_GTSRB-HueHist_25919_51838_2_cuda.npy\n"
     ]
    },
    {
     "name": "stderr",
     "output_type": "stream",
     "text": [
      "evaluating tabpfn on cuda GTSRB-HueHist:  86%|████████▋ | 147/170 [01:16<00:29,  1.30s/it]"
     ]
    },
    {
     "name": "stdout",
     "output_type": "stream",
     "text": [
      "Loaded saved result for /opt/hpcaas/.mounts/fs-0663e2d3c38211883/home/yuchenzeng/tabflex/train_tabflex/mothernet/results/tabular/multiclass/results_tabpfn_time_10000000_roc_auc_GTSRB-HueHist_25919_51838_3_cuda.npy\n"
     ]
    },
    {
     "name": "stderr",
     "output_type": "stream",
     "text": [
      "evaluating tabpfn on cuda GTSRB-HueHist:  87%|████████▋ | 148/170 [01:17<00:28,  1.31s/it]"
     ]
    },
    {
     "name": "stdout",
     "output_type": "stream",
     "text": [
      "Loaded saved result for /opt/hpcaas/.mounts/fs-0663e2d3c38211883/home/yuchenzeng/tabflex/train_tabflex/mothernet/results/tabular/multiclass/results_tabpfn_time_10000000_roc_auc_GTSRB-HueHist_25919_51838_4_cuda.npy\n"
     ]
    },
    {
     "name": "stderr",
     "output_type": "stream",
     "text": [
      "evaluating tabpfn on cuda GTSRB-HueHist:  88%|████████▊ | 149/170 [01:18<00:27,  1.31s/it]"
     ]
    },
    {
     "name": "stdout",
     "output_type": "stream",
     "text": [
      "Loaded saved result for /opt/hpcaas/.mounts/fs-0663e2d3c38211883/home/yuchenzeng/tabflex/train_tabflex/mothernet/results/tabular/multiclass/results_tabpfn_time_10000000_roc_auc_GTSRB-HueHist_25919_51838_5_cuda.npy\n"
     ]
    },
    {
     "name": "stderr",
     "output_type": "stream",
     "text": [
      "evaluating tabpfn on cuda Kuzushiji-49:  88%|████████▊ | 150/170 [01:20<00:26,  1.32s/it] "
     ]
    },
    {
     "name": "stdout",
     "output_type": "stream",
     "text": [
      "Loaded saved result for /opt/hpcaas/.mounts/fs-0663e2d3c38211883/home/yuchenzeng/tabflex/train_tabflex/mothernet/results/tabular/multiclass/results_tabpfn_time_10000000_roc_auc_Kuzushiji-49_135456_270912_1_cuda.npy\n"
     ]
    },
    {
     "name": "stderr",
     "output_type": "stream",
     "text": [
      "evaluating tabpfn on cuda Kuzushiji-49:  89%|████████▉ | 151/170 [01:23<00:38,  2.04s/it]"
     ]
    },
    {
     "name": "stdout",
     "output_type": "stream",
     "text": [
      "Loaded saved result for /opt/hpcaas/.mounts/fs-0663e2d3c38211883/home/yuchenzeng/tabflex/train_tabflex/mothernet/results/tabular/multiclass/results_tabpfn_time_10000000_roc_auc_Kuzushiji-49_135456_270912_2_cuda.npy\n"
     ]
    },
    {
     "name": "stderr",
     "output_type": "stream",
     "text": [
      "evaluating tabpfn on cuda Kuzushiji-49:  89%|████████▉ | 152/170 [01:27<00:45,  2.54s/it]"
     ]
    },
    {
     "name": "stdout",
     "output_type": "stream",
     "text": [
      "Loaded saved result for /opt/hpcaas/.mounts/fs-0663e2d3c38211883/home/yuchenzeng/tabflex/train_tabflex/mothernet/results/tabular/multiclass/results_tabpfn_time_10000000_roc_auc_Kuzushiji-49_135456_270912_3_cuda.npy\n"
     ]
    },
    {
     "name": "stderr",
     "output_type": "stream",
     "text": [
      "evaluating tabpfn on cuda Kuzushiji-49:  90%|█████████ | 153/170 [01:31<00:49,  2.89s/it]"
     ]
    },
    {
     "name": "stdout",
     "output_type": "stream",
     "text": [
      "Loaded saved result for /opt/hpcaas/.mounts/fs-0663e2d3c38211883/home/yuchenzeng/tabflex/train_tabflex/mothernet/results/tabular/multiclass/results_tabpfn_time_10000000_roc_auc_Kuzushiji-49_135456_270912_4_cuda.npy\n"
     ]
    },
    {
     "name": "stderr",
     "output_type": "stream",
     "text": [
      "evaluating tabpfn on cuda Kuzushiji-49:  91%|█████████ | 154/170 [01:35<00:50,  3.14s/it]"
     ]
    },
    {
     "name": "stdout",
     "output_type": "stream",
     "text": [
      "Loaded saved result for /opt/hpcaas/.mounts/fs-0663e2d3c38211883/home/yuchenzeng/tabflex/train_tabflex/mothernet/results/tabular/multiclass/results_tabpfn_time_10000000_roc_auc_Kuzushiji-49_135456_270912_5_cuda.npy\n"
     ]
    },
    {
     "name": "stderr",
     "output_type": "stream",
     "text": [
      "evaluating tabpfn on cuda porto-seguro:  91%|█████████ | 155/170 [01:38<00:49,  3.31s/it]    "
     ]
    },
    {
     "name": "stdout",
     "output_type": "stream",
     "text": [
      "Loaded saved result for /opt/hpcaas/.mounts/fs-0663e2d3c38211883/home/yuchenzeng/tabflex/train_tabflex/mothernet/results/tabular/multiclass/results_tabpfn_time_10000000_roc_auc_compas-two-years_2639_5278_1_cuda.npy\n",
      "Loaded saved result for /opt/hpcaas/.mounts/fs-0663e2d3c38211883/home/yuchenzeng/tabflex/train_tabflex/mothernet/results/tabular/multiclass/results_tabpfn_time_10000000_roc_auc_compas-two-years_2639_5278_2_cuda.npy\n",
      "Loaded saved result for /opt/hpcaas/.mounts/fs-0663e2d3c38211883/home/yuchenzeng/tabflex/train_tabflex/mothernet/results/tabular/multiclass/results_tabpfn_time_10000000_roc_auc_compas-two-years_2639_5278_3_cuda.npy\n",
      "Loaded saved result for /opt/hpcaas/.mounts/fs-0663e2d3c38211883/home/yuchenzeng/tabflex/train_tabflex/mothernet/results/tabular/multiclass/results_tabpfn_time_10000000_roc_auc_compas-two-years_2639_5278_4_cuda.npy\n",
      "Loaded saved result for /opt/hpcaas/.mounts/fs-0663e2d3c38211883/home/yuchenzeng/tabflex/train_tabflex/mothernet/results/tabular/multiclass/results_tabpfn_time_10000000_roc_auc_compas-two-years_2639_5278_5_cuda.npy\n",
      "Loaded saved result for /opt/hpcaas/.mounts/fs-0663e2d3c38211883/home/yuchenzeng/tabflex/train_tabflex/mothernet/results/tabular/multiclass/results_tabpfn_time_10000000_roc_auc_porto-seguro_297606_595212_1_cuda.npy\n"
     ]
    },
    {
     "name": "stderr",
     "output_type": "stream",
     "text": [
      "evaluating tabpfn on cuda porto-seguro:  95%|█████████▌| 162/170 [01:39<00:06,  1.19it/s]"
     ]
    },
    {
     "name": "stdout",
     "output_type": "stream",
     "text": [
      "Loaded saved result for /opt/hpcaas/.mounts/fs-0663e2d3c38211883/home/yuchenzeng/tabflex/train_tabflex/mothernet/results/tabular/multiclass/results_tabpfn_time_10000000_roc_auc_porto-seguro_297606_595212_2_cuda.npy\n",
      "Loaded saved result for /opt/hpcaas/.mounts/fs-0663e2d3c38211883/home/yuchenzeng/tabflex/train_tabflex/mothernet/results/tabular/multiclass/results_tabpfn_time_10000000_roc_auc_porto-seguro_297606_595212_3_cuda.npy\n"
     ]
    },
    {
     "name": "stderr",
     "output_type": "stream",
     "text": [
      "evaluating tabpfn on cuda porto-seguro:  96%|█████████▋| 164/170 [01:39<00:03,  1.60it/s]"
     ]
    },
    {
     "name": "stdout",
     "output_type": "stream",
     "text": [
      "Loaded saved result for /opt/hpcaas/.mounts/fs-0663e2d3c38211883/home/yuchenzeng/tabflex/train_tabflex/mothernet/results/tabular/multiclass/results_tabpfn_time_10000000_roc_auc_porto-seguro_297606_595212_4_cuda.npy\n",
      "Loaded saved result for /opt/hpcaas/.mounts/fs-0663e2d3c38211883/home/yuchenzeng/tabflex/train_tabflex/mothernet/results/tabular/multiclass/results_tabpfn_time_10000000_roc_auc_porto-seguro_297606_595212_5_cuda.npy\n"
     ]
    },
    {
     "name": "stderr",
     "output_type": "stream",
     "text": [
      "evaluating tabpfn on cuda KDD98: 100%|██████████| 170/170 [01:39<00:00,  1.70it/s]       \n"
     ]
    },
    {
     "name": "stdout",
     "output_type": "stream",
     "text": [
      "Loaded saved result for /opt/hpcaas/.mounts/fs-0663e2d3c38211883/home/yuchenzeng/tabflex/train_tabflex/mothernet/results/tabular/multiclass/results_tabpfn_time_10000000_roc_auc_KDD98_41159_82318_1_cuda.npy\n",
      "Loaded saved result for /opt/hpcaas/.mounts/fs-0663e2d3c38211883/home/yuchenzeng/tabflex/train_tabflex/mothernet/results/tabular/multiclass/results_tabpfn_time_10000000_roc_auc_KDD98_41159_82318_2_cuda.npy\n",
      "Loaded saved result for /opt/hpcaas/.mounts/fs-0663e2d3c38211883/home/yuchenzeng/tabflex/train_tabflex/mothernet/results/tabular/multiclass/results_tabpfn_time_10000000_roc_auc_KDD98_41159_82318_3_cuda.npy\n",
      "Loaded saved result for /opt/hpcaas/.mounts/fs-0663e2d3c38211883/home/yuchenzeng/tabflex/train_tabflex/mothernet/results/tabular/multiclass/results_tabpfn_time_10000000_roc_auc_KDD98_41159_82318_4_cuda.npy\n",
      "Loaded saved result for /opt/hpcaas/.mounts/fs-0663e2d3c38211883/home/yuchenzeng/tabflex/train_tabflex/mothernet/results/tabular/multiclass/results_tabpfn_time_10000000_roc_auc_KDD98_41159_82318_5_cuda.npy\n",
      "evaluating tabflex on cuda\n"
     ]
    },
    {
     "name": "stderr",
     "output_type": "stream",
     "text": [
      "evaluating tabflex on cuda meta_stream_intervals.arff:   0%|          | 0/170 [00:00<?, ?it/s]"
     ]
    },
    {
     "name": "stdout",
     "output_type": "stream",
     "text": [
      "Loaded saved result for /opt/hpcaas/.mounts/fs-0663e2d3c38211883/home/yuchenzeng/tabflex/train_tabflex/mothernet/results/tabular/multiclass/results_tabflex_time_10000000_roc_auc_meta_stream_intervals.arff_22582_45164_1_cuda.npy\n"
     ]
    },
    {
     "name": "stderr",
     "output_type": "stream",
     "text": [
      "evaluating tabflex on cuda meta_stream_intervals.arff:   1%|          | 2/170 [00:00<00:34,  4.92it/s]"
     ]
    },
    {
     "name": "stdout",
     "output_type": "stream",
     "text": [
      "Loaded saved result for /opt/hpcaas/.mounts/fs-0663e2d3c38211883/home/yuchenzeng/tabflex/train_tabflex/mothernet/results/tabular/multiclass/results_tabflex_time_10000000_roc_auc_meta_stream_intervals.arff_22582_45164_2_cuda.npy\n"
     ]
    },
    {
     "name": "stderr",
     "output_type": "stream",
     "text": [
      "evaluating tabflex on cuda meta_stream_intervals.arff:   2%|▏         | 3/170 [00:00<00:33,  4.94it/s]"
     ]
    },
    {
     "name": "stdout",
     "output_type": "stream",
     "text": [
      "Loaded saved result for /opt/hpcaas/.mounts/fs-0663e2d3c38211883/home/yuchenzeng/tabflex/train_tabflex/mothernet/results/tabular/multiclass/results_tabflex_time_10000000_roc_auc_meta_stream_intervals.arff_22582_45164_3_cuda.npy\n"
     ]
    },
    {
     "name": "stderr",
     "output_type": "stream",
     "text": [
      "evaluating tabflex on cuda meta_stream_intervals.arff:   2%|▏         | 4/170 [00:00<00:33,  4.95it/s]"
     ]
    },
    {
     "name": "stdout",
     "output_type": "stream",
     "text": [
      "Loaded saved result for /opt/hpcaas/.mounts/fs-0663e2d3c38211883/home/yuchenzeng/tabflex/train_tabflex/mothernet/results/tabular/multiclass/results_tabflex_time_10000000_roc_auc_meta_stream_intervals.arff_22582_45164_4_cuda.npy\n",
      "Loaded saved result for /opt/hpcaas/.mounts/fs-0663e2d3c38211883/home/yuchenzeng/tabflex/train_tabflex/mothernet/results/tabular/multiclass/results_tabflex_time_10000000_roc_auc_meta_stream_intervals.arff_22582_45164_5_cuda.npy\n"
     ]
    },
    {
     "name": "stderr",
     "output_type": "stream",
     "text": [
      "evaluating tabflex on cuda fri_c2_500_50:  19%|█▉        | 32/170 [00:01<00:02, 53.82it/s]            "
     ]
    },
    {
     "name": "stdout",
     "output_type": "stream",
     "text": [
      "Loaded saved result for /opt/hpcaas/.mounts/fs-0663e2d3c38211883/home/yuchenzeng/tabflex/train_tabflex/mothernet/results/tabular/multiclass/results_tabflex_time_10000000_roc_auc_oil_spill_468_936_1_cuda.npy\n",
      "Loaded saved result for /opt/hpcaas/.mounts/fs-0663e2d3c38211883/home/yuchenzeng/tabflex/train_tabflex/mothernet/results/tabular/multiclass/results_tabflex_time_10000000_roc_auc_oil_spill_468_936_2_cuda.npy\n",
      "Loaded saved result for /opt/hpcaas/.mounts/fs-0663e2d3c38211883/home/yuchenzeng/tabflex/train_tabflex/mothernet/results/tabular/multiclass/results_tabflex_time_10000000_roc_auc_oil_spill_468_936_3_cuda.npy\n",
      "Loaded saved result for /opt/hpcaas/.mounts/fs-0663e2d3c38211883/home/yuchenzeng/tabflex/train_tabflex/mothernet/results/tabular/multiclass/results_tabflex_time_10000000_roc_auc_oil_spill_468_936_4_cuda.npy\n",
      "Loaded saved result for /opt/hpcaas/.mounts/fs-0663e2d3c38211883/home/yuchenzeng/tabflex/train_tabflex/mothernet/results/tabular/multiclass/results_tabflex_time_10000000_roc_auc_oil_spill_468_936_5_cuda.npy\n",
      "Loaded saved result for /opt/hpcaas/.mounts/fs-0663e2d3c38211883/home/yuchenzeng/tabflex/train_tabflex/mothernet/results/tabular/multiclass/results_tabflex_time_10000000_roc_auc_fri_c4_500_100_250_500_1_cuda.npy\n",
      "Loaded saved result for /opt/hpcaas/.mounts/fs-0663e2d3c38211883/home/yuchenzeng/tabflex/train_tabflex/mothernet/results/tabular/multiclass/results_tabflex_time_10000000_roc_auc_fri_c4_500_100_250_500_2_cuda.npy\n",
      "Loaded saved result for /opt/hpcaas/.mounts/fs-0663e2d3c38211883/home/yuchenzeng/tabflex/train_tabflex/mothernet/results/tabular/multiclass/results_tabflex_time_10000000_roc_auc_fri_c4_500_100_250_500_3_cuda.npy\n",
      "Loaded saved result for /opt/hpcaas/.mounts/fs-0663e2d3c38211883/home/yuchenzeng/tabflex/train_tabflex/mothernet/results/tabular/multiclass/results_tabflex_time_10000000_roc_auc_fri_c4_500_100_250_500_4_cuda.npy\n",
      "Loaded saved result for /opt/hpcaas/.mounts/fs-0663e2d3c38211883/home/yuchenzeng/tabflex/train_tabflex/mothernet/results/tabular/multiclass/results_tabflex_time_10000000_roc_auc_fri_c4_500_100_250_500_5_cuda.npy\n",
      "Loaded saved result for /opt/hpcaas/.mounts/fs-0663e2d3c38211883/home/yuchenzeng/tabflex/train_tabflex/mothernet/results/tabular/multiclass/results_tabflex_time_10000000_roc_auc_boston_corrected_253_506_1_cuda.npy\n",
      "Loaded saved result for /opt/hpcaas/.mounts/fs-0663e2d3c38211883/home/yuchenzeng/tabflex/train_tabflex/mothernet/results/tabular/multiclass/results_tabflex_time_10000000_roc_auc_boston_corrected_253_506_2_cuda.npy\n",
      "Loaded saved result for /opt/hpcaas/.mounts/fs-0663e2d3c38211883/home/yuchenzeng/tabflex/train_tabflex/mothernet/results/tabular/multiclass/results_tabflex_time_10000000_roc_auc_boston_corrected_253_506_3_cuda.npy\n",
      "Loaded saved result for /opt/hpcaas/.mounts/fs-0663e2d3c38211883/home/yuchenzeng/tabflex/train_tabflex/mothernet/results/tabular/multiclass/results_tabflex_time_10000000_roc_auc_boston_corrected_253_506_4_cuda.npy\n",
      "Loaded saved result for /opt/hpcaas/.mounts/fs-0663e2d3c38211883/home/yuchenzeng/tabflex/train_tabflex/mothernet/results/tabular/multiclass/results_tabflex_time_10000000_roc_auc_boston_corrected_253_506_5_cuda.npy\n",
      "Loaded saved result for /opt/hpcaas/.mounts/fs-0663e2d3c38211883/home/yuchenzeng/tabflex/train_tabflex/mothernet/results/tabular/multiclass/results_tabflex_time_10000000_roc_auc_bank32nh_4096_8192_1_cuda.npy\n",
      "Loaded saved result for /opt/hpcaas/.mounts/fs-0663e2d3c38211883/home/yuchenzeng/tabflex/train_tabflex/mothernet/results/tabular/multiclass/results_tabflex_time_10000000_roc_auc_bank32nh_4096_8192_2_cuda.npy\n",
      "Loaded saved result for /opt/hpcaas/.mounts/fs-0663e2d3c38211883/home/yuchenzeng/tabflex/train_tabflex/mothernet/results/tabular/multiclass/results_tabflex_time_10000000_roc_auc_bank32nh_4096_8192_3_cuda.npy\n",
      "Loaded saved result for /opt/hpcaas/.mounts/fs-0663e2d3c38211883/home/yuchenzeng/tabflex/train_tabflex/mothernet/results/tabular/multiclass/results_tabflex_time_10000000_roc_auc_bank32nh_4096_8192_4_cuda.npy\n",
      "Loaded saved result for /opt/hpcaas/.mounts/fs-0663e2d3c38211883/home/yuchenzeng/tabflex/train_tabflex/mothernet/results/tabular/multiclass/results_tabflex_time_10000000_roc_auc_bank32nh_4096_8192_5_cuda.npy\n",
      "Loaded saved result for /opt/hpcaas/.mounts/fs-0663e2d3c38211883/home/yuchenzeng/tabflex/train_tabflex/mothernet/results/tabular/multiclass/results_tabflex_time_10000000_roc_auc_stock_475_950_1_cuda.npy\n",
      "Loaded saved result for /opt/hpcaas/.mounts/fs-0663e2d3c38211883/home/yuchenzeng/tabflex/train_tabflex/mothernet/results/tabular/multiclass/results_tabflex_time_10000000_roc_auc_stock_475_950_2_cuda.npy\n",
      "Loaded saved result for /opt/hpcaas/.mounts/fs-0663e2d3c38211883/home/yuchenzeng/tabflex/train_tabflex/mothernet/results/tabular/multiclass/results_tabflex_time_10000000_roc_auc_stock_475_950_3_cuda.npy\n",
      "Loaded saved result for /opt/hpcaas/.mounts/fs-0663e2d3c38211883/home/yuchenzeng/tabflex/train_tabflex/mothernet/results/tabular/multiclass/results_tabflex_time_10000000_roc_auc_stock_475_950_4_cuda.npy\n",
      "Loaded saved result for /opt/hpcaas/.mounts/fs-0663e2d3c38211883/home/yuchenzeng/tabflex/train_tabflex/mothernet/results/tabular/multiclass/results_tabflex_time_10000000_roc_auc_stock_475_950_5_cuda.npy\n",
      "Loaded saved result for /opt/hpcaas/.mounts/fs-0663e2d3c38211883/home/yuchenzeng/tabflex/train_tabflex/mothernet/results/tabular/multiclass/results_tabflex_time_10000000_roc_auc_fri_c2_500_50_250_500_1_cuda.npy\n",
      "Loaded saved result for /opt/hpcaas/.mounts/fs-0663e2d3c38211883/home/yuchenzeng/tabflex/train_tabflex/mothernet/results/tabular/multiclass/results_tabflex_time_10000000_roc_auc_fri_c2_500_50_250_500_2_cuda.npy\n"
     ]
    },
    {
     "name": "stderr",
     "output_type": "stream",
     "text": [
      "evaluating tabflex on cuda one-hundred-plants-margin:  26%|██▋       | 45/170 [00:01<00:01, 71.97it/s]"
     ]
    },
    {
     "name": "stdout",
     "output_type": "stream",
     "text": [
      "Loaded saved result for /opt/hpcaas/.mounts/fs-0663e2d3c38211883/home/yuchenzeng/tabflex/train_tabflex/mothernet/results/tabular/multiclass/results_tabflex_time_10000000_roc_auc_fri_c2_500_50_250_500_3_cuda.npy\n",
      "Loaded saved result for /opt/hpcaas/.mounts/fs-0663e2d3c38211883/home/yuchenzeng/tabflex/train_tabflex/mothernet/results/tabular/multiclass/results_tabflex_time_10000000_roc_auc_fri_c2_500_50_250_500_4_cuda.npy\n",
      "Loaded saved result for /opt/hpcaas/.mounts/fs-0663e2d3c38211883/home/yuchenzeng/tabflex/train_tabflex/mothernet/results/tabular/multiclass/results_tabflex_time_10000000_roc_auc_fri_c2_500_50_250_500_5_cuda.npy\n",
      "Loaded saved result for /opt/hpcaas/.mounts/fs-0663e2d3c38211883/home/yuchenzeng/tabflex/train_tabflex/mothernet/results/tabular/multiclass/results_tabflex_time_10000000_roc_auc_water-treatment_263_526_1_cuda.npy\n",
      "Loaded saved result for /opt/hpcaas/.mounts/fs-0663e2d3c38211883/home/yuchenzeng/tabflex/train_tabflex/mothernet/results/tabular/multiclass/results_tabflex_time_10000000_roc_auc_water-treatment_263_526_2_cuda.npy\n",
      "Loaded saved result for /opt/hpcaas/.mounts/fs-0663e2d3c38211883/home/yuchenzeng/tabflex/train_tabflex/mothernet/results/tabular/multiclass/results_tabflex_time_10000000_roc_auc_water-treatment_263_526_3_cuda.npy\n",
      "Loaded saved result for /opt/hpcaas/.mounts/fs-0663e2d3c38211883/home/yuchenzeng/tabflex/train_tabflex/mothernet/results/tabular/multiclass/results_tabflex_time_10000000_roc_auc_water-treatment_263_526_4_cuda.npy\n",
      "Loaded saved result for /opt/hpcaas/.mounts/fs-0663e2d3c38211883/home/yuchenzeng/tabflex/train_tabflex/mothernet/results/tabular/multiclass/results_tabflex_time_10000000_roc_auc_water-treatment_263_526_5_cuda.npy\n",
      "Loaded saved result for /opt/hpcaas/.mounts/fs-0663e2d3c38211883/home/yuchenzeng/tabflex/train_tabflex/mothernet/results/tabular/multiclass/results_tabflex_time_10000000_roc_auc_kdd_internet_usage_5054_10108_1_cuda.npy\n",
      "Loaded saved result for /opt/hpcaas/.mounts/fs-0663e2d3c38211883/home/yuchenzeng/tabflex/train_tabflex/mothernet/results/tabular/multiclass/results_tabflex_time_10000000_roc_auc_kdd_internet_usage_5054_10108_2_cuda.npy\n",
      "Loaded saved result for /opt/hpcaas/.mounts/fs-0663e2d3c38211883/home/yuchenzeng/tabflex/train_tabflex/mothernet/results/tabular/multiclass/results_tabflex_time_10000000_roc_auc_kdd_internet_usage_5054_10108_3_cuda.npy\n",
      "Loaded saved result for /opt/hpcaas/.mounts/fs-0663e2d3c38211883/home/yuchenzeng/tabflex/train_tabflex/mothernet/results/tabular/multiclass/results_tabflex_time_10000000_roc_auc_kdd_internet_usage_5054_10108_4_cuda.npy\n",
      "Loaded saved result for /opt/hpcaas/.mounts/fs-0663e2d3c38211883/home/yuchenzeng/tabflex/train_tabflex/mothernet/results/tabular/multiclass/results_tabflex_time_10000000_roc_auc_kdd_internet_usage_5054_10108_5_cuda.npy\n",
      "Loaded saved result for /opt/hpcaas/.mounts/fs-0663e2d3c38211883/home/yuchenzeng/tabflex/train_tabflex/mothernet/results/tabular/multiclass/results_tabflex_time_10000000_roc_auc_hiva_agnostic_2114_4228_1_cuda.npy\n",
      "Loaded saved result for /opt/hpcaas/.mounts/fs-0663e2d3c38211883/home/yuchenzeng/tabflex/train_tabflex/mothernet/results/tabular/multiclass/results_tabflex_time_10000000_roc_auc_hiva_agnostic_2114_4228_2_cuda.npy\n",
      "Loaded saved result for /opt/hpcaas/.mounts/fs-0663e2d3c38211883/home/yuchenzeng/tabflex/train_tabflex/mothernet/results/tabular/multiclass/results_tabflex_time_10000000_roc_auc_hiva_agnostic_2114_4228_3_cuda.npy\n",
      "Loaded saved result for /opt/hpcaas/.mounts/fs-0663e2d3c38211883/home/yuchenzeng/tabflex/train_tabflex/mothernet/results/tabular/multiclass/results_tabflex_time_10000000_roc_auc_hiva_agnostic_2114_4228_4_cuda.npy\n",
      "Loaded saved result for /opt/hpcaas/.mounts/fs-0663e2d3c38211883/home/yuchenzeng/tabflex/train_tabflex/mothernet/results/tabular/multiclass/results_tabflex_time_10000000_roc_auc_hiva_agnostic_2114_4228_5_cuda.npy\n",
      "Loaded saved result for /opt/hpcaas/.mounts/fs-0663e2d3c38211883/home/yuchenzeng/tabflex/train_tabflex/mothernet/results/tabular/multiclass/results_tabflex_time_10000000_roc_auc_one-hundred-plants-margin_800_1600_1_cuda.npy\n"
     ]
    },
    {
     "name": "stderr",
     "output_type": "stream",
     "text": [
      "evaluating tabflex on cuda one-hundred-plants-margin:  26%|██▋       | 45/170 [00:05<00:01, 71.97it/s]"
     ]
    },
    {
     "name": "stdout",
     "output_type": "stream",
     "text": [
      "Loaded saved result for /opt/hpcaas/.mounts/fs-0663e2d3c38211883/home/yuchenzeng/tabflex/train_tabflex/mothernet/results/tabular/multiclass/results_tabflex_time_10000000_roc_auc_one-hundred-plants-margin_800_1600_2_cuda.npy\n"
     ]
    },
    {
     "name": "stderr",
     "output_type": "stream",
     "text": [
      "evaluating tabflex on cuda one-hundred-plants-margin:  26%|██▋       | 45/170 [00:10<00:01, 71.97it/s]"
     ]
    },
    {
     "name": "stdout",
     "output_type": "stream",
     "text": [
      "Loaded saved result for /opt/hpcaas/.mounts/fs-0663e2d3c38211883/home/yuchenzeng/tabflex/train_tabflex/mothernet/results/tabular/multiclass/results_tabflex_time_10000000_roc_auc_one-hundred-plants-margin_800_1600_3_cuda.npy\n"
     ]
    },
    {
     "name": "stderr",
     "output_type": "stream",
     "text": [
      "evaluating tabflex on cuda one-hundred-plants-margin:  26%|██▋       | 45/170 [00:15<00:01, 71.97it/s]"
     ]
    },
    {
     "name": "stdout",
     "output_type": "stream",
     "text": [
      "Loaded saved result for /opt/hpcaas/.mounts/fs-0663e2d3c38211883/home/yuchenzeng/tabflex/train_tabflex/mothernet/results/tabular/multiclass/results_tabflex_time_10000000_roc_auc_one-hundred-plants-margin_800_1600_4_cuda.npy\n"
     ]
    },
    {
     "name": "stderr",
     "output_type": "stream",
     "text": [
      "evaluating tabflex on cuda one-hundred-plants-margin:  26%|██▋       | 45/170 [00:19<00:01, 71.97it/s]"
     ]
    },
    {
     "name": "stdout",
     "output_type": "stream",
     "text": [
      "Loaded saved result for /opt/hpcaas/.mounts/fs-0663e2d3c38211883/home/yuchenzeng/tabflex/train_tabflex/mothernet/results/tabular/multiclass/results_tabflex_time_10000000_roc_auc_one-hundred-plants-margin_800_1600_5_cuda.npy\n"
     ]
    },
    {
     "name": "stderr",
     "output_type": "stream",
     "text": [
      "evaluating tabflex on cuda one-hundred-plants-shape:  32%|███▏      | 55/170 [00:24<01:26,  1.33it/s] "
     ]
    },
    {
     "name": "stdout",
     "output_type": "stream",
     "text": [
      "Loaded saved result for /opt/hpcaas/.mounts/fs-0663e2d3c38211883/home/yuchenzeng/tabflex/train_tabflex/mothernet/results/tabular/multiclass/results_tabflex_time_10000000_roc_auc_one-hundred-plants-shape_800_1600_1_cuda.npy\n"
     ]
    },
    {
     "name": "stderr",
     "output_type": "stream",
     "text": [
      "evaluating tabflex on cuda one-hundred-plants-shape:  33%|███▎      | 56/170 [00:28<01:44,  1.09it/s]"
     ]
    },
    {
     "name": "stdout",
     "output_type": "stream",
     "text": [
      "Loaded saved result for /opt/hpcaas/.mounts/fs-0663e2d3c38211883/home/yuchenzeng/tabflex/train_tabflex/mothernet/results/tabular/multiclass/results_tabflex_time_10000000_roc_auc_one-hundred-plants-shape_800_1600_2_cuda.npy\n"
     ]
    },
    {
     "name": "stderr",
     "output_type": "stream",
     "text": [
      "evaluating tabflex on cuda one-hundred-plants-shape:  33%|███▎      | 56/170 [00:33<01:44,  1.09it/s]"
     ]
    },
    {
     "name": "stdout",
     "output_type": "stream",
     "text": [
      "Loaded saved result for /opt/hpcaas/.mounts/fs-0663e2d3c38211883/home/yuchenzeng/tabflex/train_tabflex/mothernet/results/tabular/multiclass/results_tabflex_time_10000000_roc_auc_one-hundred-plants-shape_800_1600_3_cuda.npy\n"
     ]
    },
    {
     "name": "stderr",
     "output_type": "stream",
     "text": [
      "evaluating tabflex on cuda one-hundred-plants-shape:  33%|███▎      | 56/170 [00:37<01:44,  1.09it/s]"
     ]
    },
    {
     "name": "stdout",
     "output_type": "stream",
     "text": [
      "Loaded saved result for /opt/hpcaas/.mounts/fs-0663e2d3c38211883/home/yuchenzeng/tabflex/train_tabflex/mothernet/results/tabular/multiclass/results_tabflex_time_10000000_roc_auc_one-hundred-plants-shape_800_1600_4_cuda.npy\n"
     ]
    },
    {
     "name": "stderr",
     "output_type": "stream",
     "text": [
      "evaluating tabflex on cuda one-hundred-plants-shape:  35%|███▍      | 59/170 [00:42<02:46,  1.50s/it]"
     ]
    },
    {
     "name": "stdout",
     "output_type": "stream",
     "text": [
      "Loaded saved result for /opt/hpcaas/.mounts/fs-0663e2d3c38211883/home/yuchenzeng/tabflex/train_tabflex/mothernet/results/tabular/multiclass/results_tabflex_time_10000000_roc_auc_one-hundred-plants-shape_800_1600_5_cuda.npy\n"
     ]
    },
    {
     "name": "stderr",
     "output_type": "stream",
     "text": [
      "evaluating tabflex on cuda spoken-arabic-digit:  35%|███▌      | 60/170 [00:47<03:08,  1.71s/it]     "
     ]
    },
    {
     "name": "stdout",
     "output_type": "stream",
     "text": [
      "Loaded saved result for /opt/hpcaas/.mounts/fs-0663e2d3c38211883/home/yuchenzeng/tabflex/train_tabflex/mothernet/results/tabular/multiclass/results_tabflex_time_10000000_roc_auc_spoken-arabic-digit_131628_263256_1_cuda.npy\n"
     ]
    },
    {
     "name": "stderr",
     "output_type": "stream",
     "text": [
      "evaluating tabflex on cuda spoken-arabic-digit:  35%|███▌      | 60/170 [00:47<03:08,  1.71s/it]"
     ]
    },
    {
     "name": "stdout",
     "output_type": "stream",
     "text": [
      "Loaded saved result for /opt/hpcaas/.mounts/fs-0663e2d3c38211883/home/yuchenzeng/tabflex/train_tabflex/mothernet/results/tabular/multiclass/results_tabflex_time_10000000_roc_auc_spoken-arabic-digit_131628_263256_2_cuda.npy\n"
     ]
    },
    {
     "name": "stderr",
     "output_type": "stream",
     "text": [
      "evaluating tabflex on cuda spoken-arabic-digit:  35%|███▌      | 60/170 [00:48<03:08,  1.71s/it]"
     ]
    },
    {
     "name": "stdout",
     "output_type": "stream",
     "text": [
      "Loaded saved result for /opt/hpcaas/.mounts/fs-0663e2d3c38211883/home/yuchenzeng/tabflex/train_tabflex/mothernet/results/tabular/multiclass/results_tabflex_time_10000000_roc_auc_spoken-arabic-digit_131628_263256_3_cuda.npy\n"
     ]
    },
    {
     "name": "stderr",
     "output_type": "stream",
     "text": [
      "evaluating tabflex on cuda spoken-arabic-digit:  35%|███▌      | 60/170 [00:49<03:08,  1.71s/it]"
     ]
    },
    {
     "name": "stdout",
     "output_type": "stream",
     "text": [
      "Loaded saved result for /opt/hpcaas/.mounts/fs-0663e2d3c38211883/home/yuchenzeng/tabflex/train_tabflex/mothernet/results/tabular/multiclass/results_tabflex_time_10000000_roc_auc_spoken-arabic-digit_131628_263256_4_cuda.npy\n"
     ]
    },
    {
     "name": "stderr",
     "output_type": "stream",
     "text": [
      "evaluating tabflex on cuda spoken-arabic-digit:  35%|███▌      | 60/170 [00:49<03:08,  1.71s/it]"
     ]
    },
    {
     "name": "stdout",
     "output_type": "stream",
     "text": [
      "Loaded saved result for /opt/hpcaas/.mounts/fs-0663e2d3c38211883/home/yuchenzeng/tabflex/train_tabflex/mothernet/results/tabular/multiclass/results_tabflex_time_10000000_roc_auc_spoken-arabic-digit_131628_263256_5_cuda.npy\n"
     ]
    },
    {
     "name": "stderr",
     "output_type": "stream",
     "text": [
      "evaluating tabflex on cuda micro-mass:  38%|███▊      | 65/170 [00:50<02:21,  1.34s/it]         "
     ]
    },
    {
     "name": "stdout",
     "output_type": "stream",
     "text": [
      "Loaded saved result for /opt/hpcaas/.mounts/fs-0663e2d3c38211883/home/yuchenzeng/tabflex/train_tabflex/mothernet/results/tabular/multiclass/results_tabflex_time_10000000_roc_auc_micro-mass_285_570_1_cuda.npy\n",
      "Loaded saved result for /opt/hpcaas/.mounts/fs-0663e2d3c38211883/home/yuchenzeng/tabflex/train_tabflex/mothernet/results/tabular/multiclass/results_tabflex_time_10000000_roc_auc_micro-mass_285_570_2_cuda.npy\n"
     ]
    },
    {
     "name": "stderr",
     "output_type": "stream",
     "text": [
      "evaluating tabflex on cuda micro-mass:  38%|███▊      | 65/170 [00:50<02:21,  1.34s/it]"
     ]
    },
    {
     "name": "stdout",
     "output_type": "stream",
     "text": [
      "Loaded saved result for /opt/hpcaas/.mounts/fs-0663e2d3c38211883/home/yuchenzeng/tabflex/train_tabflex/mothernet/results/tabular/multiclass/results_tabflex_time_10000000_roc_auc_micro-mass_285_570_3_cuda.npy\n",
      "Loaded saved result for /opt/hpcaas/.mounts/fs-0663e2d3c38211883/home/yuchenzeng/tabflex/train_tabflex/mothernet/results/tabular/multiclass/results_tabflex_time_10000000_roc_auc_micro-mass_285_570_4_cuda.npy\n"
     ]
    },
    {
     "name": "stderr",
     "output_type": "stream",
     "text": [
      "evaluating tabflex on cuda volcanoes-b6:  41%|████      | 69/170 [00:51<01:43,  1.02s/it]"
     ]
    },
    {
     "name": "stdout",
     "output_type": "stream",
     "text": [
      "Loaded saved result for /opt/hpcaas/.mounts/fs-0663e2d3c38211883/home/yuchenzeng/tabflex/train_tabflex/mothernet/results/tabular/multiclass/results_tabflex_time_10000000_roc_auc_micro-mass_285_570_5_cuda.npy\n",
      "Loaded saved result for /opt/hpcaas/.mounts/fs-0663e2d3c38211883/home/yuchenzeng/tabflex/train_tabflex/mothernet/results/tabular/multiclass/results_tabflex_time_10000000_roc_auc_volcanoes-b6_5065_10130_1_cuda.npy\n"
     ]
    },
    {
     "name": "stderr",
     "output_type": "stream",
     "text": [
      "evaluating tabflex on cuda autoUniv-au6-750:  45%|████▌     | 77/170 [00:51<00:49,  1.88it/s]"
     ]
    },
    {
     "name": "stdout",
     "output_type": "stream",
     "text": [
      "Loaded saved result for /opt/hpcaas/.mounts/fs-0663e2d3c38211883/home/yuchenzeng/tabflex/train_tabflex/mothernet/results/tabular/multiclass/results_tabflex_time_10000000_roc_auc_volcanoes-b6_5065_10130_2_cuda.npy\n",
      "Loaded saved result for /opt/hpcaas/.mounts/fs-0663e2d3c38211883/home/yuchenzeng/tabflex/train_tabflex/mothernet/results/tabular/multiclass/results_tabflex_time_10000000_roc_auc_volcanoes-b6_5065_10130_3_cuda.npy\n",
      "Loaded saved result for /opt/hpcaas/.mounts/fs-0663e2d3c38211883/home/yuchenzeng/tabflex/train_tabflex/mothernet/results/tabular/multiclass/results_tabflex_time_10000000_roc_auc_volcanoes-b6_5065_10130_4_cuda.npy\n",
      "Loaded saved result for /opt/hpcaas/.mounts/fs-0663e2d3c38211883/home/yuchenzeng/tabflex/train_tabflex/mothernet/results/tabular/multiclass/results_tabflex_time_10000000_roc_auc_volcanoes-b6_5065_10130_5_cuda.npy\n",
      "Loaded saved result for /opt/hpcaas/.mounts/fs-0663e2d3c38211883/home/yuchenzeng/tabflex/train_tabflex/mothernet/results/tabular/multiclass/results_tabflex_time_10000000_roc_auc_volcanoes-d4_4327_8654_1_cuda.npy\n",
      "Loaded saved result for /opt/hpcaas/.mounts/fs-0663e2d3c38211883/home/yuchenzeng/tabflex/train_tabflex/mothernet/results/tabular/multiclass/results_tabflex_time_10000000_roc_auc_volcanoes-d4_4327_8654_2_cuda.npy\n",
      "Loaded saved result for /opt/hpcaas/.mounts/fs-0663e2d3c38211883/home/yuchenzeng/tabflex/train_tabflex/mothernet/results/tabular/multiclass/results_tabflex_time_10000000_roc_auc_volcanoes-d4_4327_8654_3_cuda.npy\n",
      "Loaded saved result for /opt/hpcaas/.mounts/fs-0663e2d3c38211883/home/yuchenzeng/tabflex/train_tabflex/mothernet/results/tabular/multiclass/results_tabflex_time_10000000_roc_auc_volcanoes-d4_4327_8654_4_cuda.npy\n",
      "Loaded saved result for /opt/hpcaas/.mounts/fs-0663e2d3c38211883/home/yuchenzeng/tabflex/train_tabflex/mothernet/results/tabular/multiclass/results_tabflex_time_10000000_roc_auc_volcanoes-d4_4327_8654_5_cuda.npy\n"
     ]
    },
    {
     "name": "stderr",
     "output_type": "stream",
     "text": [
      "evaluating tabflex on cuda GAMETES_Epistasis_2-Way_1000atts_0.4H_EDM-1_EDM-1_1:  50%|█████     | 85/170 [00:51<00:24,  3.52it/s]"
     ]
    },
    {
     "name": "stdout",
     "output_type": "stream",
     "text": [
      "Loaded saved result for /opt/hpcaas/.mounts/fs-0663e2d3c38211883/home/yuchenzeng/tabflex/train_tabflex/mothernet/results/tabular/multiclass/results_tabflex_time_10000000_roc_auc_autoUniv-au6-750_375_750_1_cuda.npy\n",
      "Loaded saved result for /opt/hpcaas/.mounts/fs-0663e2d3c38211883/home/yuchenzeng/tabflex/train_tabflex/mothernet/results/tabular/multiclass/results_tabflex_time_10000000_roc_auc_autoUniv-au6-750_375_750_2_cuda.npy\n",
      "Loaded saved result for /opt/hpcaas/.mounts/fs-0663e2d3c38211883/home/yuchenzeng/tabflex/train_tabflex/mothernet/results/tabular/multiclass/results_tabflex_time_10000000_roc_auc_autoUniv-au6-750_375_750_3_cuda.npy\n",
      "Loaded saved result for /opt/hpcaas/.mounts/fs-0663e2d3c38211883/home/yuchenzeng/tabflex/train_tabflex/mothernet/results/tabular/multiclass/results_tabflex_time_10000000_roc_auc_autoUniv-au6-750_375_750_4_cuda.npy\n",
      "Loaded saved result for /opt/hpcaas/.mounts/fs-0663e2d3c38211883/home/yuchenzeng/tabflex/train_tabflex/mothernet/results/tabular/multiclass/results_tabflex_time_10000000_roc_auc_autoUniv-au6-750_375_750_5_cuda.npy\n",
      "Loaded saved result for /opt/hpcaas/.mounts/fs-0663e2d3c38211883/home/yuchenzeng/tabflex/train_tabflex/mothernet/results/tabular/multiclass/results_tabflex_time_10000000_roc_auc_GAMETES_Epistasis_2-Way_1000atts_0.4H_EDM-1_EDM-1_1_800_1600_1_cuda.npy\n",
      "Loaded saved result for /opt/hpcaas/.mounts/fs-0663e2d3c38211883/home/yuchenzeng/tabflex/train_tabflex/mothernet/results/tabular/multiclass/results_tabflex_time_10000000_roc_auc_GAMETES_Epistasis_2-Way_1000atts_0.4H_EDM-1_EDM-1_1_800_1600_2_cuda.npy\n",
      "Loaded saved result for /opt/hpcaas/.mounts/fs-0663e2d3c38211883/home/yuchenzeng/tabflex/train_tabflex/mothernet/results/tabular/multiclass/results_tabflex_time_10000000_roc_auc_GAMETES_Epistasis_2-Way_1000atts_0.4H_EDM-1_EDM-1_1_800_1600_3_cuda.npy\n",
      "Loaded saved result for /opt/hpcaas/.mounts/fs-0663e2d3c38211883/home/yuchenzeng/tabflex/train_tabflex/mothernet/results/tabular/multiclass/results_tabflex_time_10000000_roc_auc_GAMETES_Epistasis_2-Way_1000atts_0.4H_EDM-1_EDM-1_1_800_1600_4_cuda.npy\n"
     ]
    },
    {
     "name": "stderr",
     "output_type": "stream",
     "text": [
      "evaluating tabflex on cuda fars:  50%|█████     | 85/170 [00:51<00:24,  3.52it/s]                                               "
     ]
    },
    {
     "name": "stdout",
     "output_type": "stream",
     "text": [
      "Loaded saved result for /opt/hpcaas/.mounts/fs-0663e2d3c38211883/home/yuchenzeng/tabflex/train_tabflex/mothernet/results/tabular/multiclass/results_tabflex_time_10000000_roc_auc_GAMETES_Epistasis_2-Way_1000atts_0.4H_EDM-1_EDM-1_1_800_1600_5_cuda.npy\n",
      "Loaded saved result for /opt/hpcaas/.mounts/fs-0663e2d3c38211883/home/yuchenzeng/tabflex/train_tabflex/mothernet/results/tabular/multiclass/results_tabflex_time_10000000_roc_auc_fars_50484_100968_1_cuda.npy\n"
     ]
    },
    {
     "name": "stderr",
     "output_type": "stream",
     "text": [
      "evaluating tabflex on cuda fars:  54%|█████▎    | 91/170 [00:51<00:15,  5.20it/s]"
     ]
    },
    {
     "name": "stdout",
     "output_type": "stream",
     "text": [
      "Loaded saved result for /opt/hpcaas/.mounts/fs-0663e2d3c38211883/home/yuchenzeng/tabflex/train_tabflex/mothernet/results/tabular/multiclass/results_tabflex_time_10000000_roc_auc_fars_50484_100968_2_cuda.npy\n"
     ]
    },
    {
     "name": "stderr",
     "output_type": "stream",
     "text": [
      "evaluating tabflex on cuda fars:  54%|█████▎    | 91/170 [00:52<00:15,  5.20it/s]"
     ]
    },
    {
     "name": "stdout",
     "output_type": "stream",
     "text": [
      "Loaded saved result for /opt/hpcaas/.mounts/fs-0663e2d3c38211883/home/yuchenzeng/tabflex/train_tabflex/mothernet/results/tabular/multiclass/results_tabflex_time_10000000_roc_auc_fars_50484_100968_3_cuda.npy\n"
     ]
    },
    {
     "name": "stderr",
     "output_type": "stream",
     "text": [
      "evaluating tabflex on cuda fars:  54%|█████▎    | 91/170 [00:52<00:15,  5.20it/s]"
     ]
    },
    {
     "name": "stdout",
     "output_type": "stream",
     "text": [
      "Loaded saved result for /opt/hpcaas/.mounts/fs-0663e2d3c38211883/home/yuchenzeng/tabflex/train_tabflex/mothernet/results/tabular/multiclass/results_tabflex_time_10000000_roc_auc_fars_50484_100968_4_cuda.npy\n"
     ]
    },
    {
     "name": "stderr",
     "output_type": "stream",
     "text": [
      "evaluating tabflex on cuda fars:  55%|█████▌    | 94/170 [00:52<00:15,  5.02it/s]"
     ]
    },
    {
     "name": "stdout",
     "output_type": "stream",
     "text": [
      "Loaded saved result for /opt/hpcaas/.mounts/fs-0663e2d3c38211883/home/yuchenzeng/tabflex/train_tabflex/mothernet/results/tabular/multiclass/results_tabflex_time_10000000_roc_auc_fars_50484_100968_5_cuda.npy\n"
     ]
    },
    {
     "name": "stderr",
     "output_type": "stream",
     "text": [
      "evaluating tabflex on cuda led24:  57%|█████▋    | 97/170 [00:52<00:13,  5.58it/s]"
     ]
    },
    {
     "name": "stdout",
     "output_type": "stream",
     "text": [
      "Loaded saved result for /opt/hpcaas/.mounts/fs-0663e2d3c38211883/home/yuchenzeng/tabflex/train_tabflex/mothernet/results/tabular/multiclass/results_tabflex_time_10000000_roc_auc_led24_1600_3200_1_cuda.npy\n",
      "Loaded saved result for /opt/hpcaas/.mounts/fs-0663e2d3c38211883/home/yuchenzeng/tabflex/train_tabflex/mothernet/results/tabular/multiclass/results_tabflex_time_10000000_roc_auc_led24_1600_3200_2_cuda.npy\n",
      "Loaded saved result for /opt/hpcaas/.mounts/fs-0663e2d3c38211883/home/yuchenzeng/tabflex/train_tabflex/mothernet/results/tabular/multiclass/results_tabflex_time_10000000_roc_auc_led24_1600_3200_3_cuda.npy\n",
      "Loaded saved result for /opt/hpcaas/.mounts/fs-0663e2d3c38211883/home/yuchenzeng/tabflex/train_tabflex/mothernet/results/tabular/multiclass/results_tabflex_time_10000000_roc_auc_led24_1600_3200_4_cuda.npy\n"
     ]
    },
    {
     "name": "stderr",
     "output_type": "stream",
     "text": [
      "evaluating tabflex on cuda Run_or_walk_information:  63%|██████▎   | 107/170 [00:53<00:05, 12.02it/s]"
     ]
    },
    {
     "name": "stdout",
     "output_type": "stream",
     "text": [
      "Loaded saved result for /opt/hpcaas/.mounts/fs-0663e2d3c38211883/home/yuchenzeng/tabflex/train_tabflex/mothernet/results/tabular/multiclass/results_tabflex_time_10000000_roc_auc_led24_1600_3200_5_cuda.npy\n",
      "Loaded saved result for /opt/hpcaas/.mounts/fs-0663e2d3c38211883/home/yuchenzeng/tabflex/train_tabflex/mothernet/results/tabular/multiclass/results_tabflex_time_10000000_roc_auc_xd6_486_972_1_cuda.npy\n",
      "Loaded saved result for /opt/hpcaas/.mounts/fs-0663e2d3c38211883/home/yuchenzeng/tabflex/train_tabflex/mothernet/results/tabular/multiclass/results_tabflex_time_10000000_roc_auc_xd6_486_972_2_cuda.npy\n",
      "Loaded saved result for /opt/hpcaas/.mounts/fs-0663e2d3c38211883/home/yuchenzeng/tabflex/train_tabflex/mothernet/results/tabular/multiclass/results_tabflex_time_10000000_roc_auc_xd6_486_972_3_cuda.npy\n",
      "Loaded saved result for /opt/hpcaas/.mounts/fs-0663e2d3c38211883/home/yuchenzeng/tabflex/train_tabflex/mothernet/results/tabular/multiclass/results_tabflex_time_10000000_roc_auc_xd6_486_972_4_cuda.npy\n",
      "Loaded saved result for /opt/hpcaas/.mounts/fs-0663e2d3c38211883/home/yuchenzeng/tabflex/train_tabflex/mothernet/results/tabular/multiclass/results_tabflex_time_10000000_roc_auc_xd6_486_972_5_cuda.npy\n",
      "Loaded saved result for /opt/hpcaas/.mounts/fs-0663e2d3c38211883/home/yuchenzeng/tabflex/train_tabflex/mothernet/results/tabular/multiclass/results_tabflex_time_10000000_roc_auc_tokyo1_479_958_1_cuda.npy\n",
      "Loaded saved result for /opt/hpcaas/.mounts/fs-0663e2d3c38211883/home/yuchenzeng/tabflex/train_tabflex/mothernet/results/tabular/multiclass/results_tabflex_time_10000000_roc_auc_tokyo1_479_958_2_cuda.npy\n",
      "Loaded saved result for /opt/hpcaas/.mounts/fs-0663e2d3c38211883/home/yuchenzeng/tabflex/train_tabflex/mothernet/results/tabular/multiclass/results_tabflex_time_10000000_roc_auc_tokyo1_479_958_3_cuda.npy\n",
      "Loaded saved result for /opt/hpcaas/.mounts/fs-0663e2d3c38211883/home/yuchenzeng/tabflex/train_tabflex/mothernet/results/tabular/multiclass/results_tabflex_time_10000000_roc_auc_tokyo1_479_958_4_cuda.npy\n",
      "Loaded saved result for /opt/hpcaas/.mounts/fs-0663e2d3c38211883/home/yuchenzeng/tabflex/train_tabflex/mothernet/results/tabular/multiclass/results_tabflex_time_10000000_roc_auc_tokyo1_479_958_5_cuda.npy\n",
      "Loaded saved result for /opt/hpcaas/.mounts/fs-0663e2d3c38211883/home/yuchenzeng/tabflex/train_tabflex/mothernet/results/tabular/multiclass/results_tabflex_time_10000000_roc_auc_Run_or_walk_information_44294_88588_1_cuda.npy\n",
      "Loaded saved result for /opt/hpcaas/.mounts/fs-0663e2d3c38211883/home/yuchenzeng/tabflex/train_tabflex/mothernet/results/tabular/multiclass/results_tabflex_time_10000000_roc_auc_Run_or_walk_information_44294_88588_2_cuda.npy\n",
      "Loaded saved result for /opt/hpcaas/.mounts/fs-0663e2d3c38211883/home/yuchenzeng/tabflex/train_tabflex/mothernet/results/tabular/multiclass/results_tabflex_time_10000000_roc_auc_Run_or_walk_information_44294_88588_3_cuda.npy\n",
      "Loaded saved result for /opt/hpcaas/.mounts/fs-0663e2d3c38211883/home/yuchenzeng/tabflex/train_tabflex/mothernet/results/tabular/multiclass/results_tabflex_time_10000000_roc_auc_Run_or_walk_information_44294_88588_4_cuda.npy\n"
     ]
    },
    {
     "name": "stderr",
     "output_type": "stream",
     "text": [
      "evaluating tabflex on cuda tamilnadu-electricity:  68%|██████▊   | 115/170 [00:53<00:02, 18.37it/s]  "
     ]
    },
    {
     "name": "stdout",
     "output_type": "stream",
     "text": [
      "Loaded saved result for /opt/hpcaas/.mounts/fs-0663e2d3c38211883/home/yuchenzeng/tabflex/train_tabflex/mothernet/results/tabular/multiclass/results_tabflex_time_10000000_roc_auc_Run_or_walk_information_44294_88588_5_cuda.npy\n",
      "Loaded saved result for /opt/hpcaas/.mounts/fs-0663e2d3c38211883/home/yuchenzeng/tabflex/train_tabflex/mothernet/results/tabular/multiclass/results_tabflex_time_10000000_roc_auc_tamilnadu-electricity_22890_45780_1_cuda.npy\n"
     ]
    },
    {
     "name": "stderr",
     "output_type": "stream",
     "text": [
      "evaluating tabflex on cuda tamilnadu-electricity:  68%|██████▊   | 115/170 [00:53<00:02, 18.37it/s]"
     ]
    },
    {
     "name": "stdout",
     "output_type": "stream",
     "text": [
      "Loaded saved result for /opt/hpcaas/.mounts/fs-0663e2d3c38211883/home/yuchenzeng/tabflex/train_tabflex/mothernet/results/tabular/multiclass/results_tabflex_time_10000000_roc_auc_tamilnadu-electricity_22890_45780_2_cuda.npy\n"
     ]
    },
    {
     "name": "stderr",
     "output_type": "stream",
     "text": [
      "evaluating tabflex on cuda tamilnadu-electricity:  68%|██████▊   | 115/170 [00:54<00:02, 18.37it/s]"
     ]
    },
    {
     "name": "stdout",
     "output_type": "stream",
     "text": [
      "Loaded saved result for /opt/hpcaas/.mounts/fs-0663e2d3c38211883/home/yuchenzeng/tabflex/train_tabflex/mothernet/results/tabular/multiclass/results_tabflex_time_10000000_roc_auc_tamilnadu-electricity_22890_45780_3_cuda.npy\n"
     ]
    },
    {
     "name": "stderr",
     "output_type": "stream",
     "text": [
      "evaluating tabflex on cuda tamilnadu-electricity:  68%|██████▊   | 115/170 [00:54<00:02, 18.37it/s]"
     ]
    },
    {
     "name": "stdout",
     "output_type": "stream",
     "text": [
      "Loaded saved result for /opt/hpcaas/.mounts/fs-0663e2d3c38211883/home/yuchenzeng/tabflex/train_tabflex/mothernet/results/tabular/multiclass/results_tabflex_time_10000000_roc_auc_tamilnadu-electricity_22890_45780_4_cuda.npy\n"
     ]
    },
    {
     "name": "stderr",
     "output_type": "stream",
     "text": [
      "evaluating tabflex on cuda tamilnadu-electricity:  68%|██████▊   | 115/170 [00:54<00:02, 18.37it/s]"
     ]
    },
    {
     "name": "stdout",
     "output_type": "stream",
     "text": [
      "Loaded saved result for /opt/hpcaas/.mounts/fs-0663e2d3c38211883/home/yuchenzeng/tabflex/train_tabflex/mothernet/results/tabular/multiclass/results_tabflex_time_10000000_roc_auc_tamilnadu-electricity_22890_45780_5_cuda.npy\n"
     ]
    },
    {
     "name": "stderr",
     "output_type": "stream",
     "text": [
      "evaluating tabflex on cuda USPS:  71%|███████   | 120/170 [00:55<00:08,  6.16it/s]                 "
     ]
    },
    {
     "name": "stdout",
     "output_type": "stream",
     "text": [
      "Loaded saved result for /opt/hpcaas/.mounts/fs-0663e2d3c38211883/home/yuchenzeng/tabflex/train_tabflex/mothernet/results/tabular/multiclass/results_tabflex_time_10000000_roc_auc_USPS_4649_9298_1_cuda.npy\n",
      "Loaded saved result for /opt/hpcaas/.mounts/fs-0663e2d3c38211883/home/yuchenzeng/tabflex/train_tabflex/mothernet/results/tabular/multiclass/results_tabflex_time_10000000_roc_auc_USPS_4649_9298_2_cuda.npy\n",
      "Loaded saved result for /opt/hpcaas/.mounts/fs-0663e2d3c38211883/home/yuchenzeng/tabflex/train_tabflex/mothernet/results/tabular/multiclass/results_tabflex_time_10000000_roc_auc_USPS_4649_9298_3_cuda.npy\n"
     ]
    },
    {
     "name": "stderr",
     "output_type": "stream",
     "text": [
      "evaluating tabflex on cuda madeline:  75%|███████▍  | 127/170 [00:55<00:05,  8.12it/s]"
     ]
    },
    {
     "name": "stdout",
     "output_type": "stream",
     "text": [
      "Loaded saved result for /opt/hpcaas/.mounts/fs-0663e2d3c38211883/home/yuchenzeng/tabflex/train_tabflex/mothernet/results/tabular/multiclass/results_tabflex_time_10000000_roc_auc_USPS_4649_9298_4_cuda.npy\n",
      "Loaded saved result for /opt/hpcaas/.mounts/fs-0663e2d3c38211883/home/yuchenzeng/tabflex/train_tabflex/mothernet/results/tabular/multiclass/results_tabflex_time_10000000_roc_auc_USPS_4649_9298_5_cuda.npy\n",
      "Loaded saved result for /opt/hpcaas/.mounts/fs-0663e2d3c38211883/home/yuchenzeng/tabflex/train_tabflex/mothernet/results/tabular/multiclass/results_tabflex_time_10000000_roc_auc_madeline_1570_3140_1_cuda.npy\n",
      "Loaded saved result for /opt/hpcaas/.mounts/fs-0663e2d3c38211883/home/yuchenzeng/tabflex/train_tabflex/mothernet/results/tabular/multiclass/results_tabflex_time_10000000_roc_auc_madeline_1570_3140_2_cuda.npy\n",
      "Loaded saved result for /opt/hpcaas/.mounts/fs-0663e2d3c38211883/home/yuchenzeng/tabflex/train_tabflex/mothernet/results/tabular/multiclass/results_tabflex_time_10000000_roc_auc_madeline_1570_3140_3_cuda.npy\n"
     ]
    },
    {
     "name": "stderr",
     "output_type": "stream",
     "text": [
      "evaluating tabflex on cuda GTSRB-HOG01:  75%|███████▍  | 127/170 [00:55<00:05,  8.12it/s]"
     ]
    },
    {
     "name": "stdout",
     "output_type": "stream",
     "text": [
      "Loaded saved result for /opt/hpcaas/.mounts/fs-0663e2d3c38211883/home/yuchenzeng/tabflex/train_tabflex/mothernet/results/tabular/multiclass/results_tabflex_time_10000000_roc_auc_madeline_1570_3140_4_cuda.npy\n",
      "Loaded saved result for /opt/hpcaas/.mounts/fs-0663e2d3c38211883/home/yuchenzeng/tabflex/train_tabflex/mothernet/results/tabular/multiclass/results_tabflex_time_10000000_roc_auc_madeline_1570_3140_5_cuda.npy\n",
      "Loaded saved result for /opt/hpcaas/.mounts/fs-0663e2d3c38211883/home/yuchenzeng/tabflex/train_tabflex/mothernet/results/tabular/multiclass/results_tabflex_time_10000000_roc_auc_GTSRB-HOG01_25919_51838_1_cuda.npy\n"
     ]
    },
    {
     "name": "stderr",
     "output_type": "stream",
     "text": [
      "evaluating tabflex on cuda GTSRB-HOG01:  77%|███████▋  | 131/170 [00:57<00:07,  5.12it/s]"
     ]
    },
    {
     "name": "stdout",
     "output_type": "stream",
     "text": [
      "Loaded saved result for /opt/hpcaas/.mounts/fs-0663e2d3c38211883/home/yuchenzeng/tabflex/train_tabflex/mothernet/results/tabular/multiclass/results_tabflex_time_10000000_roc_auc_GTSRB-HOG01_25919_51838_2_cuda.npy\n"
     ]
    },
    {
     "name": "stderr",
     "output_type": "stream",
     "text": [
      "evaluating tabflex on cuda GTSRB-HOG01:  77%|███████▋  | 131/170 [00:58<00:07,  5.12it/s]"
     ]
    },
    {
     "name": "stdout",
     "output_type": "stream",
     "text": [
      "Loaded saved result for /opt/hpcaas/.mounts/fs-0663e2d3c38211883/home/yuchenzeng/tabflex/train_tabflex/mothernet/results/tabular/multiclass/results_tabflex_time_10000000_roc_auc_GTSRB-HOG01_25919_51838_3_cuda.npy\n"
     ]
    },
    {
     "name": "stderr",
     "output_type": "stream",
     "text": [
      "evaluating tabflex on cuda GTSRB-HOG01:  78%|███████▊  | 133/170 [01:00<00:15,  2.44it/s]"
     ]
    },
    {
     "name": "stdout",
     "output_type": "stream",
     "text": [
      "Loaded saved result for /opt/hpcaas/.mounts/fs-0663e2d3c38211883/home/yuchenzeng/tabflex/train_tabflex/mothernet/results/tabular/multiclass/results_tabflex_time_10000000_roc_auc_GTSRB-HOG01_25919_51838_4_cuda.npy\n"
     ]
    },
    {
     "name": "stderr",
     "output_type": "stream",
     "text": [
      "evaluating tabflex on cuda GTSRB-HOG01:  78%|███████▊  | 133/170 [01:01<00:15,  2.44it/s]"
     ]
    },
    {
     "name": "stdout",
     "output_type": "stream",
     "text": [
      "Loaded saved result for /opt/hpcaas/.mounts/fs-0663e2d3c38211883/home/yuchenzeng/tabflex/train_tabflex/mothernet/results/tabular/multiclass/results_tabflex_time_10000000_roc_auc_GTSRB-HOG01_25919_51838_5_cuda.npy\n"
     ]
    },
    {
     "name": "stderr",
     "output_type": "stream",
     "text": [
      "evaluating tabflex on cuda GTSRB-HOG02:  79%|███████▉  | 135/170 [01:03<00:22,  1.58it/s]"
     ]
    },
    {
     "name": "stdout",
     "output_type": "stream",
     "text": [
      "Loaded saved result for /opt/hpcaas/.mounts/fs-0663e2d3c38211883/home/yuchenzeng/tabflex/train_tabflex/mothernet/results/tabular/multiclass/results_tabflex_time_10000000_roc_auc_GTSRB-HOG02_25919_51838_1_cuda.npy\n"
     ]
    },
    {
     "name": "stderr",
     "output_type": "stream",
     "text": [
      "evaluating tabflex on cuda GTSRB-HOG02:  80%|████████  | 136/170 [01:05<00:24,  1.36it/s]"
     ]
    },
    {
     "name": "stdout",
     "output_type": "stream",
     "text": [
      "Loaded saved result for /opt/hpcaas/.mounts/fs-0663e2d3c38211883/home/yuchenzeng/tabflex/train_tabflex/mothernet/results/tabular/multiclass/results_tabflex_time_10000000_roc_auc_GTSRB-HOG02_25919_51838_2_cuda.npy\n"
     ]
    },
    {
     "name": "stderr",
     "output_type": "stream",
     "text": [
      "evaluating tabflex on cuda GTSRB-HOG02:  81%|████████  | 137/170 [01:06<00:27,  1.19it/s]"
     ]
    },
    {
     "name": "stdout",
     "output_type": "stream",
     "text": [
      "Loaded saved result for /opt/hpcaas/.mounts/fs-0663e2d3c38211883/home/yuchenzeng/tabflex/train_tabflex/mothernet/results/tabular/multiclass/results_tabflex_time_10000000_roc_auc_GTSRB-HOG02_25919_51838_3_cuda.npy\n"
     ]
    },
    {
     "name": "stderr",
     "output_type": "stream",
     "text": [
      "evaluating tabflex on cuda GTSRB-HOG02:  81%|████████  | 138/170 [01:07<00:30,  1.05it/s]"
     ]
    },
    {
     "name": "stdout",
     "output_type": "stream",
     "text": [
      "Loaded saved result for /opt/hpcaas/.mounts/fs-0663e2d3c38211883/home/yuchenzeng/tabflex/train_tabflex/mothernet/results/tabular/multiclass/results_tabflex_time_10000000_roc_auc_GTSRB-HOG02_25919_51838_4_cuda.npy\n"
     ]
    },
    {
     "name": "stderr",
     "output_type": "stream",
     "text": [
      "evaluating tabflex on cuda GTSRB-HOG02:  82%|████████▏ | 139/170 [01:09<00:32,  1.06s/it]"
     ]
    },
    {
     "name": "stdout",
     "output_type": "stream",
     "text": [
      "Loaded saved result for /opt/hpcaas/.mounts/fs-0663e2d3c38211883/home/yuchenzeng/tabflex/train_tabflex/mothernet/results/tabular/multiclass/results_tabflex_time_10000000_roc_auc_GTSRB-HOG02_25919_51838_5_cuda.npy\n"
     ]
    },
    {
     "name": "stderr",
     "output_type": "stream",
     "text": [
      "evaluating tabflex on cuda GTSRB-HOG03:  82%|████████▏ | 140/170 [01:10<00:34,  1.15s/it]"
     ]
    },
    {
     "name": "stdout",
     "output_type": "stream",
     "text": [
      "Loaded saved result for /opt/hpcaas/.mounts/fs-0663e2d3c38211883/home/yuchenzeng/tabflex/train_tabflex/mothernet/results/tabular/multiclass/results_tabflex_time_10000000_roc_auc_GTSRB-HOG03_25919_51838_1_cuda.npy\n"
     ]
    },
    {
     "name": "stderr",
     "output_type": "stream",
     "text": [
      "evaluating tabflex on cuda GTSRB-HOG03:  83%|████████▎ | 141/170 [01:12<00:35,  1.23s/it]"
     ]
    },
    {
     "name": "stdout",
     "output_type": "stream",
     "text": [
      "Loaded saved result for /opt/hpcaas/.mounts/fs-0663e2d3c38211883/home/yuchenzeng/tabflex/train_tabflex/mothernet/results/tabular/multiclass/results_tabflex_time_10000000_roc_auc_GTSRB-HOG03_25919_51838_2_cuda.npy\n"
     ]
    },
    {
     "name": "stderr",
     "output_type": "stream",
     "text": [
      "evaluating tabflex on cuda GTSRB-HOG03:  84%|████████▎ | 142/170 [01:13<00:36,  1.29s/it]"
     ]
    },
    {
     "name": "stdout",
     "output_type": "stream",
     "text": [
      "Loaded saved result for /opt/hpcaas/.mounts/fs-0663e2d3c38211883/home/yuchenzeng/tabflex/train_tabflex/mothernet/results/tabular/multiclass/results_tabflex_time_10000000_roc_auc_GTSRB-HOG03_25919_51838_3_cuda.npy\n"
     ]
    },
    {
     "name": "stderr",
     "output_type": "stream",
     "text": [
      "evaluating tabflex on cuda GTSRB-HOG03:  84%|████████▍ | 143/170 [01:15<00:36,  1.34s/it]"
     ]
    },
    {
     "name": "stdout",
     "output_type": "stream",
     "text": [
      "Loaded saved result for /opt/hpcaas/.mounts/fs-0663e2d3c38211883/home/yuchenzeng/tabflex/train_tabflex/mothernet/results/tabular/multiclass/results_tabflex_time_10000000_roc_auc_GTSRB-HOG03_25919_51838_4_cuda.npy\n"
     ]
    },
    {
     "name": "stderr",
     "output_type": "stream",
     "text": [
      "evaluating tabflex on cuda GTSRB-HOG03:  85%|████████▍ | 144/170 [01:16<00:35,  1.38s/it]"
     ]
    },
    {
     "name": "stdout",
     "output_type": "stream",
     "text": [
      "Loaded saved result for /opt/hpcaas/.mounts/fs-0663e2d3c38211883/home/yuchenzeng/tabflex/train_tabflex/mothernet/results/tabular/multiclass/results_tabflex_time_10000000_roc_auc_GTSRB-HOG03_25919_51838_5_cuda.npy\n"
     ]
    },
    {
     "name": "stderr",
     "output_type": "stream",
     "text": [
      "evaluating tabflex on cuda GTSRB-HueHist:  85%|████████▌ | 145/170 [01:18<00:35,  1.41s/it]"
     ]
    },
    {
     "name": "stdout",
     "output_type": "stream",
     "text": [
      "Loaded saved result for /opt/hpcaas/.mounts/fs-0663e2d3c38211883/home/yuchenzeng/tabflex/train_tabflex/mothernet/results/tabular/multiclass/results_tabflex_time_10000000_roc_auc_GTSRB-HueHist_25919_51838_1_cuda.npy\n"
     ]
    },
    {
     "name": "stderr",
     "output_type": "stream",
     "text": [
      "evaluating tabflex on cuda GTSRB-HueHist:  86%|████████▌ | 146/170 [01:19<00:34,  1.43s/it]"
     ]
    },
    {
     "name": "stdout",
     "output_type": "stream",
     "text": [
      "Loaded saved result for /opt/hpcaas/.mounts/fs-0663e2d3c38211883/home/yuchenzeng/tabflex/train_tabflex/mothernet/results/tabular/multiclass/results_tabflex_time_10000000_roc_auc_GTSRB-HueHist_25919_51838_2_cuda.npy\n"
     ]
    },
    {
     "name": "stderr",
     "output_type": "stream",
     "text": [
      "evaluating tabflex on cuda GTSRB-HueHist:  86%|████████▋ | 147/170 [01:21<00:32,  1.43s/it]"
     ]
    },
    {
     "name": "stdout",
     "output_type": "stream",
     "text": [
      "Loaded saved result for /opt/hpcaas/.mounts/fs-0663e2d3c38211883/home/yuchenzeng/tabflex/train_tabflex/mothernet/results/tabular/multiclass/results_tabflex_time_10000000_roc_auc_GTSRB-HueHist_25919_51838_3_cuda.npy\n"
     ]
    },
    {
     "name": "stderr",
     "output_type": "stream",
     "text": [
      "evaluating tabflex on cuda GTSRB-HueHist:  87%|████████▋ | 148/170 [01:22<00:31,  1.43s/it]"
     ]
    },
    {
     "name": "stdout",
     "output_type": "stream",
     "text": [
      "Loaded saved result for /opt/hpcaas/.mounts/fs-0663e2d3c38211883/home/yuchenzeng/tabflex/train_tabflex/mothernet/results/tabular/multiclass/results_tabflex_time_10000000_roc_auc_GTSRB-HueHist_25919_51838_4_cuda.npy\n"
     ]
    },
    {
     "name": "stderr",
     "output_type": "stream",
     "text": [
      "evaluating tabflex on cuda GTSRB-HueHist:  88%|████████▊ | 149/170 [01:24<00:30,  1.43s/it]"
     ]
    },
    {
     "name": "stdout",
     "output_type": "stream",
     "text": [
      "Loaded saved result for /opt/hpcaas/.mounts/fs-0663e2d3c38211883/home/yuchenzeng/tabflex/train_tabflex/mothernet/results/tabular/multiclass/results_tabflex_time_10000000_roc_auc_GTSRB-HueHist_25919_51838_5_cuda.npy\n"
     ]
    },
    {
     "name": "stderr",
     "output_type": "stream",
     "text": [
      "evaluating tabflex on cuda Kuzushiji-49:  88%|████████▊ | 150/170 [01:25<00:28,  1.43s/it] "
     ]
    },
    {
     "name": "stdout",
     "output_type": "stream",
     "text": [
      "Loaded saved result for /opt/hpcaas/.mounts/fs-0663e2d3c38211883/home/yuchenzeng/tabflex/train_tabflex/mothernet/results/tabular/multiclass/results_tabflex_time_10000000_roc_auc_Kuzushiji-49_135456_270912_1_cuda.npy\n"
     ]
    },
    {
     "name": "stderr",
     "output_type": "stream",
     "text": [
      "evaluating tabflex on cuda Kuzushiji-49:  89%|████████▉ | 151/170 [01:30<00:44,  2.35s/it]"
     ]
    },
    {
     "name": "stdout",
     "output_type": "stream",
     "text": [
      "Loaded saved result for /opt/hpcaas/.mounts/fs-0663e2d3c38211883/home/yuchenzeng/tabflex/train_tabflex/mothernet/results/tabular/multiclass/results_tabflex_time_10000000_roc_auc_Kuzushiji-49_135456_270912_2_cuda.npy\n"
     ]
    },
    {
     "name": "stderr",
     "output_type": "stream",
     "text": [
      "evaluating tabflex on cuda Kuzushiji-49:  89%|████████▉ | 152/170 [01:34<00:53,  3.00s/it]"
     ]
    },
    {
     "name": "stdout",
     "output_type": "stream",
     "text": [
      "Loaded saved result for /opt/hpcaas/.mounts/fs-0663e2d3c38211883/home/yuchenzeng/tabflex/train_tabflex/mothernet/results/tabular/multiclass/results_tabflex_time_10000000_roc_auc_Kuzushiji-49_135456_270912_3_cuda.npy\n"
     ]
    },
    {
     "name": "stderr",
     "output_type": "stream",
     "text": [
      "evaluating tabflex on cuda Kuzushiji-49:  90%|█████████ | 153/170 [01:39<00:58,  3.47s/it]"
     ]
    },
    {
     "name": "stdout",
     "output_type": "stream",
     "text": [
      "Loaded saved result for /opt/hpcaas/.mounts/fs-0663e2d3c38211883/home/yuchenzeng/tabflex/train_tabflex/mothernet/results/tabular/multiclass/results_tabflex_time_10000000_roc_auc_Kuzushiji-49_135456_270912_4_cuda.npy\n"
     ]
    },
    {
     "name": "stderr",
     "output_type": "stream",
     "text": [
      "evaluating tabflex on cuda Kuzushiji-49:  91%|█████████ | 154/170 [01:43<01:01,  3.82s/it]"
     ]
    },
    {
     "name": "stdout",
     "output_type": "stream",
     "text": [
      "Loaded saved result for /opt/hpcaas/.mounts/fs-0663e2d3c38211883/home/yuchenzeng/tabflex/train_tabflex/mothernet/results/tabular/multiclass/results_tabflex_time_10000000_roc_auc_Kuzushiji-49_135456_270912_5_cuda.npy\n"
     ]
    },
    {
     "name": "stderr",
     "output_type": "stream",
     "text": [
      "evaluating tabflex on cuda porto-seguro:  91%|█████████ | 155/170 [01:48<01:01,  4.07s/it]    "
     ]
    },
    {
     "name": "stdout",
     "output_type": "stream",
     "text": [
      "Loaded saved result for /opt/hpcaas/.mounts/fs-0663e2d3c38211883/home/yuchenzeng/tabflex/train_tabflex/mothernet/results/tabular/multiclass/results_tabflex_time_10000000_roc_auc_compas-two-years_2639_5278_1_cuda.npy\n",
      "Loaded saved result for /opt/hpcaas/.mounts/fs-0663e2d3c38211883/home/yuchenzeng/tabflex/train_tabflex/mothernet/results/tabular/multiclass/results_tabflex_time_10000000_roc_auc_compas-two-years_2639_5278_2_cuda.npy\n",
      "Loaded saved result for /opt/hpcaas/.mounts/fs-0663e2d3c38211883/home/yuchenzeng/tabflex/train_tabflex/mothernet/results/tabular/multiclass/results_tabflex_time_10000000_roc_auc_compas-two-years_2639_5278_3_cuda.npy\n",
      "Loaded saved result for /opt/hpcaas/.mounts/fs-0663e2d3c38211883/home/yuchenzeng/tabflex/train_tabflex/mothernet/results/tabular/multiclass/results_tabflex_time_10000000_roc_auc_compas-two-years_2639_5278_4_cuda.npy\n",
      "Loaded saved result for /opt/hpcaas/.mounts/fs-0663e2d3c38211883/home/yuchenzeng/tabflex/train_tabflex/mothernet/results/tabular/multiclass/results_tabflex_time_10000000_roc_auc_compas-two-years_2639_5278_5_cuda.npy\n",
      "Loaded saved result for /opt/hpcaas/.mounts/fs-0663e2d3c38211883/home/yuchenzeng/tabflex/train_tabflex/mothernet/results/tabular/multiclass/results_tabflex_time_10000000_roc_auc_porto-seguro_297606_595212_1_cuda.npy\n"
     ]
    },
    {
     "name": "stderr",
     "output_type": "stream",
     "text": [
      "evaluating tabflex on cuda porto-seguro:  95%|█████████▌| 162/170 [01:48<00:08,  1.03s/it]"
     ]
    },
    {
     "name": "stdout",
     "output_type": "stream",
     "text": [
      "Loaded saved result for /opt/hpcaas/.mounts/fs-0663e2d3c38211883/home/yuchenzeng/tabflex/train_tabflex/mothernet/results/tabular/multiclass/results_tabflex_time_10000000_roc_auc_porto-seguro_297606_595212_2_cuda.npy\n",
      "Loaded saved result for /opt/hpcaas/.mounts/fs-0663e2d3c38211883/home/yuchenzeng/tabflex/train_tabflex/mothernet/results/tabular/multiclass/results_tabflex_time_10000000_roc_auc_porto-seguro_297606_595212_3_cuda.npy\n"
     ]
    },
    {
     "name": "stderr",
     "output_type": "stream",
     "text": [
      "evaluating tabflex on cuda porto-seguro:  96%|█████████▋| 164/170 [01:49<00:04,  1.34it/s]"
     ]
    },
    {
     "name": "stdout",
     "output_type": "stream",
     "text": [
      "Loaded saved result for /opt/hpcaas/.mounts/fs-0663e2d3c38211883/home/yuchenzeng/tabflex/train_tabflex/mothernet/results/tabular/multiclass/results_tabflex_time_10000000_roc_auc_porto-seguro_297606_595212_4_cuda.npy\n",
      "Loaded saved result for /opt/hpcaas/.mounts/fs-0663e2d3c38211883/home/yuchenzeng/tabflex/train_tabflex/mothernet/results/tabular/multiclass/results_tabflex_time_10000000_roc_auc_porto-seguro_297606_595212_5_cuda.npy\n"
     ]
    },
    {
     "name": "stderr",
     "output_type": "stream",
     "text": [
      "evaluating tabflex on cuda KDD98: 100%|██████████| 170/170 [01:49<00:00,  1.55it/s]       \n"
     ]
    },
    {
     "name": "stdout",
     "output_type": "stream",
     "text": [
      "Loaded saved result for /opt/hpcaas/.mounts/fs-0663e2d3c38211883/home/yuchenzeng/tabflex/train_tabflex/mothernet/results/tabular/multiclass/results_tabflex_time_10000000_roc_auc_KDD98_41159_82318_1_cuda.npy\n",
      "Loaded saved result for /opt/hpcaas/.mounts/fs-0663e2d3c38211883/home/yuchenzeng/tabflex/train_tabflex/mothernet/results/tabular/multiclass/results_tabflex_time_10000000_roc_auc_KDD98_41159_82318_2_cuda.npy\n",
      "Loaded saved result for /opt/hpcaas/.mounts/fs-0663e2d3c38211883/home/yuchenzeng/tabflex/train_tabflex/mothernet/results/tabular/multiclass/results_tabflex_time_10000000_roc_auc_KDD98_41159_82318_3_cuda.npy\n",
      "Loaded saved result for /opt/hpcaas/.mounts/fs-0663e2d3c38211883/home/yuchenzeng/tabflex/train_tabflex/mothernet/results/tabular/multiclass/results_tabflex_time_10000000_roc_auc_KDD98_41159_82318_4_cuda.npy\n",
      "Loaded saved result for /opt/hpcaas/.mounts/fs-0663e2d3c38211883/home/yuchenzeng/tabflex/train_tabflex/mothernet/results/tabular/multiclass/results_tabflex_time_10000000_roc_auc_KDD98_41159_82318_5_cuda.npy\n",
      "evaluating tabsmall on cuda\n"
     ]
    },
    {
     "name": "stderr",
     "output_type": "stream",
     "text": [
      "evaluating tabsmall on cuda meta_stream_intervals.arff:   0%|          | 0/170 [00:00<?, ?it/s]"
     ]
    },
    {
     "name": "stdout",
     "output_type": "stream",
     "text": [
      "Loaded saved result for /opt/hpcaas/.mounts/fs-0663e2d3c38211883/home/yuchenzeng/tabflex/train_tabflex/mothernet/results/tabular/multiclass/results_tabsmall_time_10000000_roc_auc_meta_stream_intervals.arff_22582_45164_1_cuda.npy\n"
     ]
    },
    {
     "name": "stderr",
     "output_type": "stream",
     "text": [
      "evaluating tabsmall on cuda meta_stream_intervals.arff:   1%|          | 2/170 [00:00<00:34,  4.91it/s]"
     ]
    },
    {
     "name": "stdout",
     "output_type": "stream",
     "text": [
      "Loaded saved result for /opt/hpcaas/.mounts/fs-0663e2d3c38211883/home/yuchenzeng/tabflex/train_tabflex/mothernet/results/tabular/multiclass/results_tabsmall_time_10000000_roc_auc_meta_stream_intervals.arff_22582_45164_2_cuda.npy\n"
     ]
    },
    {
     "name": "stderr",
     "output_type": "stream",
     "text": [
      "evaluating tabsmall on cuda meta_stream_intervals.arff:   2%|▏         | 3/170 [00:00<00:33,  4.96it/s]"
     ]
    },
    {
     "name": "stdout",
     "output_type": "stream",
     "text": [
      "Loaded saved result for /opt/hpcaas/.mounts/fs-0663e2d3c38211883/home/yuchenzeng/tabflex/train_tabflex/mothernet/results/tabular/multiclass/results_tabsmall_time_10000000_roc_auc_meta_stream_intervals.arff_22582_45164_3_cuda.npy\n",
      "Loaded saved result for /opt/hpcaas/.mounts/fs-0663e2d3c38211883/home/yuchenzeng/tabflex/train_tabflex/mothernet/results/tabular/multiclass/results_tabsmall_time_10000000_roc_auc_meta_stream_intervals.arff_22582_45164_4_cuda.npy\n"
     ]
    },
    {
     "name": "stderr",
     "output_type": "stream",
     "text": [
      "evaluating tabsmall on cuda oil_spill:   3%|▎         | 5/170 [00:01<00:33,  4.96it/s]                 "
     ]
    },
    {
     "name": "stdout",
     "output_type": "stream",
     "text": [
      "Loaded saved result for /opt/hpcaas/.mounts/fs-0663e2d3c38211883/home/yuchenzeng/tabflex/train_tabflex/mothernet/results/tabular/multiclass/results_tabsmall_time_10000000_roc_auc_meta_stream_intervals.arff_22582_45164_5_cuda.npy\n",
      "Loaded saved result for /opt/hpcaas/.mounts/fs-0663e2d3c38211883/home/yuchenzeng/tabflex/train_tabflex/mothernet/results/tabular/multiclass/results_tabsmall_time_10000000_roc_auc_oil_spill_468_936_1_cuda.npy\n"
     ]
    },
    {
     "name": "stderr",
     "output_type": "stream",
     "text": [
      "evaluating tabsmall on cuda fri_c2_500_50:  18%|█▊        | 31/170 [00:01<00:02, 52.36it/s]   "
     ]
    },
    {
     "name": "stdout",
     "output_type": "stream",
     "text": [
      "Loaded saved result for /opt/hpcaas/.mounts/fs-0663e2d3c38211883/home/yuchenzeng/tabflex/train_tabflex/mothernet/results/tabular/multiclass/results_tabsmall_time_10000000_roc_auc_oil_spill_468_936_2_cuda.npy\n",
      "Loaded saved result for /opt/hpcaas/.mounts/fs-0663e2d3c38211883/home/yuchenzeng/tabflex/train_tabflex/mothernet/results/tabular/multiclass/results_tabsmall_time_10000000_roc_auc_oil_spill_468_936_3_cuda.npy\n",
      "Loaded saved result for /opt/hpcaas/.mounts/fs-0663e2d3c38211883/home/yuchenzeng/tabflex/train_tabflex/mothernet/results/tabular/multiclass/results_tabsmall_time_10000000_roc_auc_oil_spill_468_936_4_cuda.npy\n",
      "Loaded saved result for /opt/hpcaas/.mounts/fs-0663e2d3c38211883/home/yuchenzeng/tabflex/train_tabflex/mothernet/results/tabular/multiclass/results_tabsmall_time_10000000_roc_auc_oil_spill_468_936_5_cuda.npy\n",
      "Loaded saved result for /opt/hpcaas/.mounts/fs-0663e2d3c38211883/home/yuchenzeng/tabflex/train_tabflex/mothernet/results/tabular/multiclass/results_tabsmall_time_10000000_roc_auc_fri_c4_500_100_250_500_1_cuda.npy\n",
      "Loaded saved result for /opt/hpcaas/.mounts/fs-0663e2d3c38211883/home/yuchenzeng/tabflex/train_tabflex/mothernet/results/tabular/multiclass/results_tabsmall_time_10000000_roc_auc_fri_c4_500_100_250_500_2_cuda.npy\n",
      "Loaded saved result for /opt/hpcaas/.mounts/fs-0663e2d3c38211883/home/yuchenzeng/tabflex/train_tabflex/mothernet/results/tabular/multiclass/results_tabsmall_time_10000000_roc_auc_fri_c4_500_100_250_500_3_cuda.npy\n",
      "Loaded saved result for /opt/hpcaas/.mounts/fs-0663e2d3c38211883/home/yuchenzeng/tabflex/train_tabflex/mothernet/results/tabular/multiclass/results_tabsmall_time_10000000_roc_auc_fri_c4_500_100_250_500_4_cuda.npy\n",
      "Loaded saved result for /opt/hpcaas/.mounts/fs-0663e2d3c38211883/home/yuchenzeng/tabflex/train_tabflex/mothernet/results/tabular/multiclass/results_tabsmall_time_10000000_roc_auc_fri_c4_500_100_250_500_5_cuda.npy\n",
      "Loaded saved result for /opt/hpcaas/.mounts/fs-0663e2d3c38211883/home/yuchenzeng/tabflex/train_tabflex/mothernet/results/tabular/multiclass/results_tabsmall_time_10000000_roc_auc_boston_corrected_253_506_1_cuda.npy\n",
      "Loaded saved result for /opt/hpcaas/.mounts/fs-0663e2d3c38211883/home/yuchenzeng/tabflex/train_tabflex/mothernet/results/tabular/multiclass/results_tabsmall_time_10000000_roc_auc_boston_corrected_253_506_2_cuda.npy\n",
      "Loaded saved result for /opt/hpcaas/.mounts/fs-0663e2d3c38211883/home/yuchenzeng/tabflex/train_tabflex/mothernet/results/tabular/multiclass/results_tabsmall_time_10000000_roc_auc_boston_corrected_253_506_3_cuda.npy\n",
      "Loaded saved result for /opt/hpcaas/.mounts/fs-0663e2d3c38211883/home/yuchenzeng/tabflex/train_tabflex/mothernet/results/tabular/multiclass/results_tabsmall_time_10000000_roc_auc_boston_corrected_253_506_4_cuda.npy\n",
      "Loaded saved result for /opt/hpcaas/.mounts/fs-0663e2d3c38211883/home/yuchenzeng/tabflex/train_tabflex/mothernet/results/tabular/multiclass/results_tabsmall_time_10000000_roc_auc_boston_corrected_253_506_5_cuda.npy\n",
      "Loaded saved result for /opt/hpcaas/.mounts/fs-0663e2d3c38211883/home/yuchenzeng/tabflex/train_tabflex/mothernet/results/tabular/multiclass/results_tabsmall_time_10000000_roc_auc_bank32nh_4096_8192_1_cuda.npy\n",
      "Loaded saved result for /opt/hpcaas/.mounts/fs-0663e2d3c38211883/home/yuchenzeng/tabflex/train_tabflex/mothernet/results/tabular/multiclass/results_tabsmall_time_10000000_roc_auc_bank32nh_4096_8192_2_cuda.npy\n",
      "Loaded saved result for /opt/hpcaas/.mounts/fs-0663e2d3c38211883/home/yuchenzeng/tabflex/train_tabflex/mothernet/results/tabular/multiclass/results_tabsmall_time_10000000_roc_auc_bank32nh_4096_8192_3_cuda.npy\n",
      "Loaded saved result for /opt/hpcaas/.mounts/fs-0663e2d3c38211883/home/yuchenzeng/tabflex/train_tabflex/mothernet/results/tabular/multiclass/results_tabsmall_time_10000000_roc_auc_bank32nh_4096_8192_4_cuda.npy\n",
      "Loaded saved result for /opt/hpcaas/.mounts/fs-0663e2d3c38211883/home/yuchenzeng/tabflex/train_tabflex/mothernet/results/tabular/multiclass/results_tabsmall_time_10000000_roc_auc_bank32nh_4096_8192_5_cuda.npy\n",
      "Loaded saved result for /opt/hpcaas/.mounts/fs-0663e2d3c38211883/home/yuchenzeng/tabflex/train_tabflex/mothernet/results/tabular/multiclass/results_tabsmall_time_10000000_roc_auc_stock_475_950_1_cuda.npy\n",
      "Loaded saved result for /opt/hpcaas/.mounts/fs-0663e2d3c38211883/home/yuchenzeng/tabflex/train_tabflex/mothernet/results/tabular/multiclass/results_tabsmall_time_10000000_roc_auc_stock_475_950_2_cuda.npy\n",
      "Loaded saved result for /opt/hpcaas/.mounts/fs-0663e2d3c38211883/home/yuchenzeng/tabflex/train_tabflex/mothernet/results/tabular/multiclass/results_tabsmall_time_10000000_roc_auc_stock_475_950_3_cuda.npy\n",
      "Loaded saved result for /opt/hpcaas/.mounts/fs-0663e2d3c38211883/home/yuchenzeng/tabflex/train_tabflex/mothernet/results/tabular/multiclass/results_tabsmall_time_10000000_roc_auc_stock_475_950_4_cuda.npy\n",
      "Loaded saved result for /opt/hpcaas/.mounts/fs-0663e2d3c38211883/home/yuchenzeng/tabflex/train_tabflex/mothernet/results/tabular/multiclass/results_tabsmall_time_10000000_roc_auc_stock_475_950_5_cuda.npy\n",
      "Loaded saved result for /opt/hpcaas/.mounts/fs-0663e2d3c38211883/home/yuchenzeng/tabflex/train_tabflex/mothernet/results/tabular/multiclass/results_tabsmall_time_10000000_roc_auc_fri_c2_500_50_250_500_1_cuda.npy\n",
      "Loaded saved result for /opt/hpcaas/.mounts/fs-0663e2d3c38211883/home/yuchenzeng/tabflex/train_tabflex/mothernet/results/tabular/multiclass/results_tabsmall_time_10000000_roc_auc_fri_c2_500_50_250_500_2_cuda.npy\n"
     ]
    },
    {
     "name": "stderr",
     "output_type": "stream",
     "text": [
      "evaluating tabsmall on cuda one-hundred-plants-margin:  26%|██▌       | 44/170 [00:01<00:01, 70.11it/s]"
     ]
    },
    {
     "name": "stdout",
     "output_type": "stream",
     "text": [
      "Loaded saved result for /opt/hpcaas/.mounts/fs-0663e2d3c38211883/home/yuchenzeng/tabflex/train_tabflex/mothernet/results/tabular/multiclass/results_tabsmall_time_10000000_roc_auc_fri_c2_500_50_250_500_3_cuda.npy\n",
      "Loaded saved result for /opt/hpcaas/.mounts/fs-0663e2d3c38211883/home/yuchenzeng/tabflex/train_tabflex/mothernet/results/tabular/multiclass/results_tabsmall_time_10000000_roc_auc_fri_c2_500_50_250_500_4_cuda.npy\n",
      "Loaded saved result for /opt/hpcaas/.mounts/fs-0663e2d3c38211883/home/yuchenzeng/tabflex/train_tabflex/mothernet/results/tabular/multiclass/results_tabsmall_time_10000000_roc_auc_fri_c2_500_50_250_500_5_cuda.npy\n",
      "Loaded saved result for /opt/hpcaas/.mounts/fs-0663e2d3c38211883/home/yuchenzeng/tabflex/train_tabflex/mothernet/results/tabular/multiclass/results_tabsmall_time_10000000_roc_auc_water-treatment_263_526_1_cuda.npy\n",
      "Loaded saved result for /opt/hpcaas/.mounts/fs-0663e2d3c38211883/home/yuchenzeng/tabflex/train_tabflex/mothernet/results/tabular/multiclass/results_tabsmall_time_10000000_roc_auc_water-treatment_263_526_2_cuda.npy\n",
      "Loaded saved result for /opt/hpcaas/.mounts/fs-0663e2d3c38211883/home/yuchenzeng/tabflex/train_tabflex/mothernet/results/tabular/multiclass/results_tabsmall_time_10000000_roc_auc_water-treatment_263_526_3_cuda.npy\n",
      "Loaded saved result for /opt/hpcaas/.mounts/fs-0663e2d3c38211883/home/yuchenzeng/tabflex/train_tabflex/mothernet/results/tabular/multiclass/results_tabsmall_time_10000000_roc_auc_water-treatment_263_526_4_cuda.npy\n",
      "Loaded saved result for /opt/hpcaas/.mounts/fs-0663e2d3c38211883/home/yuchenzeng/tabflex/train_tabflex/mothernet/results/tabular/multiclass/results_tabsmall_time_10000000_roc_auc_water-treatment_263_526_5_cuda.npy\n",
      "Loaded saved result for /opt/hpcaas/.mounts/fs-0663e2d3c38211883/home/yuchenzeng/tabflex/train_tabflex/mothernet/results/tabular/multiclass/results_tabsmall_time_10000000_roc_auc_kdd_internet_usage_5054_10108_1_cuda.npy\n",
      "Loaded saved result for /opt/hpcaas/.mounts/fs-0663e2d3c38211883/home/yuchenzeng/tabflex/train_tabflex/mothernet/results/tabular/multiclass/results_tabsmall_time_10000000_roc_auc_kdd_internet_usage_5054_10108_2_cuda.npy\n",
      "Loaded saved result for /opt/hpcaas/.mounts/fs-0663e2d3c38211883/home/yuchenzeng/tabflex/train_tabflex/mothernet/results/tabular/multiclass/results_tabsmall_time_10000000_roc_auc_kdd_internet_usage_5054_10108_3_cuda.npy\n",
      "Loaded saved result for /opt/hpcaas/.mounts/fs-0663e2d3c38211883/home/yuchenzeng/tabflex/train_tabflex/mothernet/results/tabular/multiclass/results_tabsmall_time_10000000_roc_auc_kdd_internet_usage_5054_10108_4_cuda.npy\n",
      "Loaded saved result for /opt/hpcaas/.mounts/fs-0663e2d3c38211883/home/yuchenzeng/tabflex/train_tabflex/mothernet/results/tabular/multiclass/results_tabsmall_time_10000000_roc_auc_kdd_internet_usage_5054_10108_5_cuda.npy\n",
      "Loaded saved result for /opt/hpcaas/.mounts/fs-0663e2d3c38211883/home/yuchenzeng/tabflex/train_tabflex/mothernet/results/tabular/multiclass/results_tabsmall_time_10000000_roc_auc_hiva_agnostic_2114_4228_1_cuda.npy\n",
      "Loaded saved result for /opt/hpcaas/.mounts/fs-0663e2d3c38211883/home/yuchenzeng/tabflex/train_tabflex/mothernet/results/tabular/multiclass/results_tabsmall_time_10000000_roc_auc_hiva_agnostic_2114_4228_2_cuda.npy\n",
      "Loaded saved result for /opt/hpcaas/.mounts/fs-0663e2d3c38211883/home/yuchenzeng/tabflex/train_tabflex/mothernet/results/tabular/multiclass/results_tabsmall_time_10000000_roc_auc_hiva_agnostic_2114_4228_3_cuda.npy\n",
      "Loaded saved result for /opt/hpcaas/.mounts/fs-0663e2d3c38211883/home/yuchenzeng/tabflex/train_tabflex/mothernet/results/tabular/multiclass/results_tabsmall_time_10000000_roc_auc_hiva_agnostic_2114_4228_4_cuda.npy\n",
      "Loaded saved result for /opt/hpcaas/.mounts/fs-0663e2d3c38211883/home/yuchenzeng/tabflex/train_tabflex/mothernet/results/tabular/multiclass/results_tabsmall_time_10000000_roc_auc_hiva_agnostic_2114_4228_5_cuda.npy\n",
      "Loaded saved result for /opt/hpcaas/.mounts/fs-0663e2d3c38211883/home/yuchenzeng/tabflex/train_tabflex/mothernet/results/tabular/multiclass/results_tabsmall_time_10000000_roc_auc_one-hundred-plants-margin_800_1600_1_cuda.npy\n"
     ]
    },
    {
     "name": "stderr",
     "output_type": "stream",
     "text": [
      "evaluating tabsmall on cuda one-hundred-plants-margin:  26%|██▌       | 44/170 [00:05<00:01, 70.11it/s]"
     ]
    },
    {
     "name": "stdout",
     "output_type": "stream",
     "text": [
      "Loaded saved result for /opt/hpcaas/.mounts/fs-0663e2d3c38211883/home/yuchenzeng/tabflex/train_tabflex/mothernet/results/tabular/multiclass/results_tabsmall_time_10000000_roc_auc_one-hundred-plants-margin_800_1600_2_cuda.npy\n"
     ]
    },
    {
     "name": "stderr",
     "output_type": "stream",
     "text": [
      "evaluating tabsmall on cuda one-hundred-plants-margin:  26%|██▌       | 44/170 [00:10<00:01, 70.11it/s]"
     ]
    },
    {
     "name": "stdout",
     "output_type": "stream",
     "text": [
      "Loaded saved result for /opt/hpcaas/.mounts/fs-0663e2d3c38211883/home/yuchenzeng/tabflex/train_tabflex/mothernet/results/tabular/multiclass/results_tabsmall_time_10000000_roc_auc_one-hundred-plants-margin_800_1600_3_cuda.npy\n"
     ]
    },
    {
     "name": "stderr",
     "output_type": "stream",
     "text": [
      "evaluating tabsmall on cuda one-hundred-plants-margin:  31%|███       | 53/170 [00:14<00:52,  2.21it/s]"
     ]
    },
    {
     "name": "stdout",
     "output_type": "stream",
     "text": [
      "Loaded saved result for /opt/hpcaas/.mounts/fs-0663e2d3c38211883/home/yuchenzeng/tabflex/train_tabflex/mothernet/results/tabular/multiclass/results_tabsmall_time_10000000_roc_auc_one-hundred-plants-margin_800_1600_4_cuda.npy\n"
     ]
    },
    {
     "name": "stderr",
     "output_type": "stream",
     "text": [
      "evaluating tabsmall on cuda one-hundred-plants-margin:  32%|███▏      | 54/170 [00:18<01:13,  1.58it/s]"
     ]
    },
    {
     "name": "stdout",
     "output_type": "stream",
     "text": [
      "Loaded saved result for /opt/hpcaas/.mounts/fs-0663e2d3c38211883/home/yuchenzeng/tabflex/train_tabflex/mothernet/results/tabular/multiclass/results_tabsmall_time_10000000_roc_auc_one-hundred-plants-margin_800_1600_5_cuda.npy\n"
     ]
    },
    {
     "name": "stderr",
     "output_type": "stream",
     "text": [
      "evaluating tabsmall on cuda one-hundred-plants-shape:  32%|███▏      | 54/170 [00:23<01:13,  1.58it/s] "
     ]
    },
    {
     "name": "stdout",
     "output_type": "stream",
     "text": [
      "Loaded saved result for /opt/hpcaas/.mounts/fs-0663e2d3c38211883/home/yuchenzeng/tabflex/train_tabflex/mothernet/results/tabular/multiclass/results_tabsmall_time_10000000_roc_auc_one-hundred-plants-shape_800_1600_1_cuda.npy\n"
     ]
    },
    {
     "name": "stderr",
     "output_type": "stream",
     "text": [
      "evaluating tabsmall on cuda one-hundred-plants-shape:  32%|███▏      | 54/170 [00:27<01:13,  1.58it/s]"
     ]
    },
    {
     "name": "stdout",
     "output_type": "stream",
     "text": [
      "Loaded saved result for /opt/hpcaas/.mounts/fs-0663e2d3c38211883/home/yuchenzeng/tabflex/train_tabflex/mothernet/results/tabular/multiclass/results_tabsmall_time_10000000_roc_auc_one-hundred-plants-shape_800_1600_2_cuda.npy\n"
     ]
    },
    {
     "name": "stderr",
     "output_type": "stream",
     "text": [
      "evaluating tabsmall on cuda one-hundred-plants-shape:  34%|███▎      | 57/170 [00:31<02:20,  1.24s/it]"
     ]
    },
    {
     "name": "stdout",
     "output_type": "stream",
     "text": [
      "Loaded saved result for /opt/hpcaas/.mounts/fs-0663e2d3c38211883/home/yuchenzeng/tabflex/train_tabflex/mothernet/results/tabular/multiclass/results_tabsmall_time_10000000_roc_auc_one-hundred-plants-shape_800_1600_3_cuda.npy\n"
     ]
    },
    {
     "name": "stderr",
     "output_type": "stream",
     "text": [
      "evaluating tabsmall on cuda one-hundred-plants-shape:  34%|███▍      | 58/170 [00:36<02:44,  1.47s/it]"
     ]
    },
    {
     "name": "stdout",
     "output_type": "stream",
     "text": [
      "Loaded saved result for /opt/hpcaas/.mounts/fs-0663e2d3c38211883/home/yuchenzeng/tabflex/train_tabflex/mothernet/results/tabular/multiclass/results_tabsmall_time_10000000_roc_auc_one-hundred-plants-shape_800_1600_4_cuda.npy\n"
     ]
    },
    {
     "name": "stderr",
     "output_type": "stream",
     "text": [
      "evaluating tabsmall on cuda one-hundred-plants-shape:  34%|███▍      | 58/170 [00:40<02:44,  1.47s/it]"
     ]
    },
    {
     "name": "stdout",
     "output_type": "stream",
     "text": [
      "Loaded saved result for /opt/hpcaas/.mounts/fs-0663e2d3c38211883/home/yuchenzeng/tabflex/train_tabflex/mothernet/results/tabular/multiclass/results_tabsmall_time_10000000_roc_auc_one-hundred-plants-shape_800_1600_5_cuda.npy\n"
     ]
    },
    {
     "name": "stderr",
     "output_type": "stream",
     "text": [
      "evaluating tabsmall on cuda spoken-arabic-digit:  34%|███▍      | 58/170 [00:44<02:44,  1.47s/it]     "
     ]
    },
    {
     "name": "stdout",
     "output_type": "stream",
     "text": [
      "Loaded saved result for /opt/hpcaas/.mounts/fs-0663e2d3c38211883/home/yuchenzeng/tabflex/train_tabflex/mothernet/results/tabular/multiclass/results_tabsmall_time_10000000_roc_auc_spoken-arabic-digit_131628_263256_1_cuda.npy\n"
     ]
    },
    {
     "name": "stderr",
     "output_type": "stream",
     "text": [
      "evaluating tabsmall on cuda spoken-arabic-digit:  34%|███▍      | 58/170 [00:45<02:44,  1.47s/it]"
     ]
    },
    {
     "name": "stdout",
     "output_type": "stream",
     "text": [
      "Loaded saved result for /opt/hpcaas/.mounts/fs-0663e2d3c38211883/home/yuchenzeng/tabflex/train_tabflex/mothernet/results/tabular/multiclass/results_tabsmall_time_10000000_roc_auc_spoken-arabic-digit_131628_263256_2_cuda.npy\n"
     ]
    },
    {
     "name": "stderr",
     "output_type": "stream",
     "text": [
      "evaluating tabsmall on cuda spoken-arabic-digit:  34%|███▍      | 58/170 [00:45<02:44,  1.47s/it]"
     ]
    },
    {
     "name": "stdout",
     "output_type": "stream",
     "text": [
      "Loaded saved result for /opt/hpcaas/.mounts/fs-0663e2d3c38211883/home/yuchenzeng/tabflex/train_tabflex/mothernet/results/tabular/multiclass/results_tabsmall_time_10000000_roc_auc_spoken-arabic-digit_131628_263256_3_cuda.npy\n"
     ]
    },
    {
     "name": "stderr",
     "output_type": "stream",
     "text": [
      "evaluating tabsmall on cuda spoken-arabic-digit:  37%|███▋      | 63/170 [00:46<03:00,  1.68s/it]"
     ]
    },
    {
     "name": "stdout",
     "output_type": "stream",
     "text": [
      "Loaded saved result for /opt/hpcaas/.mounts/fs-0663e2d3c38211883/home/yuchenzeng/tabflex/train_tabflex/mothernet/results/tabular/multiclass/results_tabsmall_time_10000000_roc_auc_spoken-arabic-digit_131628_263256_4_cuda.npy\n"
     ]
    },
    {
     "name": "stderr",
     "output_type": "stream",
     "text": [
      "evaluating tabsmall on cuda spoken-arabic-digit:  38%|███▊      | 64/170 [00:47<02:48,  1.59s/it]"
     ]
    },
    {
     "name": "stdout",
     "output_type": "stream",
     "text": [
      "Loaded saved result for /opt/hpcaas/.mounts/fs-0663e2d3c38211883/home/yuchenzeng/tabflex/train_tabflex/mothernet/results/tabular/multiclass/results_tabsmall_time_10000000_roc_auc_spoken-arabic-digit_131628_263256_5_cuda.npy\n"
     ]
    },
    {
     "name": "stderr",
     "output_type": "stream",
     "text": [
      "evaluating tabsmall on cuda micro-mass:  38%|███▊      | 64/170 [00:47<02:48,  1.59s/it]         "
     ]
    },
    {
     "name": "stdout",
     "output_type": "stream",
     "text": [
      "Loaded saved result for /opt/hpcaas/.mounts/fs-0663e2d3c38211883/home/yuchenzeng/tabflex/train_tabflex/mothernet/results/tabular/multiclass/results_tabsmall_time_10000000_roc_auc_micro-mass_285_570_1_cuda.npy\n",
      "Loaded saved result for /opt/hpcaas/.mounts/fs-0663e2d3c38211883/home/yuchenzeng/tabflex/train_tabflex/mothernet/results/tabular/multiclass/results_tabsmall_time_10000000_roc_auc_micro-mass_285_570_2_cuda.npy\n"
     ]
    },
    {
     "name": "stderr",
     "output_type": "stream",
     "text": [
      "evaluating tabsmall on cuda micro-mass:  39%|███▉      | 67/170 [00:48<02:07,  1.24s/it]"
     ]
    },
    {
     "name": "stdout",
     "output_type": "stream",
     "text": [
      "Loaded saved result for /opt/hpcaas/.mounts/fs-0663e2d3c38211883/home/yuchenzeng/tabflex/train_tabflex/mothernet/results/tabular/multiclass/results_tabsmall_time_10000000_roc_auc_micro-mass_285_570_3_cuda.npy\n",
      "Loaded saved result for /opt/hpcaas/.mounts/fs-0663e2d3c38211883/home/yuchenzeng/tabflex/train_tabflex/mothernet/results/tabular/multiclass/results_tabsmall_time_10000000_roc_auc_micro-mass_285_570_4_cuda.npy\n"
     ]
    },
    {
     "name": "stderr",
     "output_type": "stream",
     "text": [
      "evaluating tabsmall on cuda volcanoes-b6:  41%|████      | 70/170 [00:48<01:33,  1.07it/s]"
     ]
    },
    {
     "name": "stdout",
     "output_type": "stream",
     "text": [
      "Loaded saved result for /opt/hpcaas/.mounts/fs-0663e2d3c38211883/home/yuchenzeng/tabflex/train_tabflex/mothernet/results/tabular/multiclass/results_tabsmall_time_10000000_roc_auc_micro-mass_285_570_5_cuda.npy\n",
      "Loaded saved result for /opt/hpcaas/.mounts/fs-0663e2d3c38211883/home/yuchenzeng/tabflex/train_tabflex/mothernet/results/tabular/multiclass/results_tabsmall_time_10000000_roc_auc_volcanoes-b6_5065_10130_1_cuda.npy\n",
      "Loaded saved result for /opt/hpcaas/.mounts/fs-0663e2d3c38211883/home/yuchenzeng/tabflex/train_tabflex/mothernet/results/tabular/multiclass/results_tabsmall_time_10000000_roc_auc_volcanoes-b6_5065_10130_2_cuda.npy\n"
     ]
    },
    {
     "name": "stderr",
     "output_type": "stream",
     "text": [
      "evaluating tabsmall on cuda autoUniv-au6-750:  47%|████▋     | 80/170 [00:48<00:33,  2.71it/s]"
     ]
    },
    {
     "name": "stdout",
     "output_type": "stream",
     "text": [
      "Loaded saved result for /opt/hpcaas/.mounts/fs-0663e2d3c38211883/home/yuchenzeng/tabflex/train_tabflex/mothernet/results/tabular/multiclass/results_tabsmall_time_10000000_roc_auc_volcanoes-b6_5065_10130_3_cuda.npy\n",
      "Loaded saved result for /opt/hpcaas/.mounts/fs-0663e2d3c38211883/home/yuchenzeng/tabflex/train_tabflex/mothernet/results/tabular/multiclass/results_tabsmall_time_10000000_roc_auc_volcanoes-b6_5065_10130_4_cuda.npy\n",
      "Loaded saved result for /opt/hpcaas/.mounts/fs-0663e2d3c38211883/home/yuchenzeng/tabflex/train_tabflex/mothernet/results/tabular/multiclass/results_tabsmall_time_10000000_roc_auc_volcanoes-b6_5065_10130_5_cuda.npy\n",
      "Loaded saved result for /opt/hpcaas/.mounts/fs-0663e2d3c38211883/home/yuchenzeng/tabflex/train_tabflex/mothernet/results/tabular/multiclass/results_tabsmall_time_10000000_roc_auc_volcanoes-d4_4327_8654_1_cuda.npy\n",
      "Loaded saved result for /opt/hpcaas/.mounts/fs-0663e2d3c38211883/home/yuchenzeng/tabflex/train_tabflex/mothernet/results/tabular/multiclass/results_tabsmall_time_10000000_roc_auc_volcanoes-d4_4327_8654_2_cuda.npy\n",
      "Loaded saved result for /opt/hpcaas/.mounts/fs-0663e2d3c38211883/home/yuchenzeng/tabflex/train_tabflex/mothernet/results/tabular/multiclass/results_tabsmall_time_10000000_roc_auc_volcanoes-d4_4327_8654_3_cuda.npy\n",
      "Loaded saved result for /opt/hpcaas/.mounts/fs-0663e2d3c38211883/home/yuchenzeng/tabflex/train_tabflex/mothernet/results/tabular/multiclass/results_tabsmall_time_10000000_roc_auc_volcanoes-d4_4327_8654_4_cuda.npy\n",
      "Loaded saved result for /opt/hpcaas/.mounts/fs-0663e2d3c38211883/home/yuchenzeng/tabflex/train_tabflex/mothernet/results/tabular/multiclass/results_tabsmall_time_10000000_roc_auc_volcanoes-d4_4327_8654_5_cuda.npy\n",
      "Loaded saved result for /opt/hpcaas/.mounts/fs-0663e2d3c38211883/home/yuchenzeng/tabflex/train_tabflex/mothernet/results/tabular/multiclass/results_tabsmall_time_10000000_roc_auc_autoUniv-au6-750_375_750_1_cuda.npy\n"
     ]
    },
    {
     "name": "stderr",
     "output_type": "stream",
     "text": [
      "evaluating tabsmall on cuda fars:  49%|████▉     | 84/170 [00:49<00:23,  3.70it/s]                                               "
     ]
    },
    {
     "name": "stdout",
     "output_type": "stream",
     "text": [
      "Loaded saved result for /opt/hpcaas/.mounts/fs-0663e2d3c38211883/home/yuchenzeng/tabflex/train_tabflex/mothernet/results/tabular/multiclass/results_tabsmall_time_10000000_roc_auc_autoUniv-au6-750_375_750_2_cuda.npy\n",
      "Loaded saved result for /opt/hpcaas/.mounts/fs-0663e2d3c38211883/home/yuchenzeng/tabflex/train_tabflex/mothernet/results/tabular/multiclass/results_tabsmall_time_10000000_roc_auc_autoUniv-au6-750_375_750_3_cuda.npy\n",
      "Loaded saved result for /opt/hpcaas/.mounts/fs-0663e2d3c38211883/home/yuchenzeng/tabflex/train_tabflex/mothernet/results/tabular/multiclass/results_tabsmall_time_10000000_roc_auc_autoUniv-au6-750_375_750_4_cuda.npy\n",
      "Loaded saved result for /opt/hpcaas/.mounts/fs-0663e2d3c38211883/home/yuchenzeng/tabflex/train_tabflex/mothernet/results/tabular/multiclass/results_tabsmall_time_10000000_roc_auc_autoUniv-au6-750_375_750_5_cuda.npy\n",
      "Loaded saved result for /opt/hpcaas/.mounts/fs-0663e2d3c38211883/home/yuchenzeng/tabflex/train_tabflex/mothernet/results/tabular/multiclass/results_tabsmall_time_10000000_roc_auc_GAMETES_Epistasis_2-Way_1000atts_0.4H_EDM-1_EDM-1_1_800_1600_1_cuda.npy\n",
      "Loaded saved result for /opt/hpcaas/.mounts/fs-0663e2d3c38211883/home/yuchenzeng/tabflex/train_tabflex/mothernet/results/tabular/multiclass/results_tabsmall_time_10000000_roc_auc_GAMETES_Epistasis_2-Way_1000atts_0.4H_EDM-1_EDM-1_1_800_1600_2_cuda.npy\n",
      "Loaded saved result for /opt/hpcaas/.mounts/fs-0663e2d3c38211883/home/yuchenzeng/tabflex/train_tabflex/mothernet/results/tabular/multiclass/results_tabsmall_time_10000000_roc_auc_GAMETES_Epistasis_2-Way_1000atts_0.4H_EDM-1_EDM-1_1_800_1600_3_cuda.npy\n",
      "Loaded saved result for /opt/hpcaas/.mounts/fs-0663e2d3c38211883/home/yuchenzeng/tabflex/train_tabflex/mothernet/results/tabular/multiclass/results_tabsmall_time_10000000_roc_auc_GAMETES_Epistasis_2-Way_1000atts_0.4H_EDM-1_EDM-1_1_800_1600_4_cuda.npy\n",
      "Loaded saved result for /opt/hpcaas/.mounts/fs-0663e2d3c38211883/home/yuchenzeng/tabflex/train_tabflex/mothernet/results/tabular/multiclass/results_tabsmall_time_10000000_roc_auc_GAMETES_Epistasis_2-Way_1000atts_0.4H_EDM-1_EDM-1_1_800_1600_5_cuda.npy\n",
      "Loaded saved result for /opt/hpcaas/.mounts/fs-0663e2d3c38211883/home/yuchenzeng/tabflex/train_tabflex/mothernet/results/tabular/multiclass/results_tabsmall_time_10000000_roc_auc_fars_50484_100968_1_cuda.npy\n"
     ]
    },
    {
     "name": "stderr",
     "output_type": "stream",
     "text": [
      "evaluating tabsmall on cuda fars:  54%|█████▎    | 91/170 [00:49<00:13,  5.75it/s]"
     ]
    },
    {
     "name": "stdout",
     "output_type": "stream",
     "text": [
      "Loaded saved result for /opt/hpcaas/.mounts/fs-0663e2d3c38211883/home/yuchenzeng/tabflex/train_tabflex/mothernet/results/tabular/multiclass/results_tabsmall_time_10000000_roc_auc_fars_50484_100968_2_cuda.npy\n"
     ]
    },
    {
     "name": "stderr",
     "output_type": "stream",
     "text": [
      "evaluating tabsmall on cuda fars:  54%|█████▎    | 91/170 [00:49<00:13,  5.75it/s]"
     ]
    },
    {
     "name": "stdout",
     "output_type": "stream",
     "text": [
      "Loaded saved result for /opt/hpcaas/.mounts/fs-0663e2d3c38211883/home/yuchenzeng/tabflex/train_tabflex/mothernet/results/tabular/multiclass/results_tabsmall_time_10000000_roc_auc_fars_50484_100968_3_cuda.npy\n"
     ]
    },
    {
     "name": "stderr",
     "output_type": "stream",
     "text": [
      "evaluating tabsmall on cuda fars:  54%|█████▎    | 91/170 [00:49<00:13,  5.75it/s]"
     ]
    },
    {
     "name": "stdout",
     "output_type": "stream",
     "text": [
      "Loaded saved result for /opt/hpcaas/.mounts/fs-0663e2d3c38211883/home/yuchenzeng/tabflex/train_tabflex/mothernet/results/tabular/multiclass/results_tabsmall_time_10000000_roc_auc_fars_50484_100968_4_cuda.npy\n"
     ]
    },
    {
     "name": "stderr",
     "output_type": "stream",
     "text": [
      "evaluating tabsmall on cuda fars:  55%|█████▌    | 94/170 [00:50<00:14,  5.42it/s]"
     ]
    },
    {
     "name": "stdout",
     "output_type": "stream",
     "text": [
      "Loaded saved result for /opt/hpcaas/.mounts/fs-0663e2d3c38211883/home/yuchenzeng/tabflex/train_tabflex/mothernet/results/tabular/multiclass/results_tabsmall_time_10000000_roc_auc_fars_50484_100968_5_cuda.npy\n"
     ]
    },
    {
     "name": "stderr",
     "output_type": "stream",
     "text": [
      "evaluating tabsmall on cuda led24:  57%|█████▋    | 97/170 [00:50<00:12,  5.96it/s]"
     ]
    },
    {
     "name": "stdout",
     "output_type": "stream",
     "text": [
      "Loaded saved result for /opt/hpcaas/.mounts/fs-0663e2d3c38211883/home/yuchenzeng/tabflex/train_tabflex/mothernet/results/tabular/multiclass/results_tabsmall_time_10000000_roc_auc_led24_1600_3200_1_cuda.npy\n",
      "Loaded saved result for /opt/hpcaas/.mounts/fs-0663e2d3c38211883/home/yuchenzeng/tabflex/train_tabflex/mothernet/results/tabular/multiclass/results_tabsmall_time_10000000_roc_auc_led24_1600_3200_2_cuda.npy\n",
      "Loaded saved result for /opt/hpcaas/.mounts/fs-0663e2d3c38211883/home/yuchenzeng/tabflex/train_tabflex/mothernet/results/tabular/multiclass/results_tabsmall_time_10000000_roc_auc_led24_1600_3200_3_cuda.npy\n",
      "Loaded saved result for /opt/hpcaas/.mounts/fs-0663e2d3c38211883/home/yuchenzeng/tabflex/train_tabflex/mothernet/results/tabular/multiclass/results_tabsmall_time_10000000_roc_auc_led24_1600_3200_4_cuda.npy\n"
     ]
    },
    {
     "name": "stderr",
     "output_type": "stream",
     "text": [
      "evaluating tabsmall on cuda Run_or_walk_information:  63%|██████▎   | 107/170 [00:50<00:05, 12.54it/s]"
     ]
    },
    {
     "name": "stdout",
     "output_type": "stream",
     "text": [
      "Loaded saved result for /opt/hpcaas/.mounts/fs-0663e2d3c38211883/home/yuchenzeng/tabflex/train_tabflex/mothernet/results/tabular/multiclass/results_tabsmall_time_10000000_roc_auc_led24_1600_3200_5_cuda.npy\n",
      "Loaded saved result for /opt/hpcaas/.mounts/fs-0663e2d3c38211883/home/yuchenzeng/tabflex/train_tabflex/mothernet/results/tabular/multiclass/results_tabsmall_time_10000000_roc_auc_xd6_486_972_1_cuda.npy\n",
      "Loaded saved result for /opt/hpcaas/.mounts/fs-0663e2d3c38211883/home/yuchenzeng/tabflex/train_tabflex/mothernet/results/tabular/multiclass/results_tabsmall_time_10000000_roc_auc_xd6_486_972_2_cuda.npy\n",
      "Loaded saved result for /opt/hpcaas/.mounts/fs-0663e2d3c38211883/home/yuchenzeng/tabflex/train_tabflex/mothernet/results/tabular/multiclass/results_tabsmall_time_10000000_roc_auc_xd6_486_972_3_cuda.npy\n",
      "Loaded saved result for /opt/hpcaas/.mounts/fs-0663e2d3c38211883/home/yuchenzeng/tabflex/train_tabflex/mothernet/results/tabular/multiclass/results_tabsmall_time_10000000_roc_auc_xd6_486_972_4_cuda.npy\n",
      "Loaded saved result for /opt/hpcaas/.mounts/fs-0663e2d3c38211883/home/yuchenzeng/tabflex/train_tabflex/mothernet/results/tabular/multiclass/results_tabsmall_time_10000000_roc_auc_xd6_486_972_5_cuda.npy\n",
      "Loaded saved result for /opt/hpcaas/.mounts/fs-0663e2d3c38211883/home/yuchenzeng/tabflex/train_tabflex/mothernet/results/tabular/multiclass/results_tabsmall_time_10000000_roc_auc_tokyo1_479_958_1_cuda.npy\n",
      "Loaded saved result for /opt/hpcaas/.mounts/fs-0663e2d3c38211883/home/yuchenzeng/tabflex/train_tabflex/mothernet/results/tabular/multiclass/results_tabsmall_time_10000000_roc_auc_tokyo1_479_958_2_cuda.npy\n",
      "Loaded saved result for /opt/hpcaas/.mounts/fs-0663e2d3c38211883/home/yuchenzeng/tabflex/train_tabflex/mothernet/results/tabular/multiclass/results_tabsmall_time_10000000_roc_auc_tokyo1_479_958_3_cuda.npy\n",
      "Loaded saved result for /opt/hpcaas/.mounts/fs-0663e2d3c38211883/home/yuchenzeng/tabflex/train_tabflex/mothernet/results/tabular/multiclass/results_tabsmall_time_10000000_roc_auc_tokyo1_479_958_4_cuda.npy\n",
      "Loaded saved result for /opt/hpcaas/.mounts/fs-0663e2d3c38211883/home/yuchenzeng/tabflex/train_tabflex/mothernet/results/tabular/multiclass/results_tabsmall_time_10000000_roc_auc_tokyo1_479_958_5_cuda.npy\n",
      "Loaded saved result for /opt/hpcaas/.mounts/fs-0663e2d3c38211883/home/yuchenzeng/tabflex/train_tabflex/mothernet/results/tabular/multiclass/results_tabsmall_time_10000000_roc_auc_Run_or_walk_information_44294_88588_1_cuda.npy\n",
      "Loaded saved result for /opt/hpcaas/.mounts/fs-0663e2d3c38211883/home/yuchenzeng/tabflex/train_tabflex/mothernet/results/tabular/multiclass/results_tabsmall_time_10000000_roc_auc_Run_or_walk_information_44294_88588_2_cuda.npy\n",
      "Loaded saved result for /opt/hpcaas/.mounts/fs-0663e2d3c38211883/home/yuchenzeng/tabflex/train_tabflex/mothernet/results/tabular/multiclass/results_tabsmall_time_10000000_roc_auc_Run_or_walk_information_44294_88588_3_cuda.npy\n"
     ]
    },
    {
     "name": "stderr",
     "output_type": "stream",
     "text": [
      "evaluating tabsmall on cuda tamilnadu-electricity:  67%|██████▋   | 114/170 [00:50<00:03, 18.11it/s]  "
     ]
    },
    {
     "name": "stdout",
     "output_type": "stream",
     "text": [
      "Loaded saved result for /opt/hpcaas/.mounts/fs-0663e2d3c38211883/home/yuchenzeng/tabflex/train_tabflex/mothernet/results/tabular/multiclass/results_tabsmall_time_10000000_roc_auc_Run_or_walk_information_44294_88588_4_cuda.npy\n",
      "Loaded saved result for /opt/hpcaas/.mounts/fs-0663e2d3c38211883/home/yuchenzeng/tabflex/train_tabflex/mothernet/results/tabular/multiclass/results_tabsmall_time_10000000_roc_auc_Run_or_walk_information_44294_88588_5_cuda.npy\n",
      "Loaded saved result for /opt/hpcaas/.mounts/fs-0663e2d3c38211883/home/yuchenzeng/tabflex/train_tabflex/mothernet/results/tabular/multiclass/results_tabsmall_time_10000000_roc_auc_tamilnadu-electricity_22890_45780_1_cuda.npy\n"
     ]
    },
    {
     "name": "stderr",
     "output_type": "stream",
     "text": [
      "evaluating tabsmall on cuda tamilnadu-electricity:  67%|██████▋   | 114/170 [00:51<00:03, 18.11it/s]"
     ]
    },
    {
     "name": "stdout",
     "output_type": "stream",
     "text": [
      "Loaded saved result for /opt/hpcaas/.mounts/fs-0663e2d3c38211883/home/yuchenzeng/tabflex/train_tabflex/mothernet/results/tabular/multiclass/results_tabsmall_time_10000000_roc_auc_tamilnadu-electricity_22890_45780_2_cuda.npy\n"
     ]
    },
    {
     "name": "stderr",
     "output_type": "stream",
     "text": [
      "evaluating tabsmall on cuda tamilnadu-electricity:  67%|██████▋   | 114/170 [00:51<00:03, 18.11it/s]"
     ]
    },
    {
     "name": "stdout",
     "output_type": "stream",
     "text": [
      "Loaded saved result for /opt/hpcaas/.mounts/fs-0663e2d3c38211883/home/yuchenzeng/tabflex/train_tabflex/mothernet/results/tabular/multiclass/results_tabsmall_time_10000000_roc_auc_tamilnadu-electricity_22890_45780_3_cuda.npy\n"
     ]
    },
    {
     "name": "stderr",
     "output_type": "stream",
     "text": [
      "evaluating tabsmall on cuda tamilnadu-electricity:  67%|██████▋   | 114/170 [00:51<00:03, 18.11it/s]"
     ]
    },
    {
     "name": "stdout",
     "output_type": "stream",
     "text": [
      "Loaded saved result for /opt/hpcaas/.mounts/fs-0663e2d3c38211883/home/yuchenzeng/tabflex/train_tabflex/mothernet/results/tabular/multiclass/results_tabsmall_time_10000000_roc_auc_tamilnadu-electricity_22890_45780_4_cuda.npy\n"
     ]
    },
    {
     "name": "stderr",
     "output_type": "stream",
     "text": [
      "evaluating tabsmall on cuda tamilnadu-electricity:  70%|███████   | 119/170 [00:52<00:06,  7.53it/s]"
     ]
    },
    {
     "name": "stdout",
     "output_type": "stream",
     "text": [
      "Loaded saved result for /opt/hpcaas/.mounts/fs-0663e2d3c38211883/home/yuchenzeng/tabflex/train_tabflex/mothernet/results/tabular/multiclass/results_tabsmall_time_10000000_roc_auc_tamilnadu-electricity_22890_45780_5_cuda.npy\n"
     ]
    },
    {
     "name": "stderr",
     "output_type": "stream",
     "text": [
      "evaluating tabsmall on cuda USPS:  70%|███████   | 119/170 [00:52<00:06,  7.53it/s]                 "
     ]
    },
    {
     "name": "stdout",
     "output_type": "stream",
     "text": [
      "Loaded saved result for /opt/hpcaas/.mounts/fs-0663e2d3c38211883/home/yuchenzeng/tabflex/train_tabflex/mothernet/results/tabular/multiclass/results_tabsmall_time_10000000_roc_auc_USPS_4649_9298_1_cuda.npy\n",
      "Loaded saved result for /opt/hpcaas/.mounts/fs-0663e2d3c38211883/home/yuchenzeng/tabflex/train_tabflex/mothernet/results/tabular/multiclass/results_tabsmall_time_10000000_roc_auc_USPS_4649_9298_2_cuda.npy\n",
      "Loaded saved result for /opt/hpcaas/.mounts/fs-0663e2d3c38211883/home/yuchenzeng/tabflex/train_tabflex/mothernet/results/tabular/multiclass/results_tabsmall_time_10000000_roc_auc_USPS_4649_9298_3_cuda.npy\n"
     ]
    },
    {
     "name": "stderr",
     "output_type": "stream",
     "text": [
      "evaluating tabsmall on cuda madeline:  74%|███████▍  | 126/170 [00:53<00:05,  7.96it/s]"
     ]
    },
    {
     "name": "stdout",
     "output_type": "stream",
     "text": [
      "Loaded saved result for /opt/hpcaas/.mounts/fs-0663e2d3c38211883/home/yuchenzeng/tabflex/train_tabflex/mothernet/results/tabular/multiclass/results_tabsmall_time_10000000_roc_auc_USPS_4649_9298_4_cuda.npy\n",
      "Loaded saved result for /opt/hpcaas/.mounts/fs-0663e2d3c38211883/home/yuchenzeng/tabflex/train_tabflex/mothernet/results/tabular/multiclass/results_tabsmall_time_10000000_roc_auc_USPS_4649_9298_5_cuda.npy\n",
      "Loaded saved result for /opt/hpcaas/.mounts/fs-0663e2d3c38211883/home/yuchenzeng/tabflex/train_tabflex/mothernet/results/tabular/multiclass/results_tabsmall_time_10000000_roc_auc_madeline_1570_3140_1_cuda.npy\n",
      "Loaded saved result for /opt/hpcaas/.mounts/fs-0663e2d3c38211883/home/yuchenzeng/tabflex/train_tabflex/mothernet/results/tabular/multiclass/results_tabsmall_time_10000000_roc_auc_madeline_1570_3140_2_cuda.npy\n",
      "Loaded saved result for /opt/hpcaas/.mounts/fs-0663e2d3c38211883/home/yuchenzeng/tabflex/train_tabflex/mothernet/results/tabular/multiclass/results_tabsmall_time_10000000_roc_auc_madeline_1570_3140_3_cuda.npy\n"
     ]
    },
    {
     "name": "stderr",
     "output_type": "stream",
     "text": [
      "evaluating tabsmall on cuda GTSRB-HOG01:  74%|███████▍  | 126/170 [00:53<00:05,  7.96it/s]"
     ]
    },
    {
     "name": "stdout",
     "output_type": "stream",
     "text": [
      "Loaded saved result for /opt/hpcaas/.mounts/fs-0663e2d3c38211883/home/yuchenzeng/tabflex/train_tabflex/mothernet/results/tabular/multiclass/results_tabsmall_time_10000000_roc_auc_madeline_1570_3140_4_cuda.npy\n",
      "Loaded saved result for /opt/hpcaas/.mounts/fs-0663e2d3c38211883/home/yuchenzeng/tabflex/train_tabflex/mothernet/results/tabular/multiclass/results_tabsmall_time_10000000_roc_auc_madeline_1570_3140_5_cuda.npy\n",
      "Loaded saved result for /opt/hpcaas/.mounts/fs-0663e2d3c38211883/home/yuchenzeng/tabflex/train_tabflex/mothernet/results/tabular/multiclass/results_tabsmall_time_10000000_roc_auc_GTSRB-HOG01_25919_51838_1_cuda.npy\n"
     ]
    },
    {
     "name": "stderr",
     "output_type": "stream",
     "text": [
      "evaluating tabsmall on cuda GTSRB-HOG01:  77%|███████▋  | 131/170 [00:54<00:06,  5.72it/s]"
     ]
    },
    {
     "name": "stdout",
     "output_type": "stream",
     "text": [
      "Loaded saved result for /opt/hpcaas/.mounts/fs-0663e2d3c38211883/home/yuchenzeng/tabflex/train_tabflex/mothernet/results/tabular/multiclass/results_tabsmall_time_10000000_roc_auc_GTSRB-HOG01_25919_51838_2_cuda.npy\n"
     ]
    },
    {
     "name": "stderr",
     "output_type": "stream",
     "text": [
      "evaluating tabsmall on cuda GTSRB-HOG01:  77%|███████▋  | 131/170 [00:55<00:06,  5.72it/s]"
     ]
    },
    {
     "name": "stdout",
     "output_type": "stream",
     "text": [
      "Loaded saved result for /opt/hpcaas/.mounts/fs-0663e2d3c38211883/home/yuchenzeng/tabflex/train_tabflex/mothernet/results/tabular/multiclass/results_tabsmall_time_10000000_roc_auc_GTSRB-HOG01_25919_51838_3_cuda.npy\n"
     ]
    },
    {
     "name": "stderr",
     "output_type": "stream",
     "text": [
      "evaluating tabsmall on cuda GTSRB-HOG01:  78%|███████▊  | 133/170 [00:57<00:13,  2.79it/s]"
     ]
    },
    {
     "name": "stdout",
     "output_type": "stream",
     "text": [
      "Loaded saved result for /opt/hpcaas/.mounts/fs-0663e2d3c38211883/home/yuchenzeng/tabflex/train_tabflex/mothernet/results/tabular/multiclass/results_tabsmall_time_10000000_roc_auc_GTSRB-HOG01_25919_51838_4_cuda.npy\n"
     ]
    },
    {
     "name": "stderr",
     "output_type": "stream",
     "text": [
      "evaluating tabsmall on cuda GTSRB-HOG01:  78%|███████▊  | 133/170 [00:58<00:13,  2.79it/s]"
     ]
    },
    {
     "name": "stdout",
     "output_type": "stream",
     "text": [
      "Loaded saved result for /opt/hpcaas/.mounts/fs-0663e2d3c38211883/home/yuchenzeng/tabflex/train_tabflex/mothernet/results/tabular/multiclass/results_tabsmall_time_10000000_roc_auc_GTSRB-HOG01_25919_51838_5_cuda.npy\n"
     ]
    },
    {
     "name": "stderr",
     "output_type": "stream",
     "text": [
      "evaluating tabsmall on cuda GTSRB-HOG02:  79%|███████▉  | 135/170 [01:00<00:19,  1.82it/s]"
     ]
    },
    {
     "name": "stdout",
     "output_type": "stream",
     "text": [
      "Loaded saved result for /opt/hpcaas/.mounts/fs-0663e2d3c38211883/home/yuchenzeng/tabflex/train_tabflex/mothernet/results/tabular/multiclass/results_tabsmall_time_10000000_roc_auc_GTSRB-HOG02_25919_51838_1_cuda.npy\n"
     ]
    },
    {
     "name": "stderr",
     "output_type": "stream",
     "text": [
      "evaluating tabsmall on cuda GTSRB-HOG02:  80%|████████  | 136/170 [01:01<00:22,  1.54it/s]"
     ]
    },
    {
     "name": "stdout",
     "output_type": "stream",
     "text": [
      "Loaded saved result for /opt/hpcaas/.mounts/fs-0663e2d3c38211883/home/yuchenzeng/tabflex/train_tabflex/mothernet/results/tabular/multiclass/results_tabsmall_time_10000000_roc_auc_GTSRB-HOG02_25919_51838_2_cuda.npy\n"
     ]
    },
    {
     "name": "stderr",
     "output_type": "stream",
     "text": [
      "evaluating tabsmall on cuda GTSRB-HOG02:  81%|████████  | 137/170 [01:02<00:24,  1.34it/s]"
     ]
    },
    {
     "name": "stdout",
     "output_type": "stream",
     "text": [
      "Loaded saved result for /opt/hpcaas/.mounts/fs-0663e2d3c38211883/home/yuchenzeng/tabflex/train_tabflex/mothernet/results/tabular/multiclass/results_tabsmall_time_10000000_roc_auc_GTSRB-HOG02_25919_51838_3_cuda.npy\n"
     ]
    },
    {
     "name": "stderr",
     "output_type": "stream",
     "text": [
      "evaluating tabsmall on cuda GTSRB-HOG02:  81%|████████  | 138/170 [01:04<00:27,  1.18it/s]"
     ]
    },
    {
     "name": "stdout",
     "output_type": "stream",
     "text": [
      "Loaded saved result for /opt/hpcaas/.mounts/fs-0663e2d3c38211883/home/yuchenzeng/tabflex/train_tabflex/mothernet/results/tabular/multiclass/results_tabsmall_time_10000000_roc_auc_GTSRB-HOG02_25919_51838_4_cuda.npy\n"
     ]
    },
    {
     "name": "stderr",
     "output_type": "stream",
     "text": [
      "evaluating tabsmall on cuda GTSRB-HOG02:  82%|████████▏ | 139/170 [01:05<00:29,  1.07it/s]"
     ]
    },
    {
     "name": "stdout",
     "output_type": "stream",
     "text": [
      "Loaded saved result for /opt/hpcaas/.mounts/fs-0663e2d3c38211883/home/yuchenzeng/tabflex/train_tabflex/mothernet/results/tabular/multiclass/results_tabsmall_time_10000000_roc_auc_GTSRB-HOG02_25919_51838_5_cuda.npy\n"
     ]
    },
    {
     "name": "stderr",
     "output_type": "stream",
     "text": [
      "evaluating tabsmall on cuda GTSRB-HOG03:  82%|████████▏ | 140/170 [01:06<00:30,  1.02s/it]"
     ]
    },
    {
     "name": "stdout",
     "output_type": "stream",
     "text": [
      "Loaded saved result for /opt/hpcaas/.mounts/fs-0663e2d3c38211883/home/yuchenzeng/tabflex/train_tabflex/mothernet/results/tabular/multiclass/results_tabsmall_time_10000000_roc_auc_GTSRB-HOG03_25919_51838_1_cuda.npy\n"
     ]
    },
    {
     "name": "stderr",
     "output_type": "stream",
     "text": [
      "evaluating tabsmall on cuda GTSRB-HOG03:  83%|████████▎ | 141/170 [01:08<00:31,  1.10s/it]"
     ]
    },
    {
     "name": "stdout",
     "output_type": "stream",
     "text": [
      "Loaded saved result for /opt/hpcaas/.mounts/fs-0663e2d3c38211883/home/yuchenzeng/tabflex/train_tabflex/mothernet/results/tabular/multiclass/results_tabsmall_time_10000000_roc_auc_GTSRB-HOG03_25919_51838_2_cuda.npy\n"
     ]
    },
    {
     "name": "stderr",
     "output_type": "stream",
     "text": [
      "evaluating tabsmall on cuda GTSRB-HOG03:  84%|████████▎ | 142/170 [01:09<00:32,  1.15s/it]"
     ]
    },
    {
     "name": "stdout",
     "output_type": "stream",
     "text": [
      "Loaded saved result for /opt/hpcaas/.mounts/fs-0663e2d3c38211883/home/yuchenzeng/tabflex/train_tabflex/mothernet/results/tabular/multiclass/results_tabsmall_time_10000000_roc_auc_GTSRB-HOG03_25919_51838_3_cuda.npy\n"
     ]
    },
    {
     "name": "stderr",
     "output_type": "stream",
     "text": [
      "evaluating tabsmall on cuda GTSRB-HOG03:  84%|████████▍ | 143/170 [01:10<00:32,  1.21s/it]"
     ]
    },
    {
     "name": "stdout",
     "output_type": "stream",
     "text": [
      "Loaded saved result for /opt/hpcaas/.mounts/fs-0663e2d3c38211883/home/yuchenzeng/tabflex/train_tabflex/mothernet/results/tabular/multiclass/results_tabsmall_time_10000000_roc_auc_GTSRB-HOG03_25919_51838_4_cuda.npy\n"
     ]
    },
    {
     "name": "stderr",
     "output_type": "stream",
     "text": [
      "evaluating tabsmall on cuda GTSRB-HOG03:  85%|████████▍ | 144/170 [01:12<00:32,  1.24s/it]"
     ]
    },
    {
     "name": "stdout",
     "output_type": "stream",
     "text": [
      "Loaded saved result for /opt/hpcaas/.mounts/fs-0663e2d3c38211883/home/yuchenzeng/tabflex/train_tabflex/mothernet/results/tabular/multiclass/results_tabsmall_time_10000000_roc_auc_GTSRB-HOG03_25919_51838_5_cuda.npy\n"
     ]
    },
    {
     "name": "stderr",
     "output_type": "stream",
     "text": [
      "evaluating tabsmall on cuda GTSRB-HueHist:  85%|████████▌ | 145/170 [01:13<00:31,  1.26s/it]"
     ]
    },
    {
     "name": "stdout",
     "output_type": "stream",
     "text": [
      "Loaded saved result for /opt/hpcaas/.mounts/fs-0663e2d3c38211883/home/yuchenzeng/tabflex/train_tabflex/mothernet/results/tabular/multiclass/results_tabsmall_time_10000000_roc_auc_GTSRB-HueHist_25919_51838_1_cuda.npy\n"
     ]
    },
    {
     "name": "stderr",
     "output_type": "stream",
     "text": [
      "evaluating tabsmall on cuda GTSRB-HueHist:  86%|████████▌ | 146/170 [01:14<00:30,  1.28s/it]"
     ]
    },
    {
     "name": "stdout",
     "output_type": "stream",
     "text": [
      "Loaded saved result for /opt/hpcaas/.mounts/fs-0663e2d3c38211883/home/yuchenzeng/tabflex/train_tabflex/mothernet/results/tabular/multiclass/results_tabsmall_time_10000000_roc_auc_GTSRB-HueHist_25919_51838_2_cuda.npy\n"
     ]
    },
    {
     "name": "stderr",
     "output_type": "stream",
     "text": [
      "evaluating tabsmall on cuda GTSRB-HueHist:  86%|████████▋ | 147/170 [01:15<00:29,  1.29s/it]"
     ]
    },
    {
     "name": "stdout",
     "output_type": "stream",
     "text": [
      "Loaded saved result for /opt/hpcaas/.mounts/fs-0663e2d3c38211883/home/yuchenzeng/tabflex/train_tabflex/mothernet/results/tabular/multiclass/results_tabsmall_time_10000000_roc_auc_GTSRB-HueHist_25919_51838_3_cuda.npy\n"
     ]
    },
    {
     "name": "stderr",
     "output_type": "stream",
     "text": [
      "evaluating tabsmall on cuda GTSRB-HueHist:  87%|████████▋ | 148/170 [01:17<00:28,  1.30s/it]"
     ]
    },
    {
     "name": "stdout",
     "output_type": "stream",
     "text": [
      "Loaded saved result for /opt/hpcaas/.mounts/fs-0663e2d3c38211883/home/yuchenzeng/tabflex/train_tabflex/mothernet/results/tabular/multiclass/results_tabsmall_time_10000000_roc_auc_GTSRB-HueHist_25919_51838_4_cuda.npy\n"
     ]
    },
    {
     "name": "stderr",
     "output_type": "stream",
     "text": [
      "evaluating tabsmall on cuda GTSRB-HueHist:  88%|████████▊ | 149/170 [01:18<00:27,  1.31s/it]"
     ]
    },
    {
     "name": "stdout",
     "output_type": "stream",
     "text": [
      "Loaded saved result for /opt/hpcaas/.mounts/fs-0663e2d3c38211883/home/yuchenzeng/tabflex/train_tabflex/mothernet/results/tabular/multiclass/results_tabsmall_time_10000000_roc_auc_GTSRB-HueHist_25919_51838_5_cuda.npy\n"
     ]
    },
    {
     "name": "stderr",
     "output_type": "stream",
     "text": [
      "evaluating tabsmall on cuda Kuzushiji-49:  88%|████████▊ | 150/170 [01:19<00:26,  1.31s/it] "
     ]
    },
    {
     "name": "stdout",
     "output_type": "stream",
     "text": [
      "Loaded saved result for /opt/hpcaas/.mounts/fs-0663e2d3c38211883/home/yuchenzeng/tabflex/train_tabflex/mothernet/results/tabular/multiclass/results_tabsmall_time_10000000_roc_auc_Kuzushiji-49_135456_270912_1_cuda.npy\n"
     ]
    },
    {
     "name": "stderr",
     "output_type": "stream",
     "text": [
      "evaluating tabsmall on cuda Kuzushiji-49:  89%|████████▉ | 151/170 [01:23<00:38,  2.03s/it]"
     ]
    },
    {
     "name": "stdout",
     "output_type": "stream",
     "text": [
      "Loaded saved result for /opt/hpcaas/.mounts/fs-0663e2d3c38211883/home/yuchenzeng/tabflex/train_tabflex/mothernet/results/tabular/multiclass/results_tabsmall_time_10000000_roc_auc_Kuzushiji-49_135456_270912_2_cuda.npy\n"
     ]
    },
    {
     "name": "stderr",
     "output_type": "stream",
     "text": [
      "evaluating tabsmall on cuda Kuzushiji-49:  89%|████████▉ | 152/170 [01:27<00:45,  2.53s/it]"
     ]
    },
    {
     "name": "stdout",
     "output_type": "stream",
     "text": [
      "Loaded saved result for /opt/hpcaas/.mounts/fs-0663e2d3c38211883/home/yuchenzeng/tabflex/train_tabflex/mothernet/results/tabular/multiclass/results_tabsmall_time_10000000_roc_auc_Kuzushiji-49_135456_270912_3_cuda.npy\n"
     ]
    },
    {
     "name": "stderr",
     "output_type": "stream",
     "text": [
      "evaluating tabsmall on cuda Kuzushiji-49:  90%|█████████ | 153/170 [01:31<00:48,  2.88s/it]"
     ]
    },
    {
     "name": "stdout",
     "output_type": "stream",
     "text": [
      "Loaded saved result for /opt/hpcaas/.mounts/fs-0663e2d3c38211883/home/yuchenzeng/tabflex/train_tabflex/mothernet/results/tabular/multiclass/results_tabsmall_time_10000000_roc_auc_Kuzushiji-49_135456_270912_4_cuda.npy\n"
     ]
    },
    {
     "name": "stderr",
     "output_type": "stream",
     "text": [
      "evaluating tabsmall on cuda Kuzushiji-49:  91%|█████████ | 154/170 [01:34<00:50,  3.13s/it]"
     ]
    },
    {
     "name": "stdout",
     "output_type": "stream",
     "text": [
      "Loaded saved result for /opt/hpcaas/.mounts/fs-0663e2d3c38211883/home/yuchenzeng/tabflex/train_tabflex/mothernet/results/tabular/multiclass/results_tabsmall_time_10000000_roc_auc_Kuzushiji-49_135456_270912_5_cuda.npy\n"
     ]
    },
    {
     "name": "stderr",
     "output_type": "stream",
     "text": [
      "evaluating tabsmall on cuda porto-seguro:  91%|█████████ | 155/170 [01:38<00:49,  3.29s/it]    "
     ]
    },
    {
     "name": "stdout",
     "output_type": "stream",
     "text": [
      "Loaded saved result for /opt/hpcaas/.mounts/fs-0663e2d3c38211883/home/yuchenzeng/tabflex/train_tabflex/mothernet/results/tabular/multiclass/results_tabsmall_time_10000000_roc_auc_compas-two-years_2639_5278_1_cuda.npy\n",
      "Loaded saved result for /opt/hpcaas/.mounts/fs-0663e2d3c38211883/home/yuchenzeng/tabflex/train_tabflex/mothernet/results/tabular/multiclass/results_tabsmall_time_10000000_roc_auc_compas-two-years_2639_5278_2_cuda.npy\n",
      "Loaded saved result for /opt/hpcaas/.mounts/fs-0663e2d3c38211883/home/yuchenzeng/tabflex/train_tabflex/mothernet/results/tabular/multiclass/results_tabsmall_time_10000000_roc_auc_compas-two-years_2639_5278_3_cuda.npy\n",
      "Loaded saved result for /opt/hpcaas/.mounts/fs-0663e2d3c38211883/home/yuchenzeng/tabflex/train_tabflex/mothernet/results/tabular/multiclass/results_tabsmall_time_10000000_roc_auc_compas-two-years_2639_5278_4_cuda.npy\n",
      "Loaded saved result for /opt/hpcaas/.mounts/fs-0663e2d3c38211883/home/yuchenzeng/tabflex/train_tabflex/mothernet/results/tabular/multiclass/results_tabsmall_time_10000000_roc_auc_compas-two-years_2639_5278_5_cuda.npy\n",
      "Loaded saved result for /opt/hpcaas/.mounts/fs-0663e2d3c38211883/home/yuchenzeng/tabflex/train_tabflex/mothernet/results/tabular/multiclass/results_tabsmall_time_10000000_roc_auc_porto-seguro_297606_595212_1_cuda.npy\n"
     ]
    },
    {
     "name": "stderr",
     "output_type": "stream",
     "text": [
      "evaluating tabsmall on cuda porto-seguro:  95%|█████████▌| 162/170 [01:38<00:06,  1.18it/s]"
     ]
    },
    {
     "name": "stdout",
     "output_type": "stream",
     "text": [
      "Loaded saved result for /opt/hpcaas/.mounts/fs-0663e2d3c38211883/home/yuchenzeng/tabflex/train_tabflex/mothernet/results/tabular/multiclass/results_tabsmall_time_10000000_roc_auc_porto-seguro_297606_595212_2_cuda.npy\n"
     ]
    },
    {
     "name": "stderr",
     "output_type": "stream",
     "text": [
      "evaluating tabsmall on cuda porto-seguro:  96%|█████████▌| 163/170 [01:39<00:05,  1.37it/s]"
     ]
    },
    {
     "name": "stdout",
     "output_type": "stream",
     "text": [
      "Loaded saved result for /opt/hpcaas/.mounts/fs-0663e2d3c38211883/home/yuchenzeng/tabflex/train_tabflex/mothernet/results/tabular/multiclass/results_tabsmall_time_10000000_roc_auc_porto-seguro_297606_595212_3_cuda.npy\n",
      "Loaded saved result for /opt/hpcaas/.mounts/fs-0663e2d3c38211883/home/yuchenzeng/tabflex/train_tabflex/mothernet/results/tabular/multiclass/results_tabsmall_time_10000000_roc_auc_porto-seguro_297606_595212_4_cuda.npy\n"
     ]
    },
    {
     "name": "stderr",
     "output_type": "stream",
     "text": [
      "evaluating tabsmall on cuda KDD98:  97%|█████████▋| 165/170 [01:39<00:02,  1.90it/s]       "
     ]
    },
    {
     "name": "stdout",
     "output_type": "stream",
     "text": [
      "Loaded saved result for /opt/hpcaas/.mounts/fs-0663e2d3c38211883/home/yuchenzeng/tabflex/train_tabflex/mothernet/results/tabular/multiclass/results_tabsmall_time_10000000_roc_auc_porto-seguro_297606_595212_5_cuda.npy\n",
      "Loaded saved result for /opt/hpcaas/.mounts/fs-0663e2d3c38211883/home/yuchenzeng/tabflex/train_tabflex/mothernet/results/tabular/multiclass/results_tabsmall_time_10000000_roc_auc_KDD98_41159_82318_1_cuda.npy\n"
     ]
    },
    {
     "name": "stderr",
     "output_type": "stream",
     "text": [
      "evaluating tabsmall on cuda KDD98: 100%|██████████| 170/170 [01:39<00:00,  1.71it/s]\n"
     ]
    },
    {
     "name": "stdout",
     "output_type": "stream",
     "text": [
      "Loaded saved result for /opt/hpcaas/.mounts/fs-0663e2d3c38211883/home/yuchenzeng/tabflex/train_tabflex/mothernet/results/tabular/multiclass/results_tabsmall_time_10000000_roc_auc_KDD98_41159_82318_2_cuda.npy\n",
      "Loaded saved result for /opt/hpcaas/.mounts/fs-0663e2d3c38211883/home/yuchenzeng/tabflex/train_tabflex/mothernet/results/tabular/multiclass/results_tabsmall_time_10000000_roc_auc_KDD98_41159_82318_3_cuda.npy\n",
      "Loaded saved result for /opt/hpcaas/.mounts/fs-0663e2d3c38211883/home/yuchenzeng/tabflex/train_tabflex/mothernet/results/tabular/multiclass/results_tabsmall_time_10000000_roc_auc_KDD98_41159_82318_4_cuda.npy\n",
      "Loaded saved result for /opt/hpcaas/.mounts/fs-0663e2d3c38211883/home/yuchenzeng/tabflex/train_tabflex/mothernet/results/tabular/multiclass/results_tabsmall_time_10000000_roc_auc_KDD98_41159_82318_5_cuda.npy\n"
     ]
    }
   ],
   "source": [
    "max_times = [10000000]\n",
    "device = \"cuda\"\n",
    "output_dir = f'{base_path}/results/tabular/multiclass'\n",
    "os.makedirs(output_dir, exist_ok=True)\n",
    "\n",
    "results_tabpfn = []\n",
    "\n",
    "tabpfn_models = {\n",
    "    'ssm_tabpfn_b4_largedatasetTrue_modellinear_attention_nsamples50000_08_01_2024_22_05_50': ('TabFast', '110'),\n",
    "    'prior_diff_real_checkpoint_n_0': ('TabPFN', '100'),\n",
    "    'ssm_tabpfn_b4_maxnumclasses100_modellinear_attention_numfeatures1000_n1024_validdatanew_warm_08_23_2024_19_25_40': ('TabFlex', '1410'),\n",
    "    'ssm_tabpfn_modellinear_attention_08_28_2024_19_00_44': ('TabSmall', '1210'),\n",
    "}\n",
    "\n",
    "for model_string in tabpfn_models:\n",
    "    model = TabPFNClassifier(\n",
    "        device=device, \n",
    "        model_string=model_string, \n",
    "        epoch=tabpfn_models[model_string][1], \n",
    "        N_ensemble_configurations=3,\n",
    "    )\n",
    "\n",
    "    result = eval_on_datasets(\n",
    "        'multiclass', \n",
    "        model, \n",
    "        tabpfn_models[model_string][0].lower(), \n",
    "        cc_test_datasets_multiclass, \n",
    "        eval_positions=eval_positions, \n",
    "        max_times=max_times,\n",
    "        metric_used=metric_used, \n",
    "        split_numbers=[1, 2, 3, 4, 5],\n",
    "        n_samples=n_samples, \n",
    "        base_path=base_path, \n",
    "        overwrite=False, \n",
    "        fetch_only=True,\n",
    "        n_jobs=1, \n",
    "        device=device,\n",
    "    )\n",
    "    \n",
    "    results_tabpfn.append(result)\n",
    "\n",
    "\n",
    "# store the results as pickle\n",
    "with open(f'{output_dir}/tabpfn_summary.pkl', 'wb') as f:\n",
    "    pickle.dump(results_tabpfn, f)\n",
    "    "
   ]
  },
  {
   "cell_type": "markdown",
   "metadata": {},
   "source": [
    "# Results Preview"
   ]
  },
  {
   "cell_type": "code",
   "execution_count": 12,
   "metadata": {
    "tags": []
   },
   "outputs": [],
   "source": [
    "flat_results = []\n",
    "for per_dataset in results_tabpfn:\n",
    "    for result in per_dataset:\n",
    "        row = {}\n",
    "        for key in ['dataset', 'model', 'mean_metric', 'split', 'max_time']:\n",
    "            row[key] = result[key]\n",
    "        try:\n",
    "            best_configs_key, = [k for k in result.keys() if \"best_configs\" in k]\n",
    "        except:\n",
    "            print(per_dataset)\n",
    "            continue\n",
    "        if result[best_configs_key][0] is not None:\n",
    "            row.update(result[best_configs_key][0])\n",
    "        row['mean_metric'] = float(row[\"mean_metric\"].numpy())\n",
    "        flat_results.append(row)\n",
    "\n",
    "results_df = pd.DataFrame(flat_results)"
   ]
  },
  {
   "cell_type": "code",
   "execution_count": 13,
   "metadata": {
    "tags": []
   },
   "outputs": [
    {
     "data": {
      "text/html": [
       "<div>\n",
       "<style scoped>\n",
       "    .dataframe tbody tr th:only-of-type {\n",
       "        vertical-align: middle;\n",
       "    }\n",
       "\n",
       "    .dataframe tbody tr th {\n",
       "        vertical-align: top;\n",
       "    }\n",
       "\n",
       "    .dataframe thead th {\n",
       "        text-align: right;\n",
       "    }\n",
       "</style>\n",
       "<table border=\"1\" class=\"dataframe\">\n",
       "  <thead>\n",
       "    <tr style=\"text-align: right;\">\n",
       "      <th></th>\n",
       "      <th>model</th>\n",
       "      <th>dataset</th>\n",
       "      <th>fit_time</th>\n",
       "      <th>inference_time</th>\n",
       "      <th>mean_metric</th>\n",
       "    </tr>\n",
       "  </thead>\n",
       "  <tbody>\n",
       "    <tr>\n",
       "      <th>0</th>\n",
       "      <td>tabfast</td>\n",
       "      <td>GAMETES_Epistasis_2-Way_1000atts_0.4H_EDM-1_ED...</td>\n",
       "      <td>0.001225</td>\n",
       "      <td>0.541793</td>\n",
       "      <td>0.492723</td>\n",
       "    </tr>\n",
       "    <tr>\n",
       "      <th>1</th>\n",
       "      <td>tabfast</td>\n",
       "      <td>GTSRB-HOG01</td>\n",
       "      <td>0.050978</td>\n",
       "      <td>4.490598</td>\n",
       "      <td>0.492524</td>\n",
       "    </tr>\n",
       "    <tr>\n",
       "      <th>2</th>\n",
       "      <td>tabfast</td>\n",
       "      <td>GTSRB-HOG02</td>\n",
       "      <td>0.051076</td>\n",
       "      <td>4.526720</td>\n",
       "      <td>0.497008</td>\n",
       "    </tr>\n",
       "    <tr>\n",
       "      <th>3</th>\n",
       "      <td>tabfast</td>\n",
       "      <td>GTSRB-HOG03</td>\n",
       "      <td>0.051783</td>\n",
       "      <td>4.414166</td>\n",
       "      <td>0.498591</td>\n",
       "    </tr>\n",
       "    <tr>\n",
       "      <th>4</th>\n",
       "      <td>tabfast</td>\n",
       "      <td>GTSRB-HueHist</td>\n",
       "      <td>0.035073</td>\n",
       "      <td>4.012481</td>\n",
       "      <td>0.512682</td>\n",
       "    </tr>\n",
       "    <tr>\n",
       "      <th>...</th>\n",
       "      <td>...</td>\n",
       "      <td>...</td>\n",
       "      <td>...</td>\n",
       "      <td>...</td>\n",
       "      <td>...</td>\n",
       "    </tr>\n",
       "    <tr>\n",
       "      <th>131</th>\n",
       "      <td>tabsmall</td>\n",
       "      <td>tokyo1</td>\n",
       "      <td>0.000462</td>\n",
       "      <td>0.243372</td>\n",
       "      <td>0.979122</td>\n",
       "    </tr>\n",
       "    <tr>\n",
       "      <th>132</th>\n",
       "      <td>tabsmall</td>\n",
       "      <td>volcanoes-b6</td>\n",
       "      <td>0.001341</td>\n",
       "      <td>0.190777</td>\n",
       "      <td>0.654798</td>\n",
       "    </tr>\n",
       "    <tr>\n",
       "      <th>133</th>\n",
       "      <td>tabsmall</td>\n",
       "      <td>volcanoes-d4</td>\n",
       "      <td>0.001185</td>\n",
       "      <td>0.170467</td>\n",
       "      <td>0.628320</td>\n",
       "    </tr>\n",
       "    <tr>\n",
       "      <th>134</th>\n",
       "      <td>tabsmall</td>\n",
       "      <td>water-treatment</td>\n",
       "      <td>0.000455</td>\n",
       "      <td>0.259741</td>\n",
       "      <td>0.983521</td>\n",
       "    </tr>\n",
       "    <tr>\n",
       "      <th>135</th>\n",
       "      <td>tabsmall</td>\n",
       "      <td>xd6</td>\n",
       "      <td>0.000558</td>\n",
       "      <td>0.076683</td>\n",
       "      <td>1.000000</td>\n",
       "    </tr>\n",
       "  </tbody>\n",
       "</table>\n",
       "<p>136 rows × 5 columns</p>\n",
       "</div>"
      ],
      "text/plain": [
       "        model                                            dataset  fit_time  \\\n",
       "0     tabfast  GAMETES_Epistasis_2-Way_1000atts_0.4H_EDM-1_ED...  0.001225   \n",
       "1     tabfast                                        GTSRB-HOG01  0.050978   \n",
       "2     tabfast                                        GTSRB-HOG02  0.051076   \n",
       "3     tabfast                                        GTSRB-HOG03  0.051783   \n",
       "4     tabfast                                      GTSRB-HueHist  0.035073   \n",
       "..        ...                                                ...       ...   \n",
       "131  tabsmall                                             tokyo1  0.000462   \n",
       "132  tabsmall                                       volcanoes-b6  0.001341   \n",
       "133  tabsmall                                       volcanoes-d4  0.001185   \n",
       "134  tabsmall                                    water-treatment  0.000455   \n",
       "135  tabsmall                                                xd6  0.000558   \n",
       "\n",
       "     inference_time  mean_metric  \n",
       "0          0.541793     0.492723  \n",
       "1          4.490598     0.492524  \n",
       "2          4.526720     0.497008  \n",
       "3          4.414166     0.498591  \n",
       "4          4.012481     0.512682  \n",
       "..              ...          ...  \n",
       "131        0.243372     0.979122  \n",
       "132        0.190777     0.654798  \n",
       "133        0.170467     0.628320  \n",
       "134        0.259741     0.983521  \n",
       "135        0.076683     1.000000  \n",
       "\n",
       "[136 rows x 5 columns]"
      ]
     },
     "execution_count": 13,
     "metadata": {},
     "output_type": "execute_result"
    }
   ],
   "source": [
    "results_view = results_df[['model', 'dataset', 'fit_time', 'inference_time', 'mean_metric']].copy()\n",
    "# compute the mean of fit time and inference time across different splits when the model and datasets are the same\n",
    "# and the rows should be reduced\n",
    "results_view = results_view.groupby(['model', 'dataset']).mean().reset_index()\n",
    "results_view\n",
    "\n"
   ]
  },
  {
   "cell_type": "code",
   "execution_count": 24,
   "metadata": {
    "tags": []
   },
   "outputs": [
    {
     "data": {
      "text/html": [
       "<div>\n",
       "<style scoped>\n",
       "    .dataframe tbody tr th:only-of-type {\n",
       "        vertical-align: middle;\n",
       "    }\n",
       "\n",
       "    .dataframe tbody tr th {\n",
       "        vertical-align: top;\n",
       "    }\n",
       "\n",
       "    .dataframe thead th {\n",
       "        text-align: right;\n",
       "    }\n",
       "</style>\n",
       "<table border=\"1\" class=\"dataframe\">\n",
       "  <thead>\n",
       "    <tr style=\"text-align: right;\">\n",
       "      <th></th>\n",
       "      <th>dataset</th>\n",
       "      <th>tabfast_mean_metric</th>\n",
       "      <th>tabflex_mean_metric</th>\n",
       "      <th>tabpfn_mean_metric</th>\n",
       "      <th>tabsmall_mean_metric</th>\n",
       "      <th>tabfast_runtime</th>\n",
       "      <th>tabflex_runtime</th>\n",
       "      <th>tabpfn_runtime</th>\n",
       "      <th>tabsmall_runtime</th>\n",
       "    </tr>\n",
       "  </thead>\n",
       "  <tbody>\n",
       "    <tr>\n",
       "      <th>0</th>\n",
       "      <td>GAMETES_Epistasis_2-Way_1000atts_0.4H_EDM-1_ED...</td>\n",
       "      <td>0.492723</td>\n",
       "      <td>0.486802</td>\n",
       "      <td>0.488262</td>\n",
       "      <td>0.489885</td>\n",
       "      <td>0.543018</td>\n",
       "      <td>4.886362</td>\n",
       "      <td>0.479617</td>\n",
       "      <td>0.544784</td>\n",
       "    </tr>\n",
       "    <tr>\n",
       "      <th>1</th>\n",
       "      <td>GTSRB-HOG01</td>\n",
       "      <td>0.492524</td>\n",
       "      <td>0.499554</td>\n",
       "      <td>0.489553</td>\n",
       "      <td>0.496691</td>\n",
       "      <td>4.541576</td>\n",
       "      <td>40.204771</td>\n",
       "      <td>8.538762</td>\n",
       "      <td>4.412125</td>\n",
       "    </tr>\n",
       "    <tr>\n",
       "      <th>2</th>\n",
       "      <td>GTSRB-HOG02</td>\n",
       "      <td>0.497008</td>\n",
       "      <td>0.512557</td>\n",
       "      <td>0.499349</td>\n",
       "      <td>0.501437</td>\n",
       "      <td>4.577796</td>\n",
       "      <td>40.411272</td>\n",
       "      <td>8.811647</td>\n",
       "      <td>4.456294</td>\n",
       "    </tr>\n",
       "    <tr>\n",
       "      <th>3</th>\n",
       "      <td>GTSRB-HOG03</td>\n",
       "      <td>0.498591</td>\n",
       "      <td>0.525364</td>\n",
       "      <td>0.497348</td>\n",
       "      <td>0.497045</td>\n",
       "      <td>4.465949</td>\n",
       "      <td>40.152834</td>\n",
       "      <td>8.625715</td>\n",
       "      <td>4.470450</td>\n",
       "    </tr>\n",
       "    <tr>\n",
       "      <th>4</th>\n",
       "      <td>GTSRB-HueHist</td>\n",
       "      <td>0.512682</td>\n",
       "      <td>0.550717</td>\n",
       "      <td>0.499590</td>\n",
       "      <td>0.506372</td>\n",
       "      <td>4.047554</td>\n",
       "      <td>9.525712</td>\n",
       "      <td>8.249653</td>\n",
       "      <td>3.979527</td>\n",
       "    </tr>\n",
       "    <tr>\n",
       "      <th>5</th>\n",
       "      <td>KDD98</td>\n",
       "      <td>0.492180</td>\n",
       "      <td>0.609398</td>\n",
       "      <td>0.507990</td>\n",
       "      <td>0.505353</td>\n",
       "      <td>3.427298</td>\n",
       "      <td>23.752493</td>\n",
       "      <td>13.968781</td>\n",
       "      <td>2.645513</td>\n",
       "    </tr>\n",
       "    <tr>\n",
       "      <th>6</th>\n",
       "      <td>Kuzushiji-49</td>\n",
       "      <td>0.503581</td>\n",
       "      <td>0.631353</td>\n",
       "      <td>0.502952</td>\n",
       "      <td>0.503429</td>\n",
       "      <td>17.720109</td>\n",
       "      <td>109.601123</td>\n",
       "      <td>154.024106</td>\n",
       "      <td>17.127661</td>\n",
       "    </tr>\n",
       "    <tr>\n",
       "      <th>7</th>\n",
       "      <td>Run_or_walk_information</td>\n",
       "      <td>0.995663</td>\n",
       "      <td>0.991484</td>\n",
       "      <td>0.997627</td>\n",
       "      <td>0.993483</td>\n",
       "      <td>1.516293</td>\n",
       "      <td>1.827036</td>\n",
       "      <td>14.693757</td>\n",
       "      <td>1.515391</td>\n",
       "    </tr>\n",
       "    <tr>\n",
       "      <th>8</th>\n",
       "      <td>USPS</td>\n",
       "      <td>0.477728</td>\n",
       "      <td>0.992379</td>\n",
       "      <td>0.539675</td>\n",
       "      <td>0.560251</td>\n",
       "      <td>1.118020</td>\n",
       "      <td>2.597182</td>\n",
       "      <td>1.201494</td>\n",
       "      <td>1.120793</td>\n",
       "    </tr>\n",
       "    <tr>\n",
       "      <th>9</th>\n",
       "      <td>autoUniv-au6-750</td>\n",
       "      <td>0.496853</td>\n",
       "      <td>0.480367</td>\n",
       "      <td>0.501034</td>\n",
       "      <td>0.508984</td>\n",
       "      <td>0.212962</td>\n",
       "      <td>0.195244</td>\n",
       "      <td>0.169248</td>\n",
       "      <td>0.230941</td>\n",
       "    </tr>\n",
       "    <tr>\n",
       "      <th>10</th>\n",
       "      <td>bank32nh</td>\n",
       "      <td>0.893029</td>\n",
       "      <td>0.887635</td>\n",
       "      <td>0.889386</td>\n",
       "      <td>0.890155</td>\n",
       "      <td>0.499765</td>\n",
       "      <td>0.457889</td>\n",
       "      <td>0.975077</td>\n",
       "      <td>0.474936</td>\n",
       "    </tr>\n",
       "    <tr>\n",
       "      <th>11</th>\n",
       "      <td>boston_corrected</td>\n",
       "      <td>0.939176</td>\n",
       "      <td>0.943095</td>\n",
       "      <td>0.943001</td>\n",
       "      <td>0.944158</td>\n",
       "      <td>0.134979</td>\n",
       "      <td>0.112167</td>\n",
       "      <td>0.124421</td>\n",
       "      <td>0.123449</td>\n",
       "    </tr>\n",
       "    <tr>\n",
       "      <th>12</th>\n",
       "      <td>compas-two-years</td>\n",
       "      <td>0.729562</td>\n",
       "      <td>0.727987</td>\n",
       "      <td>0.733734</td>\n",
       "      <td>0.732852</td>\n",
       "      <td>0.225574</td>\n",
       "      <td>0.212103</td>\n",
       "      <td>0.244995</td>\n",
       "      <td>0.201952</td>\n",
       "    </tr>\n",
       "    <tr>\n",
       "      <th>13</th>\n",
       "      <td>fars</td>\n",
       "      <td>0.871662</td>\n",
       "      <td>0.849271</td>\n",
       "      <td>0.871883</td>\n",
       "      <td>0.861953</td>\n",
       "      <td>2.805983</td>\n",
       "      <td>3.131362</td>\n",
       "      <td>20.167186</td>\n",
       "      <td>2.772149</td>\n",
       "    </tr>\n",
       "    <tr>\n",
       "      <th>14</th>\n",
       "      <td>fri_c2_500_50</td>\n",
       "      <td>0.742492</td>\n",
       "      <td>0.761461</td>\n",
       "      <td>0.763138</td>\n",
       "      <td>0.925543</td>\n",
       "      <td>0.227088</td>\n",
       "      <td>0.224638</td>\n",
       "      <td>0.211734</td>\n",
       "      <td>0.249614</td>\n",
       "    </tr>\n",
       "    <tr>\n",
       "      <th>15</th>\n",
       "      <td>fri_c4_500_100</td>\n",
       "      <td>0.668744</td>\n",
       "      <td>0.675869</td>\n",
       "      <td>0.684386</td>\n",
       "      <td>0.686337</td>\n",
       "      <td>0.439344</td>\n",
       "      <td>0.440224</td>\n",
       "      <td>0.484312</td>\n",
       "      <td>0.443788</td>\n",
       "    </tr>\n",
       "    <tr>\n",
       "      <th>16</th>\n",
       "      <td>hiva_agnostic</td>\n",
       "      <td>0.579647</td>\n",
       "      <td>0.578992</td>\n",
       "      <td>0.592446</td>\n",
       "      <td>0.602041</td>\n",
       "      <td>0.601860</td>\n",
       "      <td>5.346337</td>\n",
       "      <td>1.109381</td>\n",
       "      <td>0.620217</td>\n",
       "    </tr>\n",
       "    <tr>\n",
       "      <th>17</th>\n",
       "      <td>kdd_internet_usage</td>\n",
       "      <td>0.931808</td>\n",
       "      <td>0.918950</td>\n",
       "      <td>0.931543</td>\n",
       "      <td>0.930955</td>\n",
       "      <td>0.762609</td>\n",
       "      <td>0.762018</td>\n",
       "      <td>1.333179</td>\n",
       "      <td>0.746218</td>\n",
       "    </tr>\n",
       "    <tr>\n",
       "      <th>18</th>\n",
       "      <td>led24</td>\n",
       "      <td>0.943894</td>\n",
       "      <td>0.938154</td>\n",
       "      <td>0.945545</td>\n",
       "      <td>0.949190</td>\n",
       "      <td>0.224009</td>\n",
       "      <td>0.222089</td>\n",
       "      <td>0.195753</td>\n",
       "      <td>0.238578</td>\n",
       "    </tr>\n",
       "    <tr>\n",
       "      <th>19</th>\n",
       "      <td>madeline</td>\n",
       "      <td>0.496017</td>\n",
       "      <td>0.633729</td>\n",
       "      <td>0.520694</td>\n",
       "      <td>0.509935</td>\n",
       "      <td>0.671211</td>\n",
       "      <td>1.564084</td>\n",
       "      <td>0.613164</td>\n",
       "      <td>0.672005</td>\n",
       "    </tr>\n",
       "    <tr>\n",
       "      <th>20</th>\n",
       "      <td>meta_stream_intervals.arff</td>\n",
       "      <td>0.934452</td>\n",
       "      <td>0.982575</td>\n",
       "      <td>0.933269</td>\n",
       "      <td>0.916865</td>\n",
       "      <td>4.094163</td>\n",
       "      <td>3.681693</td>\n",
       "      <td>8.680904</td>\n",
       "      <td>4.073967</td>\n",
       "    </tr>\n",
       "    <tr>\n",
       "      <th>21</th>\n",
       "      <td>micro-mass</td>\n",
       "      <td>0.523620</td>\n",
       "      <td>0.503862</td>\n",
       "      <td>0.515836</td>\n",
       "      <td>0.509356</td>\n",
       "      <td>0.411541</td>\n",
       "      <td>3.327394</td>\n",
       "      <td>0.457858</td>\n",
       "      <td>0.392271</td>\n",
       "    </tr>\n",
       "    <tr>\n",
       "      <th>22</th>\n",
       "      <td>oil_spill</td>\n",
       "      <td>0.943502</td>\n",
       "      <td>0.942212</td>\n",
       "      <td>0.942076</td>\n",
       "      <td>0.945365</td>\n",
       "      <td>0.273311</td>\n",
       "      <td>0.246671</td>\n",
       "      <td>0.338265</td>\n",
       "      <td>0.271096</td>\n",
       "    </tr>\n",
       "    <tr>\n",
       "      <th>23</th>\n",
       "      <td>one-hundred-plants-margin</td>\n",
       "      <td>0.545975</td>\n",
       "      <td>0.584330</td>\n",
       "      <td>0.545893</td>\n",
       "      <td>0.545856</td>\n",
       "      <td>0.415909</td>\n",
       "      <td>0.496617</td>\n",
       "      <td>0.812182</td>\n",
       "      <td>0.406320</td>\n",
       "    </tr>\n",
       "    <tr>\n",
       "      <th>24</th>\n",
       "      <td>one-hundred-plants-shape</td>\n",
       "      <td>0.544274</td>\n",
       "      <td>0.566862</td>\n",
       "      <td>0.544277</td>\n",
       "      <td>0.542596</td>\n",
       "      <td>0.419257</td>\n",
       "      <td>0.499029</td>\n",
       "      <td>0.849908</td>\n",
       "      <td>0.449575</td>\n",
       "    </tr>\n",
       "    <tr>\n",
       "      <th>25</th>\n",
       "      <td>porto-seguro</td>\n",
       "      <td>0.618654</td>\n",
       "      <td>0.613302</td>\n",
       "      <td>0.598746</td>\n",
       "      <td>0.605877</td>\n",
       "      <td>19.203614</td>\n",
       "      <td>21.019306</td>\n",
       "      <td>695.966285</td>\n",
       "      <td>18.962956</td>\n",
       "    </tr>\n",
       "    <tr>\n",
       "      <th>26</th>\n",
       "      <td>spoken-arabic-digit</td>\n",
       "      <td>0.506976</td>\n",
       "      <td>0.501019</td>\n",
       "      <td>0.497409</td>\n",
       "      <td>0.499469</td>\n",
       "      <td>5.806240</td>\n",
       "      <td>6.695638</td>\n",
       "      <td>133.949653</td>\n",
       "      <td>5.750928</td>\n",
       "    </tr>\n",
       "    <tr>\n",
       "      <th>27</th>\n",
       "      <td>stock</td>\n",
       "      <td>0.993066</td>\n",
       "      <td>0.992918</td>\n",
       "      <td>0.993304</td>\n",
       "      <td>0.993212</td>\n",
       "      <td>0.077507</td>\n",
       "      <td>0.074565</td>\n",
       "      <td>0.089866</td>\n",
       "      <td>0.082154</td>\n",
       "    </tr>\n",
       "    <tr>\n",
       "      <th>28</th>\n",
       "      <td>tamilnadu-electricity</td>\n",
       "      <td>0.499049</td>\n",
       "      <td>0.498770</td>\n",
       "      <td>0.499749</td>\n",
       "      <td>0.500889</td>\n",
       "      <td>0.748538</td>\n",
       "      <td>0.880718</td>\n",
       "      <td>3.907518</td>\n",
       "      <td>0.723660</td>\n",
       "    </tr>\n",
       "    <tr>\n",
       "      <th>29</th>\n",
       "      <td>tokyo1</td>\n",
       "      <td>0.979105</td>\n",
       "      <td>0.978160</td>\n",
       "      <td>0.978568</td>\n",
       "      <td>0.979122</td>\n",
       "      <td>0.227467</td>\n",
       "      <td>0.208399</td>\n",
       "      <td>0.184400</td>\n",
       "      <td>0.243835</td>\n",
       "    </tr>\n",
       "    <tr>\n",
       "      <th>30</th>\n",
       "      <td>volcanoes-b6</td>\n",
       "      <td>0.659792</td>\n",
       "      <td>0.642406</td>\n",
       "      <td>0.654132</td>\n",
       "      <td>0.654798</td>\n",
       "      <td>0.208053</td>\n",
       "      <td>0.231512</td>\n",
       "      <td>0.320732</td>\n",
       "      <td>0.192117</td>\n",
       "    </tr>\n",
       "    <tr>\n",
       "      <th>31</th>\n",
       "      <td>volcanoes-d4</td>\n",
       "      <td>0.630361</td>\n",
       "      <td>0.615232</td>\n",
       "      <td>0.627555</td>\n",
       "      <td>0.628320</td>\n",
       "      <td>0.174266</td>\n",
       "      <td>0.204545</td>\n",
       "      <td>0.250412</td>\n",
       "      <td>0.171652</td>\n",
       "    </tr>\n",
       "    <tr>\n",
       "      <th>32</th>\n",
       "      <td>water-treatment</td>\n",
       "      <td>0.966438</td>\n",
       "      <td>0.955772</td>\n",
       "      <td>0.967243</td>\n",
       "      <td>0.983521</td>\n",
       "      <td>0.183625</td>\n",
       "      <td>0.178114</td>\n",
       "      <td>0.185062</td>\n",
       "      <td>0.260197</td>\n",
       "    </tr>\n",
       "    <tr>\n",
       "      <th>33</th>\n",
       "      <td>xd6</td>\n",
       "      <td>0.999984</td>\n",
       "      <td>0.998279</td>\n",
       "      <td>1.000000</td>\n",
       "      <td>1.000000</td>\n",
       "      <td>0.075248</td>\n",
       "      <td>0.075462</td>\n",
       "      <td>0.057385</td>\n",
       "      <td>0.077241</td>\n",
       "    </tr>\n",
       "  </tbody>\n",
       "</table>\n",
       "</div>"
      ],
      "text/plain": [
       "                                              dataset  tabfast_mean_metric  \\\n",
       "0   GAMETES_Epistasis_2-Way_1000atts_0.4H_EDM-1_ED...             0.492723   \n",
       "1                                         GTSRB-HOG01             0.492524   \n",
       "2                                         GTSRB-HOG02             0.497008   \n",
       "3                                         GTSRB-HOG03             0.498591   \n",
       "4                                       GTSRB-HueHist             0.512682   \n",
       "5                                               KDD98             0.492180   \n",
       "6                                        Kuzushiji-49             0.503581   \n",
       "7                             Run_or_walk_information             0.995663   \n",
       "8                                                USPS             0.477728   \n",
       "9                                    autoUniv-au6-750             0.496853   \n",
       "10                                           bank32nh             0.893029   \n",
       "11                                   boston_corrected             0.939176   \n",
       "12                                   compas-two-years             0.729562   \n",
       "13                                               fars             0.871662   \n",
       "14                                      fri_c2_500_50             0.742492   \n",
       "15                                     fri_c4_500_100             0.668744   \n",
       "16                                      hiva_agnostic             0.579647   \n",
       "17                                 kdd_internet_usage             0.931808   \n",
       "18                                              led24             0.943894   \n",
       "19                                           madeline             0.496017   \n",
       "20                         meta_stream_intervals.arff             0.934452   \n",
       "21                                         micro-mass             0.523620   \n",
       "22                                          oil_spill             0.943502   \n",
       "23                          one-hundred-plants-margin             0.545975   \n",
       "24                           one-hundred-plants-shape             0.544274   \n",
       "25                                       porto-seguro             0.618654   \n",
       "26                                spoken-arabic-digit             0.506976   \n",
       "27                                              stock             0.993066   \n",
       "28                              tamilnadu-electricity             0.499049   \n",
       "29                                             tokyo1             0.979105   \n",
       "30                                       volcanoes-b6             0.659792   \n",
       "31                                       volcanoes-d4             0.630361   \n",
       "32                                    water-treatment             0.966438   \n",
       "33                                                xd6             0.999984   \n",
       "\n",
       "    tabflex_mean_metric  tabpfn_mean_metric  tabsmall_mean_metric  \\\n",
       "0              0.486802            0.488262              0.489885   \n",
       "1              0.499554            0.489553              0.496691   \n",
       "2              0.512557            0.499349              0.501437   \n",
       "3              0.525364            0.497348              0.497045   \n",
       "4              0.550717            0.499590              0.506372   \n",
       "5              0.609398            0.507990              0.505353   \n",
       "6              0.631353            0.502952              0.503429   \n",
       "7              0.991484            0.997627              0.993483   \n",
       "8              0.992379            0.539675              0.560251   \n",
       "9              0.480367            0.501034              0.508984   \n",
       "10             0.887635            0.889386              0.890155   \n",
       "11             0.943095            0.943001              0.944158   \n",
       "12             0.727987            0.733734              0.732852   \n",
       "13             0.849271            0.871883              0.861953   \n",
       "14             0.761461            0.763138              0.925543   \n",
       "15             0.675869            0.684386              0.686337   \n",
       "16             0.578992            0.592446              0.602041   \n",
       "17             0.918950            0.931543              0.930955   \n",
       "18             0.938154            0.945545              0.949190   \n",
       "19             0.633729            0.520694              0.509935   \n",
       "20             0.982575            0.933269              0.916865   \n",
       "21             0.503862            0.515836              0.509356   \n",
       "22             0.942212            0.942076              0.945365   \n",
       "23             0.584330            0.545893              0.545856   \n",
       "24             0.566862            0.544277              0.542596   \n",
       "25             0.613302            0.598746              0.605877   \n",
       "26             0.501019            0.497409              0.499469   \n",
       "27             0.992918            0.993304              0.993212   \n",
       "28             0.498770            0.499749              0.500889   \n",
       "29             0.978160            0.978568              0.979122   \n",
       "30             0.642406            0.654132              0.654798   \n",
       "31             0.615232            0.627555              0.628320   \n",
       "32             0.955772            0.967243              0.983521   \n",
       "33             0.998279            1.000000              1.000000   \n",
       "\n",
       "    tabfast_runtime  tabflex_runtime  tabpfn_runtime  tabsmall_runtime  \n",
       "0          0.543018         4.886362        0.479617          0.544784  \n",
       "1          4.541576        40.204771        8.538762          4.412125  \n",
       "2          4.577796        40.411272        8.811647          4.456294  \n",
       "3          4.465949        40.152834        8.625715          4.470450  \n",
       "4          4.047554         9.525712        8.249653          3.979527  \n",
       "5          3.427298        23.752493       13.968781          2.645513  \n",
       "6         17.720109       109.601123      154.024106         17.127661  \n",
       "7          1.516293         1.827036       14.693757          1.515391  \n",
       "8          1.118020         2.597182        1.201494          1.120793  \n",
       "9          0.212962         0.195244        0.169248          0.230941  \n",
       "10         0.499765         0.457889        0.975077          0.474936  \n",
       "11         0.134979         0.112167        0.124421          0.123449  \n",
       "12         0.225574         0.212103        0.244995          0.201952  \n",
       "13         2.805983         3.131362       20.167186          2.772149  \n",
       "14         0.227088         0.224638        0.211734          0.249614  \n",
       "15         0.439344         0.440224        0.484312          0.443788  \n",
       "16         0.601860         5.346337        1.109381          0.620217  \n",
       "17         0.762609         0.762018        1.333179          0.746218  \n",
       "18         0.224009         0.222089        0.195753          0.238578  \n",
       "19         0.671211         1.564084        0.613164          0.672005  \n",
       "20         4.094163         3.681693        8.680904          4.073967  \n",
       "21         0.411541         3.327394        0.457858          0.392271  \n",
       "22         0.273311         0.246671        0.338265          0.271096  \n",
       "23         0.415909         0.496617        0.812182          0.406320  \n",
       "24         0.419257         0.499029        0.849908          0.449575  \n",
       "25        19.203614        21.019306      695.966285         18.962956  \n",
       "26         5.806240         6.695638      133.949653          5.750928  \n",
       "27         0.077507         0.074565        0.089866          0.082154  \n",
       "28         0.748538         0.880718        3.907518          0.723660  \n",
       "29         0.227467         0.208399        0.184400          0.243835  \n",
       "30         0.208053         0.231512        0.320732          0.192117  \n",
       "31         0.174266         0.204545        0.250412          0.171652  \n",
       "32         0.183625         0.178114        0.185062          0.260197  \n",
       "33         0.075248         0.075462        0.057385          0.077241  "
      ]
     },
     "execution_count": 24,
     "metadata": {},
     "output_type": "execute_result"
    }
   ],
   "source": [
    "cols = ['fit_time', 'inference_time', 'mean_metric']\n",
    "\n",
    "# Pivot the table\n",
    "pivot_table = results_view.pivot(index='dataset', columns='model', values=cols)\n",
    "models = pivot_table['fit_time'].columns.tolist()\n",
    "\n",
    "# Flatten column names\n",
    "pivot_table.columns = [f'{col[1]}_{col[0]}' for col in pivot_table.columns]\n",
    "\n",
    "# Reset index to make 'dataset' a column\n",
    "pivot_table = pivot_table.reset_index()\n",
    "\n",
    "# Calculate runtime by adding fit_time and inference_time\n",
    "for model in models:\n",
    "    pivot_table[f'{model}_runtime'] = pivot_table[f'{model}_fit_time'] + pivot_table[f'{model}_inference_time']\n",
    "\n",
    "# Update cols list to include runtime instead of fit_time and inference_time\n",
    "cols = ['runtime', 'mean_metric']\n",
    "\n",
    "columns_mapping = {f'{model_string}_{col}': f'{tabpfn_models[model_string][0]}_{col}' for model_string in tabpfn_models for col in cols}\n",
    "\n",
    "# Rename columns for clarity\n",
    "pivot_table = pivot_table.rename(columns=columns_mapping)\n",
    "\n",
    "# Drop the original fit_time and inference_time columns\n",
    "pivot_table = pivot_table.drop(columns=[col for col in pivot_table.columns if 'fit_time' in col or 'inference_time' in col])\n",
    "\n",
    "pivot_table"
   ]
  },
  {
   "cell_type": "code",
   "execution_count": 35,
   "metadata": {},
   "outputs": [
    {
     "data": {
      "text/plain": [
       "Index(['did', 'name', 'NumberOfFeatures', 'NumberOfInstances',\n",
       "       'NumberOfClasses'],\n",
       "      dtype='object')"
      ]
     },
     "execution_count": 35,
     "metadata": {},
     "output_type": "execute_result"
    }
   ],
   "source": [
    "preview.columns"
   ]
  },
  {
   "cell_type": "code",
   "execution_count": 47,
   "metadata": {},
   "outputs": [],
   "source": [
    "preview['dataset'] = preview['name']\n",
    "# Merge the dataset preview with the pivot table\n",
    "combined_table = pd.merge(pivot_table, preview[['dataset', 'NumberOfFeatures', 'NumberOfInstances', 'NumberOfClasses']], \n",
    "                          on='dataset', how='left')\n",
    "\n",
    "# Reorder columns to put dataset information first\n",
    "cols = ['dataset', 'NumberOfFeatures', 'NumberOfInstances', 'NumberOfClasses'] + [col for col in combined_table.columns if col not in ['dataset', 'NumberOfFeatures', 'NumberOfInstances', 'NumberOfClasses']]\n",
    "combined_table = combined_table[cols]\n",
    "\n",
    "for i, row in combined_table.iterrows():\n",
    "    n, d = row['NumberOfInstances'], row['NumberOfFeatures']\n",
    "    if n >= 3000 and d <= 100:\n",
    "        row['tabflex_runtime'] = row['tabfast_runtime']\n",
    "        row['tabflex_mean_metric'] = row['tabfast_mean_metric']\n",
    "    elif d > 100 or (d/n>=0.2 and n >=3000):\n",
    "        continue\n",
    "    else:\n",
    "        row['tabflex_runtime'] = row['tabsmall_runtime']\n",
    "        row['tabflex_mean_metric'] = row['tabsmall_mean_metric']\n",
    "\n",
    "    combined_table.iloc[i] = row\n"
   ]
  },
  {
   "cell_type": "code",
   "execution_count": 52,
   "metadata": {},
   "outputs": [
    {
     "data": {
      "text/html": [
       "<div>\n",
       "<style scoped>\n",
       "    .dataframe tbody tr th:only-of-type {\n",
       "        vertical-align: middle;\n",
       "    }\n",
       "\n",
       "    .dataframe tbody tr th {\n",
       "        vertical-align: top;\n",
       "    }\n",
       "\n",
       "    .dataframe thead th {\n",
       "        text-align: right;\n",
       "    }\n",
       "</style>\n",
       "<table border=\"1\" class=\"dataframe\">\n",
       "  <thead>\n",
       "    <tr style=\"text-align: right;\">\n",
       "      <th></th>\n",
       "      <th>dataset</th>\n",
       "      <th>NumberOfFeatures</th>\n",
       "      <th>NumberOfInstances</th>\n",
       "      <th>NumberOfClasses</th>\n",
       "      <th>tabpfn_runtime</th>\n",
       "      <th>tabpfn_mean_metric</th>\n",
       "      <th>tabflex_runtime</th>\n",
       "      <th>tabflex_mean_metric</th>\n",
       "    </tr>\n",
       "  </thead>\n",
       "  <tbody>\n",
       "    <tr>\n",
       "      <th>8</th>\n",
       "      <td>USPS</td>\n",
       "      <td>257</td>\n",
       "      <td>9298</td>\n",
       "      <td>10</td>\n",
       "      <td>1.201494</td>\n",
       "      <td>0.539675</td>\n",
       "      <td>2.597182</td>\n",
       "      <td>0.992379</td>\n",
       "    </tr>\n",
       "    <tr>\n",
       "      <th>14</th>\n",
       "      <td>fri_c2_500_50</td>\n",
       "      <td>51</td>\n",
       "      <td>500</td>\n",
       "      <td>2</td>\n",
       "      <td>0.211734</td>\n",
       "      <td>0.763138</td>\n",
       "      <td>0.249614</td>\n",
       "      <td>0.925543</td>\n",
       "    </tr>\n",
       "    <tr>\n",
       "      <th>6</th>\n",
       "      <td>Kuzushiji-49</td>\n",
       "      <td>785</td>\n",
       "      <td>270912</td>\n",
       "      <td>49</td>\n",
       "      <td>154.024106</td>\n",
       "      <td>0.502952</td>\n",
       "      <td>109.601123</td>\n",
       "      <td>0.631353</td>\n",
       "    </tr>\n",
       "    <tr>\n",
       "      <th>19</th>\n",
       "      <td>madeline</td>\n",
       "      <td>260</td>\n",
       "      <td>3140</td>\n",
       "      <td>2</td>\n",
       "      <td>0.613164</td>\n",
       "      <td>0.520694</td>\n",
       "      <td>1.564084</td>\n",
       "      <td>0.633729</td>\n",
       "    </tr>\n",
       "    <tr>\n",
       "      <th>5</th>\n",
       "      <td>KDD98</td>\n",
       "      <td>478</td>\n",
       "      <td>82318</td>\n",
       "      <td>2</td>\n",
       "      <td>13.968781</td>\n",
       "      <td>0.507990</td>\n",
       "      <td>23.752493</td>\n",
       "      <td>0.609398</td>\n",
       "    </tr>\n",
       "    <tr>\n",
       "      <th>4</th>\n",
       "      <td>GTSRB-HueHist</td>\n",
       "      <td>257</td>\n",
       "      <td>51839</td>\n",
       "      <td>43</td>\n",
       "      <td>8.249653</td>\n",
       "      <td>0.499590</td>\n",
       "      <td>9.525712</td>\n",
       "      <td>0.550717</td>\n",
       "    </tr>\n",
       "    <tr>\n",
       "      <th>3</th>\n",
       "      <td>GTSRB-HOG03</td>\n",
       "      <td>2917</td>\n",
       "      <td>51839</td>\n",
       "      <td>43</td>\n",
       "      <td>8.625715</td>\n",
       "      <td>0.497348</td>\n",
       "      <td>40.152834</td>\n",
       "      <td>0.525364</td>\n",
       "    </tr>\n",
       "    <tr>\n",
       "      <th>25</th>\n",
       "      <td>porto-seguro</td>\n",
       "      <td>38</td>\n",
       "      <td>595212</td>\n",
       "      <td>2</td>\n",
       "      <td>695.966285</td>\n",
       "      <td>0.598746</td>\n",
       "      <td>19.203614</td>\n",
       "      <td>0.618654</td>\n",
       "    </tr>\n",
       "    <tr>\n",
       "      <th>32</th>\n",
       "      <td>water-treatment</td>\n",
       "      <td>37</td>\n",
       "      <td>527</td>\n",
       "      <td>2</td>\n",
       "      <td>0.185062</td>\n",
       "      <td>0.967243</td>\n",
       "      <td>0.260197</td>\n",
       "      <td>0.983521</td>\n",
       "    </tr>\n",
       "    <tr>\n",
       "      <th>2</th>\n",
       "      <td>GTSRB-HOG02</td>\n",
       "      <td>1569</td>\n",
       "      <td>51839</td>\n",
       "      <td>43</td>\n",
       "      <td>8.811647</td>\n",
       "      <td>0.499349</td>\n",
       "      <td>40.411272</td>\n",
       "      <td>0.512557</td>\n",
       "    </tr>\n",
       "    <tr>\n",
       "      <th>1</th>\n",
       "      <td>GTSRB-HOG01</td>\n",
       "      <td>1569</td>\n",
       "      <td>51839</td>\n",
       "      <td>43</td>\n",
       "      <td>8.538762</td>\n",
       "      <td>0.489553</td>\n",
       "      <td>40.204771</td>\n",
       "      <td>0.499554</td>\n",
       "    </tr>\n",
       "    <tr>\n",
       "      <th>26</th>\n",
       "      <td>spoken-arabic-digit</td>\n",
       "      <td>15</td>\n",
       "      <td>263256</td>\n",
       "      <td>10</td>\n",
       "      <td>133.949653</td>\n",
       "      <td>0.497409</td>\n",
       "      <td>5.806240</td>\n",
       "      <td>0.506976</td>\n",
       "    </tr>\n",
       "    <tr>\n",
       "      <th>9</th>\n",
       "      <td>autoUniv-au6-750</td>\n",
       "      <td>41</td>\n",
       "      <td>750</td>\n",
       "      <td>8</td>\n",
       "      <td>0.169248</td>\n",
       "      <td>0.501034</td>\n",
       "      <td>0.230941</td>\n",
       "      <td>0.508984</td>\n",
       "    </tr>\n",
       "    <tr>\n",
       "      <th>30</th>\n",
       "      <td>volcanoes-b6</td>\n",
       "      <td>4</td>\n",
       "      <td>10130</td>\n",
       "      <td>5</td>\n",
       "      <td>0.320732</td>\n",
       "      <td>0.654132</td>\n",
       "      <td>0.208053</td>\n",
       "      <td>0.659792</td>\n",
       "    </tr>\n",
       "    <tr>\n",
       "      <th>10</th>\n",
       "      <td>bank32nh</td>\n",
       "      <td>33</td>\n",
       "      <td>8192</td>\n",
       "      <td>2</td>\n",
       "      <td>0.975077</td>\n",
       "      <td>0.889386</td>\n",
       "      <td>0.499765</td>\n",
       "      <td>0.893029</td>\n",
       "    </tr>\n",
       "    <tr>\n",
       "      <th>22</th>\n",
       "      <td>oil_spill</td>\n",
       "      <td>50</td>\n",
       "      <td>937</td>\n",
       "      <td>2</td>\n",
       "      <td>0.338265</td>\n",
       "      <td>0.942076</td>\n",
       "      <td>0.271096</td>\n",
       "      <td>0.945365</td>\n",
       "    </tr>\n",
       "    <tr>\n",
       "      <th>31</th>\n",
       "      <td>volcanoes-d4</td>\n",
       "      <td>4</td>\n",
       "      <td>8654</td>\n",
       "      <td>5</td>\n",
       "      <td>0.250412</td>\n",
       "      <td>0.627555</td>\n",
       "      <td>0.174266</td>\n",
       "      <td>0.630361</td>\n",
       "    </tr>\n",
       "    <tr>\n",
       "      <th>20</th>\n",
       "      <td>meta_stream_intervals.arff</td>\n",
       "      <td>75</td>\n",
       "      <td>45164</td>\n",
       "      <td>11</td>\n",
       "      <td>8.680904</td>\n",
       "      <td>0.933269</td>\n",
       "      <td>4.094163</td>\n",
       "      <td>0.934452</td>\n",
       "    </tr>\n",
       "    <tr>\n",
       "      <th>11</th>\n",
       "      <td>boston_corrected</td>\n",
       "      <td>21</td>\n",
       "      <td>506</td>\n",
       "      <td>2</td>\n",
       "      <td>0.124421</td>\n",
       "      <td>0.943001</td>\n",
       "      <td>0.123449</td>\n",
       "      <td>0.944158</td>\n",
       "    </tr>\n",
       "    <tr>\n",
       "      <th>29</th>\n",
       "      <td>tokyo1</td>\n",
       "      <td>45</td>\n",
       "      <td>959</td>\n",
       "      <td>2</td>\n",
       "      <td>0.184400</td>\n",
       "      <td>0.978568</td>\n",
       "      <td>0.243835</td>\n",
       "      <td>0.979122</td>\n",
       "    </tr>\n",
       "    <tr>\n",
       "      <th>17</th>\n",
       "      <td>kdd_internet_usage</td>\n",
       "      <td>69</td>\n",
       "      <td>10108</td>\n",
       "      <td>2</td>\n",
       "      <td>1.333179</td>\n",
       "      <td>0.931543</td>\n",
       "      <td>0.762609</td>\n",
       "      <td>0.931808</td>\n",
       "    </tr>\n",
       "    <tr>\n",
       "      <th>33</th>\n",
       "      <td>xd6</td>\n",
       "      <td>10</td>\n",
       "      <td>973</td>\n",
       "      <td>2</td>\n",
       "      <td>0.057385</td>\n",
       "      <td>1.000000</td>\n",
       "      <td>0.077241</td>\n",
       "      <td>1.000000</td>\n",
       "    </tr>\n",
       "    <tr>\n",
       "      <th>23</th>\n",
       "      <td>one-hundred-plants-margin</td>\n",
       "      <td>65</td>\n",
       "      <td>1600</td>\n",
       "      <td>100</td>\n",
       "      <td>0.812182</td>\n",
       "      <td>0.545893</td>\n",
       "      <td>0.406320</td>\n",
       "      <td>0.545856</td>\n",
       "    </tr>\n",
       "    <tr>\n",
       "      <th>27</th>\n",
       "      <td>stock</td>\n",
       "      <td>10</td>\n",
       "      <td>950</td>\n",
       "      <td>2</td>\n",
       "      <td>0.089866</td>\n",
       "      <td>0.993304</td>\n",
       "      <td>0.082154</td>\n",
       "      <td>0.993212</td>\n",
       "    </tr>\n",
       "    <tr>\n",
       "      <th>13</th>\n",
       "      <td>fars</td>\n",
       "      <td>30</td>\n",
       "      <td>100968</td>\n",
       "      <td>8</td>\n",
       "      <td>20.167186</td>\n",
       "      <td>0.871883</td>\n",
       "      <td>2.805983</td>\n",
       "      <td>0.871662</td>\n",
       "    </tr>\n",
       "    <tr>\n",
       "      <th>28</th>\n",
       "      <td>tamilnadu-electricity</td>\n",
       "      <td>4</td>\n",
       "      <td>45781</td>\n",
       "      <td>20</td>\n",
       "      <td>3.907518</td>\n",
       "      <td>0.499749</td>\n",
       "      <td>0.748538</td>\n",
       "      <td>0.499049</td>\n",
       "    </tr>\n",
       "    <tr>\n",
       "      <th>0</th>\n",
       "      <td>GAMETES_Epistasis_2-Way_1000atts_0.4H_EDM-1_EDM-1_1</td>\n",
       "      <td>1001</td>\n",
       "      <td>1600</td>\n",
       "      <td>2</td>\n",
       "      <td>0.479617</td>\n",
       "      <td>0.488262</td>\n",
       "      <td>4.886362</td>\n",
       "      <td>0.486802</td>\n",
       "    </tr>\n",
       "    <tr>\n",
       "      <th>18</th>\n",
       "      <td>led24</td>\n",
       "      <td>25</td>\n",
       "      <td>3200</td>\n",
       "      <td>10</td>\n",
       "      <td>0.195753</td>\n",
       "      <td>0.945545</td>\n",
       "      <td>0.224009</td>\n",
       "      <td>0.943894</td>\n",
       "    </tr>\n",
       "    <tr>\n",
       "      <th>24</th>\n",
       "      <td>one-hundred-plants-shape</td>\n",
       "      <td>65</td>\n",
       "      <td>1600</td>\n",
       "      <td>100</td>\n",
       "      <td>0.849908</td>\n",
       "      <td>0.544277</td>\n",
       "      <td>0.449575</td>\n",
       "      <td>0.542596</td>\n",
       "    </tr>\n",
       "    <tr>\n",
       "      <th>7</th>\n",
       "      <td>Run_or_walk_information</td>\n",
       "      <td>7</td>\n",
       "      <td>88588</td>\n",
       "      <td>2</td>\n",
       "      <td>14.693757</td>\n",
       "      <td>0.997627</td>\n",
       "      <td>1.516293</td>\n",
       "      <td>0.995663</td>\n",
       "    </tr>\n",
       "    <tr>\n",
       "      <th>12</th>\n",
       "      <td>compas-two-years</td>\n",
       "      <td>14</td>\n",
       "      <td>5278</td>\n",
       "      <td>2</td>\n",
       "      <td>0.244995</td>\n",
       "      <td>0.733734</td>\n",
       "      <td>0.225574</td>\n",
       "      <td>0.729562</td>\n",
       "    </tr>\n",
       "    <tr>\n",
       "      <th>15</th>\n",
       "      <td>fri_c4_500_100</td>\n",
       "      <td>101</td>\n",
       "      <td>500</td>\n",
       "      <td>2</td>\n",
       "      <td>0.484312</td>\n",
       "      <td>0.684386</td>\n",
       "      <td>0.440224</td>\n",
       "      <td>0.675869</td>\n",
       "    </tr>\n",
       "    <tr>\n",
       "      <th>21</th>\n",
       "      <td>micro-mass</td>\n",
       "      <td>1301</td>\n",
       "      <td>571</td>\n",
       "      <td>20</td>\n",
       "      <td>0.457858</td>\n",
       "      <td>0.515836</td>\n",
       "      <td>3.327394</td>\n",
       "      <td>0.503862</td>\n",
       "    </tr>\n",
       "    <tr>\n",
       "      <th>16</th>\n",
       "      <td>hiva_agnostic</td>\n",
       "      <td>1618</td>\n",
       "      <td>4229</td>\n",
       "      <td>2</td>\n",
       "      <td>1.109381</td>\n",
       "      <td>0.592446</td>\n",
       "      <td>5.346337</td>\n",
       "      <td>0.578992</td>\n",
       "    </tr>\n",
       "  </tbody>\n",
       "</table>\n",
       "</div>"
      ],
      "text/plain": [
       "                                                dataset  NumberOfFeatures  \\\n",
       "8                                                  USPS               257   \n",
       "14                                        fri_c2_500_50                51   \n",
       "6                                          Kuzushiji-49               785   \n",
       "19                                             madeline               260   \n",
       "5                                                 KDD98               478   \n",
       "4                                         GTSRB-HueHist               257   \n",
       "3                                           GTSRB-HOG03              2917   \n",
       "25                                         porto-seguro                38   \n",
       "32                                      water-treatment                37   \n",
       "2                                           GTSRB-HOG02              1569   \n",
       "1                                           GTSRB-HOG01              1569   \n",
       "26                                  spoken-arabic-digit                15   \n",
       "9                                      autoUniv-au6-750                41   \n",
       "30                                         volcanoes-b6                 4   \n",
       "10                                             bank32nh                33   \n",
       "22                                            oil_spill                50   \n",
       "31                                         volcanoes-d4                 4   \n",
       "20                           meta_stream_intervals.arff                75   \n",
       "11                                     boston_corrected                21   \n",
       "29                                               tokyo1                45   \n",
       "17                                   kdd_internet_usage                69   \n",
       "33                                                  xd6                10   \n",
       "23                            one-hundred-plants-margin                65   \n",
       "27                                                stock                10   \n",
       "13                                                 fars                30   \n",
       "28                                tamilnadu-electricity                 4   \n",
       "0   GAMETES_Epistasis_2-Way_1000atts_0.4H_EDM-1_EDM-1_1              1001   \n",
       "18                                                led24                25   \n",
       "24                             one-hundred-plants-shape                65   \n",
       "7                               Run_or_walk_information                 7   \n",
       "12                                     compas-two-years                14   \n",
       "15                                       fri_c4_500_100               101   \n",
       "21                                           micro-mass              1301   \n",
       "16                                        hiva_agnostic              1618   \n",
       "\n",
       "    NumberOfInstances  NumberOfClasses  tabpfn_runtime  tabpfn_mean_metric  \\\n",
       "8                9298               10        1.201494            0.539675   \n",
       "14                500                2        0.211734            0.763138   \n",
       "6              270912               49      154.024106            0.502952   \n",
       "19               3140                2        0.613164            0.520694   \n",
       "5               82318                2       13.968781            0.507990   \n",
       "4               51839               43        8.249653            0.499590   \n",
       "3               51839               43        8.625715            0.497348   \n",
       "25             595212                2      695.966285            0.598746   \n",
       "32                527                2        0.185062            0.967243   \n",
       "2               51839               43        8.811647            0.499349   \n",
       "1               51839               43        8.538762            0.489553   \n",
       "26             263256               10      133.949653            0.497409   \n",
       "9                 750                8        0.169248            0.501034   \n",
       "30              10130                5        0.320732            0.654132   \n",
       "10               8192                2        0.975077            0.889386   \n",
       "22                937                2        0.338265            0.942076   \n",
       "31               8654                5        0.250412            0.627555   \n",
       "20              45164               11        8.680904            0.933269   \n",
       "11                506                2        0.124421            0.943001   \n",
       "29                959                2        0.184400            0.978568   \n",
       "17              10108                2        1.333179            0.931543   \n",
       "33                973                2        0.057385            1.000000   \n",
       "23               1600              100        0.812182            0.545893   \n",
       "27                950                2        0.089866            0.993304   \n",
       "13             100968                8       20.167186            0.871883   \n",
       "28              45781               20        3.907518            0.499749   \n",
       "0                1600                2        0.479617            0.488262   \n",
       "18               3200               10        0.195753            0.945545   \n",
       "24               1600              100        0.849908            0.544277   \n",
       "7               88588                2       14.693757            0.997627   \n",
       "12               5278                2        0.244995            0.733734   \n",
       "15                500                2        0.484312            0.684386   \n",
       "21                571               20        0.457858            0.515836   \n",
       "16               4229                2        1.109381            0.592446   \n",
       "\n",
       "    tabflex_runtime  tabflex_mean_metric  \n",
       "8          2.597182             0.992379  \n",
       "14         0.249614             0.925543  \n",
       "6        109.601123             0.631353  \n",
       "19         1.564084             0.633729  \n",
       "5         23.752493             0.609398  \n",
       "4          9.525712             0.550717  \n",
       "3         40.152834             0.525364  \n",
       "25        19.203614             0.618654  \n",
       "32         0.260197             0.983521  \n",
       "2         40.411272             0.512557  \n",
       "1         40.204771             0.499554  \n",
       "26         5.806240             0.506976  \n",
       "9          0.230941             0.508984  \n",
       "30         0.208053             0.659792  \n",
       "10         0.499765             0.893029  \n",
       "22         0.271096             0.945365  \n",
       "31         0.174266             0.630361  \n",
       "20         4.094163             0.934452  \n",
       "11         0.123449             0.944158  \n",
       "29         0.243835             0.979122  \n",
       "17         0.762609             0.931808  \n",
       "33         0.077241             1.000000  \n",
       "23         0.406320             0.545856  \n",
       "27         0.082154             0.993212  \n",
       "13         2.805983             0.871662  \n",
       "28         0.748538             0.499049  \n",
       "0          4.886362             0.486802  \n",
       "18         0.224009             0.943894  \n",
       "24         0.449575             0.542596  \n",
       "7          1.516293             0.995663  \n",
       "12         0.225574             0.729562  \n",
       "15         0.440224             0.675869  \n",
       "21         3.327394             0.503862  \n",
       "16         5.346337             0.578992  "
      ]
     },
     "metadata": {},
     "output_type": "display_data"
    }
   ],
   "source": [
    "combined_table = combined_table.drop(columns=[col for col in combined_table.columns if 'tabfast' in col or 'tabsmall' in col])\n",
    "\n",
    "# Reorder columns to show tabpfn first, then tabflex\n",
    "cols = ['dataset', 'NumberOfFeatures', 'NumberOfInstances', 'NumberOfClasses', \n",
    "        'tabpfn_runtime', 'tabpfn_mean_metric', 'tabflex_runtime', 'tabflex_mean_metric']\n",
    "combined_table = combined_table[cols]\n",
    "\n",
    "# Calculate the difference between tabflex and tabpfn mean metrics\n",
    "combined_table['metric_diff'] = combined_table['tabflex_mean_metric'] - combined_table['tabpfn_mean_metric']\n",
    "\n",
    "# Sort the table based on the difference\n",
    "combined_table = combined_table.sort_values('metric_diff', ascending=False)\n",
    "\n",
    "# Drop the temporary column used for sorting\n",
    "combined_table = combined_table.drop(columns=['metric_diff'])\n",
    "\n",
    "pd.set_option('display.max_rows', None)\n",
    "pd.set_option('display.max_columns', None)\n",
    "pd.set_option('display.width', None)\n",
    "pd.set_option('display.max_colwidth', None)\n",
    "display(combined_table)"
   ]
  },
  {
   "cell_type": "code",
   "execution_count": 46,
   "metadata": {},
   "outputs": [
    {
     "name": "stderr",
     "output_type": "stream",
     "text": [
      "/tmp/ipykernel_849576/898463478.py:13: MatplotlibDeprecationWarning: The get_cmap function was deprecated in Matplotlib 3.7 and will be removed in 3.11. Use ``matplotlib.colormaps[name]`` or ``matplotlib.colormaps.get_cmap()`` or ``pyplot.get_cmap()`` instead.\n",
      "  colors = plt.cm.get_cmap('Set3')(np.linspace(0, 1, len(methods)))\n"
     ]
    },
    {
     "name": "stdout",
     "output_type": "stream",
     "text": [
      "[0 1]\n",
      "[0 1]\n"
     ]
    },
    {
     "data": {
      "image/png": "[encoded data removed]",
      "text/plain": [
       "<Figure size 2000x800 with 2 Axes>"
      ]
     },
     "metadata": {},
     "output_type": "display_data"
    }
   ],
   "source": [
    "# Calculate averages\n",
    "metrics = ['runtime', 'mean_metric']\n",
    "methods = ['tabpfn', 'tabflex']\n",
    "\n",
    "averages = {metric: {method: combined_table[f'{method}_{metric}'].mean() for method in methods} for metric in metrics}\n",
    "\n",
    "# Prepare for plotting\n",
    "fig, axes = plt.subplots(1, 2, figsize=(20, 8))\n",
    "width = 0.2\n",
    "x = np.arange(len(methods))\n",
    "\n",
    "# Color map for consistency across subplots\n",
    "colors = plt.cm.get_cmap('Set3')(np.linspace(0, 1, len(methods)))\n",
    "\n",
    "# Plot each metric in a separate subplot\n",
    "for i, metric in enumerate(metrics):\n",
    "\n",
    "    ax = axes[i]\n",
    "    values = [averages[metric][method] for method in methods]\n",
    "    print(x)\n",
    "    bars = ax.bar(x, values, width, alpha=0.8, color=colors)\n",
    "    \n",
    "    ax.set_ylabel(f'Average {metric.replace(\"_\", \" \").title()}', fontsize=25)\n",
    "    ax.tick_params(axis='y', labelsize=25)\n",
    "    # ax.set_title(f'Comparison of {metric.replace(\"_\", \" \").title()}', fontsize=25)\n",
    "    ax.set_xticks(x)\n",
    "    ax.set_xticklabels(methods, rotation=45, ha='right', fontsize=25)\n",
    "    ax.yaxis.grid(True)\n",
    "    \n",
    "    \n",
    "    # Add value labels on top of each bar\n",
    "    for bar in bars:\n",
    "        height = bar.get_height()\n",
    "        # ax.text(bar.get_x() + bar.get_width()/2., height,\n",
    "        #         f'{height:.6f}',\n",
    "        #         ha='center', va='bottom', rotation=90)\n",
    "\n",
    "# Adjust layout and display the plot\n",
    "plt.tight_layout()\n",
    "plt.suptitle('Comparison of Average Metrics across Different Methods', fontsize=25, y=1.05)\n",
    "plt.show()"
   ]
  },
  {
   "cell_type": "code",
   "execution_count": 30,
   "metadata": {},
   "outputs": [
    {
     "data": {
      "text/plain": [
       "0.7226711227613338"
      ]
     },
     "execution_count": 30,
     "metadata": {},
     "output_type": "execute_result"
    }
   ],
   "source": [
    "averages[metric]['tabflex']"
   ]
  },
  {
   "cell_type": "code",
   "execution_count": null,
   "metadata": {},
   "outputs": [],
   "source": []
  }
 ],
 "metadata": {
  "kernelspec": {
   "display_name": "Python 3 (ipykernel)",
   "language": "python",
   "name": "python3"
  },
  "language_info": {
   "codemirror_mode": {
    "name": "ipython",
    "version": 3
   },
   "file_extension": ".py",
   "mimetype": "text/x-python",
   "name": "python",
   "nbconvert_exporter": "python",
   "pygments_lexer": "ipython3",
   "version": "3.10.14"
  }
 },
 "nbformat": 4,
 "nbformat_minor": 4
}
