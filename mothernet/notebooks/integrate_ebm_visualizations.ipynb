{
 "cells": [
  {
   "cell_type": "code",
   "execution_count": 1,
   "metadata": {},
   "source": [
    "from mothernet.prediction.mothernet_additive import MotherNetAdditiveClassifier\n",
    "from mothernet.utils import get_mn_model\n",
    "import numpy as np\n",
    "\n",
    "device = \"cpu\"\n",
    "model_str = \"baam_H512_Dclass_average_e128_nsamples500_numfeatures20_padzerosFalse_03_14_2024_15_03_22_epoch_1520.cpkt\"\n",
    "model_path = get_mn_model(model_str)\n",
    "\n",
    "additive = MotherNetAdditiveClassifier(path=model_path, device=device)"
   ],
   "outputs": []
  },
  {
   "cell_type": "code",
   "execution_count": 2,
   "metadata": {},
   "source": [
    "from sklearn.datasets import fetch_openml, load_iris\n",
    "data = fetch_openml(\"prnn_crabs\")\n",
    "# data = load_iris()\n",
    "# print(data)"
   ],
   "outputs": []
  },
  {
   "cell_type": "code",
   "execution_count": 3,
   "metadata": {},
   "source": [
    "from sklearn.model_selection import train_test_split\n",
    "from interpret.glassbox import ExplainableBoostingClassifier\n",
    "\n",
    "ebm_main = ExplainableBoostingClassifier(max_bins=64, interactions=0)\n",
    "X_train, X_test, y_train, y_test = train_test_split(data.data.drop(columns=\"index\"), data.target, stratify=data.target, train_size=0.5, random_state=13)\n",
    "\n",
    "ebm_main.fit(X_train, y_train)"
   ],
   "outputs": []
  },
  {
   "cell_type": "code",
   "execution_count": 4,
   "metadata": {},
   "source": [
    "X_train_bool = X_train.copy()\n",
    "X_train_bool['sex'] = (X_train['sex'] == \"Female\").astype(int)\n",
    "\n",
    "X_test_bool = X_test.copy()\n",
    "X_test_bool['sex'] = (X_test['sex'] == \"Female\").astype(int)\n",
    "\n",
    "additive.fit(np.array(X_train_bool), y_train)"
   ],
   "outputs": []
  },
  {
   "cell_type": "code",
   "execution_count": 5,
   "metadata": {},
   "source": [
    "print(f\"EBM: {ebm_main.score(X_test, y_test)}\")\n",
    "print(f\"MotherNet: {additive.score(np.array(X_test_bool), y_test)}\")"
   ],
   "outputs": []
  },
  {
   "cell_type": "code",
   "execution_count": 6,
   "metadata": {},
   "source": [
    "from interpret import show\n",
    "ebm_global = ebm_main.explain_global()\n",
    "show(ebm_global)"
   ],
   "outputs": []
  },
  {
   "cell_type": "code",
   "execution_count": 9,
   "metadata": {},
   "source": [
    "show(ag)"
   ],
   "outputs": []
  }
 ],
 "metadata": {
  "kernelspec": {
   "display_name": "mothernet",
   "language": "python",
   "name": "python3"
  },
  "language_info": {
   "codemirror_mode": {
    "name": "ipython",
    "version": 3
   },
   "file_extension": ".py",
   "mimetype": "text/x-python",
   "name": "python",
   "nbconvert_exporter": "python",
   "pygments_lexer": "ipython3",
   "version": "3.10.14"
  }
 },
 "nbformat": 4,
 "nbformat_minor": 2
}
