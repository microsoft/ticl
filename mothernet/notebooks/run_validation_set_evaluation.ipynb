{
 "cells": [
  {
   "cell_type": "code",
   "execution_count": 1,
   "metadata": {
    "tags": []
   },
   "outputs": [],
   "source": [
    "import matplotlib.pyplot as plt\n",
    "import seaborn as sns\n",
    "import pandas as pd\n",
    "import numpy as np\n",
    "import pickle\n",
    "import datetime\n",
    "import warnings\n",
    "#warnings.simplefilter(\"ignore\", FutureWarning)  # openml deprecation of array return type\n",
    "warnings.simplefilter(\"ignore\", UserWarning)  # scikit-learn select k best\n",
    "\n",
    "from mothernet.datasets import load_openml_list, open_cc_valid_dids, open_cc_dids\n",
    "from mothernet.evaluation.baselines.tabular_baselines import knn_metric, catboost_metric, logistic_metric, xgb_metric, random_forest_metric, mlp_metric, hyperfast_metric\n",
    "from mothernet.evaluation.tabular_evaluation import evaluate, eval_on_datasets, transformer_metric\n",
    "from mothernet.evaluation import tabular_metrics\n",
    "from mothernet.prediction.tabpfn import TabPFNClassifier\n",
    "from mothernet.evaluation.baselines import tabular_baselines"
   ]
  },
  {
   "cell_type": "markdown",
   "metadata": {
    "tags": []
   },
   "source": [
    "# Datasets"
   ]
  },
  {
   "cell_type": "code",
   "execution_count": 2,
   "metadata": {
    "tags": []
   },
   "outputs": [
    {
     "name": "stderr",
     "output_type": "stream",
     "text": [
      "/home/azureuser/TabPFN/mothernet/datasets/__init__.py:153: FutureWarning: Support for `output_format` of 'dict' will be removed in 0.15 and pandas dataframes will be returned instead. To ensure your code will continue to work, use `output_format`='dataframe'.\n",
      "  openml_list = openml.datasets.list_datasets(dids)\n"
     ]
    },
    {
     "name": "stdout",
     "output_type": "stream",
     "text": [
      "Number of datasets: 149\n"
     ]
    },
    {
     "name": "stderr",
     "output_type": "stream",
     "text": [
      "/anaconda/envs/tabpfn_testing_environment/lib/python3.11/site-packages/pandas/core/series.py:953: RuntimeWarning: invalid value encountered in cast\n",
      "  arr = np.asarray(values, dtype=dtype)\n"
     ]
    }
   ],
   "source": [
    "from mothernet.datasets import load_openml_list, open_cc_dids, open_cc_valid_dids, test_dids_classification\n",
    "\n",
    "cc_valid_datasets_multiclass, cc_valid_datasets_multiclass_df = load_openml_list(open_cc_valid_dids, multiclass=True, shuffled=True, filter_for_nan=False, max_samples = 10000, num_feats=100, return_capped=True)\n"
   ]
  },
  {
   "cell_type": "code",
   "execution_count": 3,
   "metadata": {
    "tags": []
   },
   "outputs": [],
   "source": [
    "cc_valid_datasets_multiclass_df['NumberOfInstances'] =  cc_valid_datasets_multiclass_df['NumberOfInstances'].astype(int)\n",
    "cc_valid_datasets_multiclass_df['NumberOfFeatures'] =  cc_valid_datasets_multiclass_df['NumberOfFeatures'].astype(int)\n",
    "cc_valid_datasets_multiclass_df['NumberOfClasses'] =  cc_valid_datasets_multiclass_df['NumberOfClasses'].astype(int)\n",
    "\n",
    "# uncomment for latex table of datasets\n",
    "# print(cc_valid_datasets_multiclass_df[['did', 'name', 'NumberOfFeatures', 'NumberOfInstances', 'NumberOfClasses']].rename(columns={'NumberOfFeatures': \"d\", \"NumberOfInstances\":\"n\", \"NumberOfClasses\": \"k\"}).to_latex(index=False))"
   ]
  },
  {
   "cell_type": "markdown",
   "metadata": {
    "tags": []
   },
   "source": [
    "# Setting params"
   ]
  },
  {
   "cell_type": "code",
   "execution_count": 4,
   "metadata": {
    "tags": []
   },
   "outputs": [],
   "source": [
    "import os\n",
    "eval_positions = [1000]\n",
    "max_features = 100\n",
    "n_samples = 2000\n",
    "base_path = os.path.join('..')\n",
    "overwrite = False\n",
    "metric_used = tabular_metrics.auc_metric\n",
    "task_type = 'multiclass'"
   ]
  },
  {
   "cell_type": "markdown",
   "metadata": {
    "tags": []
   },
   "source": [
    "# Baseline Evaluation\n",
    "This section runs baselines and saves results locally."
   ]
  },
  {
   "cell_type": "code",
   "execution_count": 5,
   "metadata": {
    "tags": []
   },
   "outputs": [],
   "source": [
    "!mkdir -p {base_path}/results\n",
    "!mkdir -p {base_path}/results/tabular/\n",
    "!mkdir -p {base_path}/results/tabular/multiclass/"
   ]
  },
  {
   "cell_type": "code",
   "execution_count": 6,
   "metadata": {
    "tags": []
   },
   "outputs": [
    {
     "data": {
      "text/plain": [
       "149"
      ]
     },
     "execution_count": 6,
     "metadata": {},
     "output_type": "execute_result"
    }
   ],
   "source": [
    "len(cc_valid_datasets_multiclass)"
   ]
  },
  {
   "cell_type": "code",
   "execution_count": 7,
   "metadata": {
    "tags": []
   },
   "outputs": [
    {
     "name": "stdout",
     "output_type": "stream",
     "text": [
      "evaluating knn on cpu\n"
     ]
    },
    {
     "name": "stderr",
     "output_type": "stream",
     "text": [
      "[Parallel(n_jobs=1)]: Done  40 tasks      | elapsed:    0.1s\n",
      "[Parallel(n_jobs=1)]: Done 161 tasks      | elapsed:    0.8s\n",
      "[Parallel(n_jobs=1)]: Done 364 tasks      | elapsed:    1.4s\n",
      "[Parallel(n_jobs=1)]: Done 647 tasks      | elapsed:    2.0s\n",
      "[Parallel(n_jobs=1)]: Done 1012 tasks      | elapsed:    3.6s\n",
      "[Parallel(n_jobs=1)]: Done 1457 tasks      | elapsed:    5.4s\n",
      "[Parallel(n_jobs=1)]: Done 1984 tasks      | elapsed:    6.2s\n",
      "[Parallel(n_jobs=1)]: Done 2591 tasks      | elapsed:    7.1s\n",
      "[Parallel(n_jobs=1)]: Done 3280 tasks      | elapsed:    8.2s\n",
      "[Parallel(n_jobs=1)]: Done 4049 tasks      | elapsed:    9.5s\n",
      "[Parallel(n_jobs=1)]: Done 4900 tasks      | elapsed:   13.7s\n"
     ]
    },
    {
     "name": "stdout",
     "output_type": "stream",
     "text": [
      "evaluating rf_new_params on cpu\n"
     ]
    },
    {
     "name": "stderr",
     "output_type": "stream",
     "text": [
      "[Parallel(n_jobs=1)]: Done  40 tasks      | elapsed:    0.1s\n",
      "[Parallel(n_jobs=1)]: Done 161 tasks      | elapsed:    0.8s\n",
      "[Parallel(n_jobs=1)]: Done 364 tasks      | elapsed:    1.3s\n",
      "[Parallel(n_jobs=1)]: Done 647 tasks      | elapsed:    1.9s\n",
      "[Parallel(n_jobs=1)]: Done 1012 tasks      | elapsed:    3.6s\n",
      "[Parallel(n_jobs=1)]: Done 1457 tasks      | elapsed:    5.4s\n",
      "[Parallel(n_jobs=1)]: Done 1984 tasks      | elapsed:    6.2s\n",
      "[Parallel(n_jobs=1)]: Done 2591 tasks      | elapsed:    7.1s\n",
      "[Parallel(n_jobs=1)]: Done 3280 tasks      | elapsed:    8.2s\n",
      "[Parallel(n_jobs=1)]: Done 4049 tasks      | elapsed:    9.5s\n",
      "[Parallel(n_jobs=1)]: Done 4900 tasks      | elapsed:   14.0s\n"
     ]
    },
    {
     "name": "stdout",
     "output_type": "stream",
     "text": [
      "evaluating xgb on cpu\n"
     ]
    },
    {
     "name": "stderr",
     "output_type": "stream",
     "text": [
      "[Parallel(n_jobs=1)]: Done  40 tasks      | elapsed:    0.1s\n",
      "[Parallel(n_jobs=1)]: Done 161 tasks      | elapsed:    0.8s\n",
      "[Parallel(n_jobs=1)]: Done 364 tasks      | elapsed:    1.4s\n",
      "[Parallel(n_jobs=1)]: Done 647 tasks      | elapsed:    2.0s\n",
      "[Parallel(n_jobs=1)]: Done 1012 tasks      | elapsed:    3.6s\n",
      "[Parallel(n_jobs=1)]: Done 1457 tasks      | elapsed:    5.4s\n",
      "[Parallel(n_jobs=1)]: Done 1984 tasks      | elapsed:    6.2s\n",
      "[Parallel(n_jobs=1)]: Done 2591 tasks      | elapsed:    7.1s\n",
      "[Parallel(n_jobs=1)]: Done 3280 tasks      | elapsed:    8.1s\n",
      "[Parallel(n_jobs=1)]: Done 4049 tasks      | elapsed:    9.4s\n",
      "[Parallel(n_jobs=1)]: Done 4900 tasks      | elapsed:   13.7s\n"
     ]
    },
    {
     "name": "stdout",
     "output_type": "stream",
     "text": [
      "evaluating logistic on cpu\n"
     ]
    },
    {
     "name": "stderr",
     "output_type": "stream",
     "text": [
      "[Parallel(n_jobs=1)]: Done  40 tasks      | elapsed:    0.1s\n",
      "[Parallel(n_jobs=1)]: Done 161 tasks      | elapsed:    0.8s\n",
      "[Parallel(n_jobs=1)]: Done 364 tasks      | elapsed:    1.3s\n",
      "[Parallel(n_jobs=1)]: Done 647 tasks      | elapsed:    1.9s\n",
      "[Parallel(n_jobs=1)]: Done 1012 tasks      | elapsed:    3.6s\n",
      "[Parallel(n_jobs=1)]: Done 1457 tasks      | elapsed:    5.4s\n",
      "[Parallel(n_jobs=1)]: Done 1984 tasks      | elapsed:    6.2s\n",
      "[Parallel(n_jobs=1)]: Done 2591 tasks      | elapsed:    7.1s\n",
      "[Parallel(n_jobs=1)]: Done 3280 tasks      | elapsed:    8.2s\n",
      "[Parallel(n_jobs=1)]: Done 4049 tasks      | elapsed:    9.5s\n",
      "[Parallel(n_jobs=1)]: Done 4900 tasks      | elapsed:   13.8s\n"
     ]
    },
    {
     "name": "stdout",
     "output_type": "stream",
     "text": [
      "evaluating mlp on cpu\n"
     ]
    },
    {
     "name": "stderr",
     "output_type": "stream",
     "text": [
      "[Parallel(n_jobs=1)]: Done  40 tasks      | elapsed:    0.1s\n",
      "[Parallel(n_jobs=1)]: Done 161 tasks      | elapsed:    0.8s\n",
      "[Parallel(n_jobs=1)]: Done 364 tasks      | elapsed:    1.4s\n",
      "[Parallel(n_jobs=1)]: Done 647 tasks      | elapsed:    2.0s\n",
      "[Parallel(n_jobs=1)]: Done 1012 tasks      | elapsed:    3.6s\n",
      "[Parallel(n_jobs=1)]: Done 1457 tasks      | elapsed:    5.4s\n",
      "[Parallel(n_jobs=1)]: Done 1984 tasks      | elapsed:    6.2s\n",
      "[Parallel(n_jobs=1)]: Done 2591 tasks      | elapsed:    7.1s\n",
      "[Parallel(n_jobs=1)]: Done 3280 tasks      | elapsed:    8.2s\n",
      "[Parallel(n_jobs=1)]: Done 4049 tasks      | elapsed:    9.4s\n",
      "[Parallel(n_jobs=1)]: Done 4900 tasks      | elapsed:   13.7s\n"
     ]
    }
   ],
   "source": [
    "max_times = [1, 5, 15, 60, 5 * 60, 15 * 60, 60* 60]\n",
    "# these will all be evaluated on CPU because they are given as  callables, which is a weird way to do it.\n",
    "clf_dict= {\n",
    "    'knn': knn_metric,\n",
    "    'rf_new_params': random_forest_metric,\n",
    "    'xgb': xgb_metric,\n",
    "    'logistic': logistic_metric,\n",
    "    'mlp': mlp_metric}\n",
    "\n",
    "results_baselines = [\n",
    "    eval_on_datasets('multiclass', model, model_name, cc_valid_datasets_multiclass, eval_positions=eval_positions, max_times=max_times,\n",
    "                     metric_used=metric_used, split_numbers=[1, 2, 3, 4, 5],\n",
    "                     n_samples=n_samples, base_path=base_path, n_jobs=1)\n",
    "    for model_name, model in clf_dict.items()\n",
    "]"
   ]
  },
  {
   "cell_type": "code",
   "execution_count": null,
   "metadata": {},
   "outputs": [],
   "source": []
  },
  {
   "cell_type": "code",
   "execution_count": 8,
   "metadata": {
    "tags": []
   },
   "outputs": [
    {
     "name": "stdout",
     "output_type": "stream",
     "text": [
      "evaluating mothernet on cpu\n"
     ]
    },
    {
     "name": "stderr",
     "output_type": "stream",
     "text": [
      "[Parallel(n_jobs=-1)]: Using backend LokyBackend with 96 concurrent workers.\n",
      "[Parallel(n_jobs=-1)]: Done 173 tasks      | elapsed:    6.7s\n",
      "[Parallel(n_jobs=-1)]: Done 456 tasks      | elapsed:    7.3s\n",
      "[Parallel(n_jobs=-1)]: Done 745 out of 745 | elapsed:   17.8s finished\n",
      "[Parallel(n_jobs=-1)]: Using backend LokyBackend with 96 concurrent workers.\n"
     ]
    },
    {
     "name": "stdout",
     "output_type": "stream",
     "text": [
      "evaluating mlp_distill on cpu\n"
     ]
    },
    {
     "name": "stderr",
     "output_type": "stream",
     "text": [
      "[Parallel(n_jobs=-1)]: Done 178 tasks      | elapsed:    0.2s\n",
      "[Parallel(n_jobs=-1)]: Done 745 out of 745 | elapsed:    0.5s finished\n",
      "[Parallel(n_jobs=-1)]: Using backend LokyBackend with 96 concurrent workers.\n"
     ]
    },
    {
     "name": "stdout",
     "output_type": "stream",
     "text": [
      "evaluating tabpfn on cpu\n"
     ]
    },
    {
     "name": "stderr",
     "output_type": "stream",
     "text": [
      "[Parallel(n_jobs=-1)]: Done 174 tasks      | elapsed:    0.2s\n",
      "[Parallel(n_jobs=-1)]: Done 745 out of 745 | elapsed:    0.5s finished\n",
      "[Parallel(n_jobs=-1)]: Using backend LokyBackend with 96 concurrent workers.\n"
     ]
    },
    {
     "name": "stdout",
     "output_type": "stream",
     "text": [
      "evaluating tabpfn_ours on cpu\n"
     ]
    },
    {
     "name": "stderr",
     "output_type": "stream",
     "text": [
      "[Parallel(n_jobs=-1)]: Done 176 tasks      | elapsed:    0.2s\n",
      "[Parallel(n_jobs=-1)]: Done 554 out of 745 | elapsed:    0.4s remaining:    0.1s\n",
      "[Parallel(n_jobs=-1)]: Done 745 out of 745 | elapsed:    0.5s finished\n",
      "[Parallel(n_jobs=-1)]: Using backend LokyBackend with 96 concurrent workers.\n"
     ]
    },
    {
     "name": "stdout",
     "output_type": "stream",
     "text": [
      "evaluating tabpfn_ours_ensemble_8 on cpu\n"
     ]
    },
    {
     "name": "stderr",
     "output_type": "stream",
     "text": [
      "[Parallel(n_jobs=-1)]: Done 174 tasks      | elapsed:    0.2s\n",
      "[Parallel(n_jobs=-1)]: Done 745 out of 745 | elapsed:    0.5s finished\n",
      "[Parallel(n_jobs=-1)]: Using backend LokyBackend with 96 concurrent workers.\n"
     ]
    },
    {
     "name": "stdout",
     "output_type": "stream",
     "text": [
      "evaluating tabpfn_ours_ensemble_32 on cpu\n"
     ]
    },
    {
     "name": "stderr",
     "output_type": "stream",
     "text": [
      "[Parallel(n_jobs=-1)]: Done 175 tasks      | elapsed:    0.2s\n",
      "[Parallel(n_jobs=-1)]: Done 745 out of 745 | elapsed:    0.5s finished\n",
      "[Parallel(n_jobs=-1)]: Using backend LokyBackend with 96 concurrent workers.\n"
     ]
    },
    {
     "name": "stdout",
     "output_type": "stream",
     "text": [
      "evaluating batabpfn_e256_nsamples500_numfeatures20_03_20_2024_22_14_45_e630 on cpu\n"
     ]
    },
    {
     "name": "stderr",
     "output_type": "stream",
     "text": [
      "[Parallel(n_jobs=-1)]: Done 177 tasks      | elapsed:    0.2s\n",
      "[Parallel(n_jobs=-1)]: Done 554 out of 745 | elapsed:    0.4s remaining:    0.1s\n",
      "[Parallel(n_jobs=-1)]: Done 745 out of 745 | elapsed:    0.5s finished\n",
      "[Parallel(n_jobs=-1)]: Using backend LokyBackend with 96 concurrent workers.\n"
     ]
    },
    {
     "name": "stdout",
     "output_type": "stream",
     "text": [
      "evaluating batabpfn_e256_nsamples500_numfeatures20_03_20_2024_22_14_45_e1130 on cpu\n"
     ]
    },
    {
     "name": "stderr",
     "output_type": "stream",
     "text": [
      "[Parallel(n_jobs=-1)]: Done 175 tasks      | elapsed:    0.2s\n",
      "[Parallel(n_jobs=-1)]: Done 554 out of 745 | elapsed:    0.4s remaining:    0.1s\n",
      "[Parallel(n_jobs=-1)]: Done 745 out of 745 | elapsed:    0.5s finished\n",
      "[Parallel(n_jobs=-1)]: Using backend LokyBackend with 96 concurrent workers.\n"
     ]
    },
    {
     "name": "stdout",
     "output_type": "stream",
     "text": [
      "evaluating hyperfast_no_optimize_cpu on cpu\n"
     ]
    },
    {
     "name": "stderr",
     "output_type": "stream",
     "text": [
      "[Parallel(n_jobs=-1)]: Done 178 tasks      | elapsed:    0.4s\n",
      "[Parallel(n_jobs=-1)]: Done 745 out of 745 | elapsed:    1.2s finished\n",
      "[Parallel(n_jobs=-1)]: Using backend LokyBackend with 96 concurrent workers.\n"
     ]
    },
    {
     "name": "stdout",
     "output_type": "stream",
     "text": [
      "evaluating hyperfast_defaults_cpu on cpu\n"
     ]
    },
    {
     "name": "stderr",
     "output_type": "stream",
     "text": [
      "[Parallel(n_jobs=-1)]: Done 174 tasks      | elapsed:    0.2s\n",
      "[Parallel(n_jobs=-1)]: Done 745 out of 745 | elapsed:    0.5s finished\n",
      "[Parallel(n_jobs=-1)]: Using backend LokyBackend with 96 concurrent workers.\n"
     ]
    },
    {
     "name": "stdout",
     "output_type": "stream",
     "text": [
      "evaluating ebm_default on cpu\n"
     ]
    },
    {
     "name": "stderr",
     "output_type": "stream",
     "text": [
      "[Parallel(n_jobs=-1)]: Done 177 tasks      | elapsed:    0.2s\n",
      "[Parallel(n_jobs=-1)]: Done 745 out of 745 | elapsed:    0.5s finished\n",
      "[Parallel(n_jobs=-1)]: Using backend LokyBackend with 96 concurrent workers.\n"
     ]
    },
    {
     "name": "stdout",
     "output_type": "stream",
     "text": [
      "evaluating ebm_bins_main_effects on cpu\n"
     ]
    },
    {
     "name": "stderr",
     "output_type": "stream",
     "text": [
      "[Parallel(n_jobs=-1)]: Done 176 tasks      | elapsed:    0.2s\n",
      "[Parallel(n_jobs=-1)]: Done 745 out of 745 | elapsed:    0.5s finished\n",
      "[Parallel(n_jobs=-1)]: Using backend LokyBackend with 96 concurrent workers.\n",
      "[Parallel(n_jobs=-1)]: Done 176 tasks      | elapsed:    0.2s\n"
     ]
    },
    {
     "name": "stdout",
     "output_type": "stream",
     "text": [
      "evaluating mn_Dclass_average_03_25_2024_17_14_32_epoch_3970_ohe_ensemble_8 on cpu\n"
     ]
    },
    {
     "name": "stderr",
     "output_type": "stream",
     "text": [
      "[Parallel(n_jobs=-1)]: Done 554 out of 745 | elapsed:    0.4s remaining:    0.1s\n",
      "[Parallel(n_jobs=-1)]: Done 745 out of 745 | elapsed:    0.5s finished\n",
      "[Parallel(n_jobs=-1)]: Using backend LokyBackend with 96 concurrent workers.\n"
     ]
    },
    {
     "name": "stdout",
     "output_type": "stream",
     "text": [
      "evaluating mn_Dclass_average_fourierfeatures16_05_09_2024_01_03_23_epoch_100 on cpu\n"
     ]
    },
    {
     "name": "stderr",
     "output_type": "stream",
     "text": [
      "[Parallel(n_jobs=-1)]: Done 176 tasks      | elapsed:    0.2s\n",
      "[Parallel(n_jobs=-1)]: Done 554 out of 745 | elapsed:    0.4s remaining:    0.1s\n",
      "[Parallel(n_jobs=-1)]: Done 745 out of 745 | elapsed:    0.5s finished\n",
      "[Parallel(n_jobs=-1)]: Using backend LokyBackend with 96 concurrent workers.\n"
     ]
    },
    {
     "name": "stdout",
     "output_type": "stream",
     "text": [
      "evaluating baam_nsamples500_numfeatures10_04_07_2024_17_04_53_epoch_1490 on cpu\n"
     ]
    },
    {
     "name": "stderr",
     "output_type": "stream",
     "text": [
      "[Parallel(n_jobs=-1)]: Done 178 tasks      | elapsed:    0.2s\n",
      "[Parallel(n_jobs=-1)]: Done 745 out of 745 | elapsed:    0.5s finished\n",
      "[Parallel(n_jobs=-1)]: Using backend LokyBackend with 96 concurrent workers.\n"
     ]
    },
    {
     "name": "stdout",
     "output_type": "stream",
     "text": [
      "evaluating baam_nsamples500_numfeatures10_04_07_2024_17_04_53_epoch_1780 on cpu\n"
     ]
    },
    {
     "name": "stderr",
     "output_type": "stream",
     "text": [
      "[Parallel(n_jobs=-1)]: Done 176 tasks      | elapsed:    0.2s\n",
      "[Parallel(n_jobs=-1)]: Done 554 out of 745 | elapsed:    0.4s remaining:    0.1s\n",
      "[Parallel(n_jobs=-1)]: Done 745 out of 745 | elapsed:    0.5s finished\n",
      "[Parallel(n_jobs=-1)]: Using backend LokyBackend with 96 concurrent workers.\n"
     ]
    },
    {
     "name": "stdout",
     "output_type": "stream",
     "text": [
      "evaluating baam_nsamples500_numfeatures20_04_04_2024_03_07_12_epoch_1210 on cpu\n"
     ]
    },
    {
     "name": "stderr",
     "output_type": "stream",
     "text": [
      "[Parallel(n_jobs=-1)]: Done 175 tasks      | elapsed:    0.2s\n",
      "[Parallel(n_jobs=-1)]: Done 745 out of 745 | elapsed:    0.5s finished\n",
      "[Parallel(n_jobs=-1)]: Using backend LokyBackend with 96 concurrent workers.\n"
     ]
    },
    {
     "name": "stdout",
     "output_type": "stream",
     "text": [
      "evaluating additive_Dclass_average_02_29_2024_04_15_55_epoch_1050 on cpu\n"
     ]
    },
    {
     "name": "stderr",
     "output_type": "stream",
     "text": [
      "[Parallel(n_jobs=-1)]: Done 175 tasks      | elapsed:    0.2s\n",
      "[Parallel(n_jobs=-1)]: Done 745 out of 745 | elapsed:    0.5s finished\n",
      "[Parallel(n_jobs=-1)]: Using backend LokyBackend with 96 concurrent workers.\n"
     ]
    },
    {
     "name": "stdout",
     "output_type": "stream",
     "text": [
      "evaluating baam_e128_nsamples500_numfeatures20_04_01_2024_15_38_54_epoch_2220 on cpu\n"
     ]
    },
    {
     "name": "stderr",
     "output_type": "stream",
     "text": [
      "[Parallel(n_jobs=-1)]: Done 173 tasks      | elapsed:    0.2s\n",
      "[Parallel(n_jobs=-1)]: Done 745 out of 745 | elapsed:    0.5s finished\n",
      "[Parallel(n_jobs=-1)]: Using backend LokyBackend with 96 concurrent workers.\n"
     ]
    },
    {
     "name": "stdout",
     "output_type": "stream",
     "text": [
      "evaluating baam_fourierfeatures64_nbins128_nsamples500_numfeatures20_03_24_2024_21_54_58_epoch_550 on cpu\n"
     ]
    },
    {
     "name": "stderr",
     "output_type": "stream",
     "text": [
      "[Parallel(n_jobs=-1)]: Done 173 tasks      | elapsed:    0.7s\n",
      "[Parallel(n_jobs=-1)]: Done 554 out of 745 | elapsed:    0.9s remaining:    0.3s\n",
      "[Parallel(n_jobs=-1)]: Done 745 out of 745 | elapsed:    1.0s finished\n",
      "[Parallel(n_jobs=-1)]: Using backend LokyBackend with 96 concurrent workers.\n"
     ]
    },
    {
     "name": "stdout",
     "output_type": "stream",
     "text": [
      "evaluating baam_nfeatures_20_no_ensemble_e1210 on cpu\n"
     ]
    },
    {
     "name": "stderr",
     "output_type": "stream",
     "text": [
      "[Parallel(n_jobs=-1)]: Done 173 tasks      | elapsed:    0.2s\n",
      "[Parallel(n_jobs=-1)]: Done 745 out of 745 | elapsed:    0.5s finished\n",
      "[Parallel(n_jobs=-1)]: Using backend LokyBackend with 96 concurrent workers.\n"
     ]
    },
    {
     "name": "stdout",
     "output_type": "stream",
     "text": [
      "evaluating baam_nfeatures_20_no_ensemble_e1520 on cpu\n"
     ]
    },
    {
     "name": "stderr",
     "output_type": "stream",
     "text": [
      "[Parallel(n_jobs=-1)]: Done 177 tasks      | elapsed:    0.2s\n",
      "[Parallel(n_jobs=-1)]: Done 745 out of 745 | elapsed:    0.5s finished\n",
      "[Parallel(n_jobs=-1)]: Using backend LokyBackend with 96 concurrent workers.\n"
     ]
    },
    {
     "name": "stdout",
     "output_type": "stream",
     "text": [
      "evaluating baam_nfeatures_20_no_ensemble_e1970 on cpu\n"
     ]
    },
    {
     "name": "stderr",
     "output_type": "stream",
     "text": [
      "[Parallel(n_jobs=-1)]: Done 177 tasks      | elapsed:    0.2s\n",
      "[Parallel(n_jobs=-1)]: Done 745 out of 745 | elapsed:    0.5s finished\n",
      "[Parallel(n_jobs=-1)]: Using backend LokyBackend with 96 concurrent workers.\n",
      "[Parallel(n_jobs=-1)]: Done 174 tasks      | elapsed:    0.2s\n"
     ]
    },
    {
     "name": "stdout",
     "output_type": "stream",
     "text": [
      "evaluating baam_nsamples500_numfeatures20_03_27_2024_17_57_59_epoch_470 on cpu\n"
     ]
    },
    {
     "name": "stderr",
     "output_type": "stream",
     "text": [
      "[Parallel(n_jobs=-1)]: Done 554 out of 745 | elapsed:    0.4s remaining:    0.1s\n",
      "[Parallel(n_jobs=-1)]: Done 745 out of 745 | elapsed:    0.5s finished\n",
      "[Parallel(n_jobs=-1)]: Using backend LokyBackend with 96 concurrent workers.\n"
     ]
    },
    {
     "name": "stdout",
     "output_type": "stream",
     "text": [
      "evaluating baam_fourierfeatures64_nsamples500_numfeatures20_03_27_2024_17_56_13_epoch_1230 on cpu\n"
     ]
    },
    {
     "name": "stderr",
     "output_type": "stream",
     "text": [
      "[Parallel(n_jobs=-1)]: Done 176 tasks      | elapsed:    0.2s\n",
      "[Parallel(n_jobs=-1)]: Done 554 out of 745 | elapsed:    0.4s remaining:    0.1s\n",
      "[Parallel(n_jobs=-1)]: Done 745 out of 745 | elapsed:    0.5s finished\n",
      "[Parallel(n_jobs=-1)]: Using backend LokyBackend with 96 concurrent workers.\n"
     ]
    },
    {
     "name": "stdout",
     "output_type": "stream",
     "text": [
      "evaluating baam_fourierfeatures64_nbins128_nsamples500_numfeatures20_03_24_2024_21_54_58_epoch_410 on cpu\n"
     ]
    },
    {
     "name": "stderr",
     "output_type": "stream",
     "text": [
      "[Parallel(n_jobs=-1)]: Done 179 tasks      | elapsed:    0.2s\n",
      "[Parallel(n_jobs=-1)]: Done 554 out of 745 | elapsed:    0.4s remaining:    0.1s\n",
      "[Parallel(n_jobs=-1)]: Done 745 out of 745 | elapsed:    0.5s finished\n",
      "[Parallel(n_jobs=-1)]: Using backend LokyBackend with 96 concurrent workers.\n"
     ]
    },
    {
     "name": "stdout",
     "output_type": "stream",
     "text": [
      "evaluating baam_fourierfeatures64_nbins128_nsamples500_numfeatures20_03_24_2024_21_54_58_epoch_1430 on cpu\n"
     ]
    },
    {
     "name": "stderr",
     "output_type": "stream",
     "text": [
      "[Parallel(n_jobs=-1)]: Done 176 tasks      | elapsed:    0.2s\n",
      "[Parallel(n_jobs=-1)]: Done 554 out of 745 | elapsed:    0.4s remaining:    0.1s\n",
      "[Parallel(n_jobs=-1)]: Done 745 out of 745 | elapsed:    0.5s finished\n"
     ]
    }
   ],
   "source": [
    "from mothernet.evaluation.tabular_evaluation import eval_on_datasets\n",
    "from mothernet.prediction.mothernet import ShiftClassifier, EnsembleMeta, MotherNetClassifier, MotherNetInitMLPClassifier\n",
    "from mothernet.prediction.mothernet_additive import MotherNetAdditiveClassifier\n",
    "from mothernet.evaluation.baselines.distill_mlp import DistilledTabPFNMLP\n",
    "from sklearn.pipeline import make_pipeline\n",
    "from sklearn.preprocessing import StandardScaler\n",
    "from interpret.glassbox import ExplainableBoostingClassifier\n",
    "from functools import partial\n",
    "from hyperfast import HyperFastClassifier\n",
    "\n",
    "# transformers don't have max times\n",
    "max_times = [1]\n",
    "device = \"cpu\"\n",
    "\n",
    "tabpfn_ours = TabPFNClassifier(device=device, model_string=\"tabpfn_nooptimizer_emsize_512_nlayers_12_steps_2048_bs_32ada_lr_0.0001_1_gpu_07_24_2023_01_43_33\", epoch=\"1650\", N_ensemble_configurations=3)\n",
    "\n",
    "tabpfn_ours_ensemble_8 = TabPFNClassifier(device=device, model_string=\"tabpfn_nooptimizer_emsize_512_nlayers_12_steps_2048_bs_32ada_lr_0.0001_1_gpu_07_24_2023_01_43_33\", epoch=\"1650\", N_ensemble_configurations=8)\n",
    "tabpfn_ours_ensemble_32 = TabPFNClassifier(device=device, model_string=\"tabpfn_nooptimizer_emsize_512_nlayers_12_steps_2048_bs_32ada_lr_0.0001_1_gpu_07_24_2023_01_43_33\", epoch=\"1650\", N_ensemble_configurations=32)\n",
    "\n",
    "batapfn_no_ensemble = TabPFNClassifier(device=device, model_string=\"batabpfn_e128_inputembeddingfourier_nsamples500_numfeatures20_padzerosFalse_03_14_2024_15_11_35\", epoch=\"330\", N_ensemble_configurations=1)\n",
    "batapfn_no_ensemble_e410 = TabPFNClassifier(device=device, model_string=\"batabpfn_e128_inputembeddingfourier_nsamples500_numfeatures20_padzerosFalse_03_14_2024_15_11_35\", epoch=\"410\", N_ensemble_configurations=1)\n",
    "batapfn_no_ensemble_e530 = TabPFNClassifier(device=device, model_string=\"batabpfn_e128_inputembeddingfourier_nsamples500_numfeatures20_padzerosFalse_03_14_2024_15_11_35\", epoch=\"530\", N_ensemble_configurations=1)\n",
    "batapfn_no_ensemble_exit = TabPFNClassifier(device=device, model_string=\"batabpfn_e128_inputembeddingfourier_nsamples500_numfeatures20_padzerosFalse_03_14_2024_15_11_35\", epoch=\"on_exit\", N_ensemble_configurations=1)\n",
    "\n",
    "\n",
    "batabpfn_e256_nsamples500_numfeatures20_03_20_2024_22_14_45_e630 = TabPFNClassifier(device=device, model_string=\"batabpfn_e256_nsamples500_numfeatures20_03_20_2024_22_14_45\", epoch=\"630\", N_ensemble_configurations=1)\n",
    "batabpfn_e256_nsamples500_numfeatures20_03_20_2024_22_14_45_e1130 = TabPFNClassifier(device=device, model_string=\"batabpfn_e256_nsamples500_numfeatures20_03_20_2024_22_14_45\", epoch=\"1130\", N_ensemble_configurations=1)\n",
    "\n",
    "\n",
    "mlp_distill = make_pipeline(StandardScaler(), DistilledTabPFNMLP(n_epochs=1000, device=device, hidden_size=128, n_layers=2, dropout_rate=.1, learning_rate=0.01, model_string=\"tabpfn_nooptimizer_emsize_512_nlayers_12_steps_2048_bs_32ada_lr_0.0001_1_gpu_07_24_2023_01_43_33\", epoch=1650, N_ensemble_configurations=3))\n",
    "mothernet_21_46_25_3940_ensemble3 = EnsembleMeta(MotherNetClassifier(path=\"../models_diff/mn_d2048_H4096_L2_W32_P512_1_gpu_warm_08_25_2023_21_46_25_epoch_3940_no_optimizer.pickle\", device=device), n_estimators=3)\n",
    "\n",
    "#mothernet_init_gd = MotherNetInitMLPClassifier(path=\"../models_diff/mn_d2048_H4096_L2_W32_P512_1_gpu_warm_08_25_2023_21_46_25_epoch_3940_no_optimizer.pickle\", device=device, n_epochs=100)\n",
    "#mothernet_init_gd_no_learning = MotherNetInitMLPClassifier(path=\"../models_diff/mn_d2048_H4096_L2_W32_P512_1_gpu_warm_08_25_2023_21_46_25_epoch_3940_no_optimizer.pickle\", device=device, n_epochs=1, learning_rate=0.0)\n",
    "#mothernet_init_gd_epochs_10 = MotherNetInitMLPClassifier(path=\"../models_diff/mn_d2048_H4096_L2_W32_P512_1_gpu_warm_08_25_2023_21_46_25_epoch_3940_no_optimizer.pickle\", device=device, n_epochs=10, learning_rate=0.001, verbose=10)\n",
    "#mothernet_init_gd_epochs_10_lr0001 = MotherNetInitMLPClassifier(path=\"../models_diff/mn_d2048_H4096_L2_W32_P512_1_gpu_warm_08_25_2023_21_46_25_epoch_3940_no_optimizer.pickle\", device=device, n_epochs=10, learning_rate=0.0001, verbose=10)\n",
    "\n",
    "\n",
    "mn_P512_SFalse_L2_1_gpu_01_24_2024 = EnsembleMeta(MotherNetClassifier(path=\"../models_diff/mn_P512_SFalse_L2_1_gpu_01_24_2024_00_31_59_epoch_3950.cpkt\", device=device), n_estimators=3)\n",
    "mn_SFalse_L2_1_gpu_01_25_2024_21_20_32 = EnsembleMeta(MotherNetClassifier(path=\"../models_diff/mn_SFalse_L2_1_gpu_01_25_2024_21_20_32_epoch_4000.cpkt\", device=device), n_estimators=3)\n",
    "mn_Dclass_average_02_29_2024_04_16_00 = EnsembleMeta(MotherNetClassifier(path=\"../models_diff/mn_Dclass_average_02_29_2024_04_16_00_epoch_4000.cpkt\", device=device), n_estimators=3)\n",
    "mn_Dclass_average_02_29_2024_04_16_00_ohe_ensemble = EnsembleMeta(MotherNetClassifier(path=\"../models_diff/mn_Dclass_average_02_29_2024_04_16_00_epoch_4000.cpkt\", device=device), n_estimators=3, onehot=True)\n",
    "mn_Dclass_average_02_29_2024_04_16_00_ohe_ensemble_32 = EnsembleMeta(MotherNetClassifier(path=\"../models_diff/mn_Dclass_average_02_29_2024_04_16_00_epoch_4000.cpkt\", device=device), n_estimators=32, onehot=True)\n",
    "mn_Dclass_average_02_29_2024_04_16_00_ohe_ensemble_8 = EnsembleMeta(MotherNetClassifier(path=\"../models_diff/mn_Dclass_average_02_29_2024_04_16_00_epoch_4000.cpkt\", device=device), n_estimators=8, onehot=True)\n",
    "\n",
    "mn_Dclass_average_fourierfeatures16_05_09_2024_01_03_23_epoch_100 = EnsembleMeta(MotherNetClassifier(path=\"../models_diff/mn_Dclass_average_fourierfeatures16_05_09_2024_01_03_23_epoch_100.cpkt\", device=device), n_estimators=8, onehot=True)\n",
    "\n",
    "\n",
    "#mn_Dclass_average_03_25_2024_17_14_32_epoch_1760_ohe_ensemble_8 = EnsembleMeta(MotherNetClassifier(path=\"../models_diff/mn_Dclass_average_03_25_2024_17_14_32_epoch_1760.cpkt\", device=device), n_estimators=8, onehot=True)\n",
    "#mn_Dclass_average_03_25_2024_17_14_32_epoch_2270_ohe_ensemble_8 = EnsembleMeta(MotherNetClassifier(path=\"../models_diff/mn_Dclass_average_03_25_2024_17_14_32_epoch_2270.cpkt\", device=device), n_estimators=8, onehot=True)\n",
    "#mn_Dclass_average_03_25_2024_17_14_32_epoch_2910_ohe_ensemble_8 = EnsembleMeta(MotherNetClassifier(path=\"../models_diff/mn_Dclass_average_03_25_2024_17_14_32_epoch_2910.cpkt\", device=device), n_estimators=8, onehot=True)\n",
    "\n",
    "mn_Dclass_average_03_25_2024_17_14_32_epoch_3970_ohe_ensemble_8 = EnsembleMeta(MotherNetClassifier(path=\"../models_diff/mn_Dclass_average_03_25_2024_17_14_32_epoch_3970.cpkt\", device=device), n_estimators=8, onehot=True)\n",
    "\n",
    "additive_1_gpu_02_14_2024_16_34_15 = EnsembleMeta(MotherNetAdditiveClassifier(path=\"../models_diff/additive_1_gpu_02_14_2024_16_34_15_epoch_950_fixed2.cpkt\", device=device), n_estimators=3, power=False)\n",
    "\n",
    "additive_step_prior_02_08_2024 = EnsembleMeta(MotherNetAdditiveClassifier(path=\"../models_diff/additive_b16_reducelronspikeTrue_multiclasstypesteps_1_gpu_02_08_2024_04_51_33_epoch_790.cpkt\", device=device), n_estimators=3, power=False)\n",
    "additive_11_08_2023 = EnsembleMeta(MotherNetAdditiveClassifier(path=\"../models_diff/additive_1_gpu_11_08_2023_23_02_58_continue_11_10_2023_03_01_40_epoch_3170_no_optimizer.cpkt\", device=device), n_estimators=3, power=False)\n",
    "additive_02_20_2024_factorized_weight_decay = EnsembleMeta(MotherNetAdditiveClassifier(path=\"../models_diff/additive_w0.01_factorizedoutputTrue_outputrank64_1_gpu_02_20_2024_22_39_06_epoch_1260_fixed.cpkt\", device=device), n_estimators=3, power=False)\n",
    "\n",
    "additive_Dclass_average_02_29_2024_04_15_55_epoch_190 = EnsembleMeta(MotherNetAdditiveClassifier(path=\"../models_diff/additive_Dclass_average_02_29_2024_04_15_55_epoch_190.cpkt\", device=device), n_estimators=3, power=False)\n",
    "additive_Dclass_average_02_29_2024_04_15_55_epoch_190_no_ensemble = MotherNetAdditiveClassifier(path=\"../models_diff/additive_Dclass_average_02_29_2024_04_15_55_epoch_190.cpkt\", device=device)\n",
    "additive_Dclass_average_02_29_2024_04_15_55_epoch_560 = EnsembleMeta(MotherNetAdditiveClassifier(path=\"../models_diff/additive_Dclass_average_02_29_2024_04_15_55_epoch_560.cpkt\", device=device), n_estimators=3, power=False)\n",
    "additive_Dclass_average_02_29_2024_04_15_55_epoch_730 = EnsembleMeta(MotherNetAdditiveClassifier(path=\"../models_diff/additive_Dclass_average_02_29_2024_04_15_55_epoch_730.cpkt\", device=device), n_estimators=3, power=False)\n",
    "additive_Dclass_average_02_29_2024_04_15_55_epoch_780 = EnsembleMeta(MotherNetAdditiveClassifier(path=\"../models_diff/additive_Dclass_average_02_29_2024_04_15_55_epoch_780.cpkt\", device=device), n_estimators=3, power=False)\n",
    "additive_Dclass_average_02_29_2024_04_15_55_epoch_850 = EnsembleMeta(MotherNetAdditiveClassifier(path=\"../models_diff/additive_Dclass_average_02_29_2024_04_15_55_epoch_850.cpkt\", device=device), n_estimators=3, power=False)\n",
    "additive_Dclass_average_02_29_2024_04_15_55_epoch_1050 = EnsembleMeta(MotherNetAdditiveClassifier(path=\"../models_diff/additive_Dclass_average_02_29_2024_04_15_55_epoch_1050.cpkt\", device=device), n_estimators=3, power=False)\n",
    "\n",
    "\n",
    "additive_Dclass_average_inputlayernormTrue_02_29_2024_20_52_12_epoch_1340 = EnsembleMeta(MotherNetAdditiveClassifier(path=\"../models_diff/additive_Dclass_average_inputlayernormTrue_02_29_2024_20_52_12_epoch_1340.cpkt\", device=device), n_estimators=3, power=False)\n",
    "\n",
    "\n",
    "\n",
    "# additive_Dclass_average_multiclassmaxsteps3_multiclasstypesteps_03_04_2024_19_04_03_epoch_100 = EnsembleMeta(MotherNetAdditiveClassifier(path=\"../models_diff/additive_Dclass_average_multiclassmaxsteps3_multiclasstypesteps_03_04_2024_19_04_03_epoch_100.cpkt\", device=device), n_estimators=3, power=False)\n",
    "# additive_Dclass_average_multiclassmaxsteps3_multiclasstypesteps_03_04_2024_19_04_03_epoch_270 = EnsembleMeta(MotherNetAdditiveClassifier(path=\"../models_diff/additive_Dclass_average_multiclassmaxsteps3_multiclasstypesteps_03_04_2024_19_04_03_epoch_270.cpkt\", device=device), n_estimators=3, power=False)\n",
    "\n",
    "\n",
    "# additive_H512_Dclass_average_factorizedoutputTrue_L6_03_01_2024_21_38_55_epoch_360 = EnsembleMeta(MotherNetAdditiveClassifier(path=\"../models_diff/additive_H512_Dclass_average_factorizedoutputTrue_L6_03_01_2024_21_38_55_epoch_360.cpkt\", device=device), n_estimators=3, power=False)\n",
    "# additive_Dclass_average_factorizedoutputTrue_w001_03_02_2024_02_21_10_epoch_340 = EnsembleMeta(MotherNetAdditiveClassifier(path=\"../models_diff/additive_Dclass_average_factorizedoutputTrue_w0.01_03_02_2024_02_21_10_epoch_340.cpkt\", device=device), n_estimators=3, power=False)\n",
    "# additive_Dclass_average_factorizedoutputTrue_w001_03_02_2024_02_21_10_epoch_420 = EnsembleMeta(MotherNetAdditiveClassifier(path=\"../models_diff/additive_Dclass_average_factorizedoutputTrue_w0.01_03_02_2024_02_21_10_epoch_420.cpkt\", device=device), n_estimators=3, power=False)\n",
    "# additive_Dclass_average_factorizedoutputTrue_w001_03_02_2024_02_21_10_epoch_1210 = EnsembleMeta(MotherNetAdditiveClassifier(path=\"../models_diff/additive_Dclass_average_factorizedoutputTrue_w0.01_03_02_2024_02_21_10_epoch_1210.cpkt\", device=device), n_estimators=3, power=False)\n",
    "\n",
    "# additive_Dclass_average_factorizedoutputTrue_nshapefunctions128_outputrank64_shapeattentionTrue_shapeattentionheads8_03_07_2024_00_39_41_epoch_580 = EnsembleMeta(MotherNetAdditiveClassifier(path=\"../models_diff/additive_Dclass_average_factorizedoutputTrue_nshapefunctions128_outputrank64_shapeattentionTrue_shapeattentionheads8_03_07_2024_00_39_41_epoch_580.cpkt\", device=device), n_estimators=3, power=False)\n",
    "\n",
    "# additive_Dclass_average_factorizedoutputTrue_nshapefunctions128_outputrank64_shapeattentionTrue_shapeattentionheads8_03_08_2024_21_19_43_epoch_1280 = EnsembleMeta(MotherNetAdditiveClassifier(path=\"../models_diff/additive_Dclass_average_factorizedoutputTrue_nshapefunctions128_outputrank64_shapeattentionTrue_shapeattentionheads8_03_08_2024_21_19_43_epoch_1280.cpkt\", device=device), n_estimators=3, power=False)\n",
    "\n",
    "\n",
    "ebm_default = ExplainableBoostingClassifier()\n",
    "ebm_bins = ExplainableBoostingClassifier(max_bins=64)\n",
    "ebm_bins_main_effects = ExplainableBoostingClassifier(max_bins=64, interactions=0)\n",
    "\n",
    "\n",
    "baam_nfeatures_20_no_ensemble = MotherNetAdditiveClassifier(path=\"../models_diff/baam_H512_Dclass_average_e128_nsamples500_numfeatures20_padzerosFalse_03_14_2024_15_03_22_epoch_400.cpkt\", device=device)\n",
    "baam_nfeatures_20_no_ensemble_e500 = MotherNetAdditiveClassifier(path=\"../models_diff/baam_H512_Dclass_average_e128_nsamples500_numfeatures20_padzerosFalse_03_14_2024_15_03_22_epoch_500.cpkt\", device=device)\n",
    "baam_nfeatures_20_no_ensemble_e650 = MotherNetAdditiveClassifier(path=\"../models_diff/baam_H512_Dclass_average_e128_nsamples500_numfeatures20_padzerosFalse_03_14_2024_15_03_22_epoch_650.cpkt\", device=device)\n",
    "baam_nfeatures_20_no_ensemble_e840 = MotherNetAdditiveClassifier(path=\"../models_diff/baam_H512_Dclass_average_e128_nsamples500_numfeatures20_padzerosFalse_03_14_2024_15_03_22_epoch_840.cpkt\", device=device)\n",
    "baam_nfeatures_20_no_ensemble_e1210 = MotherNetAdditiveClassifier(path=\"../models_diff/baam_H512_Dclass_average_e128_nsamples500_numfeatures20_padzerosFalse_03_14_2024_15_03_22_epoch_1210.cpkt\", device=device)\n",
    "baam_nfeatures_20_no_ensemble_e1520 = MotherNetAdditiveClassifier(path=\"../models_diff/baam_H512_Dclass_average_e128_nsamples500_numfeatures20_padzerosFalse_03_14_2024_15_03_22_epoch_1520.cpkt\", device=device)\n",
    "baam_nfeatures_20_no_ensemble_e1970 = MotherNetAdditiveClassifier(path=\"../models_diff/baam_H512_Dclass_average_e128_nsamples500_numfeatures20_padzerosFalse_03_14_2024_15_03_22_epoch_1970.cpkt\", device=device)\n",
    "\n",
    "\n",
    "baam_nfeatures_20 = EnsembleMeta(MotherNetAdditiveClassifier(path=\"../models_diff/baam_H512_Dclass_average_e128_nsamples500_numfeatures20_padzerosFalse_03_14_2024_15_03_22_epoch_400.cpkt\", device=device), n_estimators=3, power=False)\n",
    "\n",
    "baam_nfeatures_100_no_ensemble = MotherNetAdditiveClassifier(path=\"../models_diff/baam_H512_Dclass_average_e64_nsamples500_N6_padzerosFalse_03_13_2024_20_28_36_epoch_360.cpkt\", device=device)\n",
    "\n",
    "\n",
    "baam_e128_fourierfeatures32_nsamples500_numfeatures20_03_20_2024_00_05_35_epoch_140 = MotherNetAdditiveClassifier(path=\"../models_diff/baam_e128_fourierfeatures32_nsamples500_numfeatures20_03_20_2024_00_05_35_epoch_140.cpkt\", device=device)\n",
    "baam_e128_fourierfeatures32_nsamples500_numfeatures20_03_20_2024_00_05_35_epoch_150 = MotherNetAdditiveClassifier(path=\"../models_diff/baam_e128_fourierfeatures32_nsamples500_numfeatures20_03_20_2024_00_05_35_epoch_150.cpkt\", device=device)\n",
    "baam_e128_fourierfeatures32_nsamples500_numfeatures20_03_20_2024_00_05_35_epoch_220 = MotherNetAdditiveClassifier(path=\"../models_diff/baam_e128_fourierfeatures32_nsamples500_numfeatures20_03_20_2024_00_05_35_epoch_220.cpkt\", device=device)\n",
    "baam_e128_fourierfeatures32_nsamples500_numfeatures20_03_20_2024_00_05_35_epoch_410 = MotherNetAdditiveClassifier(path=\"../models_diff/baam_e128_fourierfeatures32_nsamples500_numfeatures20_03_20_2024_00_05_35_epoch_410.cpkt\", device=device)\n",
    "baam_e128_fourierfeatures32_nsamples500_numfeatures20_03_20_2024_00_05_35_epoch_780 = MotherNetAdditiveClassifier(path=\"../models_diff/baam_e128_fourierfeatures32_nsamples500_numfeatures20_03_20_2024_00_05_35_epoch_780.cpkt\", device=device)\n",
    "baam_e128_fourierfeatures32_nsamples500_numfeatures20_03_20_2024_00_05_35_epoch_1010 = MotherNetAdditiveClassifier(path=\"../models_diff/baam_e128_fourierfeatures32_nsamples500_numfeatures20_03_20_2024_00_05_35_epoch_1010.cpkt\", device=device)\n",
    "baam_e128_fourierfeatures32_nsamples500_numfeatures20_03_20_2024_00_05_35_epoch_1210 = MotherNetAdditiveClassifier(path=\"../models_diff/baam_e128_fourierfeatures32_nsamples500_numfeatures20_03_20_2024_00_05_35_epoch_1210.cpkt\", device=device)\n",
    "baam_e128_fourierfeatures32_nsamples500_numfeatures20_03_20_2024_00_05_35_epoch_1520 = MotherNetAdditiveClassifier(path=\"../models_diff/baam_e128_fourierfeatures32_nsamples500_numfeatures20_03_20_2024_00_05_35_epoch_1520.cpkt\", device=device)\n",
    "baam_e128_fourierfeatures32_nsamples500_numfeatures20_03_20_2024_00_05_35_epoch_2940 = MotherNetAdditiveClassifier(path=\"../models_diff/baam_e128_fourierfeatures32_nsamples500_numfeatures20_03_20_2024_00_05_35_epoch_2940.cpkt\", device=device)\n",
    "\n",
    "baam_nsamples500_numfeatures20_04_04_2024_03_07_12_epoch_1210 = MotherNetAdditiveClassifier(path=\"../models_diff/baam_nsamples500_numfeatures20_04_04_2024_03_07_12_epoch_1210.cpkt\", device=device)\n",
    "\n",
    "baam_e128_nsamples500_numfeatures20_04_01_2024_15_38_54_epoch_2220 = MotherNetAdditiveClassifier(path=\"../models_diff/baam_e128_nsamples500_numfeatures20_04_01_2024_15_38_54_epoch_2220.cpkt\", device=device)\n",
    "\n",
    "baam_nsamples500_numfeatures10_04_07_2024_17_04_53_epoch_1490 = MotherNetAdditiveClassifier(path=\"../models_diff/baam_nsamples500_numfeatures10_04_07_2024_17_04_53_epoch_1490.cpkt\", device=device)\n",
    "baam_nsamples500_numfeatures10_04_07_2024_17_04_53_epoch_1780 = MotherNetAdditiveClassifier(path=\"../models_diff/baam_nsamples500_numfeatures10_04_07_2024_17_04_53_epoch_1780.cpkt\", device=device)\n",
    "\n",
    "baam_fourierfeatures64_nbins128_nsamples500_numfeatures20_03_24_2024_21_54_58_epoch_1430 = MotherNetAdditiveClassifier(path=\"../models_diff/baam_fourierfeatures64_nbins128_nsamples500_numfeatures20_03_24_2024_21_54_58_epoch_1430.cpkt\", device=device)\n",
    "\n",
    "\n",
    "baam_categoricalembeddingTrue_nsamples500_nanbinTrue_numfeatures20_04_04_2024_14_06_39_epoch_970 = MotherNetAdditiveClassifier(path=\"../models_diff/baam_categoricalembeddingTrue_nsamples500_nanbinTrue_numfeatures20_04_04_2024_14_06_39_epoch_970.cpkt\", device=device)\n",
    "\n",
    "\n",
    "baam_e128_nbins512_nsamples500_numfeatures20_03_19_2024_22_53_00_epoch_160 = MotherNetAdditiveClassifier(path=\"../models_diff/baam_e128_nbins512_nsamples500_numfeatures20_03_19_2024_22_53_00_epoch_160.cpkt\", device=device)\n",
    "\n",
    "baam_fourierfeatures64_nbins512_nsamples500_numfeatures20_03_21_2024_01_02_32_epoch_310 = MotherNetAdditiveClassifier(path=\"../models_diff/baam_fourierfeatures64_nbins512_nsamples500_numfeatures20_03_21_2024_01_02_32_epoch_310.cpkt\", device=device)\n",
    "\n",
    "baam_marginalresidualTrue_nsamples500_numfeatures20_shapeinitzero_03_29_2024_19_20_09_epoch_130 = MotherNetAdditiveClassifier(path=\"../models_diff/baam_marginalresidualTrue_nsamples500_numfeatures20_shapeinitzero_03_29_2024_19_20_09_epoch_130.cpkt\", device=device)\n",
    "baam_marginalresidualTrue_nsamples500_numfeatures20_shapeinitzero_03_29_2024_19_20_09_epoch_180 = MotherNetAdditiveClassifier(path=\"../models_diff/baam_marginalresidualTrue_nsamples500_numfeatures20_shapeinitzero_03_29_2024_19_20_09_epoch_180.cpkt\", device=device)\n",
    "\n",
    "\n",
    "baam_e128_featurecurriculumTrue_nsamples500_N6_03_21_2024_17_58_54_epoch_610 = MotherNetAdditiveClassifier(path=\"../models_diff/baam_e128_featurecurriculumTrue_nsamples500_N6_03_21_2024_17_58_54_epoch_610.cpkt\", device=device)\n",
    "baam_e128_featurecurriculumTrue_nsamples500_N6_03_21_2024_17_58_54_epoch_660 = MotherNetAdditiveClassifier(path=\"../models_diff/baam_e128_featurecurriculumTrue_nsamples500_N6_03_21_2024_17_58_54_epoch_660.cpkt\", device=device)\n",
    "\n",
    "baam_fourierfeatures64_nsamples500_numfeatures20_03_27_2024_17_56_13_epoch_250 = MotherNetAdditiveClassifier(path=\"../models_diff/baam_fourierfeatures64_nsamples500_numfeatures20_03_27_2024_17_56_13_epoch_250.cpkt\", device=device)\n",
    "baam_fourierfeatures64_nsamples500_numfeatures20_03_27_2024_17_56_13_epoch_1230 = MotherNetAdditiveClassifier(path=\"../models_diff/baam_fourierfeatures64_nsamples500_numfeatures20_03_27_2024_17_56_13_epoch_1230.cpkt\", device=device)\n",
    "\n",
    "baam_fourierfeatures64_nbins128_nsamples500_numfeatures20_03_24_2024_21_54_58_epoch_410 = MotherNetAdditiveClassifier(path=\"../models_diff/baam_fourierfeatures64_nbins128_nsamples500_numfeatures20_03_24_2024_21_54_58_epoch_410.cpkt\", device=device)\n",
    "baam_fourierfeatures64_nbins128_nsamples500_numfeatures20_03_24_2024_21_54_58_epoch_550 = MotherNetAdditiveClassifier(path=\"../models_diff/baam_fourierfeatures64_nbins128_nsamples500_numfeatures20_03_24_2024_21_54_58_epoch_550.cpkt\", device=device)\n",
    "baam_fourierfeatures64_nbins128_nsamples500_numfeatures20_03_24_2024_21_54_58_epoch_690 = MotherNetAdditiveClassifier(path=\"../models_diff/baam_fourierfeatures64_nbins128_nsamples500_numfeatures20_03_24_2024_21_54_58_epoch_690.cpkt\", device=device)\n",
    "baam_fourierfeatures64_nbins128_nsamples500_numfeatures20_03_24_2024_21_54_58_epoch_890 = MotherNetAdditiveClassifier(path=\"../models_diff/baam_fourierfeatures64_nbins128_nsamples500_numfeatures20_03_24_2024_21_54_58_epoch_890.cpkt\", device=device)\n",
    "\n",
    "baam_nsamples500_numfeatures20_03_27_2024_17_57_59_epoch_470 = MotherNetAdditiveClassifier(path=\"../models_diff/baam_nsamples500_numfeatures20_03_27_2024_17_57_59_epoch_470.cpkt\", device=device)\n",
    "\n",
    "baam_categoricalembeddingTrue_nsamples500_nanbinTrue_numfeatures20_04_04_2024_14_06_39_epoch_190 = MotherNetAdditiveClassifier(path=\"../models_diff/baam_categoricalembeddingTrue_nsamples500_nanbinTrue_numfeatures20_04_04_2024_14_06_39_epoch_190.cpkt\", device=device)\n",
    "\n",
    "\n",
    "\n",
    "#hyperfast_no_optimization = HyperFastClassifier(device=device, optimization=None)\n",
    "#hyperfast_defaults = HyperFastClassifier(device=device)\n",
    "\n",
    "clf_dict= {\n",
    "    'mothernet': partial(transformer_metric, classifier=mothernet_21_46_25_3940_ensemble3, onehot=True),\n",
    "    'mlp_distill': mlp_distill,\n",
    "    'tabpfn': transformer_metric,\n",
    "    'tabpfn_ours': tabpfn_ours,\n",
    "    'tabpfn_ours_ensemble_8': tabpfn_ours_ensemble_8,\n",
    "    'tabpfn_ours_ensemble_32': tabpfn_ours_ensemble_32,\n",
    "    # 'mothernet_init_gd': mothernet_init_gd,\n",
    "    # 'mothernet_init_gd_no_learning': mothernet_init_gd_no_learning,\n",
    "    # 'mothernet_init_gd_epochs_10': mothernet_init_gd_epochs_10,\n",
    "    # 'mothernet_init_gd_epochs_10_lr0001': mothernet_init_gd_epochs_10_lr0001,\n",
    "    # 'mothernet_init_gd_no_learning_ohe' : partial(transformer_metric, classifier=mothernet_init_gd_no_learning, onehot=True),\n",
    "    # 'mothernet_init_gd_ohe' : partial(transformer_metric, classifier=mothernet_init_gd, onehot=True),\n",
    "\n",
    "\n",
    "    #'batapfn_no_ensemble': batapfn_no_ensemble,\n",
    "    #'batapfn_no_ensemble_e410': batapfn_no_ensemble_e410,\n",
    "    #'batapfn_no_ensemble_exit': batapfn_no_ensemble_exit,\n",
    "    'batabpfn_e256_nsamples500_numfeatures20_03_20_2024_22_14_45_e630': batabpfn_e256_nsamples500_numfeatures20_03_20_2024_22_14_45_e630,\n",
    "    'batabpfn_e256_nsamples500_numfeatures20_03_20_2024_22_14_45_e1130': batabpfn_e256_nsamples500_numfeatures20_03_20_2024_22_14_45_e1130,\n",
    "  #\"hyperfast_no_optimize_gpu\": partial(hyperfast_metric, optimization=None),\n",
    "     \"hyperfast_no_optimize_cpu\":  partial(hyperfast_metric, optimization=None),\n",
    "    \"hyperfast_defaults_cpu\":hyperfast_metric,\n",
    "    \n",
    "    'ebm_default': partial(transformer_metric, classifier=ebm_default),\n",
    "    #'ebm_bins': partial(transformer_metric, classifier=ebm_bins),\n",
    "    'ebm_bins_main_effects': partial(transformer_metric, classifier=ebm_bins_main_effects),\n",
    "    #'batapfn_no_ensemble_e530_redo': batapfn_no_ensemble_e530,\n",
    "   # 'mn_P512_SFalse_L2_1_gpu_01_24_2024_onehot':  partial(transformer_metric, classifier=mn_P512_SFalse_L2_1_gpu_01_24_2024, onehot=True),\n",
    "   # 'mn_SFalse_L2_1_gpu_01_25_2024_21_20_32_onehot':  partial(transformer_metric, classifier=mn_SFalse_L2_1_gpu_01_25_2024_21_20_32, onehot=True),\n",
    "    #'mn_Dclass_average_02_29_2024_04_16_00' : partial(transformer_metric, classifier=mn_Dclass_average_02_29_2024_04_16_00, onehot=True),\n",
    "    #    'mn_Dclass_average_02_29_2024_04_16_00_no_onehot' : mn_Dclass_average_02_29_2024_04_16_00,\n",
    "        #'mn_Dclass_average_02_29_2024_04_16_00_onehot_and_passthrough2': partial(transformer_metric, classifier=mn_Dclass_average_02_29_2024_04_16_00, onehot=True),\n",
    "    #'mn_Dclass_average_02_29_2024_04_16_00_ohe_ensemble_again': mn_Dclass_average_02_29_2024_04_16_00_ohe_ensemble,\n",
    "   # 'mn_Dclass_average_02_29_2024_04_16_00_ohe_ensemble_32_again': mn_Dclass_average_02_29_2024_04_16_00_ohe_ensemble_32,\n",
    "   # 'mn_Dclass_average_03_25_2024_17_14_32_epoch_1760_ohe_ensemble_8': mn_Dclass_average_03_25_2024_17_14_32_epoch_1760_ohe_ensemble_8,\n",
    "    #'mn_Dclass_average_02_29_2024_04_16_00_ohe_ensemble_8': mn_Dclass_average_02_29_2024_04_16_00_ohe_ensemble_8,\n",
    "    #'mn_Dclass_average_03_25_2024_17_14_32_epoch_2270_ohe_ensemble_8': mn_Dclass_average_03_25_2024_17_14_32_epoch_2270_ohe_ensemble_8,\n",
    "    #'mn_Dclass_average_03_25_2024_17_14_32_epoch_2910_ohe_ensemble_8': mn_Dclass_average_03_25_2024_17_14_32_epoch_2910_ohe_ensemble_8,\n",
    "    'mn_Dclass_average_03_25_2024_17_14_32_epoch_3970_ohe_ensemble_8': mn_Dclass_average_03_25_2024_17_14_32_epoch_3970_ohe_ensemble_8,\n",
    "\n",
    "    'mn_Dclass_average_fourierfeatures16_05_09_2024_01_03_23_epoch_100': mn_Dclass_average_fourierfeatures16_05_09_2024_01_03_23_epoch_100,\n",
    "    \n",
    "        'baam_nsamples500_numfeatures10_04_07_2024_17_04_53_epoch_1490': baam_nsamples500_numfeatures10_04_07_2024_17_04_53_epoch_1490,\n",
    "   'baam_nsamples500_numfeatures10_04_07_2024_17_04_53_epoch_1780': baam_nsamples500_numfeatures10_04_07_2024_17_04_53_epoch_1780,  #  <- TRY THIS\n",
    "    'baam_nsamples500_numfeatures20_04_04_2024_03_07_12_epoch_1210': baam_nsamples500_numfeatures20_04_04_2024_03_07_12_epoch_1210,\n",
    "    #'additive_1_gpu_02_14_2024_16_34_15': additive_1_gpu_02_14_2024_16_34_15,\n",
    "    #'additive_step_prior_02_08_2024': additive_step_prior_02_08_2024,\n",
    "  # 'additive_02_20_2024_factorized_weight_decay': additive_02_20_2024_factorized_weight_decay,\n",
    "   # 'additive_Dclass_average_02_29_2024_04_15_55_epoch_190_no_ensemble': additive_Dclass_average_02_29_2024_04_15_55_epoch_190_no_ensemble,\n",
    "   # 'additive_Dclass_average_02_29_2024_04_15_55_epoch_190': additive_Dclass_average_02_29_2024_04_15_55_epoch_190,\n",
    "   # 'additive_Dclass_average_02_29_2024_04_15_55_epoch_560': additive_Dclass_average_02_29_2024_04_15_55_epoch_560,\n",
    "    #'additive_Dclass_average_02_29_2024_04_15_55_epoch_730': additive_Dclass_average_02_29_2024_04_15_55_epoch_730,\n",
    "    #'additive_Dclass_average_02_29_2024_04_15_55_epoch_780': additive_Dclass_average_02_29_2024_04_15_55_epoch_780,\n",
    "    #'additive_Dclass_average_02_29_2024_04_15_55_epoch_850': additive_Dclass_average_02_29_2024_04_15_55_epoch_850,\n",
    "    'additive_Dclass_average_02_29_2024_04_15_55_epoch_1050': additive_Dclass_average_02_29_2024_04_15_55_epoch_1050,\n",
    "    'baam_e128_nsamples500_numfeatures20_04_01_2024_15_38_54_epoch_2220': baam_e128_nsamples500_numfeatures20_04_01_2024_15_38_54_epoch_2220,\n",
    "    #'additive_Dclass_average_inputlayernormTrue_02_29_2024_20_52_12_epoch_1340_retry': additive_Dclass_average_inputlayernormTrue_02_29_2024_20_52_12_epoch_1340,\n",
    "    #'baam_e128_fourierfeatures32_nsamples500_numfeatures20_03_20_2024_00_05_35_epoch_140': baam_e128_fourierfeatures32_nsamples500_numfeatures20_03_20_2024_00_05_35_epoch_140,\n",
    "    #'baam_e128_fourierfeatures32_nsamples500_numfeatures20_03_20_2024_00_05_35_epoch_150_redo': baam_e128_fourierfeatures32_nsamples500_numfeatures20_03_20_2024_00_05_35_epoch_150,\n",
    "     #'baam_e128_fourierfeatures32_nsamples500_numfeatures20_03_20_2024_00_05_35_epoch_220': baam_e128_fourierfeatures32_nsamples500_numfeatures20_03_20_2024_00_05_35_epoch_220,\n",
    "    \n",
    "    'baam_fourierfeatures64_nbins128_nsamples500_numfeatures20_03_24_2024_21_54_58_epoch_550': baam_fourierfeatures64_nbins128_nsamples500_numfeatures20_03_24_2024_21_54_58_epoch_550,\n",
    "    # this one overfitted and then kinda recovered? but not very good in the end.\n",
    "#'baam_e128_fourierfeatures32_nsamples500_numfeatures20_03_20_2024_00_05_35_epoch_410': baam_e128_fourierfeatures32_nsamples500_numfeatures20_03_20_2024_00_05_35_epoch_410,\n",
    "    #'baam_e128_fourierfeatures32_nsamples500_numfeatures20_03_20_2024_00_05_35_epoch_780': baam_e128_fourierfeatures32_nsamples500_numfeatures20_03_20_2024_00_05_35_epoch_780,\n",
    "    #'baam_e128_fourierfeatures32_nsamples500_numfeatures20_03_20_2024_00_05_35_epoch_1010': baam_e128_fourierfeatures32_nsamples500_numfeatures20_03_20_2024_00_05_35_epoch_1010,\n",
    "    #'baam_e128_fourierfeatures32_nsamples500_numfeatures20_03_20_2024_00_05_35_epoch_1210': baam_e128_fourierfeatures32_nsamples500_numfeatures20_03_20_2024_00_05_35_epoch_1210,\n",
    "    #'baam_e128_fourierfeatures32_nsamples500_numfeatures20_03_20_2024_00_05_35_epoch_1520': baam_e128_fourierfeatures32_nsamples500_numfeatures20_03_20_2024_00_05_35_epoch_1520,\n",
    "    #'baam_e128_fourierfeatures32_nsamples500_numfeatures20_03_20_2024_00_05_35_epoch_2940': baam_e128_fourierfeatures32_nsamples500_numfeatures20_03_20_2024_00_05_35_epoch_2940,\n",
    "    \n",
    "\n",
    "    #'additive_Dclass_average_multiclassmaxsteps3_multiclasstypesteps_03_04_2024_19_04_03_epoch_100': additive_Dclass_average_multiclassmaxsteps3_multiclasstypesteps_03_04_2024_19_04_03_epoch_100,\n",
    "   # 'additive_Dclass_average_multiclassmaxsteps3_multiclasstypesteps_03_04_2024_19_04_03_epoch_270': additive_Dclass_average_multiclassmaxsteps3_multiclasstypesteps_03_04_2024_19_04_03_epoch_270,\n",
    "\n",
    "  #  'additive_H512_Dclass_average_factorizedoutputTrue_L6_03_01_2024_21_38_55_epoch_360': additive_H512_Dclass_average_factorizedoutputTrue_L6_03_01_2024_21_38_55_epoch_360,\n",
    "  #  'additive_Dclass_average_factorizedoutputTrue_w001_03_02_2024_02_21_10_epoch_340': additive_Dclass_average_factorizedoutputTrue_w001_03_02_2024_02_21_10_epoch_340,\n",
    "    #'additive_Dclass_average_factorizedoutputTrue_w001_03_02_024_02_21_10_epoch_420': additive_Dclass_average_factorizedoutputTrue_w001_03_02_2024_02_21_10_epoch_420,\n",
    "    #'additive_Dclass_average_factorizedoutputTrue_w001_03_02_2024_02_21_10_epoch_1210': additive_Dclass_average_factorizedoutputTrue_w001_03_02_2024_02_21_10_epoch_1210,\n",
    "    #'additive_Dclass_average_factorizedoutputTrue_nshapefunctions128_outputrank64_shapeattentionTrue_shapeattentionheads8_03_07_2024_00_39_41_epoch_580': additive_Dclass_average_factorizedoutputTrue_nshapefunctions128_outputrank64_shapeattentionTrue_shapeattentionheads8_03_07_2024_00_39_41_epoch_580,\n",
    "    #'additive_Dclass_average_factorizedoutputTrue_nshapefunctions128_outputrank64_shapeattentionTrue_shapeattentionheads8_03_08_2024_21_19_43_epoch_1280': additive_Dclass_average_factorizedoutputTrue_nshapefunctions128_outputrank64_shapeattentionTrue_shapeattentionheads8_03_08_2024_21_19_43_epoch_1280,\n",
    "    #'baam_e128_featurecurriculumTrue_nsamples500_N6_03_21_2024_17_58_54_epoch_610': baam_e128_featurecurriculumTrue_nsamples500_N6_03_21_2024_17_58_54_epoch_610,\n",
    "    #'baam_e128_featurecurriculumTrue_nsamples500_N6_03_21_2024_17_58_54_epoch_660': baam_e128_featurecurriculumTrue_nsamples500_N6_03_21_2024_17_58_54_epoch_660,\n",
    "    # 'baam_e128_nbins512_nsamples500_numfeatures20_03_19_2024_22_53_00_epoch_160': baam_e128_nbins512_nsamples500_numfeatures20_03_19_2024_22_53_00_epoch_160,\n",
    "    # 'baam_nfeatures_20_no_ensemble': baam_nfeatures_20_no_ensemble,\n",
    "    # 'baam_nfeatures_20': baam_nfeatures_20,\n",
    "    #'baam_nfeatures_100_no_ensemble': baam_nfeatures_100_no_ensemble,\n",
    "    # 'baam_nfeatures_20_no_ensemble_e500': baam_nfeatures_20_no_ensemble_e500,\n",
    "#     'baam_nfeatures_20_no_ensemble_e650': baam_nfeatures_20_no_ensemble_e650,\n",
    "#    'baam_nfeatures_20_no_ensemble_e840': baam_nfeatures_20_no_ensemble_e840,\n",
    "    \"baam_nfeatures_20_no_ensemble_e1210\": baam_nfeatures_20_no_ensemble_e1210,\n",
    "    \"baam_nfeatures_20_no_ensemble_e1520\": baam_nfeatures_20_no_ensemble_e1520,\n",
    "    \"baam_nfeatures_20_no_ensemble_e1970\": baam_nfeatures_20_no_ensemble_e1970,\n",
    "\n",
    "    'baam_nsamples500_numfeatures20_03_27_2024_17_57_59_epoch_470': baam_nsamples500_numfeatures20_03_27_2024_17_57_59_epoch_470,\n",
    "\n",
    "    #'baam_fourierfeatures64_nbins512_nsamples500_numfeatures20_03_21_2024_01_02_32_epoch_310': baam_fourierfeatures64_nbins512_nsamples500_numfeatures20_03_21_2024_01_02_32_epoch_310,\n",
    "    #'baam_marginalresidualTrue_nsamples500_numfeatures20_shapeinitzero_03_29_2024_19_20_09_epoch_130': baam_marginalresidualTrue_nsamples500_numfeatures20_shapeinitzero_03_29_2024_19_20_09_epoch_130,\n",
    "    #    'baam_marginalresidualTrue_nsamples500_numfeatures20_shapeinitzero_03_29_2024_19_20_09_epoch_180': baam_marginalresidualTrue_nsamples500_numfeatures20_shapeinitzero_03_29_2024_19_20_09_epoch_180,\n",
    "\n",
    "#    'baam_fourierfeatures64_nsamples500_numfeatures20_03_27_2024_17_56_13_epoch_250': baam_fourierfeatures64_nsamples500_numfeatures20_03_27_2024_17_56_13_epoch_250,\n",
    "    'baam_fourierfeatures64_nsamples500_numfeatures20_03_27_2024_17_56_13_epoch_1230': baam_fourierfeatures64_nsamples500_numfeatures20_03_27_2024_17_56_13_epoch_1230,\n",
    "    'baam_fourierfeatures64_nbins128_nsamples500_numfeatures20_03_24_2024_21_54_58_epoch_410': baam_fourierfeatures64_nbins128_nsamples500_numfeatures20_03_24_2024_21_54_58_epoch_410,\n",
    "#        'baam_fourierfeatures64_nbins128_nsamples500_numfeatures20_03_24_2024_21_54_58_epoch_690': baam_fourierfeatures64_nbins128_nsamples500_numfeatures20_03_24_2024_21_54_58_epoch_690,\n",
    "#    'baam_fourierfeatures64_nbins128_nsamples500_numfeatures20_03_24_2024_21_54_58_epoch_890': baam_fourierfeatures64_nbins128_nsamples500_numfeatures20_03_24_2024_21_54_58_epoch_890,\n",
    "        'baam_fourierfeatures64_nbins128_nsamples500_numfeatures20_03_24_2024_21_54_58_epoch_1430': baam_fourierfeatures64_nbins128_nsamples500_numfeatures20_03_24_2024_21_54_58_epoch_1430,\n",
    "\n",
    "    #'baam_categoricalembeddingTrue_nsamples500_nanbinTrue_numfeatures20_04_04_2024_14_06_39_epoch_970': baam_categoricalembeddingTrue_nsamples500_nanbinTrue_numfeatures20_04_04_2024_14_06_39_epoch_970,\n",
    "    #'baam_categoricalembeddingTrue_nsamples500_nanbinTrue_numfeatures20_04_04_2024_14_06_39_epoch_190': baam_categoricalembeddingTrue_nsamples500_nanbinTrue_numfeatures20_04_04_2024_14_06_39_epoch_190,\n",
    "    }\n",
    "results_transformers = [\n",
    "    eval_on_datasets('multiclass', model, model_name, cc_valid_datasets_multiclass, eval_positions=eval_positions, max_times=max_times,\n",
    "                     metric_used=metric_used, split_numbers=[1, 2, 3, 4, 5],\n",
    "                     n_samples=n_samples, base_path=base_path, overwrite=False, n_jobs=-1, device=device)\n",
    "    for model_name, model in clf_dict.items()\n",
    "]"
   ]
  },
  {
   "cell_type": "code",
   "execution_count": null,
   "metadata": {
    "tags": []
   },
   "outputs": [],
   "source": []
  },
  {
   "cell_type": "code",
   "execution_count": 15,
   "metadata": {
    "tags": []
   },
   "outputs": [],
   "source": [
    "flat_results = []\n",
    "for per_dataset in results_baselines + results_transformers:\n",
    "    for result in per_dataset:\n",
    "        row = {}\n",
    "        for key in ['dataset', 'model', 'mean_metric', 'split', 'max_time']:\n",
    "            row[key] = result[key]\n",
    "        best_configs_key, = [k for k in result.keys() if \"best_configs\" in k]\n",
    "        if result[best_configs_key][0] is not None:\n",
    "            row.update(result[best_configs_key][0])\n",
    "        row['mean_metric'] = float(row[\"mean_metric\"].numpy())\n",
    "        flat_results.append(row)\n",
    "\n",
    "results_df = pd.DataFrame(flat_results)"
   ]
  },
  {
   "cell_type": "code",
   "execution_count": 16,
   "metadata": {
    "tags": []
   },
   "outputs": [
    {
     "data": {
      "text/html": [
       "<div>\n",
       "<style scoped>\n",
       "    .dataframe tbody tr th:only-of-type {\n",
       "        vertical-align: middle;\n",
       "    }\n",
       "\n",
       "    .dataframe tbody tr th {\n",
       "        vertical-align: top;\n",
       "    }\n",
       "\n",
       "    .dataframe thead th {\n",
       "        text-align: right;\n",
       "    }\n",
       "</style>\n",
       "<table border=\"1\" class=\"dataframe\">\n",
       "  <thead>\n",
       "    <tr style=\"text-align: right;\">\n",
       "      <th></th>\n",
       "      <th>dataset</th>\n",
       "      <th>model</th>\n",
       "      <th>mean_metric</th>\n",
       "      <th>split</th>\n",
       "      <th>max_time</th>\n",
       "      <th>best</th>\n",
       "      <th>fit_time</th>\n",
       "      <th>inference_time</th>\n",
       "    </tr>\n",
       "  </thead>\n",
       "  <tbody>\n",
       "    <tr>\n",
       "      <th>0</th>\n",
       "      <td>breast-cancer</td>\n",
       "      <td>knn</td>\n",
       "      <td>0.661028</td>\n",
       "      <td>1</td>\n",
       "      <td>1</td>\n",
       "      <td>{'n_neighbors': 13}</td>\n",
       "      <td>0.000223</td>\n",
       "      <td>0.001148</td>\n",
       "    </tr>\n",
       "    <tr>\n",
       "      <th>1</th>\n",
       "      <td>breast-cancer</td>\n",
       "      <td>knn</td>\n",
       "      <td>0.687982</td>\n",
       "      <td>2</td>\n",
       "      <td>1</td>\n",
       "      <td>{'n_neighbors': 13}</td>\n",
       "      <td>0.000218</td>\n",
       "      <td>0.001148</td>\n",
       "    </tr>\n",
       "    <tr>\n",
       "      <th>2</th>\n",
       "      <td>breast-cancer</td>\n",
       "      <td>knn</td>\n",
       "      <td>0.639348</td>\n",
       "      <td>3</td>\n",
       "      <td>1</td>\n",
       "      <td>{'n_neighbors': 14}</td>\n",
       "      <td>0.000214</td>\n",
       "      <td>0.001040</td>\n",
       "    </tr>\n",
       "    <tr>\n",
       "      <th>3</th>\n",
       "      <td>breast-cancer</td>\n",
       "      <td>knn</td>\n",
       "      <td>0.697394</td>\n",
       "      <td>4</td>\n",
       "      <td>1</td>\n",
       "      <td>{'n_neighbors': 14}</td>\n",
       "      <td>0.000223</td>\n",
       "      <td>0.001092</td>\n",
       "    </tr>\n",
       "    <tr>\n",
       "      <th>4</th>\n",
       "      <td>breast-cancer</td>\n",
       "      <td>knn</td>\n",
       "      <td>0.687948</td>\n",
       "      <td>5</td>\n",
       "      <td>1</td>\n",
       "      <td>{'n_neighbors': 11}</td>\n",
       "      <td>0.000226</td>\n",
       "      <td>0.001065</td>\n",
       "    </tr>\n",
       "    <tr>\n",
       "      <th>...</th>\n",
       "      <td>...</td>\n",
       "      <td>...</td>\n",
       "      <td>...</td>\n",
       "      <td>...</td>\n",
       "      <td>...</td>\n",
       "      <td>...</td>\n",
       "      <td>...</td>\n",
       "      <td>...</td>\n",
       "    </tr>\n",
       "    <tr>\n",
       "      <th>46185</th>\n",
       "      <td>titanic</td>\n",
       "      <td>baam_fourierfeatures64_nbins128_nsamples500_nu...</td>\n",
       "      <td>0.865758</td>\n",
       "      <td>1</td>\n",
       "      <td>1</td>\n",
       "      <td>NaN</td>\n",
       "      <td>6.587969</td>\n",
       "      <td>0.001242</td>\n",
       "    </tr>\n",
       "    <tr>\n",
       "      <th>46186</th>\n",
       "      <td>titanic</td>\n",
       "      <td>baam_fourierfeatures64_nbins128_nsamples500_nu...</td>\n",
       "      <td>0.872072</td>\n",
       "      <td>2</td>\n",
       "      <td>1</td>\n",
       "      <td>NaN</td>\n",
       "      <td>6.986520</td>\n",
       "      <td>0.001358</td>\n",
       "    </tr>\n",
       "    <tr>\n",
       "      <th>46187</th>\n",
       "      <td>titanic</td>\n",
       "      <td>baam_fourierfeatures64_nbins128_nsamples500_nu...</td>\n",
       "      <td>0.865263</td>\n",
       "      <td>3</td>\n",
       "      <td>1</td>\n",
       "      <td>NaN</td>\n",
       "      <td>6.652177</td>\n",
       "      <td>0.000900</td>\n",
       "    </tr>\n",
       "    <tr>\n",
       "      <th>46188</th>\n",
       "      <td>titanic</td>\n",
       "      <td>baam_fourierfeatures64_nbins128_nsamples500_nu...</td>\n",
       "      <td>0.874002</td>\n",
       "      <td>4</td>\n",
       "      <td>1</td>\n",
       "      <td>NaN</td>\n",
       "      <td>6.489160</td>\n",
       "      <td>0.000972</td>\n",
       "    </tr>\n",
       "    <tr>\n",
       "      <th>46189</th>\n",
       "      <td>titanic</td>\n",
       "      <td>baam_fourierfeatures64_nbins128_nsamples500_nu...</td>\n",
       "      <td>0.845259</td>\n",
       "      <td>5</td>\n",
       "      <td>1</td>\n",
       "      <td>NaN</td>\n",
       "      <td>5.606122</td>\n",
       "      <td>0.001555</td>\n",
       "    </tr>\n",
       "  </tbody>\n",
       "</table>\n",
       "<p>46190 rows × 8 columns</p>\n",
       "</div>"
      ],
      "text/plain": [
       "             dataset                                              model  \\\n",
       "0      breast-cancer                                                knn   \n",
       "1      breast-cancer                                                knn   \n",
       "2      breast-cancer                                                knn   \n",
       "3      breast-cancer                                                knn   \n",
       "4      breast-cancer                                                knn   \n",
       "...              ...                                                ...   \n",
       "46185        titanic  baam_fourierfeatures64_nbins128_nsamples500_nu...   \n",
       "46186        titanic  baam_fourierfeatures64_nbins128_nsamples500_nu...   \n",
       "46187        titanic  baam_fourierfeatures64_nbins128_nsamples500_nu...   \n",
       "46188        titanic  baam_fourierfeatures64_nbins128_nsamples500_nu...   \n",
       "46189        titanic  baam_fourierfeatures64_nbins128_nsamples500_nu...   \n",
       "\n",
       "       mean_metric  split  max_time                 best  fit_time  \\\n",
       "0         0.661028      1         1  {'n_neighbors': 13}  0.000223   \n",
       "1         0.687982      2         1  {'n_neighbors': 13}  0.000218   \n",
       "2         0.639348      3         1  {'n_neighbors': 14}  0.000214   \n",
       "3         0.697394      4         1  {'n_neighbors': 14}  0.000223   \n",
       "4         0.687948      5         1  {'n_neighbors': 11}  0.000226   \n",
       "...            ...    ...       ...                  ...       ...   \n",
       "46185     0.865758      1         1                  NaN  6.587969   \n",
       "46186     0.872072      2         1                  NaN  6.986520   \n",
       "46187     0.865263      3         1                  NaN  6.652177   \n",
       "46188     0.874002      4         1                  NaN  6.489160   \n",
       "46189     0.845259      5         1                  NaN  5.606122   \n",
       "\n",
       "       inference_time  \n",
       "0            0.001148  \n",
       "1            0.001148  \n",
       "2            0.001040  \n",
       "3            0.001092  \n",
       "4            0.001065  \n",
       "...               ...  \n",
       "46185        0.001242  \n",
       "46186        0.001358  \n",
       "46187        0.000900  \n",
       "46188        0.000972  \n",
       "46189        0.001555  \n",
       "\n",
       "[46190 rows x 8 columns]"
      ]
     },
     "execution_count": 16,
     "metadata": {},
     "output_type": "execute_result"
    }
   ],
   "source": [
    "results_df"
   ]
  },
  {
   "cell_type": "code",
   "execution_count": 17,
   "metadata": {
    "tags": []
   },
   "outputs": [
    {
     "data": {
      "text/plain": [
       "array(['knn', 'rf_new_params', 'xgb', 'logistic', 'mlp', 'mothernet',\n",
       "       'mlp_distill', 'tabpfn', 'tabpfn_ours', 'tabpfn_ours_ensemble_8',\n",
       "       'tabpfn_ours_ensemble_32',\n",
       "       'batabpfn_e256_nsamples500_numfeatures20_03_20_2024_22_14_45_e630',\n",
       "       'batabpfn_e256_nsamples500_numfeatures20_03_20_2024_22_14_45_e1130',\n",
       "       'hyperfast_no_optimize_cpu', 'hyperfast_defaults_cpu',\n",
       "       'ebm_default', 'ebm_bins_main_effects',\n",
       "       'mn_Dclass_average_03_25_2024_17_14_32_epoch_3970_ohe_ensemble_8',\n",
       "       'mn_Dclass_average_fourierfeatures16_05_09_2024_01_03_23_epoch_100',\n",
       "       'baam_nsamples500_numfeatures10_04_07_2024_17_04_53_epoch_1490',\n",
       "       'baam_nsamples500_numfeatures10_04_07_2024_17_04_53_epoch_1780',\n",
       "       'baam_nsamples500_numfeatures20_04_04_2024_03_07_12_epoch_1210',\n",
       "       'additive_Dclass_average_02_29_2024_04_15_55_epoch_1050',\n",
       "       'baam_e128_nsamples500_numfeatures20_04_01_2024_15_38_54_epoch_2220',\n",
       "       'baam_fourierfeatures64_nbins128_nsamples500_numfeatures20_03_24_2024_21_54_58_epoch_550',\n",
       "       'baam_nfeatures_20_no_ensemble_e1210',\n",
       "       'baam_nfeatures_20_no_ensemble_e1520',\n",
       "       'baam_nfeatures_20_no_ensemble_e1970',\n",
       "       'baam_nsamples500_numfeatures20_03_27_2024_17_57_59_epoch_470',\n",
       "       'baam_fourierfeatures64_nsamples500_numfeatures20_03_27_2024_17_56_13_epoch_1230',\n",
       "       'baam_fourierfeatures64_nbins128_nsamples500_numfeatures20_03_24_2024_21_54_58_epoch_410',\n",
       "       'baam_fourierfeatures64_nbins128_nsamples500_numfeatures20_03_24_2024_21_54_58_epoch_1430'],\n",
       "      dtype=object)"
      ]
     },
     "execution_count": 17,
     "metadata": {},
     "output_type": "execute_result"
    }
   ],
   "source": [
    "results_df.model.unique()"
   ]
  },
  {
   "cell_type": "code",
   "execution_count": 18,
   "metadata": {
    "tags": []
   },
   "outputs": [],
   "source": [
    "# with open(f\"results_validation_{datetime.date.today()}.pickle\", \"wb\") as f:\n",
    "#    pickle.dump(results_baselines + results_transformers, f)"
   ]
  },
  {
   "cell_type": "code",
   "execution_count": 19,
   "metadata": {
    "tags": []
   },
   "outputs": [],
   "source": [
    "results_df['model'] = results_df.model.replace({'knn': \"KNN\", 'rf_new_params': 'RF', 'mlp': \"MLP\",'mlp_distill': 'MLP-Distill', 'xgb':'XGBoost', 'logistic': 'LogReg',  'mothernet': 'MotherNet', 'tabpfn': 'TabPFN'})"
   ]
  },
  {
   "cell_type": "code",
   "execution_count": 20,
   "metadata": {
    "tags": []
   },
   "outputs": [
    {
     "data": {
      "text/plain": [
       "'results_validation_2024-05-22.csv'"
      ]
     },
     "execution_count": 20,
     "metadata": {},
     "output_type": "execute_result"
    }
   ],
   "source": [
    "filename = f\"results_validation_{datetime.date.today()}.csv\"\n",
    "results_df.to_csv(filename)\n",
    "filename"
   ]
  },
  {
   "cell_type": "code",
   "execution_count": null,
   "metadata": {},
   "outputs": [],
   "source": []
  },
  {
   "cell_type": "code",
   "execution_count": null,
   "metadata": {},
   "outputs": [],
   "source": []
  },
  {
   "cell_type": "code",
   "execution_count": null,
   "metadata": {},
   "outputs": [],
   "source": []
  },
  {
   "cell_type": "code",
   "execution_count": null,
   "metadata": {},
   "outputs": [],
   "source": []
  }
 ],
 "metadata": {
  "kernelspec": {
   "display_name": "Python [conda env:mothernet]",
   "language": "python",
   "name": "conda-env-mothernet-py"
  },
  "language_info": {
   "codemirror_mode": {
    "name": "ipython",
    "version": 3
   },
   "file_extension": ".py",
   "mimetype": "text/x-python",
   "name": "python",
   "nbconvert_exporter": "python",
   "pygments_lexer": "ipython3",
   "version": "3.11.9"
  }
 },
 "nbformat": 4,
 "nbformat_minor": 4
}
