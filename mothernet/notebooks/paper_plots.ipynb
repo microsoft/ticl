{
 "cells": [
  {
   "cell_type": "code",
   "execution_count": null,
   "id": "3870516e-ad1c-4dce-bfb3-d07d0e0bb54d",
   "metadata": {},
   "outputs": [],
   "source": [
    "import pandas as pd\n",
    "import numpy as np\n",
    "\n",
    "from mothernet.evaluation.cd_plot_new.cd_plot_code import cd_evaluation\n",
    "import matplotlib.pyplot as plt\n",
    "import seaborn as sns\n",
    "import warnings\n",
    "warnings.simplefilter(\"ignore\", FutureWarning)\n",
    "\n",
    "varies_over_time= ['XGBoost', 'RF', 'MLP', 'KNN', 'LogReg']\n",
    "\n",
    "validation_result_file = 'results_validation_2024-05-22.csv'\n",
    "#test_result_file = 'results_test_2024-04-18.csv'\n",
    "test_result_file = None\n",
    "\n",
    "valid_results = pd.read_csv(validation_result_file, index_col=0)\n",
    "rename_dict = {#'additive_Dclass_average_factorizedoutputTrue_w001_03_02_2024_02_21_10_epoch_420': 'additive class average factorized',\n",
    "                                                      'additive_Dclass_average_02_29_2024_04_15_55_epoch_1050': 'additive_class_average',\n",
    "                                                      'additive_1_gpu_02_14_2024_16_34_15': 'additive dense',\n",
    "                                                   'mn_Dclass_average_03_25_2024_17_14_32_epoch_3970_ohe_ensemble_8': 'MotherNet',\n",
    "                                                    'MotherNet': 'mothernet_old',\n",
    "                                                     'additive_Dclass_average_multiclassmaxsteps3_multiclasstypesteps_03_04_2024_19_04_03_epoch_270': 'steps_prior',\n",
    "                                                     #'baam_nfeatures_20_no_ensemble_e1520': 'GammaNet',\n",
    "    'batapfn_no_ensemble_e410': 'bi-attention TabPFN',\n",
    "    #'ebm_default': 'EBM (interactions)',\n",
    "    #'ebm_bins_main_effects': 'EBM (main effects)',\n",
    "    'hyperfast_no_optimize_cpu': 'HyperFast (no GD)',\n",
    "    'hyperfast_defaults_cpu' : 'HyperFast (default)',\n",
    "    'LogReg': 'Logistic Regression',\n",
    "     'RF': 'RandomForest',\n",
    "    #'MLP-Distill': 'mlp_distill',\n",
    "    'MLP': 'neural_network_old_drop',\n",
    "    'TabPFN (ours)': 'tabpfn_ours_hide'}\n",
    "#valid_results.model.unique()\n",
    "#valid_results['model'] = valid_results.model.replace({'hyperfast_defaults_cpu': 'hyperfast_defaults_gpu'}) ## HACCCKKK\n",
    "valid_results['model'] = valid_results.model.replace(rename_dict)\n",
    "valid_results = valid_results[valid_results.model != \"hyperfast_no_optimize_cpu\"]\n",
    "valid_results = valid_results[~valid_results.model.str.contains('_')]\n",
    "all_models = valid_results.model.unique()\n",
    "\n"
   ]
  },
  {
   "cell_type": "code",
   "execution_count": null,
   "id": "bc950641-9f72-4403-abc0-aab99b68fe00",
   "metadata": {
    "tags": []
   },
   "outputs": [],
   "source": [
    "all_models"
   ]
  },
  {
   "cell_type": "code",
   "execution_count": null,
   "id": "497f12fc-a1c1-4d87-9e81-5a7d557dfb34",
   "metadata": {},
   "outputs": [],
   "source": [
    "if test_result_file:\n",
    "    test_results = pd.read_csv(test_result_file, index_col=0)\n",
    "    test_results['model'] = test_results.model.replace(rename_dict)\n",
    "    all_models = set(valid_results.model.unique()).union(set(test_results.model.unique()))\n",
    "\n",
    "    print(test_results.model.unique())\n",
    "    print(valid_results.model.unique())\n",
    "    assert set(test_results.model.unique()) == set(valid_results.model.unique())"
   ]
  },
  {
   "cell_type": "code",
   "execution_count": null,
   "id": "b4619002-722e-4d5f-9a81-f8fd5753197c",
   "metadata": {},
   "outputs": [],
   "source": [
    "color_palette = sns.color_palette(n_colors=len(all_models))\n",
    "color_mapping = dict(zip(all_models, color_palette))"
   ]
  },
  {
   "cell_type": "code",
   "execution_count": null,
   "id": "69df651d-bfb4-4f4c-bac2-6551e3a97e2d",
   "metadata": {},
   "outputs": [],
   "source": [
    "def get_best_over_time(results):\n",
    "    average_over_splits = results.groupby([\"dataset\", \"model\", \"max_time\"])[[\"mean_metric\", \"fit_time\", \"inference_time\"]].mean().reset_index()\n",
    "    best_tuned = average_over_splits[average_over_splits.max_time == average_over_splits.max_time.max()]\n",
    "    untuned = average_over_splits[~average_over_splits.model.isin(best_tuned.model.unique())]\n",
    "    return pd.concat([best_tuned, untuned])"
   ]
  },
  {
   "cell_type": "code",
   "execution_count": null,
   "id": "9616bc22-94fa-4327-8894-d524fd3e3ea8",
   "metadata": {
    "tags": []
   },
   "outputs": [],
   "source": [
    "plt.figure(figsize=(8, 4), dpi=300)\n",
    "combined_best_valid = get_best_over_time(valid_results)\n",
    "pivoted_for_cd = combined_best_valid.pivot(index=\"dataset\", columns=\"model\", values=\"mean_metric\")\n",
    "_ = cd_evaluation(pivoted_for_cd, maximize_metric=True, ax=plt.gca())\n",
    "plt.savefig(\"../figures/cd_diagram_validation.pdf\", bbox_inches=\"tight\")"
   ]
  },
  {
   "cell_type": "code",
   "execution_count": null,
   "id": "f93f2b44-70e0-4b24-8e79-49619ad43f74",
   "metadata": {
    "tags": []
   },
   "outputs": [],
   "source": [
    "combined_best_valid.groupby(\"model\").mean_metric.mean().sort_values()"
   ]
  },
  {
   "cell_type": "code",
   "execution_count": null,
   "id": "09d554e1-1f7a-4178-9008-b79f0ef5f8b3",
   "metadata": {},
   "outputs": [],
   "source": [
    "if test_result_file:\n",
    "    plt.figure(figsize=(8, 3), dpi=300)\n",
    "    combined_best_test = get_best_over_time(test_results)\n",
    "    pivoted_for_cd = combined_best_test.pivot(index=\"dataset\", columns=\"model\", values=\"mean_metric\")\n",
    "    _ = cd_evaluation(pivoted_for_cd, maximize_metric=True, ax=plt.gca())\n",
    "    plt.savefig(\"../figures/cd_diagram_test.pdf\", bbox_inches=\"tight\")"
   ]
  },
  {
   "cell_type": "code",
   "execution_count": null,
   "id": "c38b5e70-7764-4f58-bcb6-5791539bbea5",
   "metadata": {},
   "outputs": [],
   "source": [
    "def compare_splits(results):\n",
    "    compare_splits_over_time = results.groupby([\"model\", \"split\", \"max_time\"])[['mean_metric', 'fit_time']].mean().reset_index()\n",
    "    compare_splits_varies = compare_splits_over_time[compare_splits_over_time.model.isin(varies_over_time)]\n",
    "    compare_splits_fixed = compare_splits_over_time[~compare_splits_over_time.model.isin(varies_over_time)]\n",
    "    compare_splits_varies_last = compare_splits_varies[compare_splits_varies.max_time == compare_splits_varies.max_time.max()]\n",
    "    return compare_splits_over_time, pd.concat([compare_splits_fixed, compare_splits_varies_last])"
   ]
  },
  {
   "cell_type": "code",
   "execution_count": null,
   "id": "8ee3e15b-9dc5-4edb-80e1-847db704fc63",
   "metadata": {},
   "outputs": [],
   "source": [
    "compare_splits_over_time_valid, compare_splits_valid = compare_splits(valid_results)\n",
    "if test_result_file:\n",
    "    compare_splits_over_time_test, compare_splits_test = compare_splits(test_results)"
   ]
  },
  {
   "cell_type": "code",
   "execution_count": null,
   "id": "e0336c60-cd89-4b0e-aa7a-7b973a7b8a5a",
   "metadata": {},
   "outputs": [],
   "source": [
    "plt.figure(figsize=(8, 4))\n",
    "order = compare_splits_valid.groupby(\"model\").mean(\"mean_metric\").sort_values(\"mean_metric\").index\n",
    "sns.boxplot(data=compare_splits_valid, y=\"model\", x=\"mean_metric\", order=order, ax=plt.gca(), palette=color_mapping)\n",
    "#sns.boxplot(data=compare_splits_valid, y=\"model\", x=\"mean_metric\",order=order, ax=plt.gca(), hue=\"model\")\n",
    "\n",
    "plt.xlabel(\"Average ROC AUC\")\n",
    "plt.savefig(\"../figures/mean_roc_auc_validation.pdf\", dpi=300, bbox_inches=\"tight\")"
   ]
  },
  {
   "cell_type": "code",
   "execution_count": null,
   "id": "d9874537-8079-4f4f-a4bf-92dde64320ee",
   "metadata": {},
   "outputs": [],
   "source": [
    "if test_result_file:\n",
    "    plt.figure(figsize=(8, 6))\n",
    "    order = compare_splits_test.groupby(\"model\").median(\"mean_metric\").sort_values(\"mean_metric\").index\n",
    "    sns.boxplot(data=compare_splits_test, y=\"model\", x=\"mean_metric\", order=order, ax=plt.gca(), palette=color_mapping)\n",
    "    plt.xlabel(\"Average ROC AUC\")\n",
    "    plt.savefig(\"../figures/mean_roc_auc_test.pdf\", dpi=300, bbox_inches=\"tight\")"
   ]
  },
  {
   "cell_type": "code",
   "execution_count": null,
   "id": "77e9e562-bbd0-4900-9d2c-0799bd5d1b6f",
   "metadata": {},
   "outputs": [],
   "source": [
    "def normalize_metric(results):\n",
    "    dataset_min_max = results.groupby(\"dataset\").mean_metric.agg([\"min\", \"max\"])\n",
    "    results_normalized = results.merge(dataset_min_max, on=\"dataset\")\n",
    "    results_normalized['mean_metric'] = (results_normalized['mean_metric'] - results_normalized['min']) / (results_normalized['max'] - results_normalized['min'])\n",
    "    return results_normalized"
   ]
  },
  {
   "cell_type": "code",
   "execution_count": null,
   "id": "4c9b16f4-fc89-42d5-8866-5dbf486f2f79",
   "metadata": {},
   "outputs": [],
   "source": [
    "compare_splits_over_time_valid_normalized, compare_splits_valid_normalized = compare_splits(normalize_metric(valid_results))\n",
    "if test_result_file:\n",
    "    compare_splits_over_time_test_normalized, compare_splits_test_normalized = compare_splits(normalize_metric(test_results))"
   ]
  },
  {
   "cell_type": "code",
   "execution_count": null,
   "id": "0cea35a2-77b1-40b9-af6d-77798e896714",
   "metadata": {},
   "outputs": [],
   "source": [
    "if test_result_file:\n",
    "    plt.figure(figsize=(8, 6))\n",
    "    order = compare_splits_test_normalized.groupby(\"model\").median(\"mean_metric\").sort_values(\"mean_metric\").index\n",
    "    sns.boxplot(data=compare_splits_test_normalized, y=\"model\", x=\"mean_metric\", order=order, ax=plt.gca(), palette=color_mapping)\n",
    "    plt.xlabel(\"Average ROC AUC (normalized)\", loc=\"right\")\n",
    "    plt.savefig(\"../figures/mean_roc_auc_test_normalized.pdf\", dpi=300, bbox_inches=\"tight\")\n",
    "    pd.set_option(\"display.float_format\", lambda x: f\"{x:.2f}\")\n",
    "    table = compare_splits_test_normalized.groupby(\"model\").median()[['mean_metric', 'fit_time']].sort_values(\"mean_metric\")\n",
    "    print(table.to_markdown(floatfmt=\".2f\"))"
   ]
  },
  {
   "cell_type": "code",
   "execution_count": null,
   "id": "81294c6d-aa4c-49a4-aa9f-9f517178f080",
   "metadata": {
    "tags": []
   },
   "outputs": [],
   "source": [
    "# table.drop(index=[\"mothernet_old\", \"mlp_distill\", 'KNN']).rename({'mn_Dclass_average_03_25_2024_17_14_32_epoch_2910_ohe_ensemble_8': 'MotherNet'})"
   ]
  },
  {
   "cell_type": "code",
   "execution_count": null,
   "id": "cbd7195f-8a2d-4300-8f2c-85600b905e4c",
   "metadata": {},
   "outputs": [],
   "source": [
    "plt.figure(figsize=(8, 4))\n",
    "order = compare_splits_valid_normalized.groupby(\"model\").mean(\"mean_metric\").sort_values(\"mean_metric\").index\n",
    "sns.boxplot(data=compare_splits_valid_normalized, y=\"model\", x=\"mean_metric\", order=order, ax=plt.gca(), palette=color_mapping)\n",
    "#sns.boxplot(data=compare_splits_valid_normalized, y=\"model\", x=\"mean_metric\", order=order, ax=plt.gca(), hue='model')\n",
    "\n",
    "plt.xlabel(\"Average ROC AUC (normalized)\", loc=\"right\")\n",
    "plt.savefig(\"../figures/mean_roc_auc_valid_normalized.pdf\", dpi=300, bbox_inches=\"tight\")"
   ]
  },
  {
   "cell_type": "code",
   "execution_count": null,
   "id": "7f537f34-130e-46ad-b4fc-b6d1cb81ad18",
   "metadata": {},
   "outputs": [],
   "source": [
    "per_dataset = combined_best_valid.pivot(index=\"dataset\", columns=\"model\", values=\"mean_metric\")"
   ]
  },
  {
   "cell_type": "code",
   "execution_count": null,
   "id": "f81c5959-a637-4f2d-8b79-c5511a68dd85",
   "metadata": {
    "tags": []
   },
   "outputs": [],
   "source": [
    "per_dataset.columns"
   ]
  },
  {
   "cell_type": "code",
   "execution_count": null,
   "id": "1138180d-9905-427b-9427-a20c94bd637b",
   "metadata": {
    "tags": []
   },
   "outputs": [],
   "source": [
    "compare = per_dataset[['MotherNet', 'TabPFN (Hollmann)', 'XGBoost', 'MLP-Distill']].copy()                "
   ]
  },
  {
   "cell_type": "code",
   "execution_count": null,
   "id": "72e7e2d0-1270-4365-9b7f-479929067174",
   "metadata": {
    "tags": []
   },
   "outputs": [],
   "source": [
    "compare['diff'] = compare['XGBoost'] - compare['MotherNet']"
   ]
  },
  {
   "cell_type": "code",
   "execution_count": null,
   "id": "e162755c-7843-4c19-a229-b363f9e9d82f",
   "metadata": {
    "tags": []
   },
   "outputs": [],
   "source": [
    "print(compare[compare['diff'].abs() > 0.05].sort_values(\"diff\").to_latex(float_format=\"%.3f\"))"
   ]
  },
  {
   "cell_type": "code",
   "execution_count": null,
   "id": "eeaecc1c-c249-4741-8d8f-ad800223f5e4",
   "metadata": {
    "tags": []
   },
   "outputs": [],
   "source": [
    "compare['diff'] = compare['EBM (main effects)'] - compare['baam_fourierfeatures64_nbins128_nsamples500_numfeatures20_03_24_2024_21_54_58_epoch_1430']"
   ]
  },
  {
   "cell_type": "code",
   "execution_count": null,
   "id": "b0ac3191-9447-48ba-a9d7-c83dff63267b",
   "metadata": {
    "tags": []
   },
   "outputs": [],
   "source": [
    "compare.sort_values(\"diff\")"
   ]
  },
  {
   "cell_type": "code",
   "execution_count": null,
   "id": "fee3d6dd-377d-49ee-8ed7-910756496759",
   "metadata": {},
   "outputs": [],
   "source": [
    "compare.columns"
   ]
  },
  {
   "cell_type": "code",
   "execution_count": null,
   "id": "c258a39f-fce9-4c4e-88c7-9d9414a50f9f",
   "metadata": {
    "tags": []
   },
   "outputs": [],
   "source": [
    "sns.clustermap(compare.drop(columns=\"diff\"))"
   ]
  },
  {
   "cell_type": "code",
   "execution_count": null,
   "id": "cf812d59-d56c-41dc-aea9-112204b56997",
   "metadata": {},
   "outputs": [],
   "source": []
  }
 ],
 "metadata": {
  "kernelspec": {
   "display_name": "Python [conda env:tabpfn_testing_environment]",
   "language": "python",
   "name": "conda-env-tabpfn_testing_environment-py"
  },
  "language_info": {
   "codemirror_mode": {
    "name": "ipython",
    "version": 3
   },
   "file_extension": ".py",
   "mimetype": "text/x-python",
   "name": "python",
   "nbconvert_exporter": "python",
   "pygments_lexer": "ipython3",
   "version": "3.11.6"
  }
 },
 "nbformat": 4,
 "nbformat_minor": 5
}
