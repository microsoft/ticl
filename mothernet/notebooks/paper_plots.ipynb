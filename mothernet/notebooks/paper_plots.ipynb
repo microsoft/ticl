{
 "cells": [
  {
   "cell_type": "code",
   "execution_count": null,
   "id": "3870516e-ad1c-4dce-bfb3-d07d0e0bb54d",
   "metadata": {},
   "outputs": [],
   "source": [
    "import pandas as pd\n",
    "import numpy as np\n",
    "\n",
    "from mothernet.evaluation.cd_plot_new.cd_plot_code import cd_evaluation\n",
    "import matplotlib.pyplot as plt\n",
    "import seaborn as sns\n",
    "import warnings\n",
    "warnings.simplefilter(\"ignore\", FutureWarning)\n",
    "\n",
    "varies_over_time= ['XGBoost', 'RF', 'MLP', 'KNN', 'LogReg']\n",
    "\n",
    "#validation_result_file = 'results/results_validation_for_paper_2024-05-16.csv'\n",
    "#validation_result_file = 'results/results_validation_2024-05-20.csv'\n",
    "validation_result_file = 'results/results_validation_2024-05-20.csv'\n",
    "test_result_file = 'results/results_test_for_mothernet_paper_2024-05-21.csv'\n",
    "\n",
    "#test_result_file = None\n",
    "\n",
    "valid_results = pd.read_csv(validation_result_file, index_col=0)\n",
    "rename_dict = {#'additive_Dclass_average_factorizedoutputTrue_w001_03_02_2024_02_21_10_epoch_420': 'additive class average factorized',\n",
    "                                                      'additive_Dclass_average_02_29_2024_04_15_55_epoch_1050': 'additive_class_average',\n",
    "                                                      'additive_1_gpu_02_14_2024_16_34_15': 'additive dense',\n",
    "                                                   'mn_Dclass_average_03_25_2024_17_14_32_epoch_3970_ohe_ensemble_8': 'MotherNet',\n",
    "                                                    'MotherNet': 'mothernet_old',\n",
    "                                                     'additive_Dclass_average_multiclassmaxsteps3_multiclasstypesteps_03_04_2024_19_04_03_epoch_270': 'steps_prior',\n",
    "                                                     #'baam_nfeatures_20_no_ensemble_e1520': 'GammaNet',\n",
    "    'mothernet_ohe_ensemble_8_quantile_gpu_timing': 'MotherNet',\n",
    "    'mn_categoricalfeaturep09_numfeaturessamplerdouble_sample_05_09_2024_23_39_30_epoch_1270_ohe_quantile_8': 'MotherNet',\n",
    "\n",
    "    'batapfn_no_ensemble_e410': 'bi-attention TabPFN',\n",
    "    'XGBoost': 'XGBoost$^\\dag$',\n",
    "    'KNN': 'KNN$^\\dag$',\n",
    "    'mlp_gpu2': 'MLP$^\\ddag$',\n",
    "    'resnet_gpu': 'ResNet$^\\ddag$',\n",
    "    'mn_categoricalfeaturep09_numfeaturessamplerdouble_sample_05_09_2024_23_39_30_epoch_1270_ohe_quantile_8_cpu_timing3': 'MotherNet (CPU)',\n",
    "    #'ebm_default': 'EBM (interactions)',\n",
    "    #'ebm_bins_main_effects': 'EBM (main effects)',\n",
    "    'hyperfast_no_optimize_gpu': 'HyperFast (no GD)',\n",
    "    'hyperfast_defaults_gpu' : 'HyperFast (default)',\n",
    "    'hyperfast_tuning_gpu': 'HyperFast$^\\ddag$',\n",
    "    'LogReg': 'Logistic Regression$^\\dag$',\n",
    "     'RF': 'RandomForest$^\\dag$',\n",
    "    'mothernet_init_gd_no_learning_preprocess2': 'MotherNet (no baggging)',\n",
    "    'mothernet_gd_gpu4': 'MotherNet plus Gradient Descent$^\\ddag$',\n",
    "    'TabPFN (Hollmann)': 'TabPFN',\n",
    "    \"MotherNet\": \"MotherNet_old\",\n",
    "    \n",
    "   # 'MLP-Distill': 'mlp_distill',\n",
    "    #'MLP': 'MLP (60 min HPO)',\n",
    "    'MLP': 'MLP_drop',\n",
    "    'TabPFN (ours)': 'tabpfn_ours_hide'}\n",
    "#valid_results.model.unique()\n",
    "#valid_results['model'] = valid_results.model.replace({'hyperfast_defaults_cpu': 'hyperfast_defaults_gpu'}) ## HACCCKKK\n",
    "valid_results['model'] = valid_results.model.replace(rename_dict)\n",
    "\n",
    "valid_results = valid_results[valid_results.model != \"hyperfast_no_optimize_cpu\"]\n",
    "valid_results = valid_results[~valid_results.model.str.contains('_')]\n",
    "all_models = valid_results.model.unique()\n",
    "\n"
   ]
  },
  {
   "cell_type": "code",
   "execution_count": null,
   "id": "bc950641-9f72-4403-abc0-aab99b68fe00",
   "metadata": {
    "tags": []
   },
   "outputs": [],
   "source": [
    "all_models"
   ]
  },
  {
   "cell_type": "code",
   "execution_count": null,
   "id": "497f12fc-a1c1-4d87-9e81-5a7d557dfb34",
   "metadata": {},
   "outputs": [],
   "source": [
    "if test_result_file:\n",
    "    test_results = pd.read_csv(test_result_file, index_col=0)\n",
    "    test_results['model'] = test_results.model.replace(rename_dict)\n",
    "    test_results = test_results[~test_results.model.str.contains('_')]\n",
    "    all_models = set(valid_results.model.unique()).union(set(test_results.model.unique()))\n",
    "\n",
    "    print(test_results.model.unique())\n",
    "    print(valid_results.model.unique())\n",
    "    assert set(test_results.model.unique()) == set(valid_results.model.unique())"
   ]
  },
  {
   "cell_type": "code",
   "execution_count": null,
   "id": "b4619002-722e-4d5f-9a81-f8fd5753197c",
   "metadata": {},
   "outputs": [],
   "source": [
    "color_palette = sns.color_palette(n_colors=len(all_models))\n",
    "color_mapping = dict(zip(all_models, color_palette))"
   ]
  },
  {
   "cell_type": "code",
   "execution_count": null,
   "id": "69df651d-bfb4-4f4c-bac2-6551e3a97e2d",
   "metadata": {},
   "outputs": [],
   "source": [
    "def get_best_over_time(results):\n",
    "    max_time_per_dataset_model = results.groupby([\"dataset\", \"model\"])[\"max_time\"].max().rename('max_time_overall')\n",
    "    average_over_splits = results.groupby([\"dataset\", \"model\", \"max_time\"])[[\"mean_metric\", \"fit_time\", \"inference_time\"]].mean()\n",
    "    joined_with_max_time = average_over_splits.join(max_time_per_dataset_model).reset_index()\n",
    "    return joined_with_max_time[joined_with_max_time.max_time == joined_with_max_time.max_time_overall]"
   ]
  },
  {
   "cell_type": "code",
   "execution_count": null,
   "id": "9616bc22-94fa-4327-8894-d524fd3e3ea8",
   "metadata": {
    "tags": []
   },
   "outputs": [],
   "source": [
    "plt.figure(figsize=(8, 4), dpi=300)\n",
    "combined_best_valid = get_best_over_time(valid_results)\n",
    "pivoted_for_cd = combined_best_valid.pivot(index=\"dataset\", columns=\"model\", values=\"mean_metric\")\n",
    "_ = cd_evaluation(pivoted_for_cd, maximize_metric=True, ax=plt.gca())\n",
    "plt.savefig(\"../figures/cd_diagram_validation.pdf\", bbox_inches=\"tight\")"
   ]
  },
  {
   "cell_type": "code",
   "execution_count": null,
   "id": "f93f2b44-70e0-4b24-8e79-49619ad43f74",
   "metadata": {
    "tags": []
   },
   "outputs": [],
   "source": [
    "test_results"
   ]
  },
  {
   "cell_type": "code",
   "execution_count": null,
   "id": "09d554e1-1f7a-4178-9008-b79f0ef5f8b3",
   "metadata": {},
   "outputs": [],
   "source": [
    "if test_result_file:\n",
    "    plt.figure(figsize=(8, 4), dpi=300)\n",
    "    combined_best_test = get_best_over_time(hide_for_plots(test_results))\n",
    "    \n",
    "    pivoted_for_cd_test = combined_best_test.pivot(index=\"dataset\", columns=\"model\", values=\"mean_metric\")\n",
    "    _ = cd_evaluation(pivoted_for_cd_test, maximize_metric=True, ax=plt.gca())\n",
    "    plt.savefig(\"../figures/cd_diagram_test.pdf\", bbox_inches=\"tight\")"
   ]
  },
  {
   "cell_type": "code",
   "execution_count": null,
   "id": "da17cac1-c0c4-49e5-a0ea-d8d95efcb809",
   "metadata": {
    "tags": []
   },
   "outputs": [],
   "source": [
    "# combined_best_test_norms = combined_best_test.merge(combined_best_test.groupby(\"dataset\").mean_metric.max().rename(\"max_auc\"), left_on=\"dataset\", right_index=True)\n",
    "# combined_best_test_norms = combined_best_test_norms.merge(combined_best_test.groupby(\"dataset\").mean_metric.min().rename(\"min_auc\"), left_on=\"dataset\", right_index=True)\n",
    "# combined_best_test_norms['Normalized ROC AUC'] = (combined_best_test_norms.mean_metric - combined_best_test_norms.min_auc) / (combined_best_test_norms.max_auc - combined_best_test_norms.min_auc)\n"
   ]
  },
  {
   "cell_type": "code",
   "execution_count": null,
   "id": "ce04d5e3-d9cc-486f-b74e-5d76d487a416",
   "metadata": {
    "tags": []
   },
   "outputs": [],
   "source": []
  },
  {
   "cell_type": "code",
   "execution_count": null,
   "id": "c38b5e70-7764-4f58-bcb6-5791539bbea5",
   "metadata": {},
   "outputs": [],
   "source": [
    "def compare_splits(results):\n",
    "    compare_splits_over_time = results.groupby([\"model\", \"split\", \"max_time\"])[['mean_metric', 'fit_time', 'inference_time']].mean().reset_index()\n",
    "    compare_splits_varies = compare_splits_over_time[compare_splits_over_time.model.isin(varies_over_time)]\n",
    "    compare_splits_fixed = compare_splits_over_time[~compare_splits_over_time.model.isin(varies_over_time)]\n",
    "    compare_splits_varies_last = compare_splits_varies[compare_splits_varies.max_time == compare_splits_varies.max_time.max()]\n",
    "    return compare_splits_over_time, pd.concat([compare_splits_fixed, compare_splits_varies_last])"
   ]
  },
  {
   "cell_type": "raw",
   "id": "12bdc5a0-f10f-44ba-ac12-b4b68aaa5a01",
   "metadata": {},
   "source": []
  },
  {
   "cell_type": "code",
   "execution_count": null,
   "id": "8ee3e15b-9dc5-4edb-80e1-847db704fc63",
   "metadata": {},
   "outputs": [],
   "source": [
    "compare_splits_over_time_valid, compare_splits_valid = compare_splits(valid_results)\n",
    "if test_result_file:\n",
    "    compare_splits_over_time_test, compare_splits_test = compare_splits(test_results)"
   ]
  },
  {
   "cell_type": "code",
   "execution_count": null,
   "id": "9ada0e91-d1df-43be-bb1b-9178b8eec2be",
   "metadata": {
    "tags": []
   },
   "outputs": [],
   "source": [
    "compare_splits_test.model.unique()"
   ]
  },
  {
   "cell_type": "code",
   "execution_count": null,
   "id": "21a348a6-8f99-41fe-8edb-6be03873006e",
   "metadata": {
    "tags": []
   },
   "outputs": [],
   "source": [
    "compare_splits_test"
   ]
  },
  {
   "cell_type": "code",
   "execution_count": null,
   "id": "e0336c60-cd89-4b0e-aa7a-7b973a7b8a5a",
   "metadata": {},
   "outputs": [],
   "source": [
    "plt.figure(figsize=(6, 4))\n",
    "compare_splits_valid = compare_splits_valid[~compare_splits_valid.model.isin([\"KNN\", \"Neural Network\"])]\n",
    "order = compare_splits_valid.groupby(\"model\").mean(\"mean_metric\").sort_values(\"mean_metric\").index\n",
    "sns.boxplot(data=compare_splits_valid, y=\"model\", x=\"mean_metric\", order=order, ax=plt.gca(), palette=color_mapping)\n",
    "#sns.boxplot(data=compare_splits_valid, y=\"model\", x=\"mean_metric\",order=order, ax=plt.gca(), hue=\"model\")\n",
    "\n",
    "plt.xlabel(\"Average ROC AUC\")\n",
    "plt.savefig(\"../figures/mean_roc_auc_validation.pdf\", dpi=300, bbox_inches=\"tight\")"
   ]
  },
  {
   "cell_type": "code",
   "execution_count": null,
   "id": "4eaa6733-7b10-4a5f-8632-559569ff5f89",
   "metadata": {
    "tags": []
   },
   "outputs": [],
   "source": [
    "compare_splits_test.model.unique()"
   ]
  },
  {
   "cell_type": "code",
   "execution_count": null,
   "id": "753b058c-0678-454c-8945-6ee383696cc3",
   "metadata": {
    "tags": []
   },
   "outputs": [],
   "source": [
    "def hide_for_plots(df):\n",
    "    hidden_models = [\"MotherNet (CPU)\", 'MotherNet (no baggging)','MotherNet plus Gradient Descent$^\\\\ddag$']\n",
    "    return df[~df.model.isin(hidden_models)]"
   ]
  },
  {
   "cell_type": "code",
   "execution_count": null,
   "id": "f6273721-e142-4d3d-9e0f-3abc347eae83",
   "metadata": {
    "tags": []
   },
   "outputs": [],
   "source": [
    "hide_for_plots(compare_splits_test_no_cpu).model.unique()"
   ]
  },
  {
   "cell_type": "code",
   "execution_count": null,
   "id": "d9874537-8079-4f4f-a4bf-92dde64320ee",
   "metadata": {},
   "outputs": [],
   "source": [
    "if test_result_file:\n",
    "    plt.figure(figsize=(6, 4))\n",
    "    compare_splits_test_no_cpu = hide_for_plots(compare_splits_test)\n",
    "    order = compare_splits_test_no_cpu.groupby(\"model\").mean(\"mean_metric\").sort_values(\"mean_metric\").index\n",
    "    sns.boxplot(data=compare_splits_test_no_cpu, y=\"model\", x=\"mean_metric\", order=order, ax=plt.gca(), palette=color_mapping)\n",
    "    plt.xlabel(\"Average ROC AUC\")\n",
    "    plt.savefig(\"../figures/mean_roc_auc_test.pdf\", dpi=300, bbox_inches=\"tight\")"
   ]
  },
  {
   "cell_type": "code",
   "execution_count": null,
   "id": "77e9e562-bbd0-4900-9d2c-0799bd5d1b6f",
   "metadata": {},
   "outputs": [],
   "source": [
    "def normalize_metric(results):\n",
    "    dataset_min_max = results.groupby(\"dataset\").mean_metric.agg([\"min\", \"max\"])\n",
    "    results_normalized = results.merge(dataset_min_max, on=\"dataset\")\n",
    "    results_normalized['mean_metric'] = (results_normalized['mean_metric'] - results_normalized['min']) / (results_normalized['max'] - results_normalized['min'])\n",
    "    return results_normalized"
   ]
  },
  {
   "cell_type": "code",
   "execution_count": null,
   "id": "4c9b16f4-fc89-42d5-8866-5dbf486f2f79",
   "metadata": {},
   "outputs": [],
   "source": [
    "compare_splits_over_time_valid_normalized, compare_splits_valid_normalized = compare_splits(normalize_metric(valid_results))\n",
    "if test_result_file:\n",
    "    compare_splits_over_time_test_normalized, compare_splits_test_normalized = compare_splits(normalize_metric(test_results))"
   ]
  },
  {
   "cell_type": "code",
   "execution_count": null,
   "id": "6e8ed766-3a13-4786-90e0-1a607e462d01",
   "metadata": {
    "tags": []
   },
   "outputs": [],
   "source": [
    "compare_splits_test_normalized.to_csv(\"test_auc_normalized_per_split_gams.csv\")"
   ]
  },
  {
   "cell_type": "code",
   "execution_count": null,
   "id": "0cea35a2-77b1-40b9-af6d-77798e896714",
   "metadata": {},
   "outputs": [],
   "source": [
    "if test_result_file:\n",
    "    plt.figure(figsize=(6, 4))\n",
    "    compare_splits_test_normalized_no_cpu = hide_for_plots(compare_splits_test)\n",
    "    order = compare_splits_test_normalized_no_cpu.groupby(\"model\").mean(\"mean_metric\").sort_values(\"mean_metric\").index\n",
    "    sns.boxplot(data=compare_splits_test_normalized_no_cpu, y=\"model\", x=\"mean_metric\", order=order, ax=plt.gca(), palette=color_mapping)\n",
    "    plt.xlabel(\"Average ROC AUC (normalized)\", loc=\"right\")\n",
    "    plt.savefig(\"../figures/mean_roc_auc_test_normalized.pdf\", dpi=300, bbox_inches=\"tight\")"
   ]
  },
  {
   "cell_type": "code",
   "execution_count": null,
   "id": "81294c6d-aa4c-49a4-aa9f-9f517178f080",
   "metadata": {
    "tags": []
   },
   "outputs": [],
   "source": [
    "# table.drop(index=[\"mothernet_old\", \"mlp_distill\", 'KNN']).rename({'mn_Dclass_average_03_25_2024_17_14_32_epoch_2910_ohe_ensemble_8': 'MotherNet'})"
   ]
  },
  {
   "cell_type": "code",
   "execution_count": null,
   "id": "cbd7195f-8a2d-4300-8f2c-85600b905e4c",
   "metadata": {},
   "outputs": [],
   "source": [
    "plt.figure(figsize=(6, 16))\n",
    "compare_splits_valid_normalized = compare_splits_valid_normalized[~compare_splits_valid_normalized.model.isin([\"KNN\", \"Neural Network\"])]\n",
    "order = compare_splits_valid_normalized.groupby(\"model\").mean(\"mean_metric\").sort_values(\"mean_metric\").index\n",
    "sns.boxplot(data=compare_splits_valid_normalized, y=\"model\", x=\"mean_metric\", order=order, ax=plt.gca(), palette=color_mapping)\n",
    "#sns.boxplot(data=compare_splits_valid_normalized, y=\"model\", x=\"mean_metric\", order=order, ax=plt.gca(), hue='model')\n",
    "\n",
    "plt.xlabel(\"Average ROC AUC (normalized)\", loc=\"right\")\n",
    "plt.savefig(\"../figures/mean_roc_auc_valid_normalized.pdf\", dpi=300, bbox_inches=\"tight\")"
   ]
  },
  {
   "cell_type": "code",
   "execution_count": null,
   "id": "cf9482be-079f-44fd-8445-e8bc9f6955c8",
   "metadata": {
    "tags": []
   },
   "outputs": [],
   "source": [
    "compare_splits_test_normalized.model.unique()"
   ]
  },
  {
   "cell_type": "code",
   "execution_count": null,
   "id": "0d3333b4-00d9-4a4c-be5d-c637a159411a",
   "metadata": {
    "tags": []
   },
   "outputs": [],
   "source": [
    "def make_score_table(split_df, metric_name):\n",
    "    split_df_groupby = split_df.rename(columns={'mean_metric': metric_name}).groupby(\"model\")[['fit_time', 'inference_time', metric_name]]\n",
    "    split_df_mean = split_df_groupby.mean()\n",
    "    split_df_std = split_df_groupby.std()\n",
    "    return split_df_mean.merge(split_df_std, on=\"model\", suffixes=(\"\", \" std\"))"
   ]
  },
  {
   "cell_type": "code",
   "execution_count": null,
   "id": "e58893bd-6ba2-4cef-b40f-ba8503a4a8b8",
   "metadata": {
    "tags": []
   },
   "outputs": [],
   "source": [
    "compare_splits_test"
   ]
  },
  {
   "cell_type": "code",
   "execution_count": null,
   "id": "120d1c97-fc75-4e18-818c-d8644eab5b59",
   "metadata": {
    "tags": []
   },
   "outputs": [],
   "source": [
    "normed_table = make_score_table(compare_splits_test_normalized, \"Normalized ROC AUC\")\n",
    "unnormed_table = make_score_table(compare_splits_test, \"ROC AUC\")"
   ]
  },
  {
   "cell_type": "code",
   "execution_count": null,
   "id": "c7dba48e-b941-4508-bee4-4e5e39f5ce93",
   "metadata": {
    "tags": []
   },
   "outputs": [],
   "source": [
    "pivoted_for_cd_test"
   ]
  },
  {
   "cell_type": "code",
   "execution_count": null,
   "id": "59d28ffb-1d7f-45a7-b847-2adbad1c4850",
   "metadata": {
    "tags": []
   },
   "outputs": [],
   "source": [
    "ranks_test = pivoted_for_cd_test.T.rank(ascending=False).mean(axis=1).rename(\"rank\")\n",
    "result_table = unnormed_table.merge(normed_table.drop(columns=[\"inference_time\", \"fit_time\", \"inference_time std\", \"fit_time std\"]), left_index=True, right_index=True).merge(ranks_test, left_on=\"model\", right_index=True, how=\"left\").sort_values(\"rank\")\n"
   ]
  },
  {
   "cell_type": "code",
   "execution_count": null,
   "id": "e68f2c68-6f6f-4450-b54a-2b2138869389",
   "metadata": {
    "tags": []
   },
   "outputs": [],
   "source": [
    "result_table['fit+predict'] = result_table['fit_time'] + result_table['inference_time']"
   ]
  },
  {
   "cell_type": "code",
   "execution_count": null,
   "id": "26a4a8df-a287-495b-831a-fc04afe339fe",
   "metadata": {},
   "outputs": [],
   "source": [
    "pd.set_option(\"display.float_format\", lambda x: f\"{x:.3f}\")\n",
    "\n",
    "result_table[['rank', 'Normalized ROC AUC', 'Normalized ROC AUC std', 'ROC AUC', 'ROC AUC std', 'fit_time', 'inference_time', 'fit+predict']]"
   ]
  },
  {
   "cell_type": "code",
   "execution_count": null,
   "id": "d7d00b9b-2811-464e-b6c2-fad3cd548103",
   "metadata": {},
   "outputs": [],
   "source": []
  },
  {
   "cell_type": "code",
   "execution_count": null,
   "id": "4c01aeb2-8a3e-4ae9-bb37-b0b90fe2624a",
   "metadata": {
    "tags": []
   },
   "outputs": [],
   "source": [
    "plt.figure(figsize=(8, 8))\n",
    "for_scatter_plot = result_table.dropna(subset=\"rank\").drop(index=[\"KNN$^\\dag$\", \"HyperFast (no GD)\"])\n",
    "for_scatter_plot.plot(x=\"Normalized ROC AUC\", y=\"fit+predict\", kind=\"scatter\", ax=plt.gca())\n",
    "for  name, row in for_scatter_plot.iterrows():\n",
    "    plt.text(row[\"Normalized ROC AUC\"], row[\"fit+predict\"], name)\n",
    "plt.yscale(\"log\")\n",
    "plt.xlim(0.67, 0.9)\n",
    "plt.savefig(\"../figures/time_roc_scatter.pdf\", dpi=300, bbox_inches=\"tight\")"
   ]
  },
  {
   "cell_type": "code",
   "execution_count": null,
   "id": "4a1c5e0a-b55d-4414-a9dd-23c3fb62b430",
   "metadata": {
    "tags": []
   },
   "outputs": [],
   "source": [
    "for_paper = result_table[['rank', 'Normalized ROC AUC', 'Normalized ROC AUC std', 'ROC AUC', 'ROC AUC std', 'fit_time', 'inference_time', \"fit+predict\"]].copy()\n",
    "for_paper['Normalized ROC AUC'] = for_paper['Normalized ROC AUC'].apply(fmt) + \"$\\pm$\" + for_paper['Normalized ROC AUC std'].apply(fmt)\n",
    "for_paper['ROC AUC'] = for_paper['ROC AUC'].apply(fmt) + \"$\\pm$\" + for_paper['ROC AUC std'].apply(fmt)\n",
    "for_paper = for_paper.drop(columns=['Normalized ROC AUC std', 'ROC AUC std'])\n",
    "for_paper.columns = ['rank', 'normalized AUC', 'AUC', 'fit time', 'predict time', \"fit + predict\" ]\n",
    "print(for_paper.to_latex(float_format=\"%.3f\"))"
   ]
  },
  {
   "cell_type": "code",
   "execution_count": null,
   "id": "32aa9905-74cf-4828-b74e-d90e6293083b",
   "metadata": {},
   "outputs": [],
   "source": [
    "# plt.figure(figsize=(4, 3), dpi=300)\n",
    "\n",
    "# compare_splits_varies = compare_splits_over_time_valid_normalized[compare_splits_over_time_valid_normalized.model.isin(varies_over_time)]\n",
    "# compare_splits_fixed = compare_splits_over_time_valid_normalized[~compare_splits_over_time_valid_normalized.model.isin(varies_over_time)]\n",
    "\n",
    "\n",
    "# ax = sns.lineplot(data=compare_splits_varies, x=\"max_time\", y=\"mean_metric\", hue=\"model\",  marker=\"o\", palette=color_mapping)\n",
    "\n",
    "# compare_splits_fixed_dummy = compare_splits_over_time_valid_normalized.copy()\n",
    "# compare_splits_fixed_dummy['max_time'] = compare_splits_varies.max_time.max()\n",
    "# sns.lineplot(data=pd.concat([compare_splits_fixed, compare_splits_fixed_dummy]),\n",
    "#               x=\"max_time\", y=\"mean_metric\", hue=\"model\", ax=ax, palette=color_mapping)\n",
    "# plt.xscale(\"log\")\n",
    "# #legend = plt.legend(loc=(1.1 , .3))\n",
    "# legend = ax.get_legend()\n",
    "# legend.remove()\n",
    "# #ax.set_ylim(0.85, 0.90)\n",
    "# ax.set_ylabel(\"mean ROC AUC\")\n",
    "# ax.set_xlabel(\"max time (s)\")\n",
    "# plt.savefig(\"../figures/mean_auc_over_time_valid_normalized.pdf\", bbox_inches=\"tight\")"
   ]
  },
  {
   "cell_type": "code",
   "execution_count": null,
   "id": "65ac4f6a-863d-487a-b4f0-f28f48ce7acb",
   "metadata": {
    "tags": []
   },
   "outputs": [],
   "source": [
    "sns.clustermap((pivoted_for_cd_test.T - pivoted_for_cd_test.T.mean()), figsize=(20, 10))"
   ]
  },
  {
   "cell_type": "code",
   "execution_count": null,
   "id": "0fe70719-dfac-453a-907f-9df59eab04dc",
   "metadata": {
    "tags": []
   },
   "outputs": [],
   "source": [
    "print(pivoted_for_cd_test.to_latex(float_format=\"%.2f\"))"
   ]
  },
  {
   "cell_type": "code",
   "execution_count": null,
   "id": "7f537f34-130e-46ad-b4fc-b6d1cb81ad18",
   "metadata": {},
   "outputs": [],
   "source": [
    "((pivoted_for_cd_test.T - pivoted_for_cd_test.T.min()) / (pivoted_for_cd_test.T.max() - pivoted_for_cd_test.T.min())).T"
   ]
  },
  {
   "cell_type": "code",
   "execution_count": null,
   "id": "c258a39f-fce9-4c4e-88c7-9d9414a50f9f",
   "metadata": {
    "tags": []
   },
   "outputs": [],
   "source": []
  },
  {
   "cell_type": "code",
   "execution_count": null,
   "id": "4399c6e3-c691-4d7f-9643-17f73360dcad",
   "metadata": {
    "tags": []
   },
   "outputs": [],
   "source": [
    "bla = compare.drop(columns=\"diff\")\n",
    "bla = bla[bla.index != 'mofn-3-7-10']"
   ]
  },
  {
   "cell_type": "code",
   "execution_count": null,
   "id": "de078e39-7bb4-4b57-84b6-2d227ac66261",
   "metadata": {
    "tags": []
   },
   "outputs": [],
   "source": [
    "grr = bla_normed.isna().T.any()"
   ]
  },
  {
   "cell_type": "code",
   "execution_count": null,
   "id": "3d6991ce-7c7b-4320-b40c-10fc7c869947",
   "metadata": {
    "tags": []
   },
   "outputs": [],
   "source": [
    "bla.index"
   ]
  },
  {
   "cell_type": "code",
   "execution_count": null,
   "id": "f058800a-d580-4783-a7e4-264b6a9d60a9",
   "metadata": {
    "tags": []
   },
   "outputs": [],
   "source": [
    "grr = bla_normed.isna().T.any()\n",
    "grr[grr]"
   ]
  },
  {
   "cell_type": "code",
   "execution_count": null,
   "id": "c1265b01-7a99-4bf3-8e72-8f03afd495da",
   "metadata": {
    "tags": []
   },
   "outputs": [],
   "source": [
    "bla_normed = ((bla.T - bla.mean(axis=1))/bla.std(axis=1)).T\n",
    "bla_normed2 = (bla.T - bla.mean(axis=1)).T"
   ]
  },
  {
   "cell_type": "code",
   "execution_count": null,
   "id": "a02c7a69-6bf1-44d8-ae4d-3075c7e3d662",
   "metadata": {
    "tags": []
   },
   "outputs": [],
   "source": [
    "sns.clustermap(bla_normed.T)"
   ]
  },
  {
   "cell_type": "code",
   "execution_count": null,
   "id": "f20c343a-3458-4505-815a-f5140a1217d5",
   "metadata": {
    "tags": []
   },
   "outputs": [],
   "source": [
    "sns.clustermap(bla_normed2.T)"
   ]
  },
  {
   "cell_type": "code",
   "execution_count": null,
   "id": "cf812d59-d56c-41dc-aea9-112204b56997",
   "metadata": {},
   "outputs": [],
   "source": []
  }
 ],
 "metadata": {
  "kernelspec": {
   "display_name": "Python [conda env:tabpfn_testing_environment]",
   "language": "python",
   "name": "conda-env-tabpfn_testing_environment-py"
  },
  "language_info": {
   "codemirror_mode": {
    "name": "ipython",
    "version": 3
   },
   "file_extension": ".py",
   "mimetype": "text/x-python",
   "name": "python",
   "nbconvert_exporter": "python",
   "pygments_lexer": "ipython3",
   "version": "3.11.6"
  }
 },
 "nbformat": 4,
 "nbformat_minor": 5
}
